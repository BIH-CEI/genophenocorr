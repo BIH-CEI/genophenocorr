{
 "cells": [
  {
   "cell_type": "markdown",
   "id": "bad892fb-a892-44b0-99a1-c4a9a921f5af",
   "metadata": {},
   "source": [
    "# CLDN16 gpc"
   ]
  },
  {
   "cell_type": "code",
   "execution_count": 1,
   "id": "3441db9f-ed83-422e-ba15-e78b525f0359",
   "metadata": {},
   "outputs": [
    {
     "name": "stdout",
     "output_type": "stream",
     "text": [
      "Using genophenocorr version 0.1.1dev\n"
     ]
    }
   ],
   "source": [
    "import genophenocorr\n",
    "\n",
    "print(f\"Using genophenocorr version {genophenocorr.__version__}\")"
   ]
  },
  {
   "cell_type": "code",
   "execution_count": 2,
   "id": "48ac323f-38f2-4d9d-9b88-f3b80bc8bb89",
   "metadata": {},
   "outputs": [],
   "source": [
    "import hpotk\n",
    "hpotk.util.setup_logging()"
   ]
  },
  {
   "cell_type": "code",
   "execution_count": 3,
   "id": "70abc6eb-9fd3-4ee0-ba9a-40b24dfc4c00",
   "metadata": {},
   "outputs": [],
   "source": [
    "fpath_hpo = '../../../phenopacket-store/notebooks/hp.json'\n",
    "hpo = hpotk.load_minimal_ontology(fpath_hpo)"
   ]
  },
  {
   "cell_type": "code",
   "execution_count": 4,
   "id": "4c099b9b-76ef-4a18-9b35-2b01ae14aa02",
   "metadata": {},
   "outputs": [
    {
     "name": "stderr",
     "output_type": "stream",
     "text": [
      "Patients Created: 100%|██████████████████████████████████████████████████████████████████████████████████████| 46/46 [00:00<00:00, 91.84it/s]\n",
      "Validated under none policy\n",
      "Showing errors and warnings\n",
      "46 phenopacket(s) found at `../../../phenopacket-store/notebooks/CLDN16/phenopackets`\n",
      "  patient #36\n",
      "    variants\n",
      "     warnings:\n",
      "     ·Expected a VCF record, a VRS CNV, or an expression with `hgvs.c` but had an error retrieving any from patient nan[PMID_32869508_nan]. Remove variant from testing\n",
      "  patient #39\n",
      "    variants\n",
      "     warnings:\n",
      "     ·Expected a VCF record, a VRS CNV, or an expression with `hgvs.c` but had an error retrieving any from patient patient[PMID_26136118_patient]. Remove variant from testing\n",
      "     ·Patient PMID_26136118_patient has no variants to work with\n",
      "  patient #40\n",
      "    variants\n",
      "     warnings:\n",
      "     ·Expected a VCF record, a VRS CNV, or an expression with `hgvs.c` but had an error retrieving any from patient Patient 5[PMID_26426912_Patient_5]. Remove variant from testing\n",
      "     ·Patient PMID_26426912_Patient_5 has no variants to work with\n"
     ]
    }
   ],
   "source": [
    "from genophenocorr.preprocessing import configure_caching_cohort_creator, load_phenopacket_folder\n",
    "\n",
    "fpath_phenopackets = '../../../phenopacket-store/notebooks/CLDN16/phenopackets'\n",
    "cohort_creator = configure_caching_cohort_creator(hpo)\n",
    "cohort = load_phenopacket_folder(fpath_phenopackets, cohort_creator)"
   ]
  },
  {
   "cell_type": "code",
   "execution_count": 9,
   "id": "ca31b6e5-760c-4de4-af04-038e87f46a5e",
   "metadata": {},
   "outputs": [],
   "source": [
    "CLDN16_transcript = 'NM_006580.4' # version number important, nucleotide numbering changed compared to version 3"
   ]
  },
  {
   "cell_type": "code",
   "execution_count": 10,
   "id": "fe5344f4-3cf4-49c5-8bf8-810c0bb17c18",
   "metadata": {},
   "outputs": [],
   "source": [
    "from IPython.display import HTML, display\n",
    "from genophenocorr.view import CohortViewer\n",
    "viewer = CohortViewer(hpo)"
   ]
  },
  {
   "cell_type": "code",
   "execution_count": 11,
   "id": "c79a33b1-53a8-4f78-aeb8-9939d245e73d",
   "metadata": {},
   "outputs": [
    {
     "data": {
      "text/plain": [
       "[('3_190404787_190404787_G_T', 17),\n",
       " ('3_190408368_190408368_G_A', 6),\n",
       " ('3_190402342_190402342_C_G', 5),\n",
       " ('3_190408423_190408423_G_T', 4),\n",
       " ('3_190404768_190404768_T_C', 3),\n",
       " ('3_190409949_190409949_T_G', 2),\n",
       " ('3_190408436_190408436_G_A', 2),\n",
       " ('3_190408506_190408506_G_T', 2),\n",
       " ('3_190402370_190402370_T_C', 2),\n",
       " ('3_190409982_190409982_C_G', 2)]"
      ]
     },
     "execution_count": 11,
     "metadata": {},
     "output_type": "execute_result"
    }
   ],
   "source": [
    "cohort.list_all_variants(10)"
   ]
  },
  {
   "cell_type": "code",
   "execution_count": 15,
   "id": "fd352277-9cab-494d-aad2-0e528a2d0e73",
   "metadata": {},
   "outputs": [],
   "source": [
    "from genophenocorr.analysis import configure_cohort_analysis\n",
    "from genophenocorr.analysis.predicate import GenotypeBooleanPredicate\n",
    "\n",
    "analysis = configure_cohort_analysis(cohort, hpo)"
   ]
  },
  {
   "cell_type": "code",
   "execution_count": 16,
   "id": "e3b7bfd7-c4b1-4a4f-ba91-62ffc359350e",
   "metadata": {},
   "outputs": [
    {
     "ename": "AttributeError",
     "evalue": "'DefaultMinimalOntology' object has no attribute 'get_term_name'",
     "output_type": "error",
     "traceback": [
      "\u001b[0;31m---------------------------------------------------------------------------\u001b[0m",
      "\u001b[0;31mAttributeError\u001b[0m                            Traceback (most recent call last)",
      "Cell \u001b[0;32mIn[16], line 3\u001b[0m\n\u001b[1;32m      1\u001b[0m \u001b[38;5;28;01mfrom\u001b[39;00m \u001b[38;5;21;01mgenophenocorr\u001b[39;00m\u001b[38;5;21;01m.\u001b[39;00m\u001b[38;5;21;01mmodel\u001b[39;00m \u001b[38;5;28;01mimport\u001b[39;00m VariantEffect\n\u001b[0;32m----> 3\u001b[0m missense \u001b[38;5;241m=\u001b[39m \u001b[43manalysis\u001b[49m\u001b[38;5;241;43m.\u001b[39;49m\u001b[43mcompare_by_variant_effect\u001b[49m\u001b[43m(\u001b[49m\u001b[43mVariantEffect\u001b[49m\u001b[38;5;241;43m.\u001b[39;49m\u001b[43mMISSENSE_VARIANT\u001b[49m\u001b[43m,\u001b[49m\u001b[43m \u001b[49m\u001b[43mCLDN16_transcript\u001b[49m\u001b[43m)\u001b[49m\n\u001b[1;32m      4\u001b[0m missense\u001b[38;5;241m.\u001b[39msummarize(hpo, GenotypeBooleanPredicate\u001b[38;5;241m.\u001b[39mYES)\n",
      "File \u001b[0;32m~/GIT/genophenocorr/src/genophenocorr/analysis/_gp_impl.py:48\u001b[0m, in \u001b[0;36mGpCohortAnalysis.compare_by_variant_effect\u001b[0;34m(self, effect, tx_id)\u001b[0m\n\u001b[1;32m     46\u001b[0m \u001b[38;5;28;01mdef\u001b[39;00m \u001b[38;5;21mcompare_by_variant_effect\u001b[39m(\u001b[38;5;28mself\u001b[39m, effect: VariantEffect, tx_id: \u001b[38;5;28mstr\u001b[39m) \u001b[38;5;241m-\u001b[39m\u001b[38;5;241m>\u001b[39m GenotypePhenotypeAnalysisResult:\n\u001b[1;32m     47\u001b[0m     predicate \u001b[38;5;241m=\u001b[39m VariantEffectPredicate(tx_id, effect)\n\u001b[0;32m---> 48\u001b[0m     \u001b[38;5;28;01mreturn\u001b[39;00m \u001b[38;5;28;43mself\u001b[39;49m\u001b[38;5;241;43m.\u001b[39;49m\u001b[43m_apply_boolean_predicate_on_hpo_terms\u001b[49m\u001b[43m(\u001b[49m\u001b[43mpredicate\u001b[49m\u001b[43m)\u001b[49m\n",
      "File \u001b[0;32m~/GIT/genophenocorr/src/genophenocorr/analysis/_gp_impl.py:108\u001b[0m, in \u001b[0;36mGpCohortAnalysis._apply_boolean_predicate_on_hpo_terms\u001b[0;34m(self, predicate)\u001b[0m\n\u001b[1;32m    101\u001b[0m \u001b[38;5;28;01mdef\u001b[39;00m \u001b[38;5;21m_apply_boolean_predicate_on_hpo_terms\u001b[39m(\n\u001b[1;32m    102\u001b[0m         \u001b[38;5;28mself\u001b[39m,\n\u001b[1;32m    103\u001b[0m         predicate: GenotypeBooleanPredicate,\n\u001b[1;32m    104\u001b[0m ) \u001b[38;5;241m-\u001b[39m\u001b[38;5;241m>\u001b[39m GenotypePhenotypeAnalysisResult:\n\u001b[1;32m    105\u001b[0m     \u001b[38;5;28;01massert\u001b[39;00m \u001b[38;5;28misinstance\u001b[39m(predicate, GenotypeBooleanPredicate), \\\n\u001b[1;32m    106\u001b[0m         \u001b[38;5;124mf\u001b[39m\u001b[38;5;124m'\u001b[39m\u001b[38;5;132;01m{\u001b[39;00m\u001b[38;5;28mtype\u001b[39m(predicate)\u001b[38;5;132;01m}\u001b[39;00m\u001b[38;5;124m is not an instance of `GenotypeBooleanPredicate`\u001b[39m\u001b[38;5;124m'\u001b[39m\n\u001b[0;32m--> 108\u001b[0m     \u001b[38;5;28;01mreturn\u001b[39;00m \u001b[38;5;28;43mself\u001b[39;49m\u001b[38;5;241;43m.\u001b[39;49m\u001b[43m_apply_poly_predicate_on_hpo_terms\u001b[49m\u001b[43m(\u001b[49m\u001b[43mpredicate\u001b[49m\u001b[43m)\u001b[49m\n",
      "File \u001b[0;32m~/GIT/genophenocorr/src/genophenocorr/analysis/_gp_impl.py:117\u001b[0m, in \u001b[0;36mGpCohortAnalysis._apply_poly_predicate_on_hpo_terms\u001b[0;34m(self, gt_predicate)\u001b[0m\n\u001b[1;32m    110\u001b[0m \u001b[38;5;28;01mdef\u001b[39;00m \u001b[38;5;21m_apply_poly_predicate_on_hpo_terms\u001b[39m(\n\u001b[1;32m    111\u001b[0m         \u001b[38;5;28mself\u001b[39m,\n\u001b[1;32m    112\u001b[0m         gt_predicate: GenotypePolyPredicate,\n\u001b[1;32m    113\u001b[0m ) \u001b[38;5;241m-\u001b[39m\u001b[38;5;241m>\u001b[39m GenotypePhenotypeAnalysisResult:\n\u001b[1;32m    114\u001b[0m     \u001b[38;5;28;01massert\u001b[39;00m \u001b[38;5;28misinstance\u001b[39m(gt_predicate, GenotypePolyPredicate), \\\n\u001b[1;32m    115\u001b[0m         \u001b[38;5;124mf\u001b[39m\u001b[38;5;124m'\u001b[39m\u001b[38;5;132;01m{\u001b[39;00m\u001b[38;5;28mtype\u001b[39m(gt_predicate)\u001b[38;5;132;01m}\u001b[39;00m\u001b[38;5;124m is not an instance of `GenotypePolyPredicate`\u001b[39m\u001b[38;5;124m'\u001b[39m\n\u001b[0;32m--> 117\u001b[0m     pheno_predicates \u001b[38;5;241m=\u001b[39m \u001b[38;5;28;43mself\u001b[39;49m\u001b[38;5;241;43m.\u001b[39;49m\u001b[43m_prepare_phenotype_predicates\u001b[49m\u001b[43m(\u001b[49m\u001b[43m)\u001b[49m\n\u001b[1;32m    118\u001b[0m     \u001b[38;5;28;01mreturn\u001b[39;00m \u001b[38;5;28mself\u001b[39m\u001b[38;5;241m.\u001b[39m_apply_poly_predicate(pheno_predicates, gt_predicate)\n",
      "File \u001b[0;32m~/GIT/genophenocorr/src/genophenocorr/analysis/_gp_impl.py:132\u001b[0m, in \u001b[0;36mGpCohortAnalysis._prepare_phenotype_predicates\u001b[0;34m(self)\u001b[0m\n\u001b[1;32m    131\u001b[0m \u001b[38;5;28;01mdef\u001b[39;00m \u001b[38;5;21m_prepare_phenotype_predicates\u001b[39m(\u001b[38;5;28mself\u001b[39m) \u001b[38;5;241m-\u001b[39m\u001b[38;5;241m>\u001b[39m typing\u001b[38;5;241m.\u001b[39mSequence[PhenotypePolyPredicate[P]]:\n\u001b[0;32m--> 132\u001b[0m     \u001b[38;5;28;01mreturn\u001b[39;00m \u001b[38;5;28;43mtuple\u001b[39;49m\u001b[43m(\u001b[49m\n\u001b[1;32m    133\u001b[0m \u001b[43m        \u001b[49m\u001b[43mPropagatingPhenotypePredicate\u001b[49m\u001b[43m(\u001b[49m\n\u001b[1;32m    134\u001b[0m \u001b[43m            \u001b[49m\u001b[43mhpo\u001b[49m\u001b[38;5;241;43m=\u001b[39;49m\u001b[38;5;28;43mself\u001b[39;49m\u001b[38;5;241;43m.\u001b[39;49m\u001b[43m_hpo\u001b[49m\u001b[43m,\u001b[49m\n\u001b[1;32m    135\u001b[0m \u001b[43m            \u001b[49m\u001b[43mquery\u001b[49m\u001b[38;5;241;43m=\u001b[39;49m\u001b[43mquery\u001b[49m\u001b[43m,\u001b[49m\n\u001b[1;32m    136\u001b[0m \u001b[43m            \u001b[49m\u001b[43mmissing_implies_excluded\u001b[49m\u001b[38;5;241;43m=\u001b[39;49m\u001b[38;5;28;43mself\u001b[39;49m\u001b[38;5;241;43m.\u001b[39;49m\u001b[43m_missing_implies_excluded\u001b[49m\u001b[43m,\u001b[49m\n\u001b[1;32m    137\u001b[0m \u001b[43m        \u001b[49m\u001b[43m)\u001b[49m\n\u001b[1;32m    138\u001b[0m \u001b[43m        \u001b[49m\u001b[38;5;28;43;01mfor\u001b[39;49;00m\u001b[43m \u001b[49m\u001b[43mquery\u001b[49m\u001b[43m \u001b[49m\u001b[38;5;129;43;01min\u001b[39;49;00m\u001b[43m \u001b[49m\u001b[38;5;28;43mself\u001b[39;49m\u001b[38;5;241;43m.\u001b[39;49m\u001b[43m_hpo_terms_of_interest\u001b[49m\u001b[43m)\u001b[49m\n",
      "File \u001b[0;32m~/GIT/genophenocorr/src/genophenocorr/analysis/_gp_impl.py:133\u001b[0m, in \u001b[0;36m<genexpr>\u001b[0;34m(.0)\u001b[0m\n\u001b[1;32m    131\u001b[0m \u001b[38;5;28;01mdef\u001b[39;00m \u001b[38;5;21m_prepare_phenotype_predicates\u001b[39m(\u001b[38;5;28mself\u001b[39m) \u001b[38;5;241m-\u001b[39m\u001b[38;5;241m>\u001b[39m typing\u001b[38;5;241m.\u001b[39mSequence[PhenotypePolyPredicate[P]]:\n\u001b[1;32m    132\u001b[0m     \u001b[38;5;28;01mreturn\u001b[39;00m \u001b[38;5;28mtuple\u001b[39m(\n\u001b[0;32m--> 133\u001b[0m         \u001b[43mPropagatingPhenotypePredicate\u001b[49m\u001b[43m(\u001b[49m\n\u001b[1;32m    134\u001b[0m \u001b[43m            \u001b[49m\u001b[43mhpo\u001b[49m\u001b[38;5;241;43m=\u001b[39;49m\u001b[38;5;28;43mself\u001b[39;49m\u001b[38;5;241;43m.\u001b[39;49m\u001b[43m_hpo\u001b[49m\u001b[43m,\u001b[49m\n\u001b[1;32m    135\u001b[0m \u001b[43m            \u001b[49m\u001b[43mquery\u001b[49m\u001b[38;5;241;43m=\u001b[39;49m\u001b[43mquery\u001b[49m\u001b[43m,\u001b[49m\n\u001b[1;32m    136\u001b[0m \u001b[43m            \u001b[49m\u001b[43mmissing_implies_excluded\u001b[49m\u001b[38;5;241;43m=\u001b[39;49m\u001b[38;5;28;43mself\u001b[39;49m\u001b[38;5;241;43m.\u001b[39;49m\u001b[43m_missing_implies_excluded\u001b[49m\u001b[43m,\u001b[49m\n\u001b[1;32m    137\u001b[0m \u001b[43m        \u001b[49m\u001b[43m)\u001b[49m\n\u001b[1;32m    138\u001b[0m         \u001b[38;5;28;01mfor\u001b[39;00m query \u001b[38;5;129;01min\u001b[39;00m \u001b[38;5;28mself\u001b[39m\u001b[38;5;241m.\u001b[39m_hpo_terms_of_interest)\n",
      "File \u001b[0;32m~/GIT/genophenocorr/src/genophenocorr/analysis/predicate/phenotype/_pheno.py:105\u001b[0m, in \u001b[0;36mPropagatingPhenotypePredicate.__init__\u001b[0;34m(self, hpo, query, missing_implies_excluded)\u001b[0m\n\u001b[1;32m    103\u001b[0m \u001b[38;5;28mself\u001b[39m\u001b[38;5;241m.\u001b[39m_hpo \u001b[38;5;241m=\u001b[39m hpotk\u001b[38;5;241m.\u001b[39mutil\u001b[38;5;241m.\u001b[39mvalidate_instance(hpo, hpotk\u001b[38;5;241m.\u001b[39mMinimalOntology, \u001b[38;5;124m'\u001b[39m\u001b[38;5;124mhpo\u001b[39m\u001b[38;5;124m'\u001b[39m)\n\u001b[1;32m    104\u001b[0m \u001b[38;5;28mself\u001b[39m\u001b[38;5;241m.\u001b[39m_query \u001b[38;5;241m=\u001b[39m hpotk\u001b[38;5;241m.\u001b[39mutil\u001b[38;5;241m.\u001b[39mvalidate_instance(query, hpotk\u001b[38;5;241m.\u001b[39mTermId, \u001b[38;5;124m'\u001b[39m\u001b[38;5;124mphenotypic_feature\u001b[39m\u001b[38;5;124m'\u001b[39m)\n\u001b[0;32m--> 105\u001b[0m \u001b[38;5;28mself\u001b[39m\u001b[38;5;241m.\u001b[39m_query_label \u001b[38;5;241m=\u001b[39m \u001b[38;5;28;43mself\u001b[39;49m\u001b[38;5;241;43m.\u001b[39;49m\u001b[43m_hpo\u001b[49m\u001b[38;5;241;43m.\u001b[39;49m\u001b[43mget_term_name\u001b[49m(query)\n\u001b[1;32m    106\u001b[0m \u001b[38;5;28;01massert\u001b[39;00m \u001b[38;5;28mself\u001b[39m\u001b[38;5;241m.\u001b[39m_query_label \u001b[38;5;129;01mis\u001b[39;00m \u001b[38;5;129;01mnot\u001b[39;00m \u001b[38;5;28;01mNone\u001b[39;00m, \u001b[38;5;124mf\u001b[39m\u001b[38;5;124m'\u001b[39m\u001b[38;5;124mQuery \u001b[39m\u001b[38;5;132;01m{\u001b[39;00mquery\u001b[38;5;132;01m}\u001b[39;00m\u001b[38;5;124m is in HPO\u001b[39m\u001b[38;5;124m'\u001b[39m\n\u001b[1;32m    107\u001b[0m \u001b[38;5;28mself\u001b[39m\u001b[38;5;241m.\u001b[39m_missing_implies_excluded \u001b[38;5;241m=\u001b[39m hpotk\u001b[38;5;241m.\u001b[39mutil\u001b[38;5;241m.\u001b[39mvalidate_instance(missing_implies_excluded, \u001b[38;5;28mbool\u001b[39m,\n\u001b[1;32m    108\u001b[0m                                                               \u001b[38;5;124m'\u001b[39m\u001b[38;5;124mmissing_implies_excluded\u001b[39m\u001b[38;5;124m'\u001b[39m)\n",
      "\u001b[0;31mAttributeError\u001b[0m: 'DefaultMinimalOntology' object has no attribute 'get_term_name'"
     ]
    }
   ],
   "source": [
    "from genophenocorr.model import VariantEffect\n",
    "\n",
    "missense = analysis.compare_by_variant_effect(VariantEffect.MISSENSE_VARIANT, CLDN16_transcript)\n",
    "missense.summarize(hpo, GenotypeBooleanPredicate.YES)"
   ]
  },
  {
   "cell_type": "code",
   "execution_count": 18,
   "id": "28fd459b-c95b-442b-8227-4c214c07fb4b",
   "metadata": {},
   "outputs": [
    {
     "data": {
      "text/plain": [
       "'Phenotypic abnormality'"
      ]
     },
     "execution_count": 18,
     "metadata": {},
     "output_type": "execute_result"
    }
   ],
   "source": [
    "hpo.get_term(\"HP:0000118\").name"
   ]
  },
  {
   "cell_type": "code",
   "execution_count": null,
   "id": "7938d75d-bdb8-4652-becf-cb1bdd891d3f",
   "metadata": {},
   "outputs": [],
   "source": []
  }
 ],
 "metadata": {
  "kernelspec": {
   "display_name": "Python 3 (ipykernel)",
   "language": "python",
   "name": "python3"
  },
  "language_info": {
   "codemirror_mode": {
    "name": "ipython",
    "version": 3
   },
   "file_extension": ".py",
   "mimetype": "text/x-python",
   "name": "python",
   "nbconvert_exporter": "python",
   "pygments_lexer": "ipython3",
   "version": "3.8.10"
  }
 },
 "nbformat": 4,
 "nbformat_minor": 5
}
