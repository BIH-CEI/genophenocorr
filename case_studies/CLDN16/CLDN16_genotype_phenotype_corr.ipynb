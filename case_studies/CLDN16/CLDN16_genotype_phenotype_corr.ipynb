{
 "cells": [
  {
   "cell_type": "markdown",
   "id": "bad892fb-a892-44b0-99a1-c4a9a921f5af",
   "metadata": {},
   "source": [
    "# CLDN16 gpc"
   ]
  },
  {
   "cell_type": "code",
   "execution_count": 1,
   "id": "3441db9f-ed83-422e-ba15-e78b525f0359",
   "metadata": {},
   "outputs": [
    {
     "name": "stdout",
     "output_type": "stream",
     "text": [
      "Using genophenocorr version 0.1.1dev\n"
     ]
    }
   ],
   "source": [
    "import genophenocorr\n",
    "\n",
    "print(f\"Using genophenocorr version {genophenocorr.__version__}\")"
   ]
  },
  {
   "cell_type": "code",
   "execution_count": 2,
   "id": "48ac323f-38f2-4d9d-9b88-f3b80bc8bb89",
   "metadata": {},
   "outputs": [],
   "source": [
    "import hpotk\n",
    "hpotk.util.setup_logging()"
   ]
  },
  {
   "cell_type": "code",
   "execution_count": 3,
   "id": "70abc6eb-9fd3-4ee0-ba9a-40b24dfc4c00",
   "metadata": {},
   "outputs": [],
   "source": [
    "fpath_hpo = 'https://github.com/obophenotype/human-phenotype-ontology/releases/download/v2023-10-09/hp.json'\n",
    "hpo = hpotk.load_minimal_ontology(fpath_hpo)"
   ]
  },
  {
   "cell_type": "code",
   "execution_count": 4,
   "id": "4c099b9b-76ef-4a18-9b35-2b01ae14aa02",
   "metadata": {},
   "outputs": [
    {
     "name": "stderr",
     "output_type": "stream",
     "text": [
      "Patients Created: 100%|██████████████████████████████████████████████████████████████| 46/46 [00:00<00:00, 345.00it/s]\n",
      "Validated under none policy\n",
      "Showing errors and warnings\n",
      "46 phenopacket(s) found at `../../../phenopacket-store/notebooks/CLDN16/phenopackets/`\n",
      "  patient #36\n",
      "    variants\n",
      "     warnings:\n",
      "     ·Expected a VCF record, a VRS CNV, or an expression with `hgvs.c` but had an error retrieving any from patient nan[PMID_32869508_nan]. Remove variant from testing\n",
      "  patient #39\n",
      "    variants\n",
      "     warnings:\n",
      "     ·Expected a VCF record, a VRS CNV, or an expression with `hgvs.c` but had an error retrieving any from patient patient[PMID_26136118_patient]. Remove variant from testing\n",
      "     ·Patient PMID_26136118_patient has no variants to work with\n",
      "  patient #40\n",
      "    variants\n",
      "     warnings:\n",
      "     ·Expected a VCF record, a VRS CNV, or an expression with `hgvs.c` but had an error retrieving any from patient Patient 5[PMID_26426912_Patient_5]. Remove variant from testing\n",
      "     ·Patient PMID_26426912_Patient_5 has no variants to work with\n"
     ]
    }
   ],
   "source": [
    "from genophenocorr.preprocessing import configure_caching_cohort_creator, load_phenopacket_folder\n",
    "\n",
    "fpath_phenopackets = '../../../phenopacket-store/notebooks/CLDN16/phenopackets/'\n",
    "cohort_creator = configure_caching_cohort_creator(hpo)\n",
    "cohort = load_phenopacket_folder(fpath_phenopackets, cohort_creator)"
   ]
  },
  {
   "cell_type": "code",
   "execution_count": 5,
   "id": "ca31b6e5-760c-4de4-af04-038e87f46a5e",
   "metadata": {},
   "outputs": [],
   "source": [
    "CLDN16_transcript = 'NM_006580.4' # version number important, nucleotide numbering changed compared to version 3"
   ]
  },
  {
   "cell_type": "code",
   "execution_count": 6,
   "id": "fe5344f4-3cf4-49c5-8bf8-810c0bb17c18",
   "metadata": {},
   "outputs": [],
   "source": [
    "from IPython.display import HTML, display\n",
    "from genophenocorr.view import CohortViewer\n",
    "viewer = CohortViewer(hpo)"
   ]
  },
  {
   "cell_type": "code",
   "execution_count": 7,
   "id": "c79a33b1-53a8-4f78-aeb8-9939d245e73d",
   "metadata": {},
   "outputs": [
    {
     "data": {
      "text/plain": [
       "[('3_190404787_190404787_G_T', 17),\n",
       " ('3_190408368_190408368_G_A', 6),\n",
       " ('3_190402342_190402342_C_G', 5),\n",
       " ('3_190408423_190408423_G_T', 4),\n",
       " ('3_190404768_190404768_T_C', 3),\n",
       " ('3_190409949_190409949_T_G', 2),\n",
       " ('3_190404908_190404923_GCCACGTTACTAATAG_TACCGGTCTGGCTGGACTAGCAA', 2),\n",
       " ('3_190408347_190408347_C_T', 2),\n",
       " ('3_190408506_190408506_G_T', 2),\n",
       " ('3_190408436_190408436_G_A', 2)]"
      ]
     },
     "execution_count": 7,
     "metadata": {},
     "output_type": "execute_result"
    }
   ],
   "source": [
    "cohort.list_all_variants(10)"
   ]
  },
  {
   "cell_type": "code",
   "execution_count": 8,
   "id": "fd352277-9cab-494d-aad2-0e528a2d0e73",
   "metadata": {},
   "outputs": [],
   "source": [
    "from genophenocorr.analysis import configure_cohort_analysis\n",
    "from genophenocorr.analysis.predicate import GenotypeBooleanPredicate, PatientCategories\n",
    "\n",
    "analysis = configure_cohort_analysis(cohort, hpo)"
   ]
  },
  {
   "cell_type": "code",
   "execution_count": 9,
   "id": "e3b7bfd7-c4b1-4a4f-ba91-62ffc359350e",
   "metadata": {},
   "outputs": [
    {
     "data": {
      "text/html": [
       "<div>\n",
       "<style scoped>\n",
       "    .dataframe tbody tr th:only-of-type {\n",
       "        vertical-align: middle;\n",
       "    }\n",
       "\n",
       "    .dataframe tbody tr th {\n",
       "        vertical-align: top;\n",
       "    }\n",
       "\n",
       "    .dataframe thead tr th {\n",
       "        text-align: left;\n",
       "    }\n",
       "</style>\n",
       "<table border=\"1\" class=\"dataframe\">\n",
       "  <thead>\n",
       "    <tr>\n",
       "      <th>MISSENSE_VARIANT on NM_006580.4</th>\n",
       "      <th colspan=\"2\" halign=\"left\">Both</th>\n",
       "      <th colspan=\"2\" halign=\"left\">One</th>\n",
       "      <th colspan=\"2\" halign=\"left\">Neither</th>\n",
       "      <th colspan=\"2\" halign=\"left\"></th>\n",
       "    </tr>\n",
       "    <tr>\n",
       "      <th></th>\n",
       "      <th>Count</th>\n",
       "      <th>Percent</th>\n",
       "      <th>Count</th>\n",
       "      <th>Percent</th>\n",
       "      <th>Count</th>\n",
       "      <th>Percent</th>\n",
       "      <th>p value</th>\n",
       "      <th>Corrected p value</th>\n",
       "    </tr>\n",
       "  </thead>\n",
       "  <tbody>\n",
       "    <tr>\n",
       "      <th>Nephrolithiasis [HP:0000787]</th>\n",
       "      <td>0/9</td>\n",
       "      <td>0%</td>\n",
       "      <td>7/21</td>\n",
       "      <td>33%</td>\n",
       "      <td>1/1</td>\n",
       "      <td>100%</td>\n",
       "      <td>0.020655</td>\n",
       "      <td>1.0</td>\n",
       "    </tr>\n",
       "    <tr>\n",
       "      <th>Stage 5 chronic kidney disease [HP:0003774]</th>\n",
       "      <td>0/0</td>\n",
       "      <td>0%</td>\n",
       "      <td>1/8</td>\n",
       "      <td>12%</td>\n",
       "      <td>3/3</td>\n",
       "      <td>100%</td>\n",
       "      <td>0.024242</td>\n",
       "      <td>1.0</td>\n",
       "    </tr>\n",
       "    <tr>\n",
       "      <th>Chronic kidney disease [HP:0012622]</th>\n",
       "      <td>0/0</td>\n",
       "      <td>0%</td>\n",
       "      <td>2/8</td>\n",
       "      <td>25%</td>\n",
       "      <td>3/3</td>\n",
       "      <td>100%</td>\n",
       "      <td>0.060606</td>\n",
       "      <td>1.0</td>\n",
       "    </tr>\n",
       "    <tr>\n",
       "      <th>Failure to thrive [HP:0001508]</th>\n",
       "      <td>1/9</td>\n",
       "      <td>11%</td>\n",
       "      <td>6/15</td>\n",
       "      <td>40%</td>\n",
       "      <td>1/1</td>\n",
       "      <td>100%</td>\n",
       "      <td>0.075640</td>\n",
       "      <td>1.0</td>\n",
       "    </tr>\n",
       "    <tr>\n",
       "      <th>Hypocalcemia [HP:0002901]</th>\n",
       "      <td>0/0</td>\n",
       "      <td>0%</td>\n",
       "      <td>8/9</td>\n",
       "      <td>89%</td>\n",
       "      <td>2/6</td>\n",
       "      <td>33%</td>\n",
       "      <td>0.088911</td>\n",
       "      <td>1.0</td>\n",
       "    </tr>\n",
       "    <tr>\n",
       "      <th>...</th>\n",
       "      <td>...</td>\n",
       "      <td>...</td>\n",
       "      <td>...</td>\n",
       "      <td>...</td>\n",
       "      <td>...</td>\n",
       "      <td>...</td>\n",
       "      <td>...</td>\n",
       "      <td>...</td>\n",
       "    </tr>\n",
       "    <tr>\n",
       "      <th>Abnormal urine metabolite level [HP:0033354]</th>\n",
       "      <td>6/6</td>\n",
       "      <td>100%</td>\n",
       "      <td>10/10</td>\n",
       "      <td>100%</td>\n",
       "      <td>1/1</td>\n",
       "      <td>100%</td>\n",
       "      <td>1.000000</td>\n",
       "      <td>1.0</td>\n",
       "    </tr>\n",
       "    <tr>\n",
       "      <th>Increased blood pressure [HP:0032263]</th>\n",
       "      <td>0/0</td>\n",
       "      <td>0%</td>\n",
       "      <td>0/0</td>\n",
       "      <td>0%</td>\n",
       "      <td>2/2</td>\n",
       "      <td>100%</td>\n",
       "      <td>1.000000</td>\n",
       "      <td>1.0</td>\n",
       "    </tr>\n",
       "    <tr>\n",
       "      <th>Abnormality of the cardiovascular system [HP:0001626]</th>\n",
       "      <td>0/0</td>\n",
       "      <td>0%</td>\n",
       "      <td>0/0</td>\n",
       "      <td>0%</td>\n",
       "      <td>2/2</td>\n",
       "      <td>100%</td>\n",
       "      <td>1.000000</td>\n",
       "      <td>1.0</td>\n",
       "    </tr>\n",
       "    <tr>\n",
       "      <th>Abnormality of the genitourinary system [HP:0000119]</th>\n",
       "      <td>9/9</td>\n",
       "      <td>100%</td>\n",
       "      <td>27/27</td>\n",
       "      <td>100%</td>\n",
       "      <td>8/8</td>\n",
       "      <td>100%</td>\n",
       "      <td>1.000000</td>\n",
       "      <td>1.0</td>\n",
       "    </tr>\n",
       "    <tr>\n",
       "      <th>Proteinuria [HP:0000093]</th>\n",
       "      <td>0/0</td>\n",
       "      <td>0%</td>\n",
       "      <td>0/0</td>\n",
       "      <td>0%</td>\n",
       "      <td>1/1</td>\n",
       "      <td>100%</td>\n",
       "      <td>1.000000</td>\n",
       "      <td>1.0</td>\n",
       "    </tr>\n",
       "  </tbody>\n",
       "</table>\n",
       "<p>173 rows × 8 columns</p>\n",
       "</div>"
      ],
      "text/plain": [
       "MISSENSE_VARIANT on NM_006580.4                     Both            One  \\\n",
       "                                                   Count Percent  Count   \n",
       "Nephrolithiasis [HP:0000787]                         0/9      0%   7/21   \n",
       "Stage 5 chronic kidney disease [HP:0003774]          0/0      0%    1/8   \n",
       "Chronic kidney disease [HP:0012622]                  0/0      0%    2/8   \n",
       "Failure to thrive [HP:0001508]                       1/9     11%   6/15   \n",
       "Hypocalcemia [HP:0002901]                            0/0      0%    8/9   \n",
       "...                                                  ...     ...    ...   \n",
       "Abnormal urine metabolite level [HP:0033354]         6/6    100%  10/10   \n",
       "Increased blood pressure [HP:0032263]                0/0      0%    0/0   \n",
       "Abnormality of the cardiovascular system [HP:00...   0/0      0%    0/0   \n",
       "Abnormality of the genitourinary system [HP:000...   9/9    100%  27/27   \n",
       "Proteinuria [HP:0000093]                             0/0      0%    0/0   \n",
       "\n",
       "MISSENSE_VARIANT on NM_006580.4                            Neither          \\\n",
       "                                                   Percent   Count Percent   \n",
       "Nephrolithiasis [HP:0000787]                           33%     1/1    100%   \n",
       "Stage 5 chronic kidney disease [HP:0003774]            12%     3/3    100%   \n",
       "Chronic kidney disease [HP:0012622]                    25%     3/3    100%   \n",
       "Failure to thrive [HP:0001508]                         40%     1/1    100%   \n",
       "Hypocalcemia [HP:0002901]                              89%     2/6     33%   \n",
       "...                                                    ...     ...     ...   \n",
       "Abnormal urine metabolite level [HP:0033354]          100%     1/1    100%   \n",
       "Increased blood pressure [HP:0032263]                   0%     2/2    100%   \n",
       "Abnormality of the cardiovascular system [HP:00...      0%     2/2    100%   \n",
       "Abnormality of the genitourinary system [HP:000...    100%     8/8    100%   \n",
       "Proteinuria [HP:0000093]                                0%     1/1    100%   \n",
       "\n",
       "MISSENSE_VARIANT on NM_006580.4                                                 \n",
       "                                                     p value Corrected p value  \n",
       "Nephrolithiasis [HP:0000787]                        0.020655               1.0  \n",
       "Stage 5 chronic kidney disease [HP:0003774]         0.024242               1.0  \n",
       "Chronic kidney disease [HP:0012622]                 0.060606               1.0  \n",
       "Failure to thrive [HP:0001508]                      0.075640               1.0  \n",
       "Hypocalcemia [HP:0002901]                           0.088911               1.0  \n",
       "...                                                      ...               ...  \n",
       "Abnormal urine metabolite level [HP:0033354]        1.000000               1.0  \n",
       "Increased blood pressure [HP:0032263]               1.000000               1.0  \n",
       "Abnormality of the cardiovascular system [HP:00...  1.000000               1.0  \n",
       "Abnormality of the genitourinary system [HP:000...  1.000000               1.0  \n",
       "Proteinuria [HP:0000093]                            1.000000               1.0  \n",
       "\n",
       "[173 rows x 8 columns]"
      ]
     },
     "execution_count": 9,
     "metadata": {},
     "output_type": "execute_result"
    }
   ],
   "source": [
    "from genophenocorr.model import VariantEffect\n",
    "\n",
    "missense = analysis.compare_by_recessive_variant_effect(VariantEffect.MISSENSE_VARIANT, CLDN16_transcript)\n",
    "missense.summarize(hpo, PatientCategories.YES)"
   ]
  },
  {
   "cell_type": "code",
   "execution_count": 10,
   "id": "28fd459b-c95b-442b-8227-4c214c07fb4b",
   "metadata": {},
   "outputs": [
    {
     "data": {
      "text/plain": [
       "'Phenotypic abnormality'"
      ]
     },
     "execution_count": 10,
     "metadata": {},
     "output_type": "execute_result"
    }
   ],
   "source": [
    "hpo.get_term(\"HP:0000118\").name"
   ]
  },
  {
   "cell_type": "code",
   "execution_count": null,
   "id": "7938d75d-bdb8-4652-becf-cb1bdd891d3f",
   "metadata": {},
   "outputs": [],
   "source": []
  }
 ],
 "metadata": {
  "kernelspec": {
   "display_name": "Python 3 (ipykernel)",
   "language": "python",
   "name": "python3"
  },
  "language_info": {
   "codemirror_mode": {
    "name": "ipython",
    "version": 3
   },
   "file_extension": ".py",
   "mimetype": "text/x-python",
   "name": "python",
   "nbconvert_exporter": "python",
   "pygments_lexer": "ipython3",
   "version": "3.10.10"
  }
 },
 "nbformat": 4,
 "nbformat_minor": 5
}
