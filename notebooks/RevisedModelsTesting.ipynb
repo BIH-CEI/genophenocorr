{
 "cells": [
  {
   "cell_type": "code",
   "execution_count": 1,
   "id": "bede4ebb",
   "metadata": {},
   "outputs": [],
   "source": [
    "import typing\n",
    "import os\n",
    "\n",
    "import hpotk\n",
    "from phenopackets import Phenopacket\n",
    "\n",
    "from genophenocorr.patient import PhenopacketPatientCreator\n",
    "from genophenocorr.phenotype import PhenotypeCreator\n",
    "from genophenocorr.protein import UniprotProteinMetadataService, ProteinAnnotationCache, ProtCachingFunctionalAnnotator\n",
    "from genophenocorr.variant import VarCachingFunctionalAnnotator, VariantAnnotationCache, VepFunctionalAnnotator\n",
    "from genophenocorr.cohort import PhenopacketCohortCreator\n"
   ]
  },
  {
   "cell_type": "code",
   "execution_count": 2,
   "id": "b1d687b0",
   "metadata": {},
   "outputs": [],
   "source": [
    "fpath_hpo = 'hpo_data/hp.json'\n",
    "cache_dir = 'testFiles/annotationsSub'\n",
    "fpath_phenopackets = 'testFiles'\n",
    "tx_id = 'NM_013275.6'\n",
    "protein_id = 'Q15327'\n",
    "if not os.path.isdir(cache_dir):\n",
    "    os.mkdir(cache_dir)"
   ]
  },
  {
   "cell_type": "code",
   "execution_count": 3,
   "id": "43fcbd77",
   "metadata": {},
   "outputs": [],
   "source": [
    "hpo: hpotk.ontology.MinimalOntology = hpotk.ontology.load.obographs.load_minimal_ontology(fpath_hpo)\n",
    "validators = [\n",
    "    hpotk.validate.AnnotationPropagationValidator(hpo),\n",
    "    hpotk.validate.ObsoleteTermIdsValidator(hpo),\n",
    "    hpotk.validate.PhenotypicAbnormalityValidator(hpo)\n",
    "]\n",
    "phenotype_creator = PhenotypeCreator(hpo, hpotk.validate.ValidationRunner(validators))"
   ]
  },
  {
   "cell_type": "code",
   "execution_count": 4,
   "id": "cd86c589",
   "metadata": {},
   "outputs": [],
   "source": [
    "# Functional annotator\n",
    "vac = VariantAnnotationCache(cache_dir)\n",
    "vep = VepFunctionalAnnotator()\n",
    "vfa = VarCachingFunctionalAnnotator(vac, vep)\n",
    "\n",
    "# Protein metadata\n",
    "pm = UniprotProteinMetadataService()\n",
    "pac = ProteinAnnotationCache(cache_dir)\n",
    "pfa = ProtCachingFunctionalAnnotator(pac, pm)\n",
    "\n",
    "# Assemble the patient creator\n",
    "pc = PhenopacketPatientCreator(phenotype_creator, vfa, pfa)"
   ]
  },
  {
   "cell_type": "code",
   "execution_count": 5,
   "id": "a9070350",
   "metadata": {},
   "outputs": [],
   "source": [
    "cc = PhenopacketCohortCreator(pc)"
   ]
  },
  {
   "cell_type": "code",
   "execution_count": 6,
   "id": "62ddfcd6",
   "metadata": {},
   "outputs": [
    {
     "name": "stderr",
     "output_type": "stream",
     "text": [
      "WARNING:genophenocorr.protein._annotators:No proteins found for ID NP_001353251.1. Please verify refseq ID.\n",
      "WARNING:genophenocorr.protein._annotators:No proteins found for ID NP_001371702.1. Please verify refseq ID.\n",
      "WARNING:genophenocorr.protein._annotators:No proteins found for ID NP_001371704.1. Please verify refseq ID.\n",
      "WARNING:genophenocorr.protein._annotators:No features for NP_001305455.1\n",
      "WARNING:genophenocorr.protein._annotators:No proteins found for ID NP_001371694.1. Please verify refseq ID.\n",
      "WARNING:genophenocorr.protein._annotators:No proteins found for ID NP_001371699.1. Please verify refseq ID.\n",
      "WARNING:genophenocorr.protein._annotators:No proteins found for ID NP_001371701.1. Please verify refseq ID.\n",
      "WARNING:genophenocorr.protein._annotators:No proteins found for ID NP_001371695.1. Please verify refseq ID.\n",
      "WARNING:genophenocorr.protein._annotators:No proteins found for ID NP_001372638.1. Please verify refseq ID.\n",
      "WARNING:genophenocorr.protein._annotators:No proteins found for ID NP_001350779.1. Please verify refseq ID.\n",
      "WARNING:genophenocorr.protein._annotators:No proteins found for ID NP_001365810.1. Please verify refseq ID.\n",
      "WARNING:genophenocorr.protein._annotators:No proteins found for ID NP_001371697.1. Please verify refseq ID.\n",
      "WARNING:genophenocorr.protein._annotators:No features for NP_001305459.1\n",
      "WARNING:genophenocorr.protein._annotators:No proteins found for ID NP_001371700.1. Please verify refseq ID.\n",
      "WARNING:genophenocorr.protein._annotators:No proteins found for ID NP_001371693.1. Please verify refseq ID.\n",
      "WARNING:genophenocorr.protein._annotators:No proteins found for ID NP_001371698.1. Please verify refseq ID.\n",
      "WARNING:genophenocorr.protein._annotators:No features for NP_001305453.1\n",
      "WARNING:genophenocorr.protein._annotators:No proteins found for ID NP_001371696.1. Please verify refseq ID.\n",
      "WARNING:genophenocorr.protein._annotators:No proteins found for ID NP_001371851.1. Please verify refseq ID.\n",
      "WARNING:genophenocorr.protein._annotators:No proteins found for ID NP_001371871.1. Please verify refseq ID.\n",
      "WARNING:genophenocorr.protein._annotators:No proteins found for ID NP_001371860.1. Please verify refseq ID.\n",
      "WARNING:genophenocorr.protein._annotators:No proteins found for ID NP_001371864.1. Please verify refseq ID.\n",
      "WARNING:genophenocorr.protein._annotators:No proteins found for ID NP_001371866.1. Please verify refseq ID.\n",
      "WARNING:genophenocorr.protein._annotators:No proteins found for ID NP_001371857.1. Please verify refseq ID.\n",
      "WARNING:genophenocorr.protein._annotators:No proteins found for ID NP_001371865.1. Please verify refseq ID.\n",
      "WARNING:genophenocorr.protein._annotators:No proteins found for ID NP_001371850.1. Please verify refseq ID.\n",
      "WARNING:genophenocorr.protein._annotators:No features for NP_065706.2\n",
      "WARNING:genophenocorr.protein._annotators:No proteins found for ID NP_001371847.1. Please verify refseq ID.\n",
      "WARNING:genophenocorr.protein._annotators:No proteins found for ID NP_001371848.1. Please verify refseq ID.\n",
      "WARNING:genophenocorr.protein._annotators:No proteins found for ID NP_001373921.1. Please verify refseq ID.\n",
      "WARNING:genophenocorr.protein._annotators:No proteins found for ID NP_001338866.1. Please verify refseq ID.\n",
      "WARNING:genophenocorr.protein._annotators:No proteins found for ID NP_001371854.1. Please verify refseq ID.\n",
      "WARNING:genophenocorr.protein._annotators:No proteins found for ID NP_001371870.1. Please verify refseq ID.\n",
      "WARNING:genophenocorr.protein._annotators:No proteins found for ID NP_001371872.1. Please verify refseq ID.\n",
      "WARNING:genophenocorr.protein._annotators:No proteins found for ID NP_001371869.1. Please verify refseq ID.\n",
      "WARNING:genophenocorr.protein._annotators:No proteins found for ID NP_001371856.1. Please verify refseq ID.\n",
      "WARNING:genophenocorr.protein._annotators:No proteins found for ID NP_001371858.1. Please verify refseq ID.\n",
      "WARNING:genophenocorr.protein._annotators:No proteins found for ID NP_001371845.1. Please verify refseq ID.\n",
      "WARNING:genophenocorr.protein._annotators:No proteins found for ID NP_001371849.1. Please verify refseq ID.\n",
      "WARNING:genophenocorr.protein._annotators:No proteins found for ID NP_001371868.1. Please verify refseq ID.\n",
      "WARNING:genophenocorr.protein._annotators:No proteins found for ID NP_001354154.1. Please verify refseq ID.\n",
      "WARNING:genophenocorr.protein._annotators:No proteins found for ID NP_001371867.1. Please verify refseq ID.\n",
      "WARNING:genophenocorr.protein._annotators:No proteins found for ID NP_001338867.1. Please verify refseq ID.\n",
      "WARNING:genophenocorr.protein._annotators:No proteins found for ID NP_001371873.1. Please verify refseq ID.\n",
      "WARNING:genophenocorr.protein._annotators:No proteins found for ID NP_001371855.1. Please verify refseq ID.\n",
      "WARNING:genophenocorr.protein._annotators:No proteins found for ID NP_001371852.1. Please verify refseq ID.\n",
      "WARNING:genophenocorr.protein._annotators:No features for NP_000968.2\n",
      "WARNING:genophenocorr.protein._annotators:No features for NP_150254.1\n"
     ]
    }
   ],
   "source": [
    "patientCohort = cc.create_cohort(fpath_phenopackets)"
   ]
  },
  {
   "cell_type": "code",
   "execution_count": 7,
   "id": "36c18803",
   "metadata": {},
   "outputs": [],
   "source": [
    "testPat = patientCohort.all_patients.pop()"
   ]
  },
  {
   "cell_type": "code",
   "execution_count": 13,
   "id": "e4dd0d74",
   "metadata": {},
   "outputs": [
    {
     "name": "stdout",
     "output_type": "stream",
     "text": [
      "NP_001243111.1\n",
      "NP_001243112.1\n",
      "NP_037407.4\n"
     ]
    }
   ],
   "source": [
    "for var in testPat.variants:\n",
    "    for trans in var.tx_annotations:\n",
    "        print(trans.protein_affected)"
   ]
  },
  {
   "cell_type": "code",
   "execution_count": 14,
   "id": "573e9533",
   "metadata": {},
   "outputs": [
    {
     "name": "stdout",
     "output_type": "stream",
     "text": [
      "HPO ID        Total Patients\n",
      "----------  ----------------\n",
      "HP:0000534                35\n",
      "HP:0000343                35\n",
      "HP:0001249                34\n",
      "HP:0011446                34\n",
      "HP:0006482                32\n",
      "HP:0001155                28\n",
      "HP:0010938                27\n",
      "HP:0012758                26\n",
      "HP:0004322                24\n",
      "HP:0000325                 7\n",
      "HP:0000356                 6\n",
      "HP:0000365                 5\n",
      "HP:0000729                 1\n"
     ]
    }
   ],
   "source": [
    "patientCohort.list_all_phenotypes()"
   ]
  },
  {
   "cell_type": "code",
   "execution_count": 15,
   "id": "31fcbce9",
   "metadata": {},
   "outputs": [
    {
     "name": "stdout",
     "output_type": "stream",
     "text": [
      "Protein ID        Total Patients\n",
      "--------------  ----------------\n",
      "NP_001243111.1                40\n",
      "NP_037407.4                   40\n",
      "NP_001243112.1                40\n",
      "NP_037407.4                   40\n",
      "NP_872337.2                    4\n",
      "NP_001188336.1                 4\n",
      "NP_003110.1                    4\n",
      "NP_955399.1                    4\n",
      "NP_003110.1                    4\n",
      "NP_003110.1                    4\n",
      "NP_005178.4                    2\n",
      "NP_777577.2                    2\n",
      "NP_112190.2                    2\n",
      "NP_000503.1                    2\n",
      "NP_001136336.2                 2\n",
      "NP_000503.1                    2\n",
      "NP_057293.1                    2\n",
      "NP_000503.1                    2\n",
      "NP_001305461.1                 2\n",
      "NP_001230208.1                 2\n",
      "NP_787127.1                    2\n",
      "NP_001305459.1                 2\n",
      "NP_057293.1                    2\n",
      "NP_001310472.1                 2\n",
      "NP_057293.1                    2\n",
      "NP_001025189.1                 2\n",
      "NP_004924.1                    2\n",
      "NP_001305453.1                 2\n",
      "NP_001305457.1                 2\n",
      "NP_000476.1                    2\n",
      "NP_001073956.2                 2\n",
      "NP_001120686.1                 2\n",
      "NP_000503.1                    2\n",
      "NP_000476.1                    2\n",
      "NP_001271245.1                 2\n",
      "NP_001305458.1                 2\n",
      "NP_001305454.1                 2\n",
      "NP_005178.4                    2\n",
      "NP_001310473.1                 2\n",
      "NP_000476.1                    2\n",
      "NP_001305456.1                 2\n",
      "NP_001073956.2                 2\n",
      "NP_001281257.1                 2\n",
      "NP_004924.1                    2\n",
      "NP_001305455.1                 2\n",
      "NP_005178.4                    2\n",
      "NP_000476.1                    2\n",
      "NP_001371692.1                 2\n",
      "NP_004924.1                    2\n",
      "NP_001305455.1                 2\n",
      "NP_005178.4                    2\n",
      "NP_001310472.1                 2\n",
      "NP_000503.1                    2\n",
      "NP_004924.1                    2\n",
      "NP_001167012.1                 1\n",
      "NP_060339.2                    1\n",
      "NP_001730.1                    1\n",
      "NP_001012777.1                 1\n",
      "NP_002452.1                    1\n",
      "NP_001730.1                    1\n",
      "NP_840101.1                    1\n",
      "NP_001167012.1                 1\n",
      "NP_722520.2                    1\n",
      "NP_003477.4                    1\n",
      "NP_037410.1                    1\n",
      "NP_524576.2                    1\n",
      "NP_001281269.1                 1\n",
      "NP_524576.2                    1\n",
      "NP_001373920.1                 1\n",
      "NP_065706.2                    1\n",
      "NP_001167010.1                 1\n",
      "NP_002452.1                    1\n",
      "NP_001167014.1                 1\n",
      "NP_001167013.1                 1\n",
      "NP_524576.2                    1\n",
      "NP_001167010.1                 1\n",
      "NP_001165287.1                 1\n",
      "NP_002452.1                    1\n",
      "NP_653205.3                    1\n",
      "NP_001167014.1                 1\n",
      "NP_060036.2                    1\n",
      "NP_000092.2                    1\n",
      "NP_060339.2                    1\n",
      "NP_000092.2                    1\n",
      "NP_001167014.1                 1\n",
      "NP_037410.1                    1\n",
      "NP_065706.2                    1\n",
      "NP_000092.2                    1\n",
      "NP_001171785.1                 1\n",
      "NP_060339.2                    1\n",
      "NP_001167011.1                 1\n",
      "NP_849163.1                    1\n",
      "NP_060339.2                    1\n",
      "NP_003477.4                    1\n",
      "NP_001305436.1                 1\n",
      "NP_001305436.1                 1\n",
      "NP_001167011.1                 1\n",
      "NP_002452.1                    1\n",
      "NP_001167010.1                 1\n",
      "NP_000092.2                    1\n",
      "NP_001167010.1                 1\n",
      "NP_003477.4                    1\n",
      "NP_001167011.1                 1\n",
      "NP_060036.2                    1\n",
      "NP_001730.1                    1\n",
      "NP_065706.2                    1\n",
      "NP_001354553.1                 1\n",
      "NP_001171783.1                 1\n",
      "NP_001281269.1                 1\n",
      "NP_001167013.1                 1\n",
      "NP_001012780.1                 1\n",
      "NP_001165286.1                 1\n",
      "NP_001730.1                    1\n",
      "NP_001281269.1                 1\n",
      "NP_060339.2                    1\n",
      "NP_001305442.1                 1\n",
      "NP_001167012.1                 1\n",
      "NP_001167013.1                 1\n",
      "NP_065706.2                    1\n",
      "NP_055242.1                    1\n",
      "NP_150254.1                    1\n",
      "NP_001230060.1                 1\n",
      "NP_000968.2                    1\n",
      "NP_055242.1                    1\n",
      "NP_000968.2                    1\n",
      "NP_000968.2                    1\n",
      "NP_055242.1                    1\n",
      "NP_705900.1                    1\n"
     ]
    }
   ],
   "source": [
    "patientCohort.list_all_proteins()"
   ]
  },
  {
   "cell_type": "code",
   "execution_count": 16,
   "id": "dc135820",
   "metadata": {},
   "outputs": [
    {
     "name": "stdout",
     "output_type": "stream",
     "text": [
      "Variant                    Total Patients\n",
      "-----------------------  ----------------\n",
      "16_89284524_duplication                 3\n",
      "16_89284565_G/C                         2\n",
      "16_89284363_CTTTG/C                     2\n",
      "16_89284129_CTTTTT/C                    2\n",
      "16_89279326_G/A                         1\n",
      "16_89284140_TTTTC/T                     1\n",
      "16_89283314_CCTTT/C                     1\n",
      "16_89283233_-/T                         1\n",
      "16_89281336_CG/C                        1\n",
      "16_89282166_TTC/T                       1\n",
      "16_89279126_G/C                         1\n",
      "16_89284129_CT/C                        1\n",
      "16_89279542_G/A                         1\n",
      "16_89282044_G/A                         1\n",
      "16_89282433_TTC/T                       1\n",
      "16_88788350_deletion                    1\n",
      "16_87618421_deletion                    1\n",
      "16_89285153_TTTTG/T                     1\n",
      "16_89476288_duplication                 1\n",
      "16_89283362_-/T                         1\n",
      "16_89280830_-/A                         1\n",
      "16_89285255_CGA/C                       1\n",
      "16_89282151_TTC/T                       1\n",
      "16_89284634_GTGTTT/G                    1\n",
      "16_89284345_G/A                         1\n",
      "16_89279350_G/A                         1\n",
      "16_89281396_C/A                         1\n",
      "16_89282770_CTT/C                       1\n",
      "16_89285085_G/C                         1\n",
      "16_89206685_deletion                    1\n",
      "16_89217282_deletion                    1\n",
      "16_89282012_CGG/C                       1\n",
      "16_89281397_G/C                         1\n",
      "16_89283523_G/A                         1\n",
      "16_89280029_-/G                         1\n"
     ]
    }
   ],
   "source": [
    "patientCohort.list_all_variants()"
   ]
  },
  {
   "cell_type": "code",
   "execution_count": 17,
   "id": "c53e7830",
   "metadata": {},
   "outputs": [
    {
     "data": {
      "text/plain": [
       "['Gnazzo, 2020_P5',\n",
       " 'Gnazzo, 2020_P8',\n",
       " 'Gnazzo, 2020_P27',\n",
       " 'Gnazzo, 2020_P10',\n",
       " 'Cucco, 2020 (Patient B)',\n",
       " 'Crippa2015_P1',\n",
       " 'Gnazzo, 2020_P15',\n",
       " 'Gnazzo, 2020_P22',\n",
       " 'Gnazzo, 2020_P18',\n",
       " 'Gnazzo, 2020_P28',\n",
       " 'Gnazzo, 2020_P7',\n",
       " 'Gnazzo, 2020_P12',\n",
       " 'Gnazzo, 2020_P25',\n",
       " 'Crippa2015_P3',\n",
       " 'Gnazzo, 2020_P20',\n",
       " 'Gnazzo, 2020_P17',\n",
       " 'Behnert, 2018',\n",
       " 'Gnazzo, 2020_P31',\n",
       " 'Gnazzo, 2020_P2',\n",
       " 'Bucerzan2020',\n",
       " 'Gnazzo, 2020_P14',\n",
       " 'Gnazzo, 2020_P23',\n",
       " 'Gnazzo, 2020_P1',\n",
       " 'Gnazzo, 2020_P19',\n",
       " 'Gnazzo, 2020_P4',\n",
       " 'Gnazzo, 2020_P9',\n",
       " 'Gnazzo, 2020_P26',\n",
       " 'Gnazzo, 2020_P11',\n",
       " 'Gnazzo, 2020_P21',\n",
       " 'Gnazzo, 2020_P16',\n",
       " 'Crippa2015_P2',\n",
       " 'Gnazzo, 2020_P3',\n",
       " 'Gnazzo, 2020_P30',\n",
       " 'Gnazzo, 2020_P29',\n",
       " 'Bianchi, 2018',\n",
       " 'DeBernardi2018',\n",
       " 'Gnazzo, 2020_P6',\n",
       " 'Alves, 2019',\n",
       " 'Gnazzo, 2020_P13']"
      ]
     },
     "execution_count": 17,
     "metadata": {},
     "output_type": "execute_result"
    }
   ],
   "source": [
    "patientCohort.list_all_patients()"
   ]
  },
  {
   "cell_type": "code",
   "execution_count": null,
   "id": "d09adc3f",
   "metadata": {},
   "outputs": [],
   "source": []
  }
 ],
 "metadata": {
  "kernelspec": {
   "display_name": "enviro",
   "language": "python",
   "name": "enviro"
  },
  "language_info": {
   "codemirror_mode": {
    "name": "ipython",
    "version": 3
   },
   "file_extension": ".py",
   "mimetype": "text/x-python",
   "name": "python",
   "nbconvert_exporter": "python",
   "pygments_lexer": "ipython3",
   "version": "3.10.10"
  }
 },
 "nbformat": 4,
 "nbformat_minor": 5
}
