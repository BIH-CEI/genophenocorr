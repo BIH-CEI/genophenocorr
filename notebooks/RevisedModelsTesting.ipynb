{
 "cells": [
  {
   "cell_type": "code",
   "execution_count": null,
   "id": "bede4ebb",
   "metadata": {},
   "outputs": [],
   "source": [
    "import typing\n",
    "import os\n",
    "\n",
    "import hpotk\n",
    "from phenopackets import Phenopacket\n",
    "\n",
    "from genophenocorr.patient import PhenopacketPatientCreator\n",
    "from genophenocorr.phenotype import PhenotypeCreator\n",
    "from genophenocorr.protein import UniprotProteinMetadataService, ProteinAnnotationCache, ProtCachingFunctionalAnnotator\n",
    "from genophenocorr.variant import VarCachingFunctionalAnnotator, VariantAnnotationCache, VepFunctionalAnnotator\n",
    "from genophenocorr.cohort import PhenopacketCohortCreator\n"
   ]
  },
  {
   "cell_type": "code",
   "execution_count": null,
   "id": "b1d687b0",
   "metadata": {},
   "outputs": [],
   "source": [
    "fpath_hpo = 'hpo_data/hp.json'\n",
    "cache_dir = 'testFiles/annotationsSub'\n",
    "fpath_phenopackets = 'testFiles'\n",
    "tx_id = 'NM_013275.6'\n",
    "protein_id = 'Q15327'\n",
    "if not os.path.isdir(cache_dir):\n",
    "    os.mkdir(cache_dir)"
   ]
  },
  {
   "cell_type": "code",
   "execution_count": null,
   "id": "43fcbd77",
   "metadata": {},
   "outputs": [],
   "source": [
    "hpo: hpotk.ontology.MinimalOntology = hpotk.ontology.load.obographs.load_minimal_ontology(fpath_hpo)\n",
    "validators = [\n",
    "    hpotk.validate.AnnotationPropagationValidator(hpo),\n",
    "    hpotk.validate.ObsoleteTermIdsValidator(hpo),\n",
    "    hpotk.validate.PhenotypicAbnormalityValidator(hpo)\n",
    "]\n",
    "phenotype_creator = PhenotypeCreator(hpo, hpotk.validate.ValidationRunner(validators))"
   ]
  },
  {
   "cell_type": "code",
   "execution_count": null,
   "id": "cd86c589",
   "metadata": {},
   "outputs": [],
   "source": [
    "# Functional annotator\n",
    "vac = VariantAnnotationCache(cache_dir)\n",
    "vep = VepFunctionalAnnotator()\n",
    "vfa = VarCachingFunctionalAnnotator(vac, vep)\n",
    "\n",
    "# Protein metadata\n",
    "pm = UniprotProteinMetadataService()\n",
    "pac = ProteinAnnotationCache(cache_dir)\n",
    "pfa = ProtCachingFunctionalAnnotator(pac, pm)\n",
    "\n",
    "# Assemble the patient creator\n",
    "pc = PhenopacketPatientCreator(phenotype_creator, vfa, pfa)"
   ]
  },
  {
   "cell_type": "code",
   "execution_count": null,
   "id": "a9070350",
   "metadata": {},
   "outputs": [],
   "source": [
    "cc = PhenopacketCohortCreator(pc)"
   ]
  },
  {
   "cell_type": "code",
   "execution_count": null,
   "id": "62ddfcd6",
   "metadata": {},
   "outputs": [],
   "source": [
    "patientCohort = cc.create_cohort(fpath_phenopackets)"
   ]
  },
  {
   "cell_type": "code",
   "execution_count": null,
   "id": "c39889b9",
   "metadata": {},
   "outputs": [],
   "source": [
    "patientCohort.list_all_phenotypes()"
   ]
  },
  {
   "cell_type": "code",
   "execution_count": null,
   "id": "4d0dd03d",
   "metadata": {},
   "outputs": [],
   "source": [
    "patientCohort.list_all_proteins(5)"
   ]
  },
  {
   "cell_type": "code",
   "execution_count": null,
   "id": "f294ca99",
   "metadata": {},
   "outputs": [],
   "source": [
    "patientCohort.list_all_variants()"
   ]
  },
  {
   "cell_type": "code",
   "execution_count": null,
   "id": "8136e3b2",
   "metadata": {},
   "outputs": [],
   "source": [
    "patientCohort.list_all_patients()"
   ]
  },
  {
   "cell_type": "code",
   "execution_count": null,
   "id": "74ba64ea",
   "metadata": {},
   "outputs": [],
   "source": [
    "patientCohort.list_vartypes_by_tx('NM_013275.6')"
   ]
  },
  {
   "cell_type": "code",
   "execution_count": null,
   "id": "9268c27b",
   "metadata": {},
   "outputs": [],
   "source": [
    "patientCohort.list_vartypes_by_tx()"
   ]
  },
  {
   "cell_type": "code",
   "execution_count": null,
   "id": "df922d31",
   "metadata": {},
   "outputs": [],
   "source": []
  }
 ],
 "metadata": {
  "kernelspec": {
   "display_name": "enviro",
   "language": "python",
   "name": "enviro"
  },
  "language_info": {
   "codemirror_mode": {
    "name": "ipython",
    "version": 3
   },
   "file_extension": ".py",
   "mimetype": "text/x-python",
   "name": "python",
   "nbconvert_exporter": "python",
   "pygments_lexer": "ipython3",
   "version": "3.10.10"
  }
 },
 "nbformat": 4,
 "nbformat_minor": 5
}
