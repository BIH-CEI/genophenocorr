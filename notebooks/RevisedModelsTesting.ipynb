{
 "cells": [
  {
   "cell_type": "code",
   "execution_count": 1,
   "id": "bede4ebb",
   "metadata": {},
   "outputs": [],
   "source": [
    "import typing\n",
    "import os\n",
    "\n",
    "import hpotk\n",
    "from phenopackets import Phenopacket\n",
    "\n",
    "from genophenocorr.patient import PhenopacketPatientCreator\n",
    "from genophenocorr.phenotype import PhenotypeCreator\n",
    "from genophenocorr.protein import UniprotProteinMetadataService, ProteinAnnotationCache, ProtCachingFunctionalAnnotator\n",
    "from genophenocorr.variant import VarCachingFunctionalAnnotator, VariantAnnotationCache, VepFunctionalAnnotator\n",
    "from genophenocorr.cohort import PhenopacketCohortCreator, CohortAnalysis\n"
   ]
  },
  {
   "cell_type": "code",
   "execution_count": 2,
   "id": "b1d687b0",
   "metadata": {},
   "outputs": [],
   "source": [
    "fpath_hpo = 'hpo_data/hp.json'\n",
    "cache_dir = 'KBG/annotations'\n",
    "fpath_phenopackets = 'KBG/phenopackets'\n",
    "tx_id = 'NM_013275.6'\n",
    "protein_id = 'Q15327'\n",
    "if not os.path.isdir(cache_dir):\n",
    "    os.mkdir(cache_dir)"
   ]
  },
  {
   "cell_type": "code",
   "execution_count": 3,
   "id": "43fcbd77",
   "metadata": {},
   "outputs": [],
   "source": [
    "hpo: hpotk.ontology.Ontology = hpotk.ontology.load.obographs.load_ontology(fpath_hpo)\n",
    "validators = [\n",
    "    hpotk.validate.AnnotationPropagationValidator(hpo),\n",
    "    hpotk.validate.ObsoleteTermIdsValidator(hpo),\n",
    "    hpotk.validate.PhenotypicAbnormalityValidator(hpo)\n",
    "]\n",
    "phenotype_creator = PhenotypeCreator(hpo, hpotk.validate.ValidationRunner(validators))"
   ]
  },
  {
   "cell_type": "code",
   "execution_count": 4,
   "id": "cd86c589",
   "metadata": {},
   "outputs": [],
   "source": [
    "# Protein metadata\n",
    "pm = UniprotProteinMetadataService()\n",
    "pac = ProteinAnnotationCache(cache_dir)\n",
    "pfa = ProtCachingFunctionalAnnotator(pac, pm)\n",
    "\n",
    "# Functional annotator\n",
    "vac = VariantAnnotationCache(cache_dir)\n",
    "vep = VepFunctionalAnnotator(pfa)\n",
    "vfa = VarCachingFunctionalAnnotator(vac, vep)\n",
    "\n",
    "\n",
    "# Assemble the patient creator\n",
    "pc = PhenopacketPatientCreator(phenotype_creator, vfa)"
   ]
  },
  {
   "cell_type": "code",
   "execution_count": 5,
   "id": "a9070350",
   "metadata": {},
   "outputs": [],
   "source": [
    "cc = PhenopacketCohortCreator(pc)"
   ]
  },
  {
   "cell_type": "code",
   "execution_count": null,
   "id": "62ddfcd6",
   "metadata": {
    "scrolled": true
   },
   "outputs": [
    {
     "name": "stderr",
     "output_type": "stream",
     "text": [
      "Expected at least one HPO term per patient, but received none for patient VanDongen2019_P2\n",
      "Expected at least one HPO term per patient, but received none for patient VanDongen2019_P12\n",
      "Expected at least one HPO term per patient, but received none for patient Reuter2020\n",
      "Expected at least one HPO term per patient, but received none for patient Novara, 2017_P10\n",
      "Expected at least one variant per patient, but received none for patient Parenti2016_P1\n",
      "Expected at least one HPO term per patient, but received none for patient VanDongen2019_P13\n",
      "Expected at least one HPO term per patient, but received none for patient VanDongen2019_P8\n",
      "Expected at least one HPO term per patient, but received none for patient VanDongen2019_P4\n",
      "Expected at least one HPO term per patient, but received none for patient VanDongen2019_P5\n",
      "Expected at least one HPO term per patient, but received none for patient KBG31B\n",
      "Expected at least one HPO term per patient, but received none for patient VanDongen2019_P9\n",
      "Expected at least one HPO term per patient, but received none for patient VanDongen2019_P7\n"
     ]
    }
   ],
   "source": [
    "patientCohort = cc.create_cohort(fpath_phenopackets)"
   ]
  },
  {
   "cell_type": "code",
   "execution_count": null,
   "id": "c39889b9",
   "metadata": {},
   "outputs": [],
   "source": [
    "patientCohort.list_all_phenotypes()"
   ]
  },
  {
   "cell_type": "code",
   "execution_count": null,
   "id": "f294ca99",
   "metadata": {},
   "outputs": [],
   "source": [
    "patientCohort.list_all_variants()"
   ]
  },
  {
   "cell_type": "code",
   "execution_count": null,
   "id": "8136e3b2",
   "metadata": {},
   "outputs": [],
   "source": [
    "patientCohort.list_all_patients()"
   ]
  },
  {
   "cell_type": "code",
   "execution_count": null,
   "id": "74ba64ea",
   "metadata": {},
   "outputs": [],
   "source": [
    "patientCohort.list_data_by_tx('NM_013275.6')"
   ]
  },
  {
   "cell_type": "code",
   "execution_count": null,
   "id": "9268c27b",
   "metadata": {},
   "outputs": [],
   "source": [
    "patientCohort.list_data_by_tx()"
   ]
  },
  {
   "cell_type": "code",
   "execution_count": null,
   "id": "63705c17",
   "metadata": {},
   "outputs": [],
   "source": [
    "patientCohort.all_proteins"
   ]
  },
  {
   "cell_type": "code",
   "execution_count": null,
   "id": "df922d31",
   "metadata": {},
   "outputs": [],
   "source": [
    "analysis = CohortAnalysis(patientCohort, 'NM_013275.6', include_unmeasured=False)\n",
    "analysis._testing_hpo_terms"
   ]
  },
  {
   "cell_type": "code",
   "execution_count": null,
   "id": "91809a38",
   "metadata": {},
   "outputs": [],
   "source": [
    "from genophenocorr.constants import variant_effects"
   ]
  },
  {
   "cell_type": "code",
   "execution_count": null,
   "id": "57dd0e23",
   "metadata": {
    "scrolled": false
   },
   "outputs": [],
   "source": [
    "analysis.compare_by_variant_type(variant_effects.FRAMESHIFT_VARIANT)"
   ]
  },
  {
   "cell_type": "code",
   "execution_count": null,
   "id": "1c2c01fd",
   "metadata": {},
   "outputs": [],
   "source": [
    "analysis.compare_by_variant('16_89284634_GTGTTT/G')"
   ]
  },
  {
   "cell_type": "code",
   "execution_count": null,
   "id": "f306c5ef",
   "metadata": {},
   "outputs": [],
   "source": [
    "analysis2 = CohortAnalysis(patientCohort, 'NM_013275.6', include_unmeasured=False, include_large_SV=False)\n",
    "\n",
    "analysis2.compare_by_exon(9)"
   ]
  },
  {
   "cell_type": "code",
   "execution_count": null,
   "id": "f6861157",
   "metadata": {},
   "outputs": [],
   "source": [
    "from genophenocorr.protein import FeatureType\n"
   ]
  },
  {
   "cell_type": "code",
   "execution_count": null,
   "id": "d3c6fd9d",
   "metadata": {},
   "outputs": [],
   "source": [
    "analysis.compare_by_protein_feature_type(FeatureType.REGION)"
   ]
  },
  {
   "cell_type": "code",
   "execution_count": null,
   "id": "2d02dcbc",
   "metadata": {},
   "outputs": [],
   "source": []
  }
 ],
 "metadata": {
  "kernelspec": {
   "display_name": "enviro",
   "language": "python",
   "name": "enviro"
  },
  "language_info": {
   "codemirror_mode": {
    "name": "ipython",
    "version": 3
   },
   "file_extension": ".py",
   "mimetype": "text/x-python",
   "name": "python",
   "nbconvert_exporter": "python",
   "pygments_lexer": "ipython3",
   "version": "3.10.10"
  }
 },
 "nbformat": 4,
 "nbformat_minor": 5
}
