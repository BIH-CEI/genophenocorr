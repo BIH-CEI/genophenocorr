{
 "cells": [
  {
   "cell_type": "code",
   "execution_count": 1,
   "id": "bede4ebb",
   "metadata": {},
   "outputs": [],
   "source": [
    "import typing\n",
    "import os\n",
    "\n",
    "import hpotk\n",
    "from phenopackets import Phenopacket\n",
    "\n",
    "from genophenocorr.patient import PhenopacketPatientCreator\n",
    "from genophenocorr.phenotype import PhenotypeCreator\n",
    "from genophenocorr.protein import UniprotProteinMetadataService, ProteinAnnotationCache, ProtCachingFunctionalAnnotator\n",
    "from genophenocorr.variant import VarCachingFunctionalAnnotator, VariantAnnotationCache, VepFunctionalAnnotator\n",
    "from genophenocorr.cohort import PhenopacketCohortCreator\n"
   ]
  },
  {
   "cell_type": "code",
   "execution_count": 2,
   "id": "b1d687b0",
   "metadata": {},
   "outputs": [],
   "source": [
    "fpath_hpo = 'hpo_data/hp.json'\n",
    "cache_dir = 'testFiles/annotationsSub'\n",
    "fpath_phenopackets = 'testFiles'\n",
    "tx_id = 'NM_013275.6'\n",
    "protein_id = 'Q15327'\n",
    "if not os.path.isdir(cache_dir):\n",
    "    os.mkdir(cache_dir)"
   ]
  },
  {
   "cell_type": "code",
   "execution_count": 3,
   "id": "43fcbd77",
   "metadata": {},
   "outputs": [],
   "source": [
    "hpo: hpotk.ontology.MinimalOntology = hpotk.ontology.load.obographs.load_minimal_ontology(fpath_hpo)\n",
    "validators = [\n",
    "    hpotk.validate.AnnotationPropagationValidator(hpo),\n",
    "    hpotk.validate.ObsoleteTermIdsValidator(hpo),\n",
    "    hpotk.validate.PhenotypicAbnormalityValidator(hpo)\n",
    "]\n",
    "phenotype_creator = PhenotypeCreator(hpo, hpotk.validate.ValidationRunner(validators))"
   ]
  },
  {
   "cell_type": "code",
   "execution_count": 4,
   "id": "cd86c589",
   "metadata": {},
   "outputs": [],
   "source": [
    "# Functional annotator\n",
    "vac = VariantAnnotationCache(cache_dir)\n",
    "vep = VepFunctionalAnnotator()\n",
    "vfa = VarCachingFunctionalAnnotator(vac, vep)\n",
    "\n",
    "# Protein metadata\n",
    "pm = UniprotProteinMetadataService()\n",
    "pac = ProteinAnnotationCache(cache_dir)\n",
    "pfa = ProtCachingFunctionalAnnotator(pac, pm)\n",
    "\n",
    "# Assemble the patient creator\n",
    "pc = PhenopacketPatientCreator(phenotype_creator, vfa, pfa)"
   ]
  },
  {
   "cell_type": "code",
   "execution_count": 5,
   "id": "a9070350",
   "metadata": {},
   "outputs": [],
   "source": [
    "cc = PhenopacketCohortCreator(pc)"
   ]
  },
  {
   "cell_type": "code",
   "execution_count": 6,
   "id": "62ddfcd6",
   "metadata": {},
   "outputs": [],
   "source": [
    "patientCohort = cc.create_cohort(fpath_phenopackets)"
   ]
  },
  {
   "cell_type": "code",
   "execution_count": 7,
   "id": "11fef118",
   "metadata": {},
   "outputs": [
    {
     "data": {
      "text/plain": [
       "[('HP:0006482', 9),\n",
       " ('HP:0001155', 8),\n",
       " ('HP:0004322', 8),\n",
       " ('HP:0001249', 7),\n",
       " ('HP:0011446', 7),\n",
       " ('HP:0000325', 7),\n",
       " ('HP:0000534', 7),\n",
       " ('HP:0000343', 7),\n",
       " ('HP:0010938', 7),\n",
       " ('HP:0000356', 7),\n",
       " ('HP:0000365', 5),\n",
       " ('HP:0012758', 3),\n",
       " ('HP:0000729', 2),\n",
       " ('HP:0007018', 1)]"
      ]
     },
     "execution_count": 7,
     "metadata": {},
     "output_type": "execute_result"
    }
   ],
   "source": [
    "patientCohort.list_all_phenotypes()"
   ]
  },
  {
   "cell_type": "code",
   "execution_count": 8,
   "id": "37d390b3",
   "metadata": {},
   "outputs": [
    {
     "data": {
      "text/plain": [
       "[('NP_037407.4', 18),\n",
       " ('NP_001243111.1', 9),\n",
       " ('NP_001243112.1', 9),\n",
       " ('NP_003110.1', 6),\n",
       " ('NP_000503.1', 5)]"
      ]
     },
     "execution_count": 8,
     "metadata": {},
     "output_type": "execute_result"
    }
   ],
   "source": [
    "patientCohort.list_all_proteins(5)"
   ]
  },
  {
   "cell_type": "code",
   "execution_count": 9,
   "id": "7e43e363",
   "metadata": {},
   "outputs": [
    {
     "data": {
      "text/plain": [
       "[('16_89284524_duplication', 3),\n",
       " ('16_89283314_CCTTT/C', 1),\n",
       " ('16_88788350_deletion', 1),\n",
       " ('16_89476288_duplication', 1),\n",
       " ('16_89284129_CTTTTT/C', 1),\n",
       " ('16_89282012_CGG/C', 1),\n",
       " ('16_89281397_G/C', 1)]"
      ]
     },
     "execution_count": 9,
     "metadata": {},
     "output_type": "execute_result"
    }
   ],
   "source": [
    "patientCohort.list_all_variants()"
   ]
  },
  {
   "cell_type": "code",
   "execution_count": 10,
   "id": "19d95b78",
   "metadata": {},
   "outputs": [
    {
     "data": {
      "text/plain": [
       "['Cucco, 2020 (Patient B)',\n",
       " 'Crippa2015_P1',\n",
       " 'Crippa2015_P3',\n",
       " 'Behnert, 2018',\n",
       " 'Bucerzan2020',\n",
       " 'Crippa2015_P2',\n",
       " 'Bianchi, 2018',\n",
       " 'DeBernardi2018',\n",
       " 'Alves, 2019']"
      ]
     },
     "execution_count": 10,
     "metadata": {},
     "output_type": "execute_result"
    }
   ],
   "source": [
    "patientCohort.list_all_patients()"
   ]
  },
  {
   "cell_type": "code",
   "execution_count": 12,
   "id": "37ea520a",
   "metadata": {},
   "outputs": [
    {
     "data": {
      "text/plain": [
       "{'NM_013275.6': Counter({'frameshift_variant': 3,\n",
       "          'stop_gained': 1,\n",
       "          'coding_sequence_variant': 1,\n",
       "          '5_prime_UTR_variant': 2,\n",
       "          'intron_variant': 2,\n",
       "          'feature_elongation': 1,\n",
       "          'transcript_ablation': 1})}"
      ]
     },
     "execution_count": 12,
     "metadata": {},
     "output_type": "execute_result"
    }
   ],
   "source": [
    "patientCohort.list_vartypes_by_tx('NM_013275.6')"
   ]
  },
  {
   "cell_type": "code",
   "execution_count": 13,
   "id": "1d9381f7",
   "metadata": {},
   "outputs": [
    {
     "data": {
      "text/plain": [
       "{'NM_001256182.2': Counter({'frameshift_variant': 3,\n",
       "          'stop_gained': 1,\n",
       "          'coding_sequence_variant': 1,\n",
       "          '5_prime_UTR_variant': 2,\n",
       "          'intron_variant': 2,\n",
       "          'feature_elongation': 1,\n",
       "          'transcript_ablation': 1}),\n",
       " 'NM_013275.6': Counter({'frameshift_variant': 3,\n",
       "          'stop_gained': 1,\n",
       "          'coding_sequence_variant': 1,\n",
       "          '5_prime_UTR_variant': 2,\n",
       "          'intron_variant': 2,\n",
       "          'feature_elongation': 1,\n",
       "          'transcript_ablation': 1}),\n",
       " 'NM_003119.4': Counter({'coding_sequence_variant': 1,\n",
       "          '5_prime_UTR_variant': 1,\n",
       "          'intron_variant': 1,\n",
       "          'feature_truncation': 1,\n",
       "          'transcript_amplification': 1}),\n",
       " 'NM_001363850.1': Counter({'coding_sequence_variant': 1,\n",
       "          '5_prime_UTR_variant': 1,\n",
       "          'intron_variant': 1,\n",
       "          'feature_truncation': 1,\n",
       "          'transcript_amplification': 1}),\n",
       " 'NM_153636.3': Counter({'coding_sequence_variant': 1,\n",
       "          '5_prime_UTR_variant': 1,\n",
       "          'intron_variant': 1}),\n",
       " 'NM_001256183.2': Counter({'frameshift_variant': 3,\n",
       "          'stop_gained': 1,\n",
       "          'coding_sequence_variant': 1,\n",
       "          '5_prime_UTR_variant': 2,\n",
       "          'intron_variant': 2,\n",
       "          'feature_elongation': 1,\n",
       "          'transcript_ablation': 1}),\n",
       " 'NM_199367.3': Counter({'coding_sequence_variant': 1,\n",
       "          '5_prime_UTR_variant': 1,\n",
       "          'intron_variant': 1,\n",
       "          'feature_truncation': 1,\n",
       "          'transcript_amplification': 1}),\n",
       " 'NM_014427.5': Counter({'coding_sequence_variant': 1,\n",
       "          '5_prime_UTR_variant': 1,\n",
       "          'intron_variant': 1})}"
      ]
     },
     "execution_count": 13,
     "metadata": {},
     "output_type": "execute_result"
    }
   ],
   "source": [
    "patientCohort.list_vartypes_by_tx()"
   ]
  },
  {
   "cell_type": "code",
   "execution_count": null,
   "id": "02a8725e",
   "metadata": {},
   "outputs": [],
   "source": []
  }
 ],
 "metadata": {
  "kernelspec": {
   "display_name": "enviro",
   "language": "python",
   "name": "enviro"
  },
  "language_info": {
   "codemirror_mode": {
    "name": "ipython",
    "version": 3
   },
   "file_extension": ".py",
   "mimetype": "text/x-python",
   "name": "python",
   "nbconvert_exporter": "python",
   "pygments_lexer": "ipython3",
   "version": "3.10.10"
  }
 },
 "nbformat": 4,
 "nbformat_minor": 5
}
