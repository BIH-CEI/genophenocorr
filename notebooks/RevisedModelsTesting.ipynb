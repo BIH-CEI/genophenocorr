{
 "cells": [
  {
   "cell_type": "code",
   "execution_count": 1,
   "id": "bede4ebb",
   "metadata": {},
   "outputs": [],
   "source": [
    "import typing\n",
    "\n",
    "import hpotk\n",
    "from phenopackets import Phenopacket\n",
    "\n",
    "from genophenocorr.patient import PhenopacketPatientCreator\n",
    "from genophenocorr.phenotype import PhenotypeCreator\n",
    "from genophenocorr.protein import UniprotProteinMetadataService, ProteinAnnotationCache, ProtCachingFunctionalAnnotator\n",
    "from genophenocorr.variant import VarCachingFunctionalAnnotator, VariantAnnotationCache, VepFunctionalAnnotator\n",
    "from genophenocorr.cohort import PhenopacketCohortCreator\n"
   ]
  },
  {
   "cell_type": "code",
   "execution_count": 2,
   "id": "b1d687b0",
   "metadata": {},
   "outputs": [],
   "source": [
    "fpath_hpo = 'hpo_data/hp.json'\n",
    "cache_dir = 'testFiles/annotations'\n",
    "fpath_phenopackets = 'KBG/phenopackets'\n",
    "tx_id = 'NM_013275.6'\n",
    "protein_id = 'Q15327'"
   ]
  },
  {
   "cell_type": "code",
   "execution_count": 3,
   "id": "43fcbd77",
   "metadata": {},
   "outputs": [],
   "source": [
    "hpo: hpotk.ontology.MinimalOntology = hpotk.ontology.load.obographs.load_minimal_ontology(fpath_hpo)\n",
    "validators = [\n",
    "    hpotk.validate.AnnotationPropagationValidator(hpo),\n",
    "    hpotk.validate.ObsoleteTermIdsValidator(hpo),\n",
    "    hpotk.validate.PhenotypicAbnormalityValidator(hpo)\n",
    "]\n",
    "phenotype_creator = PhenotypeCreator(hpo, hpotk.validate.ValidationRunner(validators))"
   ]
  },
  {
   "cell_type": "code",
   "execution_count": 4,
   "id": "cd86c589",
   "metadata": {},
   "outputs": [],
   "source": [
    "# Functional annotator\n",
    "vac = VariantAnnotationCache(cache_dir)\n",
    "vep = VepFunctionalAnnotator()\n",
    "vfa = VarCachingFunctionalAnnotator(vac, vep)\n",
    "\n",
    "# Protein metadata\n",
    "pm = UniprotProteinMetadataService()\n",
    "pac = ProteinAnnotationCache(cache_dir)\n",
    "pfa = ProtCachingFunctionalAnnotator(pac, pm)\n",
    "\n",
    "# Assemble the patient creator\n",
    "pc = PhenopacketPatientCreator(phenotype_creator, vfa, pfa)"
   ]
  },
  {
   "cell_type": "code",
   "execution_count": 5,
   "id": "a9070350",
   "metadata": {},
   "outputs": [],
   "source": [
    "cc = PhenopacketCohortCreator(pc)"
   ]
  },
  {
   "cell_type": "code",
   "execution_count": 6,
   "id": "62ddfcd6",
   "metadata": {},
   "outputs": [
    {
     "name": "stderr",
     "output_type": "stream",
     "text": [
      "WARNING:genophenocorr.patient._annotators:Expected at least one HPO term per patient, but received none for patient VanDongen2019_P2\n",
      "WARNING:genophenocorr.patient._annotators:Expected at least one HPO term per patient, but received none for patient VanDongen2019_P12\n",
      "WARNING:genophenocorr.patient._annotators:Expected at least one HPO term per patient, but received none for patient Reuter2020\n",
      "WARNING:genophenocorr.patient._annotators:Expected at least one HPO term per patient, but received none for patient Novara, 2017_P10\n",
      "WARNING:genophenocorr.patient._annotators:Expected at least one variant per patient, but received none for patient Parenti2016_P1\n",
      "WARNING:genophenocorr.patient._annotators:Expected at least one HPO term per patient, but received none for patient VanDongen2019_P13\n",
      "WARNING:genophenocorr.patient._annotators:Expected at least one HPO term per patient, but received none for patient VanDongen2019_P8\n",
      "WARNING:genophenocorr.patient._annotators:Expected at least one HPO term per patient, but received none for patient VanDongen2019_P4\n",
      "WARNING:genophenocorr.patient._annotators:Expected at least one HPO term per patient, but received none for patient VanDongen2019_P5\n",
      "WARNING:genophenocorr.patient._annotators:Expected at least one HPO term per patient, but received none for patient KBG31B\n",
      "WARNING:genophenocorr.patient._annotators:Expected at least one HPO term per patient, but received none for patient VanDongen2019_P9\n",
      "WARNING:genophenocorr.patient._annotators:Expected at least one HPO term per patient, but received none for patient VanDongen2019_P7\n",
      "WARNING:genophenocorr.patient._annotators:Expected at least one variant per patient, but received none for patient KBG42\n"
     ]
    }
   ],
   "source": [
    "patientCohort = cc.create_cohort(fpath_phenopackets, tx_id, protein_id)"
   ]
  },
  {
   "cell_type": "code",
   "execution_count": null,
   "id": "36c18803",
   "metadata": {},
   "outputs": [],
   "source": []
  },
  {
   "cell_type": "code",
   "execution_count": null,
   "id": "e4dd0d74",
   "metadata": {},
   "outputs": [],
   "source": []
  }
 ],
 "metadata": {
  "kernelspec": {
   "display_name": "enviro",
   "language": "python",
   "name": "enviro"
  },
  "language_info": {
   "codemirror_mode": {
    "name": "ipython",
    "version": 3
   },
   "file_extension": ".py",
   "mimetype": "text/x-python",
   "name": "python",
   "nbconvert_exporter": "python",
   "pygments_lexer": "ipython3",
   "version": "3.10.10"
  }
 },
 "nbformat": 4,
 "nbformat_minor": 5
}
