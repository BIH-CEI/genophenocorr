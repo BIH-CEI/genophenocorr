{
 "cells": [
  {
   "cell_type": "code",
   "execution_count": 1,
   "id": "8e0880e6",
   "metadata": {},
   "outputs": [],
   "source": [
    "import hpotk\n",
    "hpo = hpotk.ontology.load.obographs.load_minimal_ontology('../docs/data/hp.toy.json')"
   ]
  },
  {
   "cell_type": "code",
   "execution_count": 2,
   "id": "ae6b0807",
   "metadata": {},
   "outputs": [],
   "source": [
    "from genophenocorr.data import get_toy_cohort\n",
    "cohort = get_toy_cohort()"
   ]
  },
  {
   "cell_type": "code",
   "execution_count": 29,
   "id": "2a2557f6",
   "metadata": {},
   "outputs": [
    {
     "name": "stdout",
     "output_type": "stream",
     "text": [
      "['A', 'B', 'C', 'D', 'E', 'F', 'G', 'H', 'I', 'J', 'K', 'L', 'M', 'N', 'O', 'P', 'Q', 'R', 'S', 'T', 'U', 'V', 'W', 'X', 'Y', 'Z']\n"
     ]
    }
   ],
   "source": [
    "all_pats = cohort.list_all_patients()\n",
    "print(sorted(all_pats))"
   ]
  },
  {
   "cell_type": "code",
   "execution_count": 30,
   "id": "b98a32c2",
   "metadata": {},
   "outputs": [
    {
     "data": {
      "text/plain": [
       "[('HP:0001166', 14), ('HP:0001250', 20), ('HP:0001257', 17)]"
      ]
     },
     "execution_count": 30,
     "metadata": {},
     "output_type": "execute_result"
    }
   ],
   "source": [
    "sorted(cohort.list_all_phenotypes())"
   ]
  },
  {
   "cell_type": "code",
   "execution_count": 31,
   "id": "412aba34",
   "metadata": {},
   "outputs": [
    {
     "data": {
      "text/plain": [
       "[('HetVar1', 13), ('HetVar2', 11), ('HomVar1', 3), ('HomVar2', 2)]"
      ]
     },
     "execution_count": 31,
     "metadata": {},
     "output_type": "execute_result"
    }
   ],
   "source": [
    "sorted(cohort.list_all_variants())"
   ]
  },
  {
   "cell_type": "code",
   "execution_count": 32,
   "id": "f84e786f",
   "metadata": {},
   "outputs": [
    {
     "data": {
      "text/plain": [
       "[('NP_09876.5', 26)]"
      ]
     },
     "execution_count": 32,
     "metadata": {},
     "output_type": "execute_result"
    }
   ],
   "source": [
    "sorted(cohort.list_all_proteins())"
   ]
  },
  {
   "cell_type": "code",
   "execution_count": 36,
   "id": "f4ef13a8",
   "metadata": {},
   "outputs": [
    {
     "data": {
      "text/plain": [
       "[('frameshift_variant', 2), ('missense_variant', 2)]"
      ]
     },
     "execution_count": 36,
     "metadata": {},
     "output_type": "execute_result"
    }
   ],
   "source": [
    "tx_dict = cohort.list_data_by_tx('NM_1234.5')\n",
    "sorted(tx_dict['NM_1234.5'].items())"
   ]
  },
  {
   "cell_type": "code",
   "execution_count": 7,
   "id": "06812e4a",
   "metadata": {},
   "outputs": [],
   "source": [
    "from genophenocorr.cohort import CohortViewer"
   ]
  },
  {
   "cell_type": "code",
   "execution_count": 8,
   "id": "a9822dd8",
   "metadata": {},
   "outputs": [
    {
     "name": "stdout",
     "output_type": "stream",
     "text": [
      "<table>\n",
      "<tr><td>HPO Term</td><td>Count</td></tr>\n",
      "<tr><td><a href=\"https://hpo.jax.org/app/browse/term/HP:0001250\">Seizure (HP:0001250)</a></td><td>20</td></tr>\n",
      "<tr><td><a href=\"https://hpo.jax.org/app/browse/term/HP:0001257\">Spasticity (HP:0001257)</a></td><td>17</td></tr>\n",
      "<tr><td><a href=\"https://hpo.jax.org/app/browse/term/HP:0001166\">Arachnodactyly (HP:0001166)</a></td><td>14</td></tr>\n",
      "</table>\n"
     ]
    }
   ],
   "source": [
    "cv = CohortViewer(cohort=cohort, hpo=hpo)\n",
    "print(cv.hpo_term_counts_table())"
   ]
  },
  {
   "cell_type": "code",
   "execution_count": 9,
   "id": "ac65dd8a",
   "metadata": {},
   "outputs": [],
   "source": [
    "from genophenocorr.cohort import CohortAnalysis"
   ]
  },
  {
   "cell_type": "code",
   "execution_count": 10,
   "id": "0a0f5f8d",
   "metadata": {},
   "outputs": [],
   "source": [
    "ca = CohortAnalysis(cohort, 'NM_1234.5', hpo, include_unmeasured=False)"
   ]
  },
  {
   "cell_type": "code",
   "execution_count": 11,
   "id": "4faf7a0a",
   "metadata": {},
   "outputs": [],
   "source": [
    "from genophenocorr.constants import VariantEffect"
   ]
  },
  {
   "cell_type": "code",
   "execution_count": 38,
   "id": "521fd7b8",
   "metadata": {},
   "outputs": [
    {
     "data": {
      "text/html": [
       "<div>\n",
       "<style scoped>\n",
       "    .dataframe tbody tr th:only-of-type {\n",
       "        vertical-align: middle;\n",
       "    }\n",
       "\n",
       "    .dataframe tbody tr th {\n",
       "        vertical-align: top;\n",
       "    }\n",
       "\n",
       "    .dataframe thead tr th {\n",
       "        text-align: left;\n",
       "    }\n",
       "</style>\n",
       "<table border=\"1\" class=\"dataframe\">\n",
       "  <thead>\n",
       "    <tr>\n",
       "      <th></th>\n",
       "      <th colspan=\"2\" halign=\"left\">With frameshift_variant</th>\n",
       "      <th colspan=\"2\" halign=\"left\">Without frameshift_variant</th>\n",
       "      <th></th>\n",
       "    </tr>\n",
       "    <tr>\n",
       "      <th></th>\n",
       "      <th>Count</th>\n",
       "      <th>Percent</th>\n",
       "      <th>Count</th>\n",
       "      <th>Percent</th>\n",
       "      <th>p-value</th>\n",
       "    </tr>\n",
       "  </thead>\n",
       "  <tbody>\n",
       "    <tr>\n",
       "      <th>HP:0001166 (Arachnodactyly)</th>\n",
       "      <td>4</td>\n",
       "      <td>30.77%</td>\n",
       "      <td>10</td>\n",
       "      <td>76.92%</td>\n",
       "      <td>0.04718</td>\n",
       "    </tr>\n",
       "    <tr>\n",
       "      <th>HP:0001250 (Seizure)</th>\n",
       "      <td>11</td>\n",
       "      <td>84.62%</td>\n",
       "      <td>9</td>\n",
       "      <td>69.23%</td>\n",
       "      <td>0.64472</td>\n",
       "    </tr>\n",
       "    <tr>\n",
       "      <th>HP:0001257 (Spasticity)</th>\n",
       "      <td>8</td>\n",
       "      <td>61.54%</td>\n",
       "      <td>9</td>\n",
       "      <td>69.23%</td>\n",
       "      <td>1.00000</td>\n",
       "    </tr>\n",
       "  </tbody>\n",
       "</table>\n",
       "</div>"
      ],
      "text/plain": [
       "                            With frameshift_variant          \\\n",
       "                                              Count Percent   \n",
       "HP:0001166 (Arachnodactyly)                       4  30.77%   \n",
       "HP:0001250 (Seizure)                             11  84.62%   \n",
       "HP:0001257 (Spasticity)                           8  61.54%   \n",
       "\n",
       "                            Without frameshift_variant                   \n",
       "                                                 Count Percent  p-value  \n",
       "HP:0001166 (Arachnodactyly)                         10  76.92%  0.04718  \n",
       "HP:0001250 (Seizure)                                 9  69.23%  0.64472  \n",
       "HP:0001257 (Spasticity)                              9  69.23%  1.00000  "
      ]
     },
     "execution_count": 38,
     "metadata": {},
     "output_type": "execute_result"
    }
   ],
   "source": [
    "ca.compare_by_variant_type(VariantEffect.FRAMESHIFT_VARIANT)"
   ]
  },
  {
   "cell_type": "code",
   "execution_count": 15,
   "id": "28b543c2",
   "metadata": {},
   "outputs": [
    {
     "data": {
      "text/html": [
       "<div>\n",
       "<style scoped>\n",
       "    .dataframe tbody tr th:only-of-type {\n",
       "        vertical-align: middle;\n",
       "    }\n",
       "\n",
       "    .dataframe tbody tr th {\n",
       "        vertical-align: top;\n",
       "    }\n",
       "\n",
       "    .dataframe thead tr th {\n",
       "        text-align: left;\n",
       "    }\n",
       "</style>\n",
       "<table border=\"1\" class=\"dataframe\">\n",
       "  <thead>\n",
       "    <tr>\n",
       "      <th></th>\n",
       "      <th colspan=\"2\" halign=\"left\">With missense_variant</th>\n",
       "      <th colspan=\"2\" halign=\"left\">Without missense_variant</th>\n",
       "      <th></th>\n",
       "    </tr>\n",
       "    <tr>\n",
       "      <th></th>\n",
       "      <th>Count</th>\n",
       "      <th>Percent</th>\n",
       "      <th>Count</th>\n",
       "      <th>Percent</th>\n",
       "      <th>p-value</th>\n",
       "    </tr>\n",
       "  </thead>\n",
       "  <tbody>\n",
       "    <tr>\n",
       "      <th>HP:0001166 (Arachnodactyly)</th>\n",
       "      <td>13</td>\n",
       "      <td>81.25%</td>\n",
       "      <td>1</td>\n",
       "      <td>10.00%</td>\n",
       "      <td>0.000781</td>\n",
       "    </tr>\n",
       "    <tr>\n",
       "      <th>HP:0001257 (Spasticity)</th>\n",
       "      <td>11</td>\n",
       "      <td>68.75%</td>\n",
       "      <td>6</td>\n",
       "      <td>60.00%</td>\n",
       "      <td>0.692449</td>\n",
       "    </tr>\n",
       "    <tr>\n",
       "      <th>HP:0001250 (Seizure)</th>\n",
       "      <td>12</td>\n",
       "      <td>75.00%</td>\n",
       "      <td>8</td>\n",
       "      <td>80.00%</td>\n",
       "      <td>1.000000</td>\n",
       "    </tr>\n",
       "  </tbody>\n",
       "</table>\n",
       "</div>"
      ],
      "text/plain": [
       "                            With missense_variant          \\\n",
       "                                            Count Percent   \n",
       "HP:0001166 (Arachnodactyly)                    13  81.25%   \n",
       "HP:0001257 (Spasticity)                        11  68.75%   \n",
       "HP:0001250 (Seizure)                           12  75.00%   \n",
       "\n",
       "                            Without missense_variant                    \n",
       "                                               Count Percent   p-value  \n",
       "HP:0001166 (Arachnodactyly)                        1  10.00%  0.000781  \n",
       "HP:0001257 (Spasticity)                            6  60.00%  0.692449  \n",
       "HP:0001250 (Seizure)                               8  80.00%  1.000000  "
      ]
     },
     "execution_count": 15,
     "metadata": {},
     "output_type": "execute_result"
    }
   ],
   "source": [
    "ca.compare_by_variant_type(VariantEffect.MISSENSE_VARIANT)"
   ]
  },
  {
   "cell_type": "code",
   "execution_count": 41,
   "id": "9e602e4d",
   "metadata": {},
   "outputs": [
    {
     "name": "stdout",
     "output_type": "stream",
     "text": [
      "Variant(variant_coordinates:VariantCoordinates(chrom=chr1, start=280, end=281, ref=A, alt=G, change_length=0, genotype=homozygous),variant_string:HomVar1,genotype:homozygous,tx_annotations:(TranscriptAnnotation(gene_id:FakeGene,transcript_id:NM_1234.5,hgvsc_id:NM_1234.5:c.180A>G,variant_effects:('missense_variant',),overlapping_exons:(1,),protein_affected:(ProteinMetadata(id=NP_09876.5, label=FakeProtein, features=(SimpleProteinFeature(type=FeatureType.DOMAIN, info=FeatureInfo(name=domain, start=1, end=75)), SimpleProteinFeature(type=FeatureType.REGION, info=FeatureInfo(name=region, start=50, end=100)))),),protein_effect_location:(60, 60)),),variant_class:SNV)\n",
      "Variant(variant_coordinates:VariantCoordinates(chrom=chr1, start=360, end=363, ref=TTC, alt=T, change_length=-2, genotype=homozygous),variant_string:HomVar2,genotype:homozygous,tx_annotations:(TranscriptAnnotation(gene_id:FakeGene,transcript_id:NM_1234.5,hgvsc_id:NM_1234.5:c.261_263del,variant_effects:('frameshift_variant',),overlapping_exons:(2,),protein_affected:(ProteinMetadata(id=NP_09876.5, label=FakeProtein, features=(SimpleProteinFeature(type=FeatureType.DOMAIN, info=FeatureInfo(name=domain, start=1, end=75)), SimpleProteinFeature(type=FeatureType.REGION, info=FeatureInfo(name=region, start=50, end=100)))),),protein_effect_location:(86, 87)),),variant_class:indel)\n",
      "Variant(variant_coordinates:VariantCoordinates(chrom=chr1, start=280, end=281, ref=A, alt=G, change_length=0, genotype=heterozygous),variant_string:HetVar1,genotype:heterozygous,tx_annotations:(TranscriptAnnotation(gene_id:FakeGene,transcript_id:NM_1234.5,hgvsc_id:NM_1234.5:c.180A>G,variant_effects:('missense_variant',),overlapping_exons:(1,),protein_affected:(ProteinMetadata(id=NP_09876.5, label=FakeProtein, features=(SimpleProteinFeature(type=FeatureType.DOMAIN, info=FeatureInfo(name=domain, start=1, end=75)), SimpleProteinFeature(type=FeatureType.REGION, info=FeatureInfo(name=region, start=50, end=100)))),),protein_effect_location:(60, 60)),),variant_class:SNV)\n",
      "Variant(variant_coordinates:VariantCoordinates(chrom=chr1, start=360, end=363, ref=TTC, alt=T, change_length=-2, genotype=heterozygous),variant_string:HetVar2,genotype:heterozygous,tx_annotations:(TranscriptAnnotation(gene_id:FakeGene,transcript_id:NM_1234.5,hgvsc_id:NM_1234.5:c.261_263del,variant_effects:('frameshift_variant',),overlapping_exons:(2,),protein_affected:(ProteinMetadata(id=NP_09876.5, label=FakeProtein, features=(SimpleProteinFeature(type=FeatureType.DOMAIN, info=FeatureInfo(name=domain, start=1, end=75)), SimpleProteinFeature(type=FeatureType.REGION, info=FeatureInfo(name=region, start=50, end=100)))),),protein_effect_location:(86, 87)),),variant_class:indel)\n"
     ]
    }
   ],
   "source": [
    "import pprint\n",
    "for var in cohort.all_variants:\n",
    "    pprint.pprint(var)"
   ]
  },
  {
   "cell_type": "code",
   "execution_count": null,
   "id": "dbe8838f",
   "metadata": {},
   "outputs": [],
   "source": []
  }
 ],
 "metadata": {
  "kernelspec": {
   "display_name": "enviro",
   "language": "python",
   "name": "enviro"
  },
  "language_info": {
   "codemirror_mode": {
    "name": "ipython",
    "version": 3
   },
   "file_extension": ".py",
   "mimetype": "text/x-python",
   "name": "python",
   "nbconvert_exporter": "python",
   "pygments_lexer": "ipython3",
   "version": "3.10.10"
  }
 },
 "nbformat": 4,
 "nbformat_minor": 5
}
