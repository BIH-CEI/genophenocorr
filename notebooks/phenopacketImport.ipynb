{
 "cells": [
  {
   "cell_type": "code",
   "execution_count": 9,
   "id": "9807414e",
   "metadata": {},
   "outputs": [],
   "source": [
    "import phenopackets\n",
    "from os.path import isfile\n",
    "from google.protobuf.json_format import MessageToDict, MessageToJson\n",
    "from google.protobuf.json_format import Parse, ParseDict"
   ]
  },
  {
   "cell_type": "code",
   "execution_count": 2,
   "id": "3179a36a",
   "metadata": {},
   "outputs": [],
   "source": [
    "from phenopackets import Phenopacket"
   ]
  },
  {
   "cell_type": "code",
   "execution_count": 6,
   "id": "b0e95c0e",
   "metadata": {},
   "outputs": [],
   "source": [
    "retinoblastoma = '../phenopackets/retinoblastoma.json'\n",
    "if not isfile(retinoblastoma):\n",
    "    raise FileNotFoundError(\"Could not find phenopacket\")"
   ]
  },
  {
   "cell_type": "code",
   "execution_count": 23,
   "id": "271d8aae",
   "metadata": {},
   "outputs": [],
   "source": [
    "import json\n",
    "\n",
    "#p = json.loads(retinoblastoma)\n",
    "with open(retinoblastoma) as f:\n",
    "    jsondata = f.read()\n",
    "\n",
    "#print(jsondata)\n",
    "phenopacket = ParseDict(json.dumps(jsondata), Phenopacket(), ignore_unknown_fields=True)\n",
    "# or\n",
    "#message = Parse(jsondata, Phenopacket()) "
   ]
  },
  {
   "cell_type": "code",
   "execution_count": 24,
   "id": "6e7e15db",
   "metadata": {},
   "outputs": [
    {
     "data": {
      "text/plain": [
       "True"
      ]
     },
     "execution_count": 24,
     "metadata": {},
     "output_type": "execute_result"
    }
   ],
   "source": [
    "phenopacket.IsInitialized()"
   ]
  },
  {
   "cell_type": "code",
   "execution_count": 26,
   "id": "5c2cce4d",
   "metadata": {},
   "outputs": [
    {
     "name": "stdout",
     "output_type": "stream",
     "text": [
      "\n"
     ]
    }
   ],
   "source": [
    "print(phenopacket.__str__())"
   ]
  },
  {
   "cell_type": "code",
   "execution_count": null,
   "id": "5e9051d5",
   "metadata": {},
   "outputs": [],
   "source": []
  }
 ],
 "metadata": {
  "kernelspec": {
   "display_name": "venv",
   "language": "python",
   "name": "venv"
  },
  "language_info": {
   "codemirror_mode": {
    "name": "ipython",
    "version": 3
   },
   "file_extension": ".py",
   "mimetype": "text/x-python",
   "name": "python",
   "nbconvert_exporter": "python",
   "pygments_lexer": "ipython3",
   "version": "3.10.6"
  }
 },
 "nbformat": 4,
 "nbformat_minor": 5
}
