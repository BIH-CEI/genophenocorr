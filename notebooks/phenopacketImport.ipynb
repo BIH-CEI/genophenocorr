{
 "cells": [
  {
   "cell_type": "code",
   "execution_count": 1,
   "id": "9807414e",
   "metadata": {},
   "outputs": [],
   "source": [
    "import phenopackets\n",
    "from os.path import isfile\n",
    "from google.protobuf.json_format import MessageToDict, MessageToJson\n",
    "from google.protobuf.json_format import Parse, ParseDict"
   ]
  },
  {
   "cell_type": "code",
   "execution_count": 2,
   "id": "3179a36a",
   "metadata": {},
   "outputs": [],
   "source": [
    "from phenopackets import Phenopacket"
   ]
  },
  {
   "cell_type": "code",
   "execution_count": 3,
   "id": "b0e95c0e",
   "metadata": {},
   "outputs": [],
   "source": [
    "retinoblastoma = '../phenopackets/retinoblastoma.json'\n",
    "nemalineMyopathy = 'testFiles/nemalineMyopathy.json'\n",
    "if not isfile(retinoblastoma):\n",
    "    raise FileNotFoundError(\"Could not find phenopacket\")"
   ]
  },
  {
   "cell_type": "code",
   "execution_count": 4,
   "id": "1772bdb8",
   "metadata": {},
   "outputs": [],
   "source": [
    "import json\n",
    "\n",
    "with open(nemalineMyopathy) as f:\n",
    "    data = f.read()\n",
    "jsondata = json.loads(data)\n",
    "\n",
    "NMphenopacket = Parse(json.dumps(jsondata), Phenopacket())"
   ]
  },
  {
   "cell_type": "code",
   "execution_count": null,
   "id": "271d8aae",
   "metadata": {},
   "outputs": [],
   "source": [
    "with open(retinoblastoma) as f:\n",
    "    data = f.read()\n",
    "jsondata = json.loads(data)\n",
    "#print(jsondata.)\n",
    "RBphenopacket = Parse(json.dumps(jsondata), Phenopacket())\n",
    "# or\n",
    "#message = Parse(jsondata, Phenopacket()) "
   ]
  },
  {
   "cell_type": "code",
   "execution_count": null,
   "id": "6e7e15db",
   "metadata": {},
   "outputs": [],
   "source": [
    "NMphenopacket.IsInitialized()"
   ]
  },
  {
   "cell_type": "code",
   "execution_count": null,
   "id": "5c2cce4d",
   "metadata": {},
   "outputs": [],
   "source": [
    "print(NMphenopacket.__str__())"
   ]
  },
  {
   "cell_type": "code",
   "execution_count": null,
   "id": "5e9051d5",
   "metadata": {},
   "outputs": [],
   "source": []
  }
 ],
 "metadata": {
  "kernelspec": {
   "display_name": "enviro",
   "language": "python",
   "name": "enviro"
  },
  "language_info": {
   "codemirror_mode": {
    "name": "ipython",
    "version": 3
   },
   "file_extension": ".py",
   "mimetype": "text/x-python",
   "name": "python",
   "nbconvert_exporter": "python",
   "pygments_lexer": "ipython3",
   "version": "3.9.14"
  }
 },
 "nbformat": 4,
 "nbformat_minor": 5
}
