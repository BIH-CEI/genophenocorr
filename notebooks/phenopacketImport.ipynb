{
 "cells": [
  {
   "cell_type": "code",
   "execution_count": null,
   "id": "9807414e",
   "metadata": {},
   "outputs": [],
   "source": [
    "import phenopackets\n",
    "from os.path import isfile\n",
    "from google.protobuf.json_format import MessageToDict, MessageToJson\n",
    "from google.protobuf.json_format import Parse, ParseDict"
   ]
  },
  {
   "cell_type": "code",
   "execution_count": null,
   "id": "3179a36a",
   "metadata": {},
   "outputs": [],
   "source": [
    "from phenopackets import Phenopacket\n",
    "import varcode as vc\n",
    "import myvariant as mv\n",
    "import numpy as np\n",
    "import pyensembl"
   ]
  },
  {
   "cell_type": "code",
   "execution_count": null,
   "id": "b0e95c0e",
   "metadata": {},
   "outputs": [],
   "source": [
    "retinoblastoma = '../phenopackets/retinoblastoma.json'\n",
    "nemalineMyopathy = '../phenopackets/nemalineMyopathy.json'\n",
    "if not isfile(retinoblastoma):\n",
    "    raise FileNotFoundError(\"Could not find phenopacket\")"
   ]
  },
  {
   "cell_type": "code",
   "execution_count": null,
   "id": "ba43f5f6",
   "metadata": {},
   "outputs": [],
   "source": [
    "import json\n",
    "\n",
    "with open(nemalineMyopathy) as f:\n",
    "    data = f.read()\n",
    "jsondata = json.loads(data)\n",
    "\n",
    "NMphenopacket = Parse(json.dumps(jsondata), Phenopacket())"
   ]
  },
  {
   "cell_type": "code",
   "execution_count": null,
   "id": "271d8aae",
   "metadata": {},
   "outputs": [],
   "source": [
    "with open(retinoblastoma) as f:\n",
    "    data = f.read()\n",
    "jsondata = json.loads(data)\n",
    "\n",
    "RBphenopacket = Parse(json.dumps(jsondata), Phenopacket())"
   ]
  },
  {
   "cell_type": "code",
   "execution_count": null,
   "id": "5e9051d5",
   "metadata": {},
   "outputs": [],
   "source": [
    "NMphenopacket.phenotypic_features"
   ]
  },
  {
   "cell_type": "code",
   "execution_count": null,
   "id": "24011177",
   "metadata": {},
   "outputs": [],
   "source": [
    "RBphenopacket.phenotypic_features"
   ]
  },
  {
   "cell_type": "code",
   "execution_count": null,
   "id": "befffefb",
   "metadata": {},
   "outputs": [],
   "source": [
    "class Patient:\n",
    "    def __init__(self, phenopack):\n",
    "        if not isinstance(phenopack, Phenopacket):\n",
    "            raise ValueError(\"Must be given a Phenopacket\")\n",
    "        self._phenopack = phenopack\n",
    "        self._phenotype = self.get_hpids()\n",
    "        self._genotype = self.get_variants()\n",
    "    \n",
    "    def get_hpids(self):\n",
    "        hp_ids = [x.type for x in self._phenopack.phenotypic_features if not x.excluded]\n",
    "        return hp_ids\n",
    "    \n",
    "    def get_variants(self):\n",
    "        interp = self._phenopack.interpretations[0]\n",
    "        contig = []\n",
    "        start = []\n",
    "        ref = []\n",
    "        alt = []\n",
    "        VarientInfo = mv.MyVariantInfo()\n",
    "\n",
    "        for i in interp.diagnosis.genomic_interpretations:\n",
    "            var_des = i.variant_interpretation.variation_descriptor\n",
    "            newVal = VarientInfo.getvariant(var_des.id, assembly='hg38')\n",
    "            contig.append(newVal[0].get('chrom'))\n",
    "            ref.append(newVal[0].get('vcf').get('ref'))\n",
    "            alt.append(newVal[0].get('vcf').get('alt'))\n",
    "            start.append(newVal[0].get('vcf').get('position'))\n",
    "        \n",
    "        myVars = []\n",
    "        for i in range(len(contig)):\n",
    "            myVar = vc.Variant(contig[i], start[i], ref[i], alt[i], ensembl = pyensembl.ensembl_grch38)\n",
    "            myVars.append(myVar)\n",
    "        return myVars\n",
    "    \n",
    "    def get_phenopacket(self):\n",
    "        return self._phenopack\n",
    "    def get_phenotypes(self):\n",
    "        return self._phenotype\n",
    "    def get_genotypes(self):\n",
    "        geno = []\n",
    "        for i in self._genotype:\n",
    "            geno.append(i.short_description)\n",
    "        return geno\n",
    "    def get_var_type(self):\n",
    "        effects = []\n",
    "        for i in self._genotype:\n",
    "            effects.append(i.effects())\n",
    "        return effects\n",
    "    #def is_missense(self): TODO\n",
    "        \n",
    "        "
   ]
  },
  {
   "cell_type": "code",
   "execution_count": null,
   "id": "d144be2d",
   "metadata": {},
   "outputs": [],
   "source": [
    "newPat = Patient(NMphenopacket)"
   ]
  },
  {
   "cell_type": "code",
   "execution_count": null,
   "id": "b4f55c1a",
   "metadata": {},
   "outputs": [],
   "source": [
    "newPat.get_var_type()"
   ]
  },
  {
   "cell_type": "code",
   "execution_count": null,
   "id": "d121827a",
   "metadata": {},
   "outputs": [],
   "source": []
  }
 ],
 "metadata": {
  "kernelspec": {
   "display_name": "enviro",
   "language": "python",
   "name": "enviro"
  },
  "language_info": {
   "codemirror_mode": {
    "name": "ipython",
    "version": 3
   },
   "file_extension": ".py",
   "mimetype": "text/x-python",
   "name": "python",
   "nbconvert_exporter": "python",
   "pygments_lexer": "ipython3",
   "version": "3.9.14"
  }
 },
 "nbformat": 4,
 "nbformat_minor": 5
}
