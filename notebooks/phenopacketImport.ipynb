{
 "cells": [
  {
   "cell_type": "code",
   "execution_count": null,
   "id": "9807414e",
   "metadata": {},
   "outputs": [],
   "source": [
    "import phenopackets\n",
    "import os\n",
    "from os.path import isfile\n",
    "from google.protobuf.json_format import MessageToDict, MessageToJson\n",
    "from google.protobuf.json_format import Parse, ParseDict"
   ]
  },
  {
   "cell_type": "code",
   "execution_count": null,
   "id": "3179a36a",
   "metadata": {},
   "outputs": [],
   "source": [
    "from phenopackets import Phenopacket\n",
    "import varcode as vc\n",
    "import myvariant as mv\n",
    "import numpy as np\n",
    "import pyensembl\n",
    "import glob\n",
    "import pandas as pd\n",
    "from collections import defaultdict"
   ]
  },
  {
   "cell_type": "code",
   "execution_count": null,
   "id": "b0e95c0e",
   "metadata": {},
   "outputs": [],
   "source": [
    "retinoblastoma = '../phenopackets/retinoblastoma.json'\n",
    "nemalineMyopathy = '../phenopackets/nemalineMyopathy.json'\n",
    "if not isfile(retinoblastoma):\n",
    "    raise FileNotFoundError(\"Could not find phenopacket\")"
   ]
  },
  {
   "cell_type": "code",
   "execution_count": null,
   "id": "ba43f5f6",
   "metadata": {},
   "outputs": [],
   "source": [
    "import json\n",
    "\n",
    "with open(nemalineMyopathy) as f:\n",
    "    data = f.read()\n",
    "jsondata = json.loads(data)\n",
    "\n",
    "NMphenopacket = Parse(json.dumps(jsondata), Phenopacket())"
   ]
  },
  {
   "cell_type": "code",
   "execution_count": null,
   "id": "271d8aae",
   "metadata": {},
   "outputs": [],
   "source": [
    "with open(retinoblastoma) as f:\n",
    "    data = f.read()\n",
    "jsondata = json.loads(data)\n",
    "\n",
    "RBphenopacket = Parse(json.dumps(jsondata), Phenopacket())"
   ]
  },
  {
   "cell_type": "code",
   "execution_count": null,
   "id": "5e9051d5",
   "metadata": {},
   "outputs": [],
   "source": [
    "NMphenopacket.id"
   ]
  },
  {
   "cell_type": "code",
   "execution_count": null,
   "id": "24011177",
   "metadata": {},
   "outputs": [],
   "source": [
    "RBphenopacket"
   ]
  },
  {
   "cell_type": "code",
   "execution_count": null,
   "id": "befffefb",
   "metadata": {},
   "outputs": [],
   "source": [
    "class Patient:\n",
    "    def __init__(self, phenopackJson):\n",
    "        if not isfile(phenopackJson):\n",
    "            raise FileNotFoundError(\"Could not find phenopacket\")\n",
    "            \n",
    "        with open(phenopackJson) as f:\n",
    "            data = f.read()\n",
    "        jsondata = json.loads(data)\n",
    "        phenopack = Parse(json.dumps(jsondata), Phenopacket())\n",
    "        \n",
    "        self._phenopack = phenopack\n",
    "        self._phenotype = self.__get_hpids()\n",
    "        self._genotype = []\n",
    "        if len(phenopack.interpretations) != 0:\n",
    "            for i in range(len(phenopack.interpretations)):\n",
    "                print(i)\n",
    "                self._genotype.append(self.__get_variants(i))\n",
    "        else:\n",
    "            print('No interpretations found')\n",
    "            self._genotype = None\n",
    "                \n",
    "        \n",
    "    \n",
    "    def __get_hpids(self):\n",
    "        hp_ids = [x.type for x in self._phenopack.phenotypic_features if not x.excluded]\n",
    "        return hp_ids\n",
    "    \n",
    "    def __get_variants(self, n):\n",
    "        interp = self._phenopack.interpretations[n] ##Check for more than 1 interpretation\n",
    "        contig = []\n",
    "        start = []\n",
    "        ref = []\n",
    "        alt = []\n",
    "\n",
    "        for i in interp.diagnosis.genomic_interpretations:\n",
    "            try:\n",
    "                var_des = i.variant_interpretation.variation_descriptor.vcf_record\n",
    "                contig.append(int(var_des.chrom.split('_')[1].split('.')[0]))\n",
    "                ref.append(var_des.ref)\n",
    "                alt.append(var_des.alt)\n",
    "                start.append(var_des.pos)\n",
    "            except:\n",
    "                print(\"Error with Variant\")\n",
    "                print(i.variant_interpretation.variation_descriptor)\n",
    "                continue\n",
    "        \n",
    "        myVars = []\n",
    "        for i in range(len(contig)):\n",
    "            myVar = vc.Variant(str(contig[i]), start[i], ref[i], alt[i], ensembl = pyensembl.ensembl_grch38)\n",
    "            myVars.append(myVar)\n",
    "        return myVars\n",
    "    \n",
    "    @property\n",
    "    def get_phenopacket(self):\n",
    "        return self._phenopack\n",
    "    \n",
    "    @property\n",
    "    def get_phenotypes(self):\n",
    "        return self._phenotype\n",
    "    \n",
    "    @property\n",
    "    def get_genotypes(self):\n",
    "        geno = []\n",
    "        if self._genotype == None:\n",
    "            return None\n",
    "        for i in self._genotype:\n",
    "            for e in i:\n",
    "                geno.append(e.short_description)\n",
    "        return geno\n",
    "    \n",
    "    @property\n",
    "    def get_var_effects(self):\n",
    "        if self._genotype == None:\n",
    "            return None\n",
    "        effected = []\n",
    "        for i in self._genotype:\n",
    "            for e in i:\n",
    "                effected.extend(e.effects().effects)\n",
    "        return effected\n",
    "    \n",
    "    def is_missense(self):\n",
    "        if self._genotype == None:\n",
    "            return None\n",
    "        miss = []\n",
    "        for i in self.get_var_effects:\n",
    "            if i.short_description.endswith(\"*\") or not i.variant.is_snv:\n",
    "                miss.append(False)\n",
    "            else:\n",
    "                miss.append(True)\n",
    "        return miss\n",
    "    \n",
    "    def is_nonsense(self):\n",
    "        if self._genotype == None:\n",
    "            return None\n",
    "        non = []\n",
    "        for i in self.get_var_effects:\n",
    "            if i.short_description.endswith(\"*\") and i.variant.is_snv:\n",
    "                non.append(True)\n",
    "            else:\n",
    "                non.append(False)\n",
    "        return non\n",
    "    \n",
    "    def describe(self):\n",
    "        stats = {\n",
    "            \"ID\": self._phenopack.id,\n",
    "            \"Disease\": self._phenopack.diseases,\n",
    "            \"Phenotypic Features\": self.get_phenotypes,\n",
    "            \"Variants\": self.get_genotypes,\n",
    "            \"Effects of Variants\": self.get_var_effects,\n",
    "            \"Number Missense\": sum(self.is_missense())\n",
    "        }\n",
    "        return stats"
   ]
  },
  {
   "cell_type": "code",
   "execution_count": null,
   "id": "d121827a",
   "metadata": {},
   "outputs": [],
   "source": [
    "newPat2 = Patient('../phenopackets/retinoblastoma.json')"
   ]
  },
  {
   "cell_type": "code",
   "execution_count": null,
   "id": "53aa900b",
   "metadata": {},
   "outputs": [],
   "source": [
    "newPat2.get_var_effects"
   ]
  },
  {
   "cell_type": "code",
   "execution_count": null,
   "id": "299cdcce",
   "metadata": {},
   "outputs": [],
   "source": [
    "allPatients = defaultdict(Patient)\n",
    "\n",
    "for file in glob.glob('../phenopackets/*.json'):\n",
    "    fileName = os.path.basename(file)\n",
    "    print(fileName)\n",
    "    current = Patient(file)\n",
    "    \n",
    "    if current.get_genotypes is not None and len(current.get_genotypes) != 0:\n",
    "        allPatients[fileName] = current\n",
    "    \n",
    "for p in allPatients: print(allPatients[p].describe())"
   ]
  },
  {
   "cell_type": "code",
   "execution_count": null,
   "id": "ee5fd460",
   "metadata": {},
   "outputs": [],
   "source": [
    "class Counts:\n",
    "    def __init__(self, diseaseName):\n",
    "        self._disease = diseaseName.lower()\n",
    "        self._totals = pd.DataFrame(index = [\"Missense\",\"Nonsense\"])\n",
    "    \n",
    "    \n",
    "    def add_patient(self, patient):\n",
    "        if not isinstance(patient, Patient):\n",
    "            raise NotAPatientError(\"ERROR: Input must be of class Patient\")\n",
    "        hasDisease = False\n",
    "        for d in patient.describe()[\"Disease\"]:\n",
    "            if d.term.label.lower() == self._disease:\n",
    "                hasDisease = True\n",
    "        if not hasDisease:\n",
    "            raise DoesNotHaveDiseaseError(\"ERROR: This patient does not have disease - \" + self._disease)\n",
    "        \n",
    "        for p in patient.get_phenotypes:\n",
    "            if p.id not in self._totals.columns:\n",
    "                self._totals[p.id] = 0\n",
    "            miss = sum(patient.is_missense())\n",
    "            nons = sum(patient.is_nonsense())\n",
    "            self._totals.at[\"Missense\", p.id] += miss\n",
    "            self._totals.at[\"Nonsense\", p.id] += nons\n",
    "        return self._totals\n",
    "\n"
   ]
  },
  {
   "cell_type": "code",
   "execution_count": null,
   "id": "8878dc33",
   "metadata": {},
   "outputs": [],
   "source": [
    "totalRetinal = Counts('Retinoblastoma')"
   ]
  },
  {
   "cell_type": "code",
   "execution_count": null,
   "id": "928873a2",
   "metadata": {},
   "outputs": [],
   "source": [
    "totalRetinal.add_patient(allPatients['retinoblastoma.json'])"
   ]
  },
  {
   "cell_type": "code",
   "execution_count": null,
   "id": "9f2fe4ba",
   "metadata": {},
   "outputs": [],
   "source": []
  }
 ],
 "metadata": {
  "kernelspec": {
   "display_name": "enviro",
   "language": "python",
   "name": "enviro"
  },
  "language_info": {
   "codemirror_mode": {
    "name": "ipython",
    "version": 3
   },
   "file_extension": ".py",
   "mimetype": "text/x-python",
   "name": "python",
   "nbconvert_exporter": "python",
   "pygments_lexer": "ipython3",
   "version": "3.9.14"
  }
 },
 "nbformat": 4,
 "nbformat_minor": 5
}
