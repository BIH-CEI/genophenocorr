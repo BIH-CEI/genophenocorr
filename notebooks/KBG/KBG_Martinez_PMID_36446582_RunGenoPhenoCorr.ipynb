{
 "cells": [
  {
   "cell_type": "markdown",
   "id": "9443554a",
   "metadata": {},
   "source": [
    "<h1>KBG Syndrome</h1>\n",
    "<p>Data from <a href=\"https://pubmed.ncbi.nlm.nih.gov/36446582/\" target=\"__blank\">Martinez-Cayuelas E, et al. Clinical description, molecular delineation and genotype-phenotype correlation in 340 patients with KBG syndrome: addition of 67 new patients. J Med Genet. 2022 Nov 29:jmedgenet-2022-108632. PMID: 36446582.</a>.</p>"
   ]
  },
  {
   "cell_type": "code",
   "execution_count": 1,
   "id": "bede4ebb",
   "metadata": {},
   "outputs": [],
   "source": [
    "import os\n",
    "import hpotk"
   ]
  },
  {
   "cell_type": "code",
   "execution_count": 2,
   "id": "ef0d35de",
   "metadata": {},
   "outputs": [],
   "source": [
    "from genophenocorr.preprocessing import configure_caching_patient_creator"
   ]
  },
  {
   "cell_type": "code",
   "execution_count": 3,
   "id": "b1d687b0",
   "metadata": {},
   "outputs": [],
   "source": [
    "fpath_hpo = 'hpo_data/hp.json'\n",
    "cache_dir = 'annotations'\n",
    "fpath_phenopackets = 'phenopackets'\n",
    "tx_id = 'NM_013275.6'\n"
   ]
  },
  {
   "cell_type": "code",
   "execution_count": 4,
   "id": "43fcbd77",
   "metadata": {},
   "outputs": [],
   "source": [
    "hpo: hpotk.ontology.Ontology = hpotk.ontology.load.obographs.load_ontology(fpath_hpo)"
   ]
  },
  {
   "cell_type": "code",
   "execution_count": 5,
   "id": "9cbd5776",
   "metadata": {},
   "outputs": [],
   "source": [
    "pc = configure_caching_patient_creator(hpo, cache_dir = cache_dir)"
   ]
  },
  {
   "cell_type": "code",
   "execution_count": 6,
   "id": "89e48954",
   "metadata": {},
   "outputs": [],
   "source": [
    "from genophenocorr.preprocessing import load_phenopacket_folder"
   ]
  },
  {
   "cell_type": "code",
   "execution_count": 7,
   "id": "62ddfcd6",
   "metadata": {
    "scrolled": true
   },
   "outputs": [
    {
     "name": "stderr",
     "output_type": "stream",
     "text": [
      "Expected at least one variant per patient, but received none for patient Parenti2016_P1\n",
      "Expected at least one variant per patient, but received none for patient Low, 2016_P7 (8)\n",
      "Expected at least one variant per patient, but received none for patient KBG42\n"
     ]
    }
   ],
   "source": [
    "patientCohort = load_phenopacket_folder(fpath_phenopackets, pc)"
   ]
  },
  {
   "cell_type": "code",
   "execution_count": 8,
   "id": "e6c58342",
   "metadata": {},
   "outputs": [],
   "source": [
    "from IPython.display import HTML, display\n",
    "from genophenocorr.view import CohortViewer\n",
    "\n",
    "viewer = CohortViewer(hpo)"
   ]
  },
  {
   "cell_type": "code",
   "execution_count": 9,
   "id": "8c40d2fb",
   "metadata": {},
   "outputs": [
    {
     "data": {
      "text/html": [
       "<style>\n",
       "\n",
       "table {\n",
       "  border-collapse: collapse; \n",
       "  margin: 25px 0;\n",
       "    font-size: 0.9em;\n",
       "    font-family: sans-serif;\n",
       "    min-width: 400px;\n",
       "    box-shadow: 0 0 20px rgba(0, 0, 0, 0.15);\n",
       "}\n",
       "\n",
       "\n",
       "th {\n",
       "  background-color: #f2f2f2; \n",
       "  border: 1px solid #dddddd; \n",
       "  text-align: left;\n",
       "  padding: 2px;\n",
       "}\n",
       "\n",
       "tr {\n",
       "  border: 1px solid #dddddd; \n",
       "}\n",
       "\n",
       "td {\n",
       "  padding: 2px; \n",
       "  font-weight: bold;\n",
       "}\n",
       "\n",
       "tr:nth-child(even) {\n",
       "  background-color: #f2f2f2;\n",
       "}\n",
       "</style>\n",
       "\n",
       "<table>\n",
       "<tr><td>Item</td><td>Description</td></tr>\n",
       "<caption>Description of the cohort. 11 individuals were removed from the cohort because they had no HPO terms.</caption>\n",
       "<tr><td>Total Individuals</td><td>340</td></tr>\n",
       "<tr><td>Excluded Individuals</td><td>11: VanDongen2019_P5;Reuter2020;KBG31B;VanDongen2019_P9;VanDongen2019_P2;VanDongen2019_P4;VanDongen2019_P8;VanDongen2019_P12;VanDongen2019_P7;VanDongen2019_P13;Novara, 2017_P10</td></tr>\n",
       "<tr><td>Total Unique HPO Terms</td><td>28</td></tr>\n",
       "<tr><td>Total Unique Variants</td><td>326</td></tr>\n",
       "</table>"
      ],
      "text/plain": [
       "<IPython.core.display.HTML object>"
      ]
     },
     "metadata": {},
     "output_type": "display_data"
    }
   ],
   "source": [
    "display(HTML(viewer.cohort_summary_table(patientCohort)))"
   ]
  },
  {
   "cell_type": "code",
   "execution_count": 10,
   "id": "c39889b9",
   "metadata": {},
   "outputs": [
    {
     "data": {
      "text/html": [
       "<style>\n",
       "\n",
       "table {\n",
       "  border-collapse: collapse; \n",
       "  margin: 25px 0;\n",
       "    font-size: 0.9em;\n",
       "    font-family: sans-serif;\n",
       "    min-width: 400px;\n",
       "    box-shadow: 0 0 20px rgba(0, 0, 0, 0.15);\n",
       "}\n",
       "\n",
       "\n",
       "th {\n",
       "  background-color: #f2f2f2; \n",
       "  border: 1px solid #dddddd; \n",
       "  text-align: left;\n",
       "  padding: 2px;\n",
       "}\n",
       "\n",
       "tr {\n",
       "  border: 1px solid #dddddd; \n",
       "}\n",
       "\n",
       "td {\n",
       "  padding: 2px; \n",
       "  font-weight: bold;\n",
       "}\n",
       "\n",
       "tr:nth-child(even) {\n",
       "  background-color: #f2f2f2;\n",
       "}\n",
       "</style>\n",
       "\n",
       "<table>\n",
       "<tr><td>HPO Term</td><td>Count</td></tr>\n",
       "<caption>Counts of annotations to HPO terms for the 340 in the cohort</caption>\n",
       "<tr><td><a href=\"https://hpo.jax.org/app/browse/term/HP:0006482\">Abnormality of dental morphology (HP:0006482)</a></td><td>224</td></tr>\n",
       "<tr><td><a href=\"https://hpo.jax.org/app/browse/term/HP:0011446\">Abnormality of higher mental function (HP:0011446)</a></td><td>220</td></tr>\n",
       "<tr><td><a href=\"https://hpo.jax.org/app/browse/term/HP:0001249\">Intellectual disability (HP:0001249)</a></td><td>194</td></tr>\n",
       "<tr><td><a href=\"https://hpo.jax.org/app/browse/term/HP:0001155\">Abnormality of the hand (HP:0001155)</a></td><td>189</td></tr>\n",
       "<tr><td><a href=\"https://hpo.jax.org/app/browse/term/HP:0012758\">Neurodevelopmental delay (HP:0012758)</a></td><td>176</td></tr>\n",
       "<tr><td><a href=\"https://hpo.jax.org/app/browse/term/HP:0004322\">Short stature (HP:0004322)</a></td><td>150</td></tr>\n",
       "<tr><td><a href=\"https://hpo.jax.org/app/browse/term/HP:0010938\">Abnormal external nose morphology (HP:0010938)</a></td><td>134</td></tr>\n",
       "<tr><td><a href=\"https://hpo.jax.org/app/browse/term/HP:0000534\">Abnormal eyebrow morphology (HP:0000534)</a></td><td>126</td></tr>\n",
       "<tr><td><a href=\"https://hpo.jax.org/app/browse/term/HP:0000343\">Long philtrum (HP:0000343)</a></td><td>121</td></tr>\n",
       "<tr><td><a href=\"https://hpo.jax.org/app/browse/term/HP:0000365\">Hearing impairment (HP:0000365)</a></td><td>97</td></tr>\n",
       "<tr><td><a href=\"https://hpo.jax.org/app/browse/term/HP:0000325\">Triangular face (HP:0000325)</a></td><td>83</td></tr>\n",
       "<tr><td><a href=\"https://hpo.jax.org/app/browse/term/HP:0000356\">Abnormality of the outer ear (HP:0000356)</a></td><td>77</td></tr>\n",
       "<tr><td><a href=\"https://hpo.jax.org/app/browse/term/HP:0007018\">Attention deficit hyperactivity disorder (HP:0007018)</a></td><td>61</td></tr>\n",
       "<tr><td><a href=\"https://hpo.jax.org/app/browse/term/HP:0000729\">Autistic behavior (HP:0000729)</a></td><td>56</td></tr>\n",
       "</table>"
      ],
      "text/plain": [
       "<IPython.core.display.HTML object>"
      ]
     },
     "metadata": {},
     "output_type": "display_data"
    }
   ],
   "source": [
    "display(HTML(viewer.hpo_term_counts_table(patientCohort))) ## Add Labels to output"
   ]
  },
  {
   "cell_type": "code",
   "execution_count": 11,
   "id": "f294ca99",
   "metadata": {},
   "outputs": [
    {
     "name": "stdout",
     "output_type": "stream",
     "text": [
      "[WARN] could not identify a single variant for target transcript (got 0), variant 16_87886395_88066394_DEL\n",
      "c.1903_1907del - 32\n",
      "c.2408_2412del - 10\n",
      "c.1381_1384del - 8\n",
      "c.2398_2401del - 8\n",
      "c.7481_7482insC - 5\n",
      "c.6792_6793insC - 5\n",
      "c.2197C>T - 3\n",
      "c.4406G>A - 3\n",
      "c.1977C>G - 3\n",
      "c.3224_3227del - 3\n",
      "c.2175_2178del - 3\n",
      "c.3832A>T - 3\n",
      "c.2182_2183del - 3\n",
      "c.7570-1G>C - 3\n",
      "c.1367_1370del - 2\n",
      "c.3045del - 2\n",
      "c.3590_3594del - 2\n",
      "c.2329_2332del - 2\n",
      "c.4384_4385insA - 2\n",
      "c.3309_3310insA - 2\n",
      "c.5790C>A - 2\n",
      "c.6513_6514insC - 2\n",
      "c.1385_1388del - 2\n",
      "c.7216C>T - 2\n",
      "c.1318C>T - 2\n",
      "c.5488G>T - 2\n",
      "c.7534C>T - 2\n",
      "c.3704_3707del - 2\n",
      "c.4087C>T - 2\n",
      "c.2512C>T - 1\n",
      "c.4786G>T - 1\n",
      "c.3931C>T - 1\n",
      "c.548_551del - 1\n",
      "NA - 1\n",
      "c.3208_3209del - 1\n",
      "c.2647G>T - 1\n",
      "c.3974del - 1\n",
      "c.7411_7422del - 1\n",
      "c.1460_1463del - 1\n",
      "c.2395A>T - 1\n",
      "c.7552C>T - 1\n",
      "c.4389_4390del - 1\n",
      "c.6472G>T - 1\n",
      "c.7470+2T>C - 1\n",
      "c.915del - 1\n",
      "c.4529_4530insC - 1\n",
      "c.4103_4104del - 1\n",
      "c.5889del - 1\n",
      "c.5146G>T - 1\n",
      "c.3888_3889insC - 1\n",
      "c.7180C>T - 1\n",
      "c.6184del - 1\n",
      "c.3382_3383del - 1\n",
      "c.4408A>T - 1\n",
      "c.3771_3772insA - 1\n",
      "c.4218C>A - 1\n",
      "c.7000C>T - 1\n",
      "c.1893_1894insA - 1\n",
      "c.7471A>C - 1\n",
      "c.6766C>T - 1\n",
      "c.3339G>A - 1\n",
      "c.3437_3461del - 1\n",
      "c.5205del - 1\n",
      "c.4206C>G - 1\n",
      "c.2828_2829del - 1\n",
      "c.3905_3906del - 1\n",
      "c.1389_1390insA - 1\n",
      "c.4964_4965del - 1\n",
      "c.7192C>T - 1\n",
      "c.3180_3181insA - 1\n",
      "c.3046del - 1\n",
      "c.6053_6057del - 1\n",
      "c.6340C>T - 1\n",
      "c.1763C>A - 1\n",
      "c.3582del - 1\n",
      "c.7834G>T - 1\n",
      "c.5274_5275insC - 1\n",
      "c.2765_2766del - 1\n",
      "c.3774_3775del - 1\n",
      "c.3221_3222del - 1\n",
      "c.6409_6410del - 1\n",
      "c.5123C>A - 1\n",
      "c.6364_6367del - 1\n",
      "c.831del - 1\n",
      "c.3334del - 1\n",
      "c.6691_6692insG - 1\n",
      "c.3193A>T - 1\n",
      "c.3591_3594del - 1\n",
      "c.1786delinsTT - 1\n",
      "c.7083del - 1\n",
      "c.5957_5958del - 1\n",
      "c.7535G>A - 1\n",
      "c.211_226+1del - 1\n",
      "c.6682del - 1\n",
      "c.1285_1286del - 1\n",
      "c.1940_1941delinsT - 1\n",
      "c.2367del - 1\n",
      "c.4374_4375del - 1\n",
      "c.1731_1732insT - 1\n",
      "c.7471-1G>C - 1\n",
      "c.3153del - 1\n",
      "c.7356_7357insC - 1\n",
      "c.3460G>T - 1\n",
      "c.2297_2300del - 1\n",
      "c.7363del - 1\n",
      "c.4498C>T - 1\n",
      "c.4107_4108del - 1\n",
      "c.2593_2594insT - 1\n",
      "c.5712_5713insT - 1\n",
      "c.1711_1723del - 1\n",
      "c.2866G>T - 1\n",
      "c.4558del - 1\n",
      "c.2412del - 1\n",
      "c.2692C>T - 1\n",
      "c.6817_6833del - 1\n",
      "c.5426_5430del - 1\n",
      "c.867C>G - 1\n",
      "c.866_867insA - 1\n",
      "c.5199_5227del - 1\n",
      "c.4171C>T - 1\n",
      "c.505G>T - 1\n",
      "c.4391_4392del - 1\n",
      "c.7753C>T - 1\n",
      "c.1846G>T - 1\n",
      "c.5145C>G - 1\n",
      "c.7189C>T - 1\n",
      "c.7407C>G - 1\n",
      "c.3310_3311insG - 1\n",
      "c.2130del - 1\n",
      "c.3295_3296del - 1\n",
      "c.7570_7572del - 1\n",
      "c.6071_6084del - 1\n",
      "c.2650del - 1\n",
      "c.3448C>T - 1\n",
      "c.1173C>G - 1\n",
      "c.5953_5954del - 1\n",
      "c.3198_3199del - 1\n",
      "c.6187G>T - 1\n",
      "c.3123_3126del - 1\n",
      "16_87886395_88066394_DEL - 1\n",
      "c.1801C>T - 1\n",
      "c.1457C>G - 1\n",
      "c.6015_6016insA - 1\n",
      "c.3019C>T - 1\n",
      "c.520C>T - 1\n",
      "c.7607G>A - 1\n",
      "c.2305del - 1\n",
      "c.6628G>T - 1\n",
      "c.6701del - 1\n",
      "c.2751_2752insT - 1\n",
      "c.4528_4529del - 1\n",
      "c.6968_6975del - 1\n",
      "c.3770_3771del - 1\n",
      "c.7416C>G - 1\n",
      "c.4177_4189del - 1\n",
      "c.4283_4286del - 1\n",
      "c.1120G>T - 1\n",
      "c.3222_3223insA - 1\n"
     ]
    },
    {
     "data": {
      "text/html": [
       "<style>\n",
       "\n",
       "table {\n",
       "  border-collapse: collapse; \n",
       "  margin: 25px 0;\n",
       "    font-size: 0.9em;\n",
       "    font-family: sans-serif;\n",
       "    min-width: 400px;\n",
       "    box-shadow: 0 0 20px rgba(0, 0, 0, 0.15);\n",
       "}\n",
       "\n",
       "\n",
       "th {\n",
       "  background-color: #f2f2f2; \n",
       "  border: 1px solid #dddddd; \n",
       "  text-align: left;\n",
       "  padding: 2px;\n",
       "}\n",
       "\n",
       "tr {\n",
       "  border: 1px solid #dddddd; \n",
       "}\n",
       "\n",
       "td {\n",
       "  padding: 2px; \n",
       "  font-weight: bold;\n",
       "}\n",
       "\n",
       "tr:nth-child(even) {\n",
       "  background-color: #f2f2f2;\n",
       "}\n",
       "</style>\n",
       "\n",
       "<table>\n",
       "<tr><td>Variant</td><td>Effect</td><td>Count</td><td>Key</td></tr>\n",
       "<tr><td>c.1903_1907del</td><td>FRAMESHIFT_VARIANT</td><td>32</td><td>16_89284634_89284639_GTGTTT_G</td></tr>\n",
       "<tr><td>c.2408_2412del</td><td>FRAMESHIFT_VARIANT</td><td>10</td><td>16_89284129_89284134_CTTTTT_C</td></tr>\n",
       "<tr><td>c.1381_1384del</td><td>FRAMESHIFT_VARIANT</td><td>8</td><td>16_89285157_89285161_GTTTC_G</td></tr>\n",
       "<tr><td>c.2398_2401del</td><td>FRAMESHIFT_VARIANT</td><td>8</td><td>16_89284140_89284144_TTTTC_T</td></tr>\n",
       "<tr><td>c.7481_7482insC</td><td>FRAMESHIFT_VARIANT</td><td>5</td><td>16_89275180_89275181_A_AG</td></tr>\n",
       "<tr><td>c.6792_6793insC</td><td>FRAMESHIFT_VARIANT</td><td>5</td><td>16_89279749_89279750_C_CG</td></tr>\n",
       "<tr><td>c.2197C>T</td><td>STOP_GAINED</td><td>3</td><td>16_89284345_89284345_G_A</td></tr>\n",
       "<tr><td>c.4406G>A</td><td>STOP_GAINED</td><td>3</td><td>16_89282136_89282136_C_T</td></tr>\n",
       "<tr><td>c.1977C>G</td><td>STOP_GAINED</td><td>3</td><td>16_89284565_89284565_G_C</td></tr>\n",
       "<tr><td>c.3224_3227del</td><td>FRAMESHIFT_VARIANT</td><td>3</td><td>16_89283314_89283318_CCTTT_C</td></tr>\n",
       "<tr><td>c.2175_2178del</td><td>FRAMESHIFT_VARIANT</td><td>3</td><td>16_89284363_89284367_CTTTG_C</td></tr>\n",
       "<tr><td>c.3832A>T</td><td>STOP_GAINED</td><td>3</td><td>16_89282710_89282710_T_A</td></tr>\n",
       "<tr><td>c.2182_2183del</td><td>FRAMESHIFT_VARIANT</td><td>3</td><td>16_89284358_89284360_GAT_G</td></tr>\n",
       "<tr><td>c.7570-1G>C</td><td>SPLICE_ACCEPTOR_VARIANT</td><td>3</td><td>16_89274958_89274958_C_G</td></tr>\n",
       "<tr><td>c.1367_1370del</td><td>FRAMESHIFT_VARIANT</td><td>2</td><td>16_89285171_89285175_CTTCT_C</td></tr>\n",
       "<tr><td>c.3045del</td><td>FRAMESHIFT_VARIANT</td><td>2</td><td>16_89283496_89283497_CG_C</td></tr>\n",
       "<tr><td>c.3590_3594del</td><td>FRAMESHIFT_VARIANT</td><td>2</td><td>16_89282947_89282952_CTTTTT_C</td></tr>\n",
       "<tr><td>c.2329_2332del</td><td>FRAMESHIFT_VARIANT</td><td>2</td><td>16_89284209_89284213_TTCTC_T</td></tr>\n",
       "<tr><td>c.4384_4385insA</td><td>FRAMESHIFT_VARIANT</td><td>2</td><td>16_89282157_89282158_C_CT</td></tr>\n",
       "<tr><td>c.3309_3310insA</td><td>FRAMESHIFT_VARIANT</td><td>2</td><td>16_89283232_89283233_C_CT</td></tr>\n",
       "<tr><td>c.5790C>A</td><td>STOP_GAINED</td><td>2</td><td>16_89280752_89280752_G_T</td></tr>\n",
       "<tr><td>c.6513_6514insC</td><td>FRAMESHIFT_VARIANT</td><td>2</td><td>16_89280028_89280029_C_CG</td></tr>\n",
       "<tr><td>c.1385_1388del</td><td>FRAMESHIFT_VARIANT</td><td>2</td><td>16_89285153_89285157_TTTTG_T</td></tr>\n",
       "<tr><td>c.7216C>T</td><td>STOP_GAINED</td><td>2</td><td>16_89279326_89279326_G_A</td></tr>\n",
       "<tr><td>c.1318C>T</td><td>STOP_GAINED</td><td>2</td><td>16_89285224_89285224_G_A</td></tr>\n",
       "<tr><td>c.5488G>T</td><td>STOP_GAINED</td><td>2</td><td>16_89281054_89281054_C_A</td></tr>\n",
       "<tr><td>c.7534C>T</td><td>MISSENSE_VARIANT</td><td>2</td><td>16_89275128_89275128_G_A</td></tr>\n",
       "<tr><td>c.3704_3707del</td><td>FRAMESHIFT_VARIANT</td><td>2</td><td>16_89282834_89282838_CTGTT_C</td></tr>\n",
       "<tr><td>c.4087C>T</td><td>STOP_GAINED</td><td>2</td><td>16_89282455_89282455_G_A</td></tr>\n",
       "</table>\n",
       "<p>Additionally, the following variants were observed 1 or fewer times: \n",
       "c.3019C>T; c.7083del; c.2367del; c.4206C>G; c.3123_3126del; c.2650del; c.7192C>T; c.3974del; c.1711_1723del; c.1940_1941delinsT; c.3208_3209del; c.2866G>T; c.7471-1G>C; c.5274_5275insC; c.7356_7357insC; c.2593_2594insT; c.3460G>T; c.6184del; c.3339G>A; c.3193A>T; c.2130del; c.2297_2300del; c.4558del; c.4103_4104del; c.2647G>T; c.6682del; c.3046del; c.2765_2766del; c.866_867insA; c.6053_6057del; c.7000C>T; c.6409_6410del; c.1460_1463del; c.4498C>T; c.7416C>G; c.6187G>T; c.1846G>T; c.6472G>T; c.3198_3199del; c.7470+2T>C; c.4218C>A; c.7753C>T; c.3437_3461del; c.3382_3383del; c.3310_3311insG; c.7407C>G; c.4964_4965del; c.6766C>T; c.4283_4286del; NA; c.211_226+1del; c.5145C>G; 16_87886395_88066394_DEL; c.3770_3771del; c.1173C>G; c.3180_3181insA; c.6968_6975del; c.7363del; c.2828_2829del; c.3888_3889insC; c.4389_4390del; c.1285_1286del; c.2305del; c.4374_4375del; c.867C>G; c.6340C>T; c.6015_6016insA; c.1763C>A; c.5953_5954del; c.2692C>T; c.505G>T; c.2412del; c.7471A>C; c.6071_6084del; c.5205del; c.4107_4108del; c.6691_6692insG; c.4177_4189del; c.520C>T; c.4171C>T; c.1801C>T; c.4408A>T; c.5199_5227del; c.1731_1732insT; c.3334del; c.7834G>T; c.3222_3223insA; c.7570_7572del; c.3591_3594del; c.5146G>T; c.3295_3296del; c.3221_3222del; c.6701del; c.4391_4392del; c.7607G>A; c.6817_6833del; c.6628G>T; c.1786delinsTT; c.5889del; c.4529_4530insC; c.3931C>T; c.3905_3906del; c.1389_1390insA; c.2751_2752insT; c.3774_3775del; c.7535G>A; c.5712_5713insT; c.7180C>T; c.548_551del; c.2395A>T; c.6364_6367del; c.1457C>G; c.2512C>T; c.1120G>T; c.7189C>T; c.3582del; c.3153del; c.7552C>T; c.4528_4529del; c.5123C>A; c.915del; c.5426_5430del; c.3771_3772insA; c.831del; c.4786G>T; c.5957_5958del; c.3448C>T; c.7411_7422del; c.1893_1894insA.</p>\n",
       "<p>Use the entry in the \"Key\" column to investigate whether specific variants display genotype-phenotype correlations</p>"
      ],
      "text/plain": [
       "<IPython.core.display.HTML object>"
      ]
     },
     "metadata": {},
     "output_type": "display_data"
    }
   ],
   "source": [
    "display(HTML(viewer.variants_table(patientCohort, tx_id))) "
   ]
  },
  {
   "cell_type": "code",
   "execution_count": null,
   "id": "8136e3b2",
   "metadata": {},
   "outputs": [],
   "source": [
    "patientCohort.list_all_patients()"
   ]
  },
  {
   "cell_type": "code",
   "execution_count": null,
   "id": "d3481476",
   "metadata": {
    "scrolled": true
   },
   "outputs": [],
   "source": [
    "patientCohort.list_all_proteins()"
   ]
  },
  {
   "cell_type": "code",
   "execution_count": null,
   "id": "74ba64ea",
   "metadata": {},
   "outputs": [],
   "source": [
    "patientCohort.list_data_by_tx('NM_013275.6')"
   ]
  },
  {
   "cell_type": "code",
   "execution_count": null,
   "id": "9268c27b",
   "metadata": {},
   "outputs": [],
   "source": [
    "patientCohort.list_data_by_tx()"
   ]
  },
  {
   "cell_type": "code",
   "execution_count": null,
   "id": "63705c17",
   "metadata": {},
   "outputs": [],
   "source": [
    "patientCohort.all_proteins"
   ]
  },
  {
   "cell_type": "code",
   "execution_count": null,
   "id": "ec6c204f",
   "metadata": {},
   "outputs": [],
   "source": [
    "from genophenocorr.analysis import CohortAnalysis"
   ]
  },
  {
   "cell_type": "code",
   "execution_count": null,
   "id": "df922d31",
   "metadata": {},
   "outputs": [],
   "source": [
    "analysis = CohortAnalysis(patientCohort, 'NM_013275.6', hpo, include_unmeasured=False)"
   ]
  },
  {
   "cell_type": "code",
   "execution_count": null,
   "id": "91809a38",
   "metadata": {},
   "outputs": [],
   "source": [
    "from genophenocorr.model import VariantEffect"
   ]
  },
  {
   "cell_type": "code",
   "execution_count": null,
   "id": "7a83a5ca",
   "metadata": {},
   "outputs": [],
   "source": [
    "VariantEffect.FRAMESHIFT_VARIANT.value"
   ]
  },
  {
   "cell_type": "code",
   "execution_count": null,
   "id": "57dd0e23",
   "metadata": {
    "scrolled": true
   },
   "outputs": [],
   "source": [
    "analysis.compare_by_variant_type(VariantEffect.FRAMESHIFT_VARIANT)"
   ]
  },
  {
   "cell_type": "code",
   "execution_count": null,
   "id": "1c2c01fd",
   "metadata": {},
   "outputs": [],
   "source": [
    "analysis.compare_by_variant('16_89284634_89284639_GTGTTT_G')"
   ]
  },
  {
   "cell_type": "code",
   "execution_count": null,
   "id": "f306c5ef",
   "metadata": {},
   "outputs": [],
   "source": [
    "analysis2 = CohortAnalysis(patientCohort, 'NM_013275.6', hpo, include_unmeasured=False, include_large_SV=False)\n",
    "\n",
    "analysis2.compare_by_exon(9)"
   ]
  },
  {
   "cell_type": "code",
   "execution_count": null,
   "id": "f6861157",
   "metadata": {},
   "outputs": [],
   "source": [
    "from genophenocorr.model import FeatureType"
   ]
  },
  {
   "cell_type": "code",
   "execution_count": null,
   "id": "d3c6fd9d",
   "metadata": {},
   "outputs": [],
   "source": [
    "analysis.compare_by_protein_feature_type(FeatureType.REGION)"
   ]
  },
  {
   "cell_type": "code",
   "execution_count": null,
   "id": "a97a6a09",
   "metadata": {},
   "outputs": [],
   "source": []
  }
 ],
 "metadata": {
  "kernelspec": {
   "display_name": "enviro",
   "language": "python",
   "name": "enviro"
  },
  "language_info": {
   "codemirror_mode": {
    "name": "ipython",
    "version": 3
   },
   "file_extension": ".py",
   "mimetype": "text/x-python",
   "name": "python",
   "nbconvert_exporter": "python",
   "pygments_lexer": "ipython3",
   "version": "3.10.10"
  }
 },
 "nbformat": 4,
 "nbformat_minor": 5
}
