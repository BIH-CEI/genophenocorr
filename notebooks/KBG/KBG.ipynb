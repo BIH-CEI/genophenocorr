{
 "cells": [
  {
   "cell_type": "markdown",
   "id": "9443554a",
   "metadata": {},
   "source": [
    "# KBG Syndrome\n",
    "\n",
    "Data from [Martinez-Cayuelas E, et al. Clinical description, molecular delineation and genotype-phenotype correlation in 340 patients with KBG syndrome: addition of 67 new patients](https://pubmed.ncbi.nlm.nih.gov/36446582).\n",
    "\n",
    "We investigate subjects with mutations in *ANKRD11*."
   ]
  },
  {
   "cell_type": "code",
   "execution_count": 1,
   "id": "cd2a5b1b",
   "metadata": {},
   "outputs": [
    {
     "name": "stdout",
     "output_type": "stream",
     "text": [
      "Using genophenocorr version 0.1.1dev\n"
     ]
    }
   ],
   "source": [
    "import genophenocorr\n",
    "\n",
    "print(f\"Using genophenocorr version {genophenocorr.__version__}\")"
   ]
  },
  {
   "cell_type": "markdown",
   "id": "f8f5f366",
   "metadata": {},
   "source": [
    "## Setup"
   ]
  },
  {
   "cell_type": "markdown",
   "id": "80a3e9ab",
   "metadata": {},
   "source": [
    "### Load HPO\n",
    "\n",
    "We use HPO `v2023-10-09` release for this analysis."
   ]
  },
  {
   "cell_type": "code",
   "execution_count": 2,
   "id": "d7623bcb",
   "metadata": {},
   "outputs": [],
   "source": [
    "import hpotk\n",
    "\n",
    "fpath_hpo = 'https://github.com/obophenotype/human-phenotype-ontology/releases/download/v2023-10-09/hp.json'\n",
    "hpo = hpotk.load_minimal_ontology(fpath_hpo)"
   ]
  },
  {
   "cell_type": "markdown",
   "id": "6f6cd5b3",
   "metadata": {},
   "source": [
    "### Load Phenopackets\n",
    "\n",
    "We will load phenopacket JSON files located in `phenopackets` folder that is next to the notebook."
   ]
  },
  {
   "cell_type": "code",
   "execution_count": 3,
   "id": "070a06ef",
   "metadata": {},
   "outputs": [
    {
     "name": "stderr",
     "output_type": "stream",
     "text": [
      "Patients Created: 100%|████████████████████████████████████████████████████████████████████████████████████████████████████████| 328/328 [00:00<00:00, 565.93it/s]\n"
     ]
    },
    {
     "name": "stdout",
     "output_type": "stream",
     "text": [
      "328\n"
     ]
    },
    {
     "ename": "AttributeError",
     "evalue": "'TranscriptAnnotation' object has no attribute '_protein_id'",
     "output_type": "error",
     "traceback": [
      "\u001b[0;31m---------------------------------------------------------------------------\u001b[0m",
      "\u001b[0;31mAttributeError\u001b[0m                            Traceback (most recent call last)",
      "Cell \u001b[0;32mIn[3], line 5\u001b[0m\n\u001b[1;32m      3\u001b[0m fpath_phenopackets \u001b[38;5;241m=\u001b[39m \u001b[38;5;124m'\u001b[39m\u001b[38;5;124mphenopackets\u001b[39m\u001b[38;5;124m'\u001b[39m\n\u001b[1;32m      4\u001b[0m cohort_creator \u001b[38;5;241m=\u001b[39m configure_caching_cohort_creator(hpo)\n\u001b[0;32m----> 5\u001b[0m cohort \u001b[38;5;241m=\u001b[39m \u001b[43mload_phenopacket_folder\u001b[49m\u001b[43m(\u001b[49m\u001b[43mfpath_phenopackets\u001b[49m\u001b[43m,\u001b[49m\u001b[43m \u001b[49m\u001b[43mcohort_creator\u001b[49m\u001b[43m)\u001b[49m\n",
      "File \u001b[0;32m~/Documents/Programs/genophenocorr/src/genophenocorr/preprocessing/_config.py:233\u001b[0m, in \u001b[0;36mload_phenopacket_folder\u001b[0;34m(pp_directory, cohort_creator, validation_policy)\u001b[0m\n\u001b[1;32m    231\u001b[0m cohort_iter \u001b[38;5;241m=\u001b[39m tqdm(pps, desc\u001b[38;5;241m=\u001b[39m\u001b[38;5;124m'\u001b[39m\u001b[38;5;124mPatients Created\u001b[39m\u001b[38;5;124m'\u001b[39m)\n\u001b[1;32m    232\u001b[0m notepad \u001b[38;5;241m=\u001b[39m cohort_creator\u001b[38;5;241m.\u001b[39mprepare_notepad(\u001b[38;5;124mf\u001b[39m\u001b[38;5;124m'\u001b[39m\u001b[38;5;132;01m{\u001b[39;00m\u001b[38;5;28mlen\u001b[39m(pps)\u001b[38;5;132;01m}\u001b[39;00m\u001b[38;5;124m phenopacket(s) found at `\u001b[39m\u001b[38;5;132;01m{\u001b[39;00mpp_directory\u001b[38;5;132;01m}\u001b[39;00m\u001b[38;5;124m`\u001b[39m\u001b[38;5;124m'\u001b[39m)\n\u001b[0;32m--> 233\u001b[0m cohort \u001b[38;5;241m=\u001b[39m \u001b[43mcohort_creator\u001b[49m\u001b[38;5;241;43m.\u001b[39;49m\u001b[43mprocess\u001b[49m\u001b[43m(\u001b[49m\u001b[43mcohort_iter\u001b[49m\u001b[43m,\u001b[49m\u001b[43m \u001b[49m\u001b[43mnotepad\u001b[49m\u001b[43m)\u001b[49m\n\u001b[1;32m    236\u001b[0m validation_summary \u001b[38;5;241m=\u001b[39m _summarize_validation(validation_policy, notepad)\n\u001b[1;32m    237\u001b[0m \u001b[38;5;28mprint\u001b[39m(os\u001b[38;5;241m.\u001b[39mlinesep\u001b[38;5;241m.\u001b[39mjoin(validation_summary), file\u001b[38;5;241m=\u001b[39msys\u001b[38;5;241m.\u001b[39mstderr)\n",
      "File \u001b[0;32m~/Documents/Programs/genophenocorr/src/genophenocorr/preprocessing/_patient.py:54\u001b[0m, in \u001b[0;36mCohortCreator.process\u001b[0;34m(self, inputs, notepad)\u001b[0m\n\u001b[1;32m     50\u001b[0m \u001b[38;5;28;01mif\u001b[39;00m \u001b[38;5;28mlen\u001b[39m(patients) \u001b[38;5;241m<\u001b[39m\u001b[38;5;241m=\u001b[39m \u001b[38;5;241m1\u001b[39m:\n\u001b[1;32m     51\u001b[0m     notepad\u001b[38;5;241m.\u001b[39madd_warning(\u001b[38;5;124mf\u001b[39m\u001b[38;5;124m'\u001b[39m\u001b[38;5;124mCohort must include \u001b[39m\u001b[38;5;132;01m{\u001b[39;00m\u001b[38;5;28mlen\u001b[39m(patients)\u001b[38;5;132;01m}\u001b[39;00m\u001b[38;5;124m>=1 members\u001b[39m\u001b[38;5;124m'\u001b[39m,\n\u001b[1;32m     52\u001b[0m                         \u001b[38;5;124m'\u001b[39m\u001b[38;5;124mFix issues in patients to enable the analysis\u001b[39m\u001b[38;5;124m'\u001b[39m)\n\u001b[0;32m---> 54\u001b[0m \u001b[38;5;28;01mreturn\u001b[39;00m \u001b[43mCohort\u001b[49m\u001b[38;5;241;43m.\u001b[39;49m\u001b[43mfrom_patients\u001b[49m\u001b[43m(\u001b[49m\u001b[43mpatients\u001b[49m\u001b[43m)\u001b[49m\n",
      "File \u001b[0;32m~/Documents/Programs/genophenocorr/src/genophenocorr/model/_cohort.py:107\u001b[0m, in \u001b[0;36mCohort.from_patients\u001b[0;34m(members, include_patients_with_no_HPO, include_patients_with_no_variants)\u001b[0m\n\u001b[1;32m    105\u001b[0m var_counts, pheno_count \u001b[38;5;241m=\u001b[39m Counter(), Counter() \u001b[38;5;66;03m# , prot_counts\u001b[39;00m\n\u001b[1;32m    106\u001b[0m \u001b[38;5;28mprint\u001b[39m(\u001b[38;5;28mlen\u001b[39m(members))\n\u001b[0;32m--> 107\u001b[0m members \u001b[38;5;241m=\u001b[39m \u001b[38;5;28;43mset\u001b[39;49m\u001b[43m(\u001b[49m\u001b[43mmembers\u001b[49m\u001b[43m)\u001b[49m\n\u001b[1;32m    108\u001b[0m excluded_members \u001b[38;5;241m=\u001b[39m []\n\u001b[1;32m    109\u001b[0m \u001b[38;5;28;01mfor\u001b[39;00m patient \u001b[38;5;129;01min\u001b[39;00m members:\n",
      "File \u001b[0;32m~/Documents/Programs/genophenocorr/src/genophenocorr/model/_cohort.py:91\u001b[0m, in \u001b[0;36mPatient.__hash__\u001b[0;34m(self)\u001b[0m\n\u001b[1;32m     90\u001b[0m \u001b[38;5;28;01mdef\u001b[39;00m \u001b[38;5;21m__hash__\u001b[39m(\u001b[38;5;28mself\u001b[39m) \u001b[38;5;241m-\u001b[39m\u001b[38;5;241m>\u001b[39m \u001b[38;5;28mint\u001b[39m:\n\u001b[0;32m---> 91\u001b[0m     \u001b[38;5;28;01mreturn\u001b[39;00m \u001b[38;5;28;43mhash\u001b[39;49m\u001b[43m(\u001b[49m\u001b[43m(\u001b[49m\u001b[38;5;28;43mself\u001b[39;49m\u001b[38;5;241;43m.\u001b[39;49m\u001b[43mpatient_id\u001b[49m\u001b[43m,\u001b[49m\u001b[43m \u001b[49m\u001b[38;5;28;43mself\u001b[39;49m\u001b[38;5;241;43m.\u001b[39;49m\u001b[43mvariants\u001b[49m\u001b[43m,\u001b[49m\u001b[43m \u001b[49m\u001b[38;5;28;43mself\u001b[39;49m\u001b[38;5;241;43m.\u001b[39;49m\u001b[43mphenotypes\u001b[49m\u001b[43m)\u001b[49m\u001b[43m)\u001b[49m\n",
      "File \u001b[0;32m~/Documents/Programs/genophenocorr/src/genophenocorr/model/_variant.py:434\u001b[0m, in \u001b[0;36mVariant.__hash__\u001b[0;34m(self)\u001b[0m\n\u001b[1;32m    433\u001b[0m \u001b[38;5;28;01mdef\u001b[39;00m \u001b[38;5;21m__hash__\u001b[39m(\u001b[38;5;28mself\u001b[39m) \u001b[38;5;241m-\u001b[39m\u001b[38;5;241m>\u001b[39m \u001b[38;5;28mint\u001b[39m:\n\u001b[0;32m--> 434\u001b[0m     \u001b[38;5;28;01mreturn\u001b[39;00m \u001b[38;5;28;43mhash\u001b[39;49m\u001b[43m(\u001b[49m\n\u001b[1;32m    435\u001b[0m \u001b[43m        \u001b[49m\u001b[43m(\u001b[49m\u001b[38;5;28;43mself\u001b[39;49m\u001b[38;5;241;43m.\u001b[39;49m\u001b[43mvariant_coordinates\u001b[49m\u001b[43m,\u001b[49m\u001b[43m \u001b[49m\u001b[38;5;28;43mself\u001b[39;49m\u001b[38;5;241;43m.\u001b[39;49m\u001b[43mtx_annotations\u001b[49m\u001b[43m,\u001b[49m\u001b[43m \u001b[49m\u001b[38;5;28;43mself\u001b[39;49m\u001b[38;5;241;43m.\u001b[39;49m\u001b[43mgenotypes\u001b[49m\u001b[43m)\u001b[49m\u001b[43m)\u001b[49m\n",
      "File \u001b[0;32m~/Documents/Programs/genophenocorr/src/genophenocorr/model/_variant.py:171\u001b[0m, in \u001b[0;36mTranscriptAnnotation.__hash__\u001b[0;34m(self)\u001b[0m\n\u001b[1;32m    169\u001b[0m \u001b[38;5;28;01mdef\u001b[39;00m \u001b[38;5;21m__hash__\u001b[39m(\u001b[38;5;28mself\u001b[39m) \u001b[38;5;241m-\u001b[39m\u001b[38;5;241m>\u001b[39m \u001b[38;5;28mint\u001b[39m:\n\u001b[1;32m    170\u001b[0m     \u001b[38;5;28;01mreturn\u001b[39;00m \u001b[38;5;28mhash\u001b[39m((\u001b[38;5;28mself\u001b[39m\u001b[38;5;241m.\u001b[39mgene_id, \u001b[38;5;28mself\u001b[39m\u001b[38;5;241m.\u001b[39mhgvsc_id, \u001b[38;5;28mself\u001b[39m\u001b[38;5;241m.\u001b[39mis_preferred, \u001b[38;5;28mself\u001b[39m\u001b[38;5;241m.\u001b[39mtranscript_id, \u001b[38;5;28mself\u001b[39m\u001b[38;5;241m.\u001b[39moverlapping_exons, \u001b[38;5;28mself\u001b[39m\u001b[38;5;241m.\u001b[39mvariant_effects,\n\u001b[0;32m--> 171\u001b[0m                  \u001b[38;5;28;43mself\u001b[39;49m\u001b[38;5;241;43m.\u001b[39;49m\u001b[43mprotein_id\u001b[49m, \u001b[38;5;28mself\u001b[39m\u001b[38;5;241m.\u001b[39mprotein_effect_location))\n",
      "File \u001b[0;32m~/Documents/Programs/genophenocorr/src/genophenocorr/model/_variant.py:134\u001b[0m, in \u001b[0;36mTranscriptAnnotation.protein_id\u001b[0;34m(self)\u001b[0m\n\u001b[1;32m    128\u001b[0m \u001b[38;5;129m@property\u001b[39m\n\u001b[1;32m    129\u001b[0m \u001b[38;5;28;01mdef\u001b[39;00m \u001b[38;5;21mprotein_id\u001b[39m(\u001b[38;5;28mself\u001b[39m) \u001b[38;5;241m-\u001b[39m\u001b[38;5;241m>\u001b[39m typing\u001b[38;5;241m.\u001b[39mOptional[\u001b[38;5;28mstr\u001b[39m]:\n\u001b[1;32m    130\u001b[0m \u001b[38;5;250m    \u001b[39m\u001b[38;5;124;03m\"\"\"\u001b[39;00m\n\u001b[1;32m    131\u001b[0m \u001b[38;5;124;03m    Returns:\u001b[39;00m\n\u001b[1;32m    132\u001b[0m \u001b[38;5;124;03m        Optional[str]: The protein accession ID for the protein relevant to the variant\u001b[39;00m\n\u001b[1;32m    133\u001b[0m \u001b[38;5;124;03m    \"\"\"\u001b[39;00m\n\u001b[0;32m--> 134\u001b[0m     \u001b[38;5;28;01mreturn\u001b[39;00m \u001b[38;5;28;43mself\u001b[39;49m\u001b[38;5;241;43m.\u001b[39;49m\u001b[43m_protein_id\u001b[49m\n",
      "\u001b[0;31mAttributeError\u001b[0m: 'TranscriptAnnotation' object has no attribute '_protein_id'"
     ]
    }
   ],
   "source": [
    "from genophenocorr.preprocessing import configure_caching_cohort_creator, load_phenopacket_folder\n",
    "\n",
    "fpath_phenopackets = 'phenopackets'\n",
    "cohort_creator = configure_caching_cohort_creator(hpo)\n",
    "cohort = load_phenopacket_folder(fpath_phenopackets, cohort_creator)"
   ]
  },
  {
   "cell_type": "markdown",
   "id": "768f3cc0",
   "metadata": {},
   "source": [
    "### Pick transcript\n",
    "\n",
    "We choose the [MANE Select](https://www.ncbi.nlm.nih.gov/nuccore/NM_013275.6) transcript for *ANKRD11*."
   ]
  },
  {
   "cell_type": "code",
   "execution_count": null,
   "id": "6a233bd3",
   "metadata": {},
   "outputs": [],
   "source": [
    "tx_id = 'NM_013275.6'"
   ]
  },
  {
   "cell_type": "markdown",
   "id": "e73a492f",
   "metadata": {},
   "source": [
    "## Explore cohort\n",
    "\n",
    "Explore the cohort to guide selection of the genotype-phenotype analysis.\n"
   ]
  },
  {
   "cell_type": "code",
   "execution_count": null,
   "id": "3b7a08b2",
   "metadata": {},
   "outputs": [],
   "source": [
    "from IPython.display import HTML, display\n",
    "from genophenocorr.view import CohortViewer\n",
    "\n",
    "viewer = CohortViewer(hpo)"
   ]
  },
  {
   "cell_type": "code",
   "execution_count": null,
   "id": "c4960518",
   "metadata": {},
   "outputs": [],
   "source": [
    "display(HTML(viewer.cohort_summary_table(cohort)))"
   ]
  },
  {
   "cell_type": "code",
   "execution_count": null,
   "id": "c39889b9",
   "metadata": {},
   "outputs": [],
   "source": [
    "display(HTML(viewer.hpo_term_counts_table(cohort))) ## Add Labels to output"
   ]
  },
  {
   "cell_type": "code",
   "execution_count": null,
   "id": "f294ca99",
   "metadata": {},
   "outputs": [],
   "source": [
    "display(HTML(viewer.variants_table(cohort, tx_id))) "
   ]
  },
  {
   "cell_type": "markdown",
   "id": "dbbc2cc1",
   "metadata": {},
   "source": [
    "## Configure the analysis"
   ]
  },
  {
   "cell_type": "code",
   "execution_count": null,
   "id": "ec6c204f",
   "metadata": {},
   "outputs": [],
   "source": [
    "from genophenocorr.analysis import configure_cohort_analysis, CohortAnalysisConfiguration\n",
    "from genophenocorr.analysis.predicate import BooleanPredicate, GroupingPredicate\n",
    "\n",
    "analysis_config = CohortAnalysisConfiguration.builder()\\\n",
    "    .missing_implies_excluded(True)\\\n",
    "    .pval_correction('fdr_bh')\\\n",
    "    .min_perc_patients_w_hpo(0.1)\\\n",
    "    .build()\n",
    "analysis = configure_cohort_analysis(cohort, hpo, analysis_config)"
   ]
  },
  {
   "cell_type": "markdown",
   "id": "5ff62a78",
   "metadata": {},
   "source": [
    "Test for presence of genotype-phenotype correlations between frameshift variants vs. others."
   ]
  },
  {
   "cell_type": "code",
   "execution_count": null,
   "id": "91809a38",
   "metadata": {},
   "outputs": [],
   "source": [
    "from genophenocorr.model import VariantEffect\n",
    "\n",
    "frameshift = analysis.compare_by_variant_effect(VariantEffect.FRAMESHIFT_VARIANT, tx_id)\n",
    "frameshift.summarize(hpo, BooleanPredicate.YES)"
   ]
  },
  {
   "cell_type": "markdown",
   "id": "7a83a5ca",
   "metadata": {},
   "source": [
    "Test for presence of genotype-phenotype correlations between subjects with >=1 allele of a variant vs. the other subjects:\n"
   ]
  },
  {
   "cell_type": "code",
   "execution_count": null,
   "id": "57dd0e23",
   "metadata": {},
   "outputs": [],
   "source": [
    "var_single = analysis.compare_by_variant_key('16_89284634_89284639_GTGTTT_G')\n",
    "var_single.summarize(hpo, BooleanPredicate.YES)"
   ]
  },
  {
   "cell_type": "markdown",
   "id": "74eaa536",
   "metadata": {},
   "source": [
    "Or between subjects with one variant vs. the other variant."
   ]
  },
  {
   "cell_type": "code",
   "execution_count": null,
   "id": "0dfa0a50",
   "metadata": {},
   "outputs": [],
   "source": [
    "var_double = analysis.compare_by_variant_keys('16_89284129_89284134_CTTTTT_C', '16_89284634_89284639_GTGTTT_G')\n",
    "var_double.summarize(hpo, BooleanPredicate.YES)"
   ]
  },
  {
   "cell_type": "markdown",
   "id": "a12b8117",
   "metadata": {},
   "source": [
    "TODO - finalize!"
   ]
  }
 ],
 "metadata": {
  "kernelspec": {
   "display_name": "Python 3 (ipykernel)",
   "language": "python",
   "name": "python3"
  },
  "language_info": {
   "codemirror_mode": {
    "name": "ipython",
    "version": 3
   },
   "file_extension": ".py",
   "mimetype": "text/x-python",
   "name": "python",
   "nbconvert_exporter": "python",
   "pygments_lexer": "ipython3",
   "version": "3.10.10"
  }
 },
 "nbformat": 4,
 "nbformat_minor": 5
}
