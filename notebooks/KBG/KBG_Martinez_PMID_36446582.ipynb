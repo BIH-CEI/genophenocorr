{
 "cells": [
  {
   "cell_type": "markdown",
   "id": "5e60e1ea",
   "metadata": {},
   "source": [
    "<h1>KBG Syndrome</h1>\n",
    "<p>Data from <a href=\"https://pubmed.ncbi.nlm.nih.gov/36446582/\" target=\"__blank\">Martinez-Cayuelas E, et al. Clinical description, molecular delineation and genotype-phenotype correlation in 340 patients with KBG syndrome: addition of 67 new patients. J Med Genet. 2022 Nov 29:jmedgenet-2022-108632. PMID: 36446582.</a>.</p>"
   ]
  },
  {
   "cell_type": "code",
   "execution_count": null,
   "id": "1cbf7b69",
   "metadata": {},
   "outputs": [],
   "source": [
    "import phenopackets as php\n",
    "from google.protobuf.json_format import MessageToDict, MessageToJson\n",
    "from google.protobuf.json_format import Parse, ParseDict\n",
    "import pandas as pd\n",
    "pd.set_option('display.max_colwidth', None) # show entire column contents, important!\n",
    "from collections import defaultdict\n",
    "import os\n",
    "import sys\n",
    "\n",
    "from pyphetools.creation import *"
   ]
  },
  {
   "cell_type": "code",
   "execution_count": null,
   "id": "1c2e2576",
   "metadata": {},
   "outputs": [],
   "source": [
    "parser = HpoParser()\n",
    "hpo_cr = parser.get_hpo_concept_recognizer()\n",
    "hpo_version = parser.get_version()\n",
    "metadata = MetaData(created_by=\"ORCID:0000-0002-0736-9199\")\n",
    "metadata.default_versions_with_hpo(version=hpo_version)"
   ]
  },
  {
   "cell_type": "code",
   "execution_count": null,
   "id": "fcc1c878",
   "metadata": {},
   "outputs": [],
   "source": [
    "df = pd.read_excel('input/Martinez-KBG-SupplTable-340.xlsx', skiprows=1)"
   ]
  },
  {
   "cell_type": "code",
   "execution_count": null,
   "id": "80654bf9",
   "metadata": {},
   "outputs": [],
   "source": [
    "df.head()"
   ]
  },
  {
   "cell_type": "code",
   "execution_count": null,
   "id": "bcace71a",
   "metadata": {},
   "outputs": [],
   "source": [
    "\n",
    "\n",
    "df.columns\n",
    "\n"
   ]
  },
  {
   "cell_type": "code",
   "execution_count": null,
   "id": "78799b1b",
   "metadata": {},
   "outputs": [],
   "source": [
    "# Intrauterine growth retardation HP:0001511\n",
    "iugrMapper = SimpleColumnMapper(hpo_id='HP:0001511',\n",
    "    hpo_label='Intrauterine growth retardation',\n",
    "    observed='Yes',\n",
    "    excluded='No')"
   ]
  },
  {
   "cell_type": "code",
   "execution_count": null,
   "id": "e449698e",
   "metadata": {},
   "outputs": [],
   "source": [
    "iugrMapper.preview_column(df['Intrauterin Growth Restriction (Yes/No)'])"
   ]
  },
  {
   "cell_type": "code",
   "execution_count": null,
   "id": "82fc4a49",
   "metadata": {},
   "outputs": [],
   "source": [
    "df['Other dysmorphic features (Type)'].unique()"
   ]
  },
  {
   "cell_type": "code",
   "execution_count": null,
   "id": "13098cc5",
   "metadata": {},
   "outputs": [],
   "source": [
    "other_d = {'Perthes':'Avascular necrosis of the capital femoral epiphysis',\n",
    "             '3 café-au-lait spots < 5 mm ':'Few cafe-au-lait spots',\n",
    "             'Anteverted nose tip': 'Anteverted nares',\n",
    "             'severe': 'Intellectual disability, severe',\n",
    "             'mild': 'Intellectual disability, mild'}\n",
    "otherMapper = OptionColumnMapper(concept_recognizer=hpo_cr, option_d=other_d)\n",
    "otherMapper.preview_column(df['Other dysmorphic features (Type)'])\n"
   ]
  },
  {
   "cell_type": "code",
   "execution_count": null,
   "id": "ce167196",
   "metadata": {},
   "outputs": [],
   "source": []
  }
 ],
 "metadata": {
  "kernelspec": {
   "display_name": "gpcvenv",
   "language": "python",
   "name": "gpcvenv"
  },
  "language_info": {
   "codemirror_mode": {
    "name": "ipython",
    "version": 3
   },
   "file_extension": ".py",
   "mimetype": "text/x-python",
   "name": "python",
   "nbconvert_exporter": "python",
   "pygments_lexer": "ipython3",
   "version": "3.10.10"
  }
 },
 "nbformat": 4,
 "nbformat_minor": 5
}
