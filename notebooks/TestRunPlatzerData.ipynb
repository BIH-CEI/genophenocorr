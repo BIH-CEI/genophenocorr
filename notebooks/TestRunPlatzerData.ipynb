{
 "cells": [
  {
   "cell_type": "markdown",
   "id": "ce5e26d4",
   "metadata": {},
   "source": [
    "# GenoPhenoCorr Example \n",
    "## Phenotypic Traits associate with Variants on Gene MAPK8IP3\n"
   ]
  },
  {
   "cell_type": "markdown",
   "id": "e143049c",
   "metadata": {},
   "source": [
    "### TODO - Intro to package\n",
    "BLAH BLAH BAahh"
   ]
  },
  {
   "cell_type": "code",
   "execution_count": 1,
   "id": "09f523d1",
   "metadata": {},
   "outputs": [],
   "source": [
    "import sys\n",
    "import glob\n",
    "  \n",
    "from genophenocorr import *\n"
   ]
  },
  {
   "cell_type": "markdown",
   "id": "e8c11689",
   "metadata": {},
   "source": [
    "## Importing Phenopacket Data\n",
    "\n",
    "The phenopackets were created using [pyphetools](https://github.com/monarch-initiative/pyphetools) with data from [Platzer K., et al. (2019) De Novo Variants in MAPK8IP3 Cause Intellectual Disability with Variable Brain Anomalies](https://pubmed.ncbi.nlm.nih.gov/30612693/) and [Iwasawa S., et al. (2019) De Recurrent de novo MAPK8IP3 variants cause neurological phenotypes](https://pubmed.ncbi.nlm.nih.gov/30945334/). \n"
   ]
  },
  {
   "cell_type": "code",
   "execution_count": 2,
   "id": "b5a9484f",
   "metadata": {},
   "outputs": [
    {
     "name": "stderr",
     "output_type": "stream",
     "text": [
      "INFO:pyensembl.sequence_data:Loaded sequence dictionary from /Users/rekerl/Library/Caches/pyensembl/GRCh38/ensembl107/Homo_sapiens.GRCh38.cdna.all.fa.gz.pickle\n",
      "INFO:pyensembl.sequence_data:Loaded sequence dictionary from /Users/rekerl/Library/Caches/pyensembl/GRCh38/ensembl107/Homo_sapiens.GRCh38.ncrna.fa.gz.pickle\n",
      "INFO:pyensembl.sequence_data:Loaded sequence dictionary from /Users/rekerl/Library/Caches/pyensembl/GRCh38/ensembl107/Homo_sapiens.GRCh38.pep.all.fa.gz.pickle\n"
     ]
    },
    {
     "ename": "ValueError",
     "evalue": "Disease ID must include 'OMIM','MONDO', 'ORPHA', or 'DECIPHER'.",
     "output_type": "error",
     "traceback": [
      "\u001b[0;31m---------------------------------------------------------------------------\u001b[0m",
      "\u001b[0;31mValueError\u001b[0m                                Traceback (most recent call last)",
      "Cell \u001b[0;32mIn[2], line 1\u001b[0m\n\u001b[0;32m----> 1\u001b[0m allPatients \u001b[38;5;241m=\u001b[39m \u001b[43mCohort\u001b[49m\u001b[43m(\u001b[49m\u001b[38;5;124;43m'\u001b[39;49m\u001b[38;5;124;43m../phenopackets/PlatzerData/*.json\u001b[39;49m\u001b[38;5;124;43m'\u001b[39;49m\u001b[43m)\u001b[49m\n",
      "File \u001b[0;32m~/Documents/Programs/genophenocorr/enviro/lib/python3.10/site-packages/genophenocorr/cohort.py:30\u001b[0m, in \u001b[0;36mCohort.__init__\u001b[0;34m(self, fileList, ref)\u001b[0m\n\u001b[1;32m     28\u001b[0m \u001b[38;5;28;01mif\u001b[39;00m fileList \u001b[38;5;129;01mis\u001b[39;00m \u001b[38;5;129;01mnot\u001b[39;00m \u001b[38;5;28;01mNone\u001b[39;00m:\n\u001b[1;32m     29\u001b[0m     \u001b[38;5;28;01mfor\u001b[39;00m file \u001b[38;5;129;01min\u001b[39;00m glob\u001b[38;5;241m.\u001b[39mglob(fileList):\n\u001b[0;32m---> 30\u001b[0m         current \u001b[38;5;241m=\u001b[39m \u001b[43mPatient\u001b[49m\u001b[43m(\u001b[49m\u001b[43mfile\u001b[49m\u001b[43m,\u001b[49m\u001b[43m \u001b[49m\u001b[43mref\u001b[49m\u001b[43m)\u001b[49m\n\u001b[1;32m     31\u001b[0m         \u001b[38;5;28mself\u001b[39m\u001b[38;5;241m.\u001b[39m__add(current)\n",
      "File \u001b[0;32m~/Documents/Programs/genophenocorr/enviro/lib/python3.10/site-packages/genophenocorr/patient.py:33\u001b[0m, in \u001b[0;36mPatient.__init__\u001b[0;34m(self, phenopackJson, ref)\u001b[0m\n\u001b[1;32m     31\u001b[0m \u001b[38;5;28;01melif\u001b[39;00m \u001b[38;5;28mlen\u001b[39m(phenopack\u001b[38;5;241m.\u001b[39minterpretations[\u001b[38;5;241m0\u001b[39m]\u001b[38;5;241m.\u001b[39mdiagnosis\u001b[38;5;241m.\u001b[39mdisease\u001b[38;5;241m.\u001b[39mid) \u001b[38;5;241m!=\u001b[39m \u001b[38;5;241m0\u001b[39m:\n\u001b[1;32m     32\u001b[0m     dis \u001b[38;5;241m=\u001b[39m phenopack\u001b[38;5;241m.\u001b[39minterpretations[\u001b[38;5;241m0\u001b[39m]\u001b[38;5;241m.\u001b[39mdiagnosis\u001b[38;5;241m.\u001b[39mdisease\n\u001b[0;32m---> 33\u001b[0m     \u001b[38;5;28mself\u001b[39m\u001b[38;5;241m.\u001b[39m_diseases \u001b[38;5;241m=\u001b[39m \u001b[43mDisease\u001b[49m\u001b[43m(\u001b[49m\u001b[43mdis\u001b[49m\u001b[38;5;241;43m.\u001b[39;49m\u001b[43mid\u001b[49m\u001b[43m,\u001b[49m\u001b[43m \u001b[49m\u001b[43mdis\u001b[49m\u001b[38;5;241;43m.\u001b[39;49m\u001b[43mlabel\u001b[49m\u001b[43m)\u001b[49m\n\u001b[1;32m     34\u001b[0m \u001b[38;5;28;01melse\u001b[39;00m:\n\u001b[1;32m     35\u001b[0m     \u001b[38;5;28mself\u001b[39m\u001b[38;5;241m.\u001b[39m_diseases \u001b[38;5;241m=\u001b[39m \u001b[38;5;28;01mNone\u001b[39;00m\n",
      "File \u001b[0;32m~/Documents/Programs/genophenocorr/enviro/lib/python3.10/site-packages/genophenocorr/disease.py:10\u001b[0m, in \u001b[0;36mDisease.__init__\u001b[0;34m(self, id, label)\u001b[0m\n\u001b[1;32m      8\u001b[0m         \u001b[38;5;28mself\u001b[39m\u001b[38;5;241m.\u001b[39m_diseaseLabel \u001b[38;5;241m=\u001b[39m label\n\u001b[1;32m      9\u001b[0m     \u001b[38;5;28;01melse\u001b[39;00m:\n\u001b[0;32m---> 10\u001b[0m         \u001b[38;5;28;01mraise\u001b[39;00m \u001b[38;5;167;01mValueError\u001b[39;00m(\u001b[38;5;124m\"\u001b[39m\u001b[38;5;124mDisease ID must include \u001b[39m\u001b[38;5;124m'\u001b[39m\u001b[38;5;124mOMIM\u001b[39m\u001b[38;5;124m'\u001b[39m\u001b[38;5;124m,\u001b[39m\u001b[38;5;124m'\u001b[39m\u001b[38;5;124mMONDO\u001b[39m\u001b[38;5;124m'\u001b[39m\u001b[38;5;124m, \u001b[39m\u001b[38;5;124m'\u001b[39m\u001b[38;5;124mORPHA\u001b[39m\u001b[38;5;124m'\u001b[39m\u001b[38;5;124m, or \u001b[39m\u001b[38;5;124m'\u001b[39m\u001b[38;5;124mDECIPHER\u001b[39m\u001b[38;5;124m'\u001b[39m\u001b[38;5;124m.\u001b[39m\u001b[38;5;124m\"\u001b[39m)\n\u001b[1;32m     11\u001b[0m \u001b[38;5;28;01melse\u001b[39;00m:\n\u001b[1;32m     12\u001b[0m     \u001b[38;5;28mself\u001b[39m\u001b[38;5;241m.\u001b[39m_diseaseID \u001b[38;5;241m=\u001b[39m \u001b[38;5;28;01mNone\u001b[39;00m\n",
      "\u001b[0;31mValueError\u001b[0m: Disease ID must include 'OMIM','MONDO', 'ORPHA', or 'DECIPHER'."
     ]
    }
   ],
   "source": [
    "allPatients = Cohort('../phenopackets/PlatzerData/*.json')"
   ]
  },
  {
   "cell_type": "markdown",
   "id": "8e675f66",
   "metadata": {},
   "source": [
    "You can also add additional phenopackets to the AllPatients class by using AllPatients.add(\"Path/to/phenopacket.json\"). "
   ]
  },
  {
   "cell_type": "code",
   "execution_count": null,
   "id": "23904ca1",
   "metadata": {},
   "outputs": [],
   "source": [
    "##TO DO - use this to add the additional patient Ben(I think) found\n",
    "# allPatients.add(\"json file to last subject\")"
   ]
  },
  {
   "cell_type": "markdown",
   "id": "0dc634db",
   "metadata": {},
   "source": [
    "## Examine the Data\n"
   ]
  },
  {
   "cell_type": "code",
   "execution_count": null,
   "id": "a710d8e4",
   "metadata": {},
   "outputs": [],
   "source": [
    "allPatients.describe_all()"
   ]
  },
  {
   "cell_type": "markdown",
   "id": "e7bbcf56",
   "metadata": {},
   "source": [
    "We can also look more in depth as specific attributes of a patient. "
   ]
  },
  {
   "cell_type": "code",
   "execution_count": null,
   "id": "c1b07396",
   "metadata": {},
   "outputs": [],
   "source": [
    "firstPat = allPatients.all_patients.get('1')\n",
    "firstPat.describe()"
   ]
  },
  {
   "cell_type": "markdown",
   "id": "85796d7e",
   "metadata": {},
   "source": [
    "## Run Correlation Analysis\n",
    "This function runs either a Chi^2^ test or a Fisher Exact test on the counts of each HPO Term that do or don't match a specific criteria. \n",
    "Format for function:\n",
    "RunStats(AllPatients Class, Fun1, Fun2, extraVar_1, extraVar_2)\n",
    "\n",
    "If Fun1 is CF.is_var_type, then extraVar_1 can be any variant type (missense, nonsense, deletion, etc.) and the function will count by HPO Term all the patients that have that type of variant and do or do not have that HPO Term. This will create the first half of the Contingency Table. Fun2 and extraVar_2 will do the same, creating the second half of the table. \n",
    "\n",
    "The example below creates a contingency table: <br>\n",
    "\n",
    "| Patients with HPO Term and with missense variant | Patients without HPO Term and with missense variant | <br>\n",
    "| Patients with HPO Term and with no missense variant | Patients without HPO Term and with no missense variant |\n"
   ]
  },
  {
   "cell_type": "code",
   "execution_count": null,
   "id": "8908b01e",
   "metadata": {},
   "outputs": [],
   "source": [
    "compare.RunStats(allPatients, CF.is_var_type, CF.is_not_var_type, 'missense', 'missense')\n"
   ]
  },
  {
   "cell_type": "code",
   "execution_count": null,
   "id": "990b661b",
   "metadata": {},
   "outputs": [],
   "source": [
    "for typ in allPatients.all_var_types:\n",
    "    print(f'Comparing all in {typ} vs out of {typ}')\n",
    "    compare.RunStats(allPatients, CF.is_var_type, CF.is_not_var_type, typ, typ)\n",
    "    for typ2 in allPatients.all_var_types:\n",
    "        if typ2 == typ:\n",
    "            continue\n",
    "        print(f'Comparing all in {typ} vs all in {typ2}')\n",
    "        compare.RunStats(allPatients, CF.is_var_type, CF.is_var_type, typ, typ2)"
   ]
  },
  {
   "cell_type": "code",
   "execution_count": null,
   "id": "3f875ec5",
   "metadata": {},
   "outputs": [],
   "source": [
    "for var in allPatients.all_variants:\n",
    "    print(f'Comparing affecting {var.variant_string} vs all not')\n",
    "    compare.RunStats(allPatients, CF.is_var_match, CF.is_not_var_match, var, var)"
   ]
  },
  {
   "cell_type": "code",
   "execution_count": null,
   "id": "652cc2b0",
   "metadata": {},
   "outputs": [],
   "source": [
    "compare.RunStats(allPatients,CF.in_feature, CF.not_in_feature,'Domain','Domain')"
   ]
  },
  {
   "cell_type": "code",
   "execution_count": null,
   "id": "d741aa06",
   "metadata": {},
   "outputs": [],
   "source": [
    "Protein.findProtein('ENSP00000501096')"
   ]
  },
  {
   "cell_type": "code",
   "execution_count": null,
   "id": "fbc77657",
   "metadata": {},
   "outputs": [],
   "source": [
    "compare.RunStats(allPatients, CF.is_var_type, CF.is_not_var_type, 'missense', 'missense')\n"
   ]
  },
  {
   "cell_type": "code",
   "execution_count": null,
   "id": "d7038530",
   "metadata": {},
   "outputs": [],
   "source": []
  }
 ],
 "metadata": {
  "kernelspec": {
   "display_name": "enviro",
   "language": "python",
   "name": "enviro"
  },
  "language_info": {
   "codemirror_mode": {
    "name": "ipython",
    "version": 3
   },
   "file_extension": ".py",
   "mimetype": "text/x-python",
   "name": "python",
   "nbconvert_exporter": "python",
   "pygments_lexer": "ipython3",
   "version": "3.10.7"
  }
 },
 "nbformat": 4,
 "nbformat_minor": 5
}
