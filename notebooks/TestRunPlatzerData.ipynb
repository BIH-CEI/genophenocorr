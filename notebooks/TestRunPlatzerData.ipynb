{
 "cells": [
  {
   "cell_type": "markdown",
   "id": "ce5e26d4",
   "metadata": {},
   "source": [
    "# GenoPhenoCorr Example \n",
    "## Phenotypic Traits associate with Variants on Gene MAPK8IP3\n"
   ]
  },
  {
   "cell_type": "markdown",
   "id": "e143049c",
   "metadata": {},
   "source": [
    "### TODO - Intro to package\n",
    "BLAH BLAH BAahh"
   ]
  },
  {
   "cell_type": "code",
   "execution_count": 1,
   "id": "09f523d1",
   "metadata": {},
   "outputs": [],
   "source": [
    "import sys\n",
    "import glob\n",
    "  \n",
    "from genophenocorr import *\n",
    "from genophenocorr import compare\n",
    "from genophenocorr import compare_func as CF"
   ]
  },
  {
   "cell_type": "markdown",
   "id": "e8c11689",
   "metadata": {},
   "source": [
    "## Importing Phenopacket Data\n",
    "\n",
    "The phenopackets were created using [pyphetools](https://github.com/monarch-initiative/pyphetools) with data from [Platzer K., et al. (2019) De Novo Variants in MAPK8IP3 Cause Intellectual Disability with Variable Brain Anomalies](https://pubmed.ncbi.nlm.nih.gov/30612693/) and [Iwasawa S., et al. (2019) De Recurrent de novo MAPK8IP3 variants cause neurological phenotypes](https://pubmed.ncbi.nlm.nih.gov/30945334/). \n"
   ]
  },
  {
   "cell_type": "code",
   "execution_count": 2,
   "id": "b5a9484f",
   "metadata": {},
   "outputs": [
    {
     "name": "stderr",
     "output_type": "stream",
     "text": [
      "INFO:pyensembl.sequence_data:Loaded sequence dictionary from /Users/rekerl/Library/Caches/pyensembl/GRCh38/ensembl107/Homo_sapiens.GRCh38.cdna.all.fa.gz.pickle\n",
      "INFO:pyensembl.sequence_data:Loaded sequence dictionary from /Users/rekerl/Library/Caches/pyensembl/GRCh38/ensembl107/Homo_sapiens.GRCh38.ncrna.fa.gz.pickle\n",
      "INFO:pyensembl.sequence_data:Loaded sequence dictionary from /Users/rekerl/Library/Caches/pyensembl/GRCh38/ensembl107/Homo_sapiens.GRCh38.pep.all.fa.gz.pickle\n"
     ]
    }
   ],
   "source": [
    "allPatients = AllPatients('../phenopackets/PlatzerData/*.json')"
   ]
  },
  {
   "cell_type": "markdown",
   "id": "8e675f66",
   "metadata": {},
   "source": [
    "You can also add additional phenopackets to the AllPatients class by using AllPatients.add(\"Path/to/phenopacket.json\"). "
   ]
  },
  {
   "cell_type": "code",
   "execution_count": 3,
   "id": "23904ca1",
   "metadata": {},
   "outputs": [],
   "source": [
    "##TO DO - use this to add the additional patient Ben(I think) found\n",
    "# allPatients.add(\"json file to last subject\")"
   ]
  },
  {
   "cell_type": "markdown",
   "id": "0dc634db",
   "metadata": {},
   "source": [
    "## Examine the Data\n"
   ]
  },
  {
   "cell_type": "code",
   "execution_count": 4,
   "id": "a710d8e4",
   "metadata": {},
   "outputs": [
    {
     "data": {
      "text/html": [
       "<div>\n",
       "<style scoped>\n",
       "    .dataframe tbody tr th:only-of-type {\n",
       "        vertical-align: middle;\n",
       "    }\n",
       "\n",
       "    .dataframe tbody tr th {\n",
       "        vertical-align: top;\n",
       "    }\n",
       "\n",
       "    .dataframe thead th {\n",
       "        text-align: right;\n",
       "    }\n",
       "</style>\n",
       "<table border=\"1\" class=\"dataframe\">\n",
       "  <thead>\n",
       "    <tr style=\"text-align: right;\">\n",
       "      <th></th>\n",
       "      <th>Patient ID</th>\n",
       "      <th>Disease</th>\n",
       "      <th>Gene</th>\n",
       "      <th>Variant</th>\n",
       "      <th>Protein</th>\n",
       "      <th>HPO Terms</th>\n",
       "    </tr>\n",
       "  </thead>\n",
       "  <tbody>\n",
       "    <tr>\n",
       "      <th>0</th>\n",
       "      <td>Individual 5</td>\n",
       "      <td>None</td>\n",
       "      <td>[MAPK8IP3]</td>\n",
       "      <td>chr16 g.1767834C&gt;T</td>\n",
       "      <td>ENSP00000501096</td>\n",
       "      <td>[HP:0001270, HP:0032988, HP:0025336, HP:003193...</td>\n",
       "    </tr>\n",
       "    <tr>\n",
       "      <th>1</th>\n",
       "      <td>12</td>\n",
       "      <td>None</td>\n",
       "      <td>[MAPK8IP3]</td>\n",
       "      <td>chr16 g.1767834C&gt;T</td>\n",
       "      <td>ENSP00000501096</td>\n",
       "      <td>[HP:0001257, HP:0100021, HP:0010864]</td>\n",
       "    </tr>\n",
       "    <tr>\n",
       "      <th>2</th>\n",
       "      <td>2</td>\n",
       "      <td>None</td>\n",
       "      <td>[MAPK8IP3]</td>\n",
       "      <td>chr16 g.1706418G&gt;T</td>\n",
       "      <td>ENSP00000501096</td>\n",
       "      <td>[HP:0001251, HP:0010864]</td>\n",
       "    </tr>\n",
       "    <tr>\n",
       "      <th>3</th>\n",
       "      <td>3</td>\n",
       "      <td>None</td>\n",
       "      <td>[MAPK8IP3]</td>\n",
       "      <td>chr16 g.1706450C&gt;G</td>\n",
       "      <td>ENSP00000501096</td>\n",
       "      <td>[HP:0002342]</td>\n",
       "    </tr>\n",
       "    <tr>\n",
       "      <th>4</th>\n",
       "      <td>13</td>\n",
       "      <td>None</td>\n",
       "      <td>[MAPK8IP3]</td>\n",
       "      <td>chr16 g.1767834C&gt;T</td>\n",
       "      <td>ENSP00000501096</td>\n",
       "      <td>[HP:0002317, HP:0007301, HP:0002370, HP:0002342]</td>\n",
       "    </tr>\n",
       "    <tr>\n",
       "      <th>5</th>\n",
       "      <td>Individual 4</td>\n",
       "      <td>None</td>\n",
       "      <td>[MAPK8IP3]</td>\n",
       "      <td>chr16 g.1767834C&gt;T</td>\n",
       "      <td>ENSP00000501096</td>\n",
       "      <td>[HP:0001270, HP:0032988, HP:0032989, HP:002533...</td>\n",
       "    </tr>\n",
       "    <tr>\n",
       "      <th>6</th>\n",
       "      <td>4</td>\n",
       "      <td>None</td>\n",
       "      <td>[MAPK8IP3]</td>\n",
       "      <td>chr16 g.1748705G&gt;A</td>\n",
       "      <td>ENSP00000501096</td>\n",
       "      <td>[HP:0001256]</td>\n",
       "    </tr>\n",
       "    <tr>\n",
       "      <th>7</th>\n",
       "      <td>8</td>\n",
       "      <td>None</td>\n",
       "      <td>[MAPK8IP3]</td>\n",
       "      <td>chr16 g.1762843C&gt;T</td>\n",
       "      <td>ENSP00000501096</td>\n",
       "      <td>[HP:0001258, HP:0010864]</td>\n",
       "    </tr>\n",
       "    <tr>\n",
       "      <th>8</th>\n",
       "      <td>Individual 3</td>\n",
       "      <td>None</td>\n",
       "      <td>[MAPK8IP3]</td>\n",
       "      <td>chr16 g.1762843C&gt;T</td>\n",
       "      <td>ENSP00000501096</td>\n",
       "      <td>[HP:0001270, HP:0025336, HP:0031936, HP:000218...</td>\n",
       "    </tr>\n",
       "    <tr>\n",
       "      <th>9</th>\n",
       "      <td>Individual 2</td>\n",
       "      <td>None</td>\n",
       "      <td>[MAPK8IP3]</td>\n",
       "      <td>chr16 g.1762843C&gt;T</td>\n",
       "      <td>ENSP00000501096</td>\n",
       "      <td>[HP:0001270, HP:0032989, HP:0031936, HP:001086...</td>\n",
       "    </tr>\n",
       "    <tr>\n",
       "      <th>10</th>\n",
       "      <td>9</td>\n",
       "      <td>None</td>\n",
       "      <td>[MAPK8IP3]</td>\n",
       "      <td>chr16 g.1762843C&gt;T</td>\n",
       "      <td>ENSP00000501096</td>\n",
       "      <td>[HP:0007340, HP:0002493, HP:0001257, HP:0002342]</td>\n",
       "    </tr>\n",
       "    <tr>\n",
       "      <th>11</th>\n",
       "      <td>5</td>\n",
       "      <td>None</td>\n",
       "      <td>[MAPK8IP3]</td>\n",
       "      <td>chr16 g.1760409T&gt;C</td>\n",
       "      <td>ENSP00000501096</td>\n",
       "      <td>[]</td>\n",
       "    </tr>\n",
       "    <tr>\n",
       "      <th>12</th>\n",
       "      <td>6</td>\n",
       "      <td>None</td>\n",
       "      <td>[MAPK8IP3]</td>\n",
       "      <td>chr16 g.1760409T&gt;C</td>\n",
       "      <td>ENSP00000501096</td>\n",
       "      <td>[HP:0001256]</td>\n",
       "    </tr>\n",
       "    <tr>\n",
       "      <th>13</th>\n",
       "      <td>Individual 1</td>\n",
       "      <td>None</td>\n",
       "      <td>[MAPK8IP3]</td>\n",
       "      <td>chr16 g.1762843C&gt;T</td>\n",
       "      <td>ENSP00000501096</td>\n",
       "      <td>[HP:0001270, HP:0031936, HP:0010864, HP:000075...</td>\n",
       "    </tr>\n",
       "    <tr>\n",
       "      <th>14</th>\n",
       "      <td>7</td>\n",
       "      <td>None</td>\n",
       "      <td>[MAPK8IP3]</td>\n",
       "      <td>chr16 g.1762388G&gt;A</td>\n",
       "      <td>ENSP00000501096</td>\n",
       "      <td>[HP:0001256]</td>\n",
       "    </tr>\n",
       "    <tr>\n",
       "      <th>15</th>\n",
       "      <td>10</td>\n",
       "      <td>None</td>\n",
       "      <td>[MAPK8IP3]</td>\n",
       "      <td>chr16 g.1766768C&gt;G</td>\n",
       "      <td>ENSP00000501096</td>\n",
       "      <td>[HP:0002342]</td>\n",
       "    </tr>\n",
       "    <tr>\n",
       "      <th>16</th>\n",
       "      <td>11</td>\n",
       "      <td>None</td>\n",
       "      <td>[MAPK8IP3]</td>\n",
       "      <td>chr16 g.1767834C&gt;T</td>\n",
       "      <td>ENSP00000501096</td>\n",
       "      <td>[HP:0001257, HP:0002342]</td>\n",
       "    </tr>\n",
       "    <tr>\n",
       "      <th>17</th>\n",
       "      <td>1</td>\n",
       "      <td>None</td>\n",
       "      <td>[MAPK8IP3]</td>\n",
       "      <td>chr16 g.1706403_1706403delG</td>\n",
       "      <td>ENSP00000501096</td>\n",
       "      <td>[HP:0001251, HP:0002342]</td>\n",
       "    </tr>\n",
       "  </tbody>\n",
       "</table>\n",
       "</div>"
      ],
      "text/plain": [
       "      Patient ID Disease        Gene                      Variant  \\\n",
       "0   Individual 5    None  [MAPK8IP3]           chr16 g.1767834C>T   \n",
       "1             12    None  [MAPK8IP3]           chr16 g.1767834C>T   \n",
       "2              2    None  [MAPK8IP3]           chr16 g.1706418G>T   \n",
       "3              3    None  [MAPK8IP3]           chr16 g.1706450C>G   \n",
       "4             13    None  [MAPK8IP3]           chr16 g.1767834C>T   \n",
       "5   Individual 4    None  [MAPK8IP3]           chr16 g.1767834C>T   \n",
       "6              4    None  [MAPK8IP3]           chr16 g.1748705G>A   \n",
       "7              8    None  [MAPK8IP3]           chr16 g.1762843C>T   \n",
       "8   Individual 3    None  [MAPK8IP3]           chr16 g.1762843C>T   \n",
       "9   Individual 2    None  [MAPK8IP3]           chr16 g.1762843C>T   \n",
       "10             9    None  [MAPK8IP3]           chr16 g.1762843C>T   \n",
       "11             5    None  [MAPK8IP3]           chr16 g.1760409T>C   \n",
       "12             6    None  [MAPK8IP3]           chr16 g.1760409T>C   \n",
       "13  Individual 1    None  [MAPK8IP3]           chr16 g.1762843C>T   \n",
       "14             7    None  [MAPK8IP3]           chr16 g.1762388G>A   \n",
       "15            10    None  [MAPK8IP3]           chr16 g.1766768C>G   \n",
       "16            11    None  [MAPK8IP3]           chr16 g.1767834C>T   \n",
       "17             1    None  [MAPK8IP3]  chr16 g.1706403_1706403delG   \n",
       "\n",
       "            Protein                                          HPO Terms  \n",
       "0   ENSP00000501096  [HP:0001270, HP:0032988, HP:0025336, HP:003193...  \n",
       "1   ENSP00000501096               [HP:0001257, HP:0100021, HP:0010864]  \n",
       "2   ENSP00000501096                           [HP:0001251, HP:0010864]  \n",
       "3   ENSP00000501096                                       [HP:0002342]  \n",
       "4   ENSP00000501096   [HP:0002317, HP:0007301, HP:0002370, HP:0002342]  \n",
       "5   ENSP00000501096  [HP:0001270, HP:0032988, HP:0032989, HP:002533...  \n",
       "6   ENSP00000501096                                       [HP:0001256]  \n",
       "7   ENSP00000501096                           [HP:0001258, HP:0010864]  \n",
       "8   ENSP00000501096  [HP:0001270, HP:0025336, HP:0031936, HP:000218...  \n",
       "9   ENSP00000501096  [HP:0001270, HP:0032989, HP:0031936, HP:001086...  \n",
       "10  ENSP00000501096   [HP:0007340, HP:0002493, HP:0001257, HP:0002342]  \n",
       "11  ENSP00000501096                                                 []  \n",
       "12  ENSP00000501096                                       [HP:0001256]  \n",
       "13  ENSP00000501096  [HP:0001270, HP:0031936, HP:0010864, HP:000075...  \n",
       "14  ENSP00000501096                                       [HP:0001256]  \n",
       "15  ENSP00000501096                                       [HP:0002342]  \n",
       "16  ENSP00000501096                           [HP:0001257, HP:0002342]  \n",
       "17  ENSP00000501096                           [HP:0001251, HP:0002342]  "
      ]
     },
     "execution_count": 4,
     "metadata": {},
     "output_type": "execute_result"
    }
   ],
   "source": [
    "allPatients.describe_all()"
   ]
  },
  {
   "cell_type": "markdown",
   "id": "e7bbcf56",
   "metadata": {},
   "source": [
    "We can also look more in depth as specific attributes of a patient. "
   ]
  },
  {
   "cell_type": "code",
   "execution_count": 9,
   "id": "c1b07396",
   "metadata": {},
   "outputs": [
    {
     "data": {
      "text/plain": [
       "ID                                                                   1\n",
       "Disease ID                                                        None\n",
       "Disease Label                                                     None\n",
       "HPO IDs                                   ['HP:0001251', 'HP:0002342']\n",
       "HPO Terms              ['Ataxia', 'Intellectual disability, moderate']\n",
       "Variant                                    chr16 g.1706403_1706403delG\n",
       "Gene Affected                                                 MAPK8IP3\n",
       "Effect of Variant                                              p.G22fs\n",
       "Protein Affected     C-Jun-amino-terminal kinase-interacting protein 3\n",
       "Protein ID                                             ENSP00000501096\n",
       "dtype: object"
      ]
     },
     "execution_count": 9,
     "metadata": {},
     "output_type": "execute_result"
    }
   ],
   "source": [
    "firstPat = allPatients.all_patients.get('1')\n",
    "firstPat.describe()"
   ]
  },
  {
   "cell_type": "markdown",
   "id": "85796d7e",
   "metadata": {},
   "source": [
    "## Run Correlation Analysis\n",
    "This function runs either a Chi^2^ test or a Fisher Exact test on the counts of each HPO Term that do or don't match a specific criteria. \n",
    "Format for function:\n",
    "RunStats(AllPatients Class, Fun1, Fun2, extraVar_1, extraVar_2)\n",
    "\n",
    "If Fun1 is CF.is_var_type, then extraVar_1 can be any variant type (missense, nonsense, deletion, etc.) and the function will count by HPO Term all the patients that have that type of variant and do or do not have that HPO Term. This will create the first half of the Contingency Table. Fun2 and extraVar_2 will do the same, creating the second half of the table. \n",
    "\n",
    "The example below creates a contingency table: <br>\n",
    "\n",
    "| Patients with HPO Term and with missense variant | Patients without HPO Term and with missense variant | <br>\n",
    "| Patients with HPO Term and with no missense variant | Patients without HPO Term and with no missense variant |\n"
   ]
  },
  {
   "cell_type": "code",
   "execution_count": null,
   "id": "8908b01e",
   "metadata": {},
   "outputs": [],
   "source": [
    "compare.RunStats(allPatients, CF.is_var_type, CF.is_not_var_type, 'missense', 'missense')\n"
   ]
  },
  {
   "cell_type": "code",
   "execution_count": null,
   "id": "990b661b",
   "metadata": {},
   "outputs": [],
   "source": [
    "for typ in allPatients.all_var_types:\n",
    "    print(f'Comparing all in {typ} vs out of {typ}')\n",
    "    compare.RunStats(allPatients, CF.is_var_type, CF.is_not_var_type, typ, typ)\n",
    "    for typ2 in allPatients.all_var_types:\n",
    "        if typ2 == typ:\n",
    "            continue\n",
    "        print(f'Comparing all in {typ} vs all in {typ2}')\n",
    "        compare.RunStats(allPatients, CF.is_var_type, CF.is_var_type, typ, typ2)"
   ]
  },
  {
   "cell_type": "code",
   "execution_count": null,
   "id": "3f875ec5",
   "metadata": {},
   "outputs": [],
   "source": [
    "for var in allPatients.all_variants:\n",
    "    print(f'Comparing affecting {var.variant_string} vs all not')\n",
    "    compare.RunStats(allPatients, CF.is_var_match, CF.is_not_var_match, var, var)"
   ]
  },
  {
   "cell_type": "code",
   "execution_count": null,
   "id": "652cc2b0",
   "metadata": {},
   "outputs": [],
   "source": [
    "compare.RunStats(allPatients,CF.in_feature, CF.not_in_feature,'Domain','Domain')"
   ]
  },
  {
   "cell_type": "code",
   "execution_count": null,
   "id": "d741aa06",
   "metadata": {},
   "outputs": [],
   "source": [
    "Protein.findProtein('ENSP00000501096')"
   ]
  },
  {
   "cell_type": "code",
   "execution_count": null,
   "id": "fbc77657",
   "metadata": {},
   "outputs": [],
   "source": [
    "compare.RunStats(allPatients, CF.is_var_type, CF.is_not_var_type, 'missense', 'missense')\n"
   ]
  },
  {
   "cell_type": "code",
   "execution_count": null,
   "id": "d7038530",
   "metadata": {},
   "outputs": [],
   "source": []
  }
 ],
 "metadata": {
  "kernelspec": {
   "display_name": "enviro",
   "language": "python",
   "name": "enviro"
  },
  "language_info": {
   "codemirror_mode": {
    "name": "ipython",
    "version": 3
   },
   "file_extension": ".py",
   "mimetype": "text/x-python",
   "name": "python",
   "nbconvert_exporter": "python",
   "pygments_lexer": "ipython3",
   "version": "3.9.14"
  }
 },
 "nbformat": 4,
 "nbformat_minor": 5
}
