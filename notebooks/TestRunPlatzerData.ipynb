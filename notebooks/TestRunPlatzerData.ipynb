{
 "cells": [
  {
   "cell_type": "code",
   "execution_count": null,
   "id": "09f523d1",
   "metadata": {},
   "outputs": [],
   "source": [
    "import sys\n",
    "import glob\n",
    "  \n",
    "from genophenocorr import *\n",
    "from genophenocorr import compare\n",
    "from genophenocorr import compare_func as CF"
   ]
  },
  {
   "cell_type": "code",
   "execution_count": null,
   "id": "b5a9484f",
   "metadata": {},
   "outputs": [],
   "source": [
    "allPatients = AllPatients('../phenopackets/PlatzerData/*.json')"
   ]
  },
  {
   "cell_type": "code",
   "execution_count": null,
   "id": "a710d8e4",
   "metadata": {},
   "outputs": [],
   "source": [
    "[p.describe() for p in allPatients.all_patients.values()]"
   ]
  },
  {
   "cell_type": "code",
   "execution_count": null,
   "id": "367d3551",
   "metadata": {},
   "outputs": [],
   "source": [
    "allPatients.count_vars_per_feature()"
   ]
  },
  {
   "cell_type": "code",
   "execution_count": null,
   "id": "f99c3c37",
   "metadata": {},
   "outputs": [],
   "source": [
    "for var in allPatients.all_variants:\n",
    "    print(var.variant_type)\n",
    "    print(var.variant.short_description)\n",
    "    print(var.variant.is_indel)\n",
    "    print(var.variant.effects()[0])"
   ]
  },
  {
   "cell_type": "code",
   "execution_count": null,
   "id": "990b661b",
   "metadata": {},
   "outputs": [],
   "source": [
    "for typ in allPatients.all_var_types:\n",
    "    print(f'Comparing all in {typ} vs out of {typ}')\n",
    "    compare.RunStats(allPatients, CF.is_var_type, CF.is_not_var_type, typ, typ)\n",
    "    for typ2 in allPatients.all_var_types:\n",
    "        if typ2 == typ:\n",
    "            continue\n",
    "        print(f'Comparing all in {typ} vs all in {typ2}')\n",
    "        compare.RunStats(allPatients, CF.is_var_type, CF.is_var_type, typ, typ2)"
   ]
  },
  {
   "cell_type": "code",
   "execution_count": null,
   "id": "3f875ec5",
   "metadata": {},
   "outputs": [],
   "source": [
    "for var in allPatients.all_variants:\n",
    "    print(f'Comparing affecting {var.variant_string} vs all not')\n",
    "    compare.RunStats(allPatients, CF.is_var_match, CF.is_not_var_match, var, var)"
   ]
  },
  {
   "cell_type": "code",
   "execution_count": null,
   "id": "652cc2b0",
   "metadata": {},
   "outputs": [],
   "source": [
    "compare.RunStats(allPatients,CF.in_feature, CF.not_in_feature,'Domain','Domain')"
   ]
  },
  {
   "cell_type": "code",
   "execution_count": null,
   "id": "d741aa06",
   "metadata": {},
   "outputs": [],
   "source": [
    "Protein.findProtein('ENSP00000501096')"
   ]
  },
  {
   "cell_type": "code",
   "execution_count": null,
   "id": "fbc77657",
   "metadata": {},
   "outputs": [],
   "source": [
    "compare.RunStats(allPatients, CF.is_var_type, CF.is_not_var_type, 'missense', 'missense')\n"
   ]
  },
  {
   "cell_type": "code",
   "execution_count": null,
   "id": "d7038530",
   "metadata": {},
   "outputs": [],
   "source": []
  }
 ],
 "metadata": {
  "kernelspec": {
   "display_name": "enviro",
   "language": "python",
   "name": "enviro"
  },
  "language_info": {
   "codemirror_mode": {
    "name": "ipython",
    "version": 3
   },
   "file_extension": ".py",
   "mimetype": "text/x-python",
   "name": "python",
   "nbconvert_exporter": "python",
   "pygments_lexer": "ipython3",
   "version": "3.9.14"
  }
 },
 "nbformat": 4,
 "nbformat_minor": 5
}
