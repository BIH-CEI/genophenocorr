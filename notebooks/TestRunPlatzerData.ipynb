{
 "cells": [
  {
   "cell_type": "code",
   "execution_count": 1,
   "id": "09f523d1",
   "metadata": {},
   "outputs": [],
   "source": [
    "import sys\n",
    "import glob\n",
    " \n",
    "sys.path.insert(0, '/Users/rekerl/Documents/Programs/gpc/')\n",
    " \n",
    "from gpc import *\n",
    "from gpc import compare\n",
    "from gpc import compare_func as CF"
   ]
  },
  {
   "cell_type": "code",
   "execution_count": 2,
   "id": "b5a9484f",
   "metadata": {},
   "outputs": [
    {
     "name": "stderr",
     "output_type": "stream",
     "text": [
      "INFO:pyensembl.sequence_data:Loaded sequence dictionary from /Users/rekerl/Library/Caches/pyensembl/GRCh38/ensembl107/Homo_sapiens.GRCh38.cdna.all.fa.gz.pickle\n",
      "INFO:pyensembl.sequence_data:Loaded sequence dictionary from /Users/rekerl/Library/Caches/pyensembl/GRCh38/ensembl107/Homo_sapiens.GRCh38.ncrna.fa.gz.pickle\n",
      "INFO:pyensembl.sequence_data:Loaded sequence dictionary from /Users/rekerl/Library/Caches/pyensembl/GRCh38/ensembl107/Homo_sapiens.GRCh38.pep.all.fa.gz.pickle\n"
     ]
    }
   ],
   "source": [
    "allPatients = AllPatients('../phenopackets/PlatzerData/*.json')"
   ]
  },
  {
   "cell_type": "code",
   "execution_count": null,
   "id": "a710d8e4",
   "metadata": {},
   "outputs": [],
   "source": [
    "[p.describe() for p in allPatients.all_patients.values()]"
   ]
  },
  {
   "cell_type": "code",
   "execution_count": null,
   "id": "367d3551",
   "metadata": {},
   "outputs": [],
   "source": [
    "allPatients.count_vars_per_feature()"
   ]
  },
  {
   "cell_type": "code",
   "execution_count": null,
   "id": "f99c3c37",
   "metadata": {},
   "outputs": [],
   "source": [
    "for var in allPatients.all_variants:\n",
    "    print(var.variant_type)\n",
    "    print(var.variant.short_description)\n",
    "    print(var.variant.is_indel)\n",
    "    print(var.variant.effects()[0])"
   ]
  },
  {
   "cell_type": "code",
   "execution_count": 3,
   "id": "990b661b",
   "metadata": {},
   "outputs": [
    {
     "name": "stdout",
     "output_type": "stream",
     "text": [
      "Comparing all in deletion vs out of deletion\n",
      "Total hpo terms: 36\n",
      "Bonferroni Corrected P-Value = 0.002777777777777778\n",
      "                                              1 w/ hpo  1 w/o hpo  2 w/ hpo  \\\n",
      "HP:0001251-Ataxia                                  1.0        0.0       1.0   \n",
      "HP:0002342-Intellectual disability, moderate       1.0        0.0       5.0   \n",
      "HP:0001270-Motor delay                             0.0        1.0       5.0   \n",
      "HP:0002317-Unsteady gait                           0.0        1.0       1.0   \n",
      "HP:0007301-Oromotor apraxia                        0.0        1.0       1.0   \n",
      "\n",
      "                                              2 w/o hpo      pval  \n",
      "HP:0001251-Ataxia                                  16.0  0.111111  \n",
      "HP:0002342-Intellectual disability, moderate       12.0  0.333333  \n",
      "HP:0001270-Motor delay                             12.0  1.000000  \n",
      "HP:0002317-Unsteady gait                           16.0  1.000000  \n",
      "HP:0007301-Oromotor apraxia                        16.0  1.000000  \n",
      "Comparing all in deletion vs all in nonsense\n",
      "Total hpo terms: 36\n",
      "Bonferroni Corrected P-Value = 0.002777777777777778\n",
      "                                              1 w/ hpo  1 w/o hpo  2 w/ hpo  \\\n",
      "HP:0001270-Motor delay                             0.0        1.0       0.0   \n",
      "HP:0001251-Ataxia                                  1.0        0.0       1.0   \n",
      "HP:0002342-Intellectual disability, moderate       1.0        0.0       1.0   \n",
      "HP:0002317-Unsteady gait                           0.0        1.0       0.0   \n",
      "HP:0007301-Oromotor apraxia                        0.0        1.0       0.0   \n",
      "\n",
      "                                              2 w/o hpo  pval  \n",
      "HP:0001270-Motor delay                              2.0   1.0  \n",
      "HP:0001251-Ataxia                                   1.0   1.0  \n",
      "HP:0002342-Intellectual disability, moderate        1.0   1.0  \n",
      "HP:0002317-Unsteady gait                            2.0   1.0  \n",
      "HP:0007301-Oromotor apraxia                         2.0   1.0  \n",
      "Comparing all in deletion vs all in indel\n",
      "Total hpo terms: 36\n",
      "Bonferroni Corrected P-Value = 0.002777777777777778\n",
      "                                              1 w/ hpo  1 w/o hpo  2 w/ hpo  \\\n",
      "HP:0001270-Motor delay                             0.0        1.0       0.0   \n",
      "HP:0001251-Ataxia                                  1.0        0.0       1.0   \n",
      "HP:0002342-Intellectual disability, moderate       1.0        0.0       1.0   \n",
      "HP:0002317-Unsteady gait                           0.0        1.0       0.0   \n",
      "HP:0007301-Oromotor apraxia                        0.0        1.0       0.0   \n",
      "\n",
      "                                              2 w/o hpo  pval  \n",
      "HP:0001270-Motor delay                              1.0   1.0  \n",
      "HP:0001251-Ataxia                                   0.0   1.0  \n",
      "HP:0002342-Intellectual disability, moderate        0.0   1.0  \n",
      "HP:0002317-Unsteady gait                            1.0   1.0  \n",
      "HP:0007301-Oromotor apraxia                         1.0   1.0  \n",
      "Comparing all in deletion vs all in transversion\n",
      "Total hpo terms: 36\n",
      "Bonferroni Corrected P-Value = 0.002777777777777778\n"
     ]
    },
    {
     "ename": "KeyboardInterrupt",
     "evalue": "",
     "output_type": "error",
     "traceback": [
      "\u001b[0;31m---------------------------------------------------------------------------\u001b[0m",
      "\u001b[0;31mKeyboardInterrupt\u001b[0m                         Traceback (most recent call last)",
      "Cell \u001b[0;32mIn [3], line 8\u001b[0m\n\u001b[1;32m      6\u001b[0m     \u001b[38;5;28;01mcontinue\u001b[39;00m\n\u001b[1;32m      7\u001b[0m \u001b[38;5;28mprint\u001b[39m(\u001b[38;5;124mf\u001b[39m\u001b[38;5;124m'\u001b[39m\u001b[38;5;124mComparing all in \u001b[39m\u001b[38;5;132;01m{\u001b[39;00mtyp\u001b[38;5;132;01m}\u001b[39;00m\u001b[38;5;124m vs all in \u001b[39m\u001b[38;5;132;01m{\u001b[39;00mtyp2\u001b[38;5;132;01m}\u001b[39;00m\u001b[38;5;124m'\u001b[39m)\n\u001b[0;32m----> 8\u001b[0m compare\u001b[38;5;241m.\u001b[39mRunStats(allPatients, CF\u001b[38;5;241m.\u001b[39mis_var_type, CF\u001b[38;5;241m.\u001b[39mis_var_type, typ, typ2)\n",
      "File \u001b[0;32m~/Documents/Programs/gpc/gpc/compare.py:19\u001b[0m, in \u001b[0;36mRunStats\u001b[0;34m(PatientList, Fun1, Fun2, extraVar_1, extraVar_2, show, chi2)\u001b[0m\n\u001b[1;32m     17\u001b[0m allSeries \u001b[38;5;241m=\u001b[39m []\n\u001b[1;32m     18\u001b[0m \u001b[38;5;28;01mfor\u001b[39;00m hpo_id \u001b[38;5;129;01min\u001b[39;00m all_hpo:\n\u001b[0;32m---> 19\u001b[0m     var1_with_hpo \u001b[38;5;241m=\u001b[39m \u001b[38;5;28mlen\u001b[39m([ pat \u001b[38;5;28;01mfor\u001b[39;00m pat \u001b[38;5;129;01min\u001b[39;00m PatientList\u001b[38;5;241m.\u001b[39mall_patients\u001b[38;5;241m.\u001b[39mvalues() \u001b[38;5;28;01mif\u001b[39;00m has_hpo(pat, hpo_id) \u001b[38;5;129;01mand\u001b[39;00m Fun1(pat, extraVar_1)])\n\u001b[1;32m     20\u001b[0m     var1_without_hpo \u001b[38;5;241m=\u001b[39m \u001b[38;5;28mlen\u001b[39m([ pat \u001b[38;5;28;01mfor\u001b[39;00m pat \u001b[38;5;129;01min\u001b[39;00m  PatientList\u001b[38;5;241m.\u001b[39mall_patients\u001b[38;5;241m.\u001b[39mvalues() \u001b[38;5;28;01mif\u001b[39;00m \u001b[38;5;129;01mnot\u001b[39;00m has_hpo(pat, hpo_id) \u001b[38;5;129;01mand\u001b[39;00m Fun1(pat,extraVar_1)])\n\u001b[1;32m     21\u001b[0m     var2_with_hpo \u001b[38;5;241m=\u001b[39m \u001b[38;5;28mlen\u001b[39m([ pat  \u001b[38;5;28;01mfor\u001b[39;00m pat \u001b[38;5;129;01min\u001b[39;00m PatientList\u001b[38;5;241m.\u001b[39mall_patients\u001b[38;5;241m.\u001b[39mvalues() \u001b[38;5;28;01mif\u001b[39;00m has_hpo(pat, hpo_id) \u001b[38;5;129;01mand\u001b[39;00m Fun2(pat,extraVar_2)])\n",
      "File \u001b[0;32m~/Documents/Programs/gpc/gpc/compare.py:19\u001b[0m, in \u001b[0;36m<listcomp>\u001b[0;34m(.0)\u001b[0m\n\u001b[1;32m     17\u001b[0m allSeries \u001b[38;5;241m=\u001b[39m []\n\u001b[1;32m     18\u001b[0m \u001b[38;5;28;01mfor\u001b[39;00m hpo_id \u001b[38;5;129;01min\u001b[39;00m all_hpo:\n\u001b[0;32m---> 19\u001b[0m     var1_with_hpo \u001b[38;5;241m=\u001b[39m \u001b[38;5;28mlen\u001b[39m([ pat \u001b[38;5;28;01mfor\u001b[39;00m pat \u001b[38;5;129;01min\u001b[39;00m PatientList\u001b[38;5;241m.\u001b[39mall_patients\u001b[38;5;241m.\u001b[39mvalues() \u001b[38;5;28;01mif\u001b[39;00m has_hpo(pat, hpo_id) \u001b[38;5;129;01mand\u001b[39;00m \u001b[43mFun1\u001b[49m\u001b[43m(\u001b[49m\u001b[43mpat\u001b[49m\u001b[43m,\u001b[49m\u001b[43m \u001b[49m\u001b[43mextraVar_1\u001b[49m\u001b[43m)\u001b[49m])\n\u001b[1;32m     20\u001b[0m     var1_without_hpo \u001b[38;5;241m=\u001b[39m \u001b[38;5;28mlen\u001b[39m([ pat \u001b[38;5;28;01mfor\u001b[39;00m pat \u001b[38;5;129;01min\u001b[39;00m  PatientList\u001b[38;5;241m.\u001b[39mall_patients\u001b[38;5;241m.\u001b[39mvalues() \u001b[38;5;28;01mif\u001b[39;00m \u001b[38;5;129;01mnot\u001b[39;00m has_hpo(pat, hpo_id) \u001b[38;5;129;01mand\u001b[39;00m Fun1(pat,extraVar_1)])\n\u001b[1;32m     21\u001b[0m     var2_with_hpo \u001b[38;5;241m=\u001b[39m \u001b[38;5;28mlen\u001b[39m([ pat  \u001b[38;5;28;01mfor\u001b[39;00m pat \u001b[38;5;129;01min\u001b[39;00m PatientList\u001b[38;5;241m.\u001b[39mall_patients\u001b[38;5;241m.\u001b[39mvalues() \u001b[38;5;28;01mif\u001b[39;00m has_hpo(pat, hpo_id) \u001b[38;5;129;01mand\u001b[39;00m Fun2(pat,extraVar_2)])\n",
      "File \u001b[0;32m~/Documents/Programs/gpc/gpc/compare_func.py:27\u001b[0m, in \u001b[0;36mis_var_type\u001b[0;34m(pat, varType)\u001b[0m\n\u001b[1;32m      8\u001b[0m \u001b[38;5;28;01mdef\u001b[39;00m \u001b[38;5;21mis_var_type\u001b[39m(pat, varType):\n\u001b[1;32m      9\u001b[0m     \u001b[38;5;124;03m\"\"\"\"\" Determines if the given Patient has a variant of the given variant type\u001b[39;00m\n\u001b[1;32m     10\u001b[0m \n\u001b[1;32m     11\u001b[0m \u001b[38;5;124;03m    Args:\u001b[39;00m\n\u001b[0;32m   (...)\u001b[0m\n\u001b[1;32m     24\u001b[0m \u001b[38;5;124;03m        boolean :   True if the Patient does have a variant with given variant type\u001b[39;00m\n\u001b[1;32m     25\u001b[0m \u001b[38;5;124;03m    \"\"\"\u001b[39;00m\u001b[38;5;124m\"\u001b[39m\u001b[38;5;124m\"\u001b[39m\n\u001b[0;32m---> 27\u001b[0m     \u001b[38;5;28;01mif\u001b[39;00m varType \u001b[38;5;129;01min\u001b[39;00m \u001b[43mpat\u001b[49m\u001b[38;5;241;43m.\u001b[39;49m\u001b[43mvariant\u001b[49m\u001b[38;5;241;43m.\u001b[39;49m\u001b[43mvariant_type\u001b[49m:\n\u001b[1;32m     28\u001b[0m         \u001b[38;5;28;01mreturn\u001b[39;00m \u001b[38;5;28;01mTrue\u001b[39;00m\n\u001b[1;32m     29\u001b[0m     \u001b[38;5;28;01melse\u001b[39;00m:\n",
      "File \u001b[0;32m~/Documents/Programs/gpc/gpc/variant_class.py:54\u001b[0m, in \u001b[0;36mVariant.variant_type\u001b[0;34m(self)\u001b[0m\n\u001b[1;32m     51\u001b[0m \u001b[38;5;129m@property\u001b[39m\n\u001b[1;32m     52\u001b[0m \u001b[38;5;28;01mdef\u001b[39;00m \u001b[38;5;21mvariant_type\u001b[39m(\u001b[38;5;28mself\u001b[39m):\n\u001b[1;32m     53\u001b[0m     all_types \u001b[38;5;241m=\u001b[39m []\n\u001b[0;32m---> 54\u001b[0m     \u001b[38;5;28;01mif\u001b[39;00m \u001b[38;5;129;01mnot\u001b[39;00m \u001b[38;5;28;43mself\u001b[39;49m\u001b[38;5;241;43m.\u001b[39;49m\u001b[43mtop_effect\u001b[49m\u001b[38;5;241m.\u001b[39mshort_description\u001b[38;5;241m.\u001b[39mendswith(\u001b[38;5;124m\"\u001b[39m\u001b[38;5;124m*\u001b[39m\u001b[38;5;124m\"\u001b[39m) \u001b[38;5;129;01mand\u001b[39;00m \u001b[38;5;28mself\u001b[39m\u001b[38;5;241m.\u001b[39mvariant\u001b[38;5;241m.\u001b[39mis_snv:\n\u001b[1;32m     55\u001b[0m         all_types\u001b[38;5;241m.\u001b[39mappend(\u001b[38;5;124m'\u001b[39m\u001b[38;5;124mmissense\u001b[39m\u001b[38;5;124m'\u001b[39m)\n\u001b[1;32m     56\u001b[0m     \u001b[38;5;28;01mif\u001b[39;00m \u001b[38;5;28mself\u001b[39m\u001b[38;5;241m.\u001b[39mtop_effect\u001b[38;5;241m.\u001b[39mshort_description\u001b[38;5;241m.\u001b[39mendswith(\u001b[38;5;124m\"\u001b[39m\u001b[38;5;124m*\u001b[39m\u001b[38;5;124m\"\u001b[39m) \u001b[38;5;129;01mand\u001b[39;00m \u001b[38;5;28mself\u001b[39m\u001b[38;5;241m.\u001b[39mvariant\u001b[38;5;241m.\u001b[39mis_snv:\n",
      "File \u001b[0;32m~/Documents/Programs/gpc/gpc/variant_class.py:89\u001b[0m, in \u001b[0;36mVariant.top_effect\u001b[0;34m(self)\u001b[0m\n\u001b[1;32m     87\u001b[0m \u001b[38;5;129m@property\u001b[39m\n\u001b[1;32m     88\u001b[0m \u001b[38;5;28;01mdef\u001b[39;00m \u001b[38;5;21mtop_effect\u001b[39m(\u001b[38;5;28mself\u001b[39m):\n\u001b[0;32m---> 89\u001b[0m     \u001b[38;5;28;01mif\u001b[39;00m \u001b[38;5;28;43mself\u001b[39;49m\u001b[38;5;241;43m.\u001b[39;49m\u001b[43meffects\u001b[49m \u001b[38;5;129;01mis\u001b[39;00m \u001b[38;5;129;01mnot\u001b[39;00m \u001b[38;5;28;01mNone\u001b[39;00m:\n\u001b[1;32m     90\u001b[0m         \u001b[38;5;28;01mreturn\u001b[39;00m \u001b[38;5;28mself\u001b[39m\u001b[38;5;241m.\u001b[39meffects\u001b[38;5;241m.\u001b[39mtop_priority_effect()\n\u001b[1;32m     91\u001b[0m     \u001b[38;5;28;01melse\u001b[39;00m:\n",
      "File \u001b[0;32m~/Documents/Programs/gpc/gpc/variant_class.py:83\u001b[0m, in \u001b[0;36mVariant.effects\u001b[0;34m(self)\u001b[0m\n\u001b[1;32m     80\u001b[0m \u001b[38;5;129m@property\u001b[39m\n\u001b[1;32m     81\u001b[0m \u001b[38;5;28;01mdef\u001b[39;00m \u001b[38;5;21meffects\u001b[39m(\u001b[38;5;28mself\u001b[39m):\n\u001b[1;32m     82\u001b[0m     \u001b[38;5;28;01mif\u001b[39;00m \u001b[38;5;28mself\u001b[39m\u001b[38;5;241m.\u001b[39m_variant \u001b[38;5;129;01mis\u001b[39;00m \u001b[38;5;129;01mnot\u001b[39;00m \u001b[38;5;28;01mNone\u001b[39;00m:\n\u001b[0;32m---> 83\u001b[0m         \u001b[38;5;28;01mreturn\u001b[39;00m \u001b[38;5;28;43mself\u001b[39;49m\u001b[38;5;241;43m.\u001b[39;49m\u001b[43mvariant\u001b[49m\u001b[38;5;241;43m.\u001b[39;49m\u001b[43meffects\u001b[49m\u001b[43m(\u001b[49m\u001b[43m)\u001b[49m\n\u001b[1;32m     84\u001b[0m     \u001b[38;5;28;01melse\u001b[39;00m:\n\u001b[1;32m     85\u001b[0m         \u001b[38;5;28;01mreturn\u001b[39;00m \u001b[38;5;28;01mNone\u001b[39;00m\n",
      "File \u001b[0;32m~/Documents/Programs/gpc/enviro/lib/python3.9/site-packages/varcode/variant.py:451\u001b[0m, in \u001b[0;36mVariant.effects\u001b[0;34m(self, raise_on_error)\u001b[0m\n\u001b[1;32m    450\u001b[0m \u001b[38;5;28;01mdef\u001b[39;00m \u001b[38;5;21meffects\u001b[39m(\u001b[38;5;28mself\u001b[39m, raise_on_error\u001b[38;5;241m=\u001b[39m\u001b[38;5;28;01mTrue\u001b[39;00m):\n\u001b[0;32m--> 451\u001b[0m     \u001b[38;5;28;01mreturn\u001b[39;00m \u001b[43mpredict_variant_effects\u001b[49m\u001b[43m(\u001b[49m\n\u001b[1;32m    452\u001b[0m \u001b[43m        \u001b[49m\u001b[43mvariant\u001b[49m\u001b[38;5;241;43m=\u001b[39;49m\u001b[38;5;28;43mself\u001b[39;49m\u001b[43m,\u001b[49m\u001b[43m \u001b[49m\u001b[43mraise_on_error\u001b[49m\u001b[38;5;241;43m=\u001b[39;49m\u001b[43mraise_on_error\u001b[49m\u001b[43m)\u001b[49m\n",
      "File \u001b[0;32m~/Documents/Programs/gpc/enviro/lib/python3.9/site-packages/varcode/effects/effect_prediction.py:94\u001b[0m, in \u001b[0;36mpredict_variant_effects\u001b[0;34m(variant, raise_on_error)\u001b[0m\n\u001b[1;32m     92\u001b[0m \u001b[38;5;28;01mfor\u001b[39;00m transcript \u001b[38;5;129;01min\u001b[39;00m transcripts_grouped_by_gene[gene_id]:\n\u001b[1;32m     93\u001b[0m     \u001b[38;5;28;01mif\u001b[39;00m raise_on_error:\n\u001b[0;32m---> 94\u001b[0m         effect \u001b[38;5;241m=\u001b[39m \u001b[43mpredict_variant_effect_on_transcript\u001b[49m\u001b[43m(\u001b[49m\n\u001b[1;32m     95\u001b[0m \u001b[43m            \u001b[49m\u001b[43mvariant\u001b[49m\u001b[38;5;241;43m=\u001b[39;49m\u001b[43mvariant\u001b[49m\u001b[43m,\u001b[49m\n\u001b[1;32m     96\u001b[0m \u001b[43m            \u001b[49m\u001b[43mtranscript\u001b[49m\u001b[38;5;241;43m=\u001b[39;49m\u001b[43mtranscript\u001b[49m\u001b[43m)\u001b[49m\n\u001b[1;32m     97\u001b[0m     \u001b[38;5;28;01melse\u001b[39;00m:\n\u001b[1;32m     98\u001b[0m         effect \u001b[38;5;241m=\u001b[39m predict_variant_effect_on_transcript_or_failure(\n\u001b[1;32m     99\u001b[0m             variant\u001b[38;5;241m=\u001b[39mvariant,\n\u001b[1;32m    100\u001b[0m             transcript\u001b[38;5;241m=\u001b[39mtranscript)\n",
      "File \u001b[0;32m~/Documents/Programs/gpc/enviro/lib/python3.9/site-packages/varcode/effects/effect_prediction.py:214\u001b[0m, in \u001b[0;36mpredict_variant_effect_on_transcript\u001b[0;34m(variant, transcript)\u001b[0m\n\u001b[1;32m    210\u001b[0m \u001b[38;5;28;01massert\u001b[39;00m \u001b[38;5;28mlen\u001b[39m(overlapping_exon_numbers_and_exons) \u001b[38;5;241m==\u001b[39m \u001b[38;5;241m1\u001b[39m\n\u001b[1;32m    212\u001b[0m exon_number, exon \u001b[38;5;241m=\u001b[39m overlapping_exon_numbers_and_exons[\u001b[38;5;241m0\u001b[39m]\n\u001b[0;32m--> 214\u001b[0m exonic_effect_annotation \u001b[38;5;241m=\u001b[39m \u001b[43mexonic_transcript_effect\u001b[49m\u001b[43m(\u001b[49m\n\u001b[1;32m    215\u001b[0m \u001b[43m    \u001b[49m\u001b[43mvariant\u001b[49m\u001b[43m,\u001b[49m\u001b[43m \u001b[49m\u001b[43mexon\u001b[49m\u001b[43m,\u001b[49m\u001b[43m \u001b[49m\u001b[43mexon_number\u001b[49m\u001b[43m,\u001b[49m\u001b[43m \u001b[49m\u001b[43mtranscript\u001b[49m\u001b[43m)\u001b[49m\n\u001b[1;32m    217\u001b[0m \u001b[38;5;66;03m# simple case: both start and end are in the same\u001b[39;00m\n\u001b[1;32m    218\u001b[0m \u001b[38;5;28;01mif\u001b[39;00m start_in_exon \u001b[38;5;129;01mand\u001b[39;00m end_in_exon:\n",
      "File \u001b[0;32m~/Documents/Programs/gpc/enviro/lib/python3.9/site-packages/varcode/effects/effect_prediction.py:331\u001b[0m, in \u001b[0;36mexonic_transcript_effect\u001b[0;34m(variant, exon, exon_number, transcript)\u001b[0m\n\u001b[1;32m    328\u001b[0m \u001b[38;5;28;01melse\u001b[39;00m:\n\u001b[1;32m    329\u001b[0m     genome_end \u001b[38;5;241m=\u001b[39m variant_end\n\u001b[0;32m--> 331\u001b[0m transcript_offset \u001b[38;5;241m=\u001b[39m \u001b[43minterval_offset_on_transcript\u001b[49m\u001b[43m(\u001b[49m\n\u001b[1;32m    332\u001b[0m \u001b[43m    \u001b[49m\u001b[43mgenome_start\u001b[49m\u001b[43m,\u001b[49m\u001b[43m \u001b[49m\u001b[43mgenome_end\u001b[49m\u001b[43m,\u001b[49m\u001b[43m \u001b[49m\u001b[43mtranscript\u001b[49m\u001b[43m)\u001b[49m\n\u001b[1;32m    334\u001b[0m \u001b[38;5;28;01mif\u001b[39;00m transcript\u001b[38;5;241m.\u001b[39mon_backward_strand:\n\u001b[1;32m    335\u001b[0m     cdna_ref \u001b[38;5;241m=\u001b[39m reverse_complement(genome_ref)\n",
      "File \u001b[0;32m~/Documents/Programs/gpc/enviro/lib/python3.9/site-packages/varcode/effects/transcript_helpers.py:54\u001b[0m, in \u001b[0;36minterval_offset_on_transcript\u001b[0;34m(start, end, transcript)\u001b[0m\n\u001b[1;32m     50\u001b[0m     end \u001b[38;5;241m=\u001b[39m transcript\u001b[38;5;241m.\u001b[39mend\n\u001b[1;32m     51\u001b[0m \u001b[38;5;66;03m# return earliest offset into the spliced transcript\u001b[39;00m\n\u001b[1;32m     52\u001b[0m \u001b[38;5;28;01mreturn\u001b[39;00m \u001b[38;5;28mmin\u001b[39m(\n\u001b[1;32m     53\u001b[0m     transcript\u001b[38;5;241m.\u001b[39mspliced_offset(start),\n\u001b[0;32m---> 54\u001b[0m     \u001b[43mtranscript\u001b[49m\u001b[38;5;241;43m.\u001b[39;49m\u001b[43mspliced_offset\u001b[49m\u001b[43m(\u001b[49m\u001b[43mend\u001b[49m\u001b[43m)\u001b[49m)\n",
      "File \u001b[0;32m~/Documents/Programs/gpc/enviro/lib/python3.9/site-packages/pyensembl/transcript.py:307\u001b[0m, in \u001b[0;36mTranscript.spliced_offset\u001b[0;34m(self, position)\u001b[0m\n\u001b[1;32m    296\u001b[0m total_spliced_offset \u001b[38;5;241m=\u001b[39m \u001b[38;5;241m0\u001b[39m\n\u001b[1;32m    298\u001b[0m \u001b[38;5;66;03m# traverse exons in order of their appearance on the strand\u001b[39;00m\n\u001b[1;32m    299\u001b[0m \u001b[38;5;66;03m# Since absolute positions may decrease if on the negative strand,\u001b[39;00m\n\u001b[1;32m    300\u001b[0m \u001b[38;5;66;03m# we instead use unspliced offsets to get always increasing indices.\u001b[39;00m\n\u001b[0;32m   (...)\u001b[0m\n\u001b[1;32m    305\u001b[0m \u001b[38;5;66;03m# Spliced Offset:           123456                789...\u001b[39;00m\n\u001b[1;32m    306\u001b[0m \u001b[38;5;66;03m# Intron vs. Exon: ...iiiiiieeeeeeiiiiiiiiiiiiiiiieeeeeeiiiiiiiiiii...\u001b[39;00m\n\u001b[0;32m--> 307\u001b[0m \u001b[38;5;28;01mfor\u001b[39;00m exon \u001b[38;5;129;01min\u001b[39;00m \u001b[38;5;28;43mself\u001b[39;49m\u001b[38;5;241;43m.\u001b[39;49m\u001b[43mexons\u001b[49m:\n\u001b[1;32m    308\u001b[0m     exon_unspliced_start, exon_unspliced_end \u001b[38;5;241m=\u001b[39m \u001b[38;5;28mself\u001b[39m\u001b[38;5;241m.\u001b[39moffset_range(\n\u001b[1;32m    309\u001b[0m         exon\u001b[38;5;241m.\u001b[39mstart, exon\u001b[38;5;241m.\u001b[39mend)\n\u001b[1;32m    310\u001b[0m     \u001b[38;5;66;03m# If the relative position is not within this exon, keep a running\u001b[39;00m\n\u001b[1;32m    311\u001b[0m     \u001b[38;5;66;03m# total of the total exonic length-so-far.\u001b[39;00m\n\u001b[1;32m    312\u001b[0m     \u001b[38;5;66;03m#\u001b[39;00m\n\u001b[0;32m   (...)\u001b[0m\n\u001b[1;32m    315\u001b[0m     \u001b[38;5;66;03m# position from the relative position. Add that to the total exonic\u001b[39;00m\n\u001b[1;32m    316\u001b[0m     \u001b[38;5;66;03m# length-so-far.\u001b[39;00m\n",
      "File \u001b[0;32m~/Documents/Programs/gpc/enviro/lib/python3.9/site-packages/pyensembl/transcript.py:133\u001b[0m, in \u001b[0;36mTranscript.exons\u001b[0;34m(self)\u001b[0m\n\u001b[1;32m    130\u001b[0m exons \u001b[38;5;241m=\u001b[39m [\u001b[38;5;28;01mNone\u001b[39;00m] \u001b[38;5;241m*\u001b[39m \u001b[38;5;28mlen\u001b[39m(exon_numbers_and_ids)\n\u001b[1;32m    132\u001b[0m \u001b[38;5;28;01mfor\u001b[39;00m exon_number, exon_id \u001b[38;5;129;01min\u001b[39;00m exon_numbers_and_ids:\n\u001b[0;32m--> 133\u001b[0m     exon \u001b[38;5;241m=\u001b[39m \u001b[38;5;28;43mself\u001b[39;49m\u001b[38;5;241;43m.\u001b[39;49m\u001b[43mgenome\u001b[49m\u001b[38;5;241;43m.\u001b[39;49m\u001b[43mexon_by_id\u001b[49m\u001b[43m(\u001b[49m\u001b[43mexon_id\u001b[49m\u001b[43m)\u001b[49m\n\u001b[1;32m    134\u001b[0m     \u001b[38;5;28;01mif\u001b[39;00m exon \u001b[38;5;129;01mis\u001b[39;00m \u001b[38;5;28;01mNone\u001b[39;00m:\n\u001b[1;32m    135\u001b[0m         \u001b[38;5;28;01mraise\u001b[39;00m \u001b[38;5;167;01mValueError\u001b[39;00m(\n\u001b[1;32m    136\u001b[0m             \u001b[38;5;124m\"\u001b[39m\u001b[38;5;124mMissing exon \u001b[39m\u001b[38;5;132;01m%s\u001b[39;00m\u001b[38;5;124m for transcript \u001b[39m\u001b[38;5;132;01m%s\u001b[39;00m\u001b[38;5;124m\"\u001b[39m \u001b[38;5;241m%\u001b[39m (\n\u001b[1;32m    137\u001b[0m                 exon_number, \u001b[38;5;28mself\u001b[39m\u001b[38;5;241m.\u001b[39mid))\n",
      "File \u001b[0;32m~/Documents/Programs/gpc/enviro/lib/python3.9/site-packages/pyensembl/genome.py:1060\u001b[0m, in \u001b[0;36mGenome.exon_by_id\u001b[0;34m(self, exon_id)\u001b[0m\n\u001b[1;32m   1044\u001b[0m     contig, start, end, strand, gene_name, gene_id \u001b[38;5;241m=\u001b[39m \u001b[38;5;28mself\u001b[39m\u001b[38;5;241m.\u001b[39mdb\u001b[38;5;241m.\u001b[39mquery_one(\n\u001b[1;32m   1045\u001b[0m         select_column_names\u001b[38;5;241m=\u001b[39mfield_names,\n\u001b[1;32m   1046\u001b[0m         filter_column\u001b[38;5;241m=\u001b[39m\u001b[38;5;124m\"\u001b[39m\u001b[38;5;124mexon_id\u001b[39m\u001b[38;5;124m\"\u001b[39m,\n\u001b[1;32m   1047\u001b[0m         filter_value\u001b[38;5;241m=\u001b[39mexon_id,\n\u001b[1;32m   1048\u001b[0m         feature\u001b[38;5;241m=\u001b[39m\u001b[38;5;124m\"\u001b[39m\u001b[38;5;124mexon\u001b[39m\u001b[38;5;124m\"\u001b[39m,\n\u001b[1;32m   1049\u001b[0m         distinct\u001b[38;5;241m=\u001b[39m\u001b[38;5;28;01mTrue\u001b[39;00m)\n\u001b[1;32m   1051\u001b[0m     \u001b[38;5;28mself\u001b[39m\u001b[38;5;241m.\u001b[39m_exons[exon_id] \u001b[38;5;241m=\u001b[39m Exon(\n\u001b[1;32m   1052\u001b[0m         exon_id\u001b[38;5;241m=\u001b[39mexon_id,\n\u001b[1;32m   1053\u001b[0m         contig\u001b[38;5;241m=\u001b[39mcontig,\n\u001b[0;32m   (...)\u001b[0m\n\u001b[1;32m   1057\u001b[0m         gene_name\u001b[38;5;241m=\u001b[39mgene_name,\n\u001b[1;32m   1058\u001b[0m         gene_id\u001b[38;5;241m=\u001b[39mgene_id)\n\u001b[0;32m-> 1060\u001b[0m \u001b[38;5;28;01mreturn\u001b[39;00m \u001b[38;5;28;43mself\u001b[39;49m\u001b[38;5;241;43m.\u001b[39;49m\u001b[43m_exons\u001b[49m[exon_id]\n",
      "\u001b[0;31mKeyboardInterrupt\u001b[0m: "
     ]
    }
   ],
   "source": [
    "for typ in allPatients.all_var_types:\n",
    "    print(f'Comparing all in {typ} vs out of {typ}')\n",
    "    compare.RunStats(allPatients, CF.is_var_type, CF.is_not_var_type, typ, typ)\n",
    "    for typ2 in allPatients.all_var_types:\n",
    "        if typ2 == typ:\n",
    "            continue\n",
    "        print(f'Comparing all in {typ} vs all in {typ2}')\n",
    "        compare.RunStats(allPatients, CF.is_var_type, CF.is_var_type, typ, typ2)"
   ]
  },
  {
   "cell_type": "code",
   "execution_count": null,
   "id": "3f875ec5",
   "metadata": {},
   "outputs": [],
   "source": [
    "for var in allPatients.all_variants:\n",
    "    print(f'Comparing affecting {var.variant_string} vs all not')\n",
    "    compare.RunStats(allPatients, CF.is_var_match, CF.is_not_var_match, var, var)"
   ]
  },
  {
   "cell_type": "code",
   "execution_count": null,
   "id": "652cc2b0",
   "metadata": {},
   "outputs": [],
   "source": [
    "compare.RunStats(allPatients,CF.in_feature, CF.not_in_feature,'Domain','Domain')"
   ]
  },
  {
   "cell_type": "code",
   "execution_count": null,
   "id": "d741aa06",
   "metadata": {},
   "outputs": [],
   "source": [
    "Protein.findProtein('ENSP00000501096')"
   ]
  },
  {
   "cell_type": "code",
   "execution_count": null,
   "id": "fbc77657",
   "metadata": {},
   "outputs": [],
   "source": [
    "compare.RunStats(allPatients, CF.is_var_type, CF.is_not_var_type, 'missense', 'missense')\n"
   ]
  },
  {
   "cell_type": "code",
   "execution_count": null,
   "id": "d7038530",
   "metadata": {},
   "outputs": [],
   "source": []
  }
 ],
 "metadata": {
  "kernelspec": {
   "display_name": "enviro",
   "language": "python",
   "name": "enviro"
  },
  "language_info": {
   "codemirror_mode": {
    "name": "ipython",
    "version": 3
   },
   "file_extension": ".py",
   "mimetype": "text/x-python",
   "name": "python",
   "nbconvert_exporter": "python",
   "pygments_lexer": "ipython3",
   "version": "3.9.14"
  }
 },
 "nbformat": 4,
 "nbformat_minor": 5
}
