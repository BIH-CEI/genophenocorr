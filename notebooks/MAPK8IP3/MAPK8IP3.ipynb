{
 "cells": [
  {
   "cell_type": "markdown",
   "id": "2ac29362",
   "metadata": {},
   "source": [
    "<H1>MAPK8IP3 genotype phenotype correlations</H1>"
   ]
  },
  {
   "cell_type": "markdown",
   "id": "6f610b9f-26c5-4d12-948e-85fbbd6a0e1a",
   "metadata": {},
   "source": [
    "Ensure you install the `genophenocorr` package into your Jupyter kernel before running the notebook:\n",
    "\n",
    "```shell\n",
    "source path/to/kernel/venv/bin/activate\n",
    "\n",
    "cd genophenocorr\n",
    "python3 -m pip install --editable .\n",
    "```\n",
    "\n",
    "> The above block will install genophenocorr and its dependencies into the virtual environment.\n",
    "> The installation is done in the *editable* mode, where the changes made to the code (e.g. in an IDE) are available in the notebook immediately after the kernel restart, without the need to reinstall the library."
   ]
  },
  {
   "cell_type": "code",
   "execution_count": 1,
   "id": "cf4f2c2f",
   "metadata": {},
   "outputs": [
    {
     "name": "stdout",
     "output_type": "stream",
     "text": [
      "Using genophenocorr version 0.1.0\n"
     ]
    }
   ],
   "source": [
    "import os\n",
    "import sys\n",
    "\n",
    "import glob\n",
    "import pprint\n",
    "\n",
    "import hpotk\n",
    "import genophenocorr\n",
    "print(f\"Using genophenocorr version {genophenocorr.__version__}\")"
   ]
  },
  {
   "cell_type": "markdown",
   "id": "06e63a5b-ed9a-489b-a85d-731987025077",
   "metadata": {},
   "source": [
    "## Set resource paths"
   ]
  },
  {
   "cell_type": "code",
   "execution_count": 2,
   "id": "0efa6fbf-0fc4-44b8-8c7d-c7da34581e9b",
   "metadata": {},
   "outputs": [],
   "source": [
    "fpath_hpo = '/home/ielis/data/ontologies/hpo/2023-07-21/hp.2023-07-21.json'\n",
    "fpath_pp_dir = 'phenopackets'\n",
    "\n",
    "hpo = hpotk.load_minimal_ontology(fpath_hpo)"
   ]
  },
  {
   "cell_type": "markdown",
   "id": "ca2737ce-aa26-4b79-a299-acd6d48c9e04",
   "metadata": {},
   "source": [
    "## Load phenopackets into a `Cohort`"
   ]
  },
  {
   "cell_type": "markdown",
   "id": "fbd37a28-456e-44e6-bc6c-a1a38120d51f",
   "metadata": {},
   "source": [
    "### Configure the patient creator"
   ]
  },
  {
   "cell_type": "code",
   "execution_count": 3,
   "id": "fa65ee25-2623-48ab-9298-06420621d845",
   "metadata": {},
   "outputs": [],
   "source": [
    "from genophenocorr.preprocessing import configure_caching_patient_creator\n",
    "\n",
    "patient_creator = configure_caching_patient_creator(hpo)"
   ]
  },
  {
   "cell_type": "markdown",
   "id": "9717f939-6767-4beb-8730-11815dec233c",
   "metadata": {},
   "source": [
    "### Load the patients from phenopackets"
   ]
  },
  {
   "cell_type": "code",
   "execution_count": 4,
   "id": "69764d0f-0514-4140-9135-9b83ef1239fc",
   "metadata": {
    "scrolled": true
   },
   "outputs": [
    {
     "name": "stdout",
     "output_type": "stream",
     "text": [
      "Loading phenopacket from phenopackets/PMID_30612693_6.json\n",
      "Loading phenopacket from phenopackets/PMID_31278393_6.json\n",
      "Loading phenopacket from phenopackets/PMID_30612693_9.json\n",
      "Loading phenopacket from phenopackets/PMID_30612693_11.json\n",
      "Loading phenopacket from phenopackets/PMID_31278393_3.json\n",
      "Loading phenopacket from phenopackets/PMID_30612693_3.json\n",
      "Loading phenopacket from phenopackets/PMID_31278393_7.json\n",
      "Loading phenopacket from phenopackets/PMID_30612693_10.json\n",
      "Loading phenopacket from phenopackets/PMID_31278393_5.json\n",
      "Loading phenopacket from phenopackets/PMID_31278393_1.json\n",
      "Loading phenopacket from phenopackets/PMID_30612693_1.json\n",
      "Loading phenopacket from phenopackets/PMID_111_probandA.json\n",
      "Loading phenopacket from phenopackets/PMID_30612693_4.json\n",
      "Loading phenopacket from phenopackets/PMID_30612693_2.json\n",
      "Loading phenopacket from phenopackets/PMID_31278393_8.json\n",
      "Loading phenopacket from phenopackets/PMID_30612693_13.json\n",
      "Loading phenopacket from phenopackets/PMID_30612693_8.json\n",
      "Loading phenopacket from phenopackets/PMID_30612693_12.json\n",
      "Loading phenopacket from phenopackets/PMID_31278393_2.json\n",
      "Loading phenopacket from phenopackets/PMID_30612693_5.json\n",
      "Loading phenopacket from phenopackets/PMID_30612693_7.json\n",
      "Loading phenopacket from phenopackets/PMID_31278393_4.json\n",
      "Loaded 22 patients\n"
     ]
    }
   ],
   "source": [
    "from phenopackets import Phenopacket\n",
    "from google.protobuf.json_format import Parse\n",
    "\n",
    "patients = []\n",
    "for dirpath, dirnames, filenames in os.walk(fpath_pp_dir):\n",
    "    for filename in filenames:\n",
    "        if filename.endswith('.json'):\n",
    "            fpath_pp = os.path.join(dirpath, filename)\n",
    "            print(f'Loading phenopacket from {fpath_pp}')\n",
    "            with open(fpath_pp) as fh:\n",
    "                pp = Phenopacket()\n",
    "                Parse(fh.read(), pp)\n",
    "            patient = patient_creator.create_patient(pp)\n",
    "            patients.append(patient)\n",
    "print(f'Loaded {len(patients)} patients')"
   ]
  },
  {
   "cell_type": "markdown",
   "id": "7284dfa8-ffdc-402c-b6c6-e9457ccd6bb4",
   "metadata": {},
   "source": [
    "## Assemble the patients into a cohort"
   ]
  },
  {
   "cell_type": "code",
   "execution_count": 5,
   "id": "5a4ade41-074b-479d-a31a-23667f5f5128",
   "metadata": {},
   "outputs": [],
   "source": [
    "from genophenocorr.model import Cohort\n",
    "\n",
    "cohort = Cohort.from_patients(patients)"
   ]
  },
  {
   "cell_type": "code",
   "execution_count": 6,
   "id": "51d6d553-7b84-4e1e-a4bc-30dc921ecf5d",
   "metadata": {},
   "outputs": [
    {
     "data": {
      "text/plain": [
       "['4',\n",
       " '12',\n",
       " '7',\n",
       " '9',\n",
       " '1',\n",
       " '13',\n",
       " '1',\n",
       " '5',\n",
       " '3',\n",
       " '5',\n",
       " '3',\n",
       " '11',\n",
       " '10',\n",
       " '4',\n",
       " 'PMID_111_probandA',\n",
       " '8',\n",
       " '6',\n",
       " '7',\n",
       " '2',\n",
       " '2',\n",
       " '6',\n",
       " '8']"
      ]
     },
     "execution_count": 6,
     "metadata": {},
     "output_type": "execute_result"
    }
   ],
   "source": [
    "cohort.list_all_patients()"
   ]
  }
 ],
 "metadata": {
  "kernelspec": {
   "display_name": "gpcvenv",
   "language": "python",
   "name": "gpcvenv"
  },
  "language_info": {
   "codemirror_mode": {
    "name": "ipython",
    "version": 3
   },
   "file_extension": ".py",
   "mimetype": "text/x-python",
   "name": "python",
   "nbconvert_exporter": "python",
   "pygments_lexer": "ipython3",
   "version": "3.11.3"
  }
 },
 "nbformat": 4,
 "nbformat_minor": 5
}
