{
 "cells": [
  {
   "cell_type": "markdown",
   "id": "2ac29362",
   "metadata": {},
   "source": [
    "<H1>MAPK8IP3 genotype phenotype correlations</H1>"
   ]
  },
  {
   "cell_type": "markdown",
   "id": "2b419f84-2bd3-4234-9901-a519ece47efe",
   "metadata": {},
   "source": [
    "Ensure you install `genophenocorr` into your Jupyter kernel/virtual environment before running this notebook. Using `--editable` option makes the \n",
    "latest library features available upon kernel restart, no re-installation is necessary.\n",
    "\n",
    "```shell\n",
    "source your/virtual/environment/bin/activate\n",
    "\n",
    "cd genophenocorr\n",
    "python3 -m pip install --editable .\n",
    "```"
   ]
  },
  {
   "cell_type": "code",
   "execution_count": 7,
   "id": "cf4f2c2f",
   "metadata": {},
   "outputs": [
    {
     "name": "stdout",
     "output_type": "stream",
     "text": [
      "Using genophenocorr version 0.1.0\n"
     ]
    }
   ],
   "source": [
    "import genophenocorr\n",
    "print(f\"Using genophenocorr version {genophenocorr.__version__}\")"
   ]
  },
  {
   "cell_type": "markdown",
   "id": "edaa0759-d32b-463d-bb33-3d6320f57851",
   "metadata": {},
   "source": [
    "## Initial setup\n",
    "\n",
    "We'll need HPO for the analysis"
   ]
  },
  {
   "cell_type": "code",
   "execution_count": 9,
   "id": "f4e93142-82a9-4c07-acbd-01d3a7ff64bb",
   "metadata": {},
   "outputs": [
    {
     "name": "stdout",
     "output_type": "stream",
     "text": [
      "Loaded HPO v2023-07-21\n"
     ]
    }
   ],
   "source": [
    "import hpotk\n",
    "\n",
    "fpath_hpo = '/home/ielis/data/ontologies/hpo/2023-07-21/hp.2023-07-21.json'\n",
    "hpo = hpotk.load_minimal_ontology(fpath_hpo)\n",
    "\n",
    "print(f'Loaded HPO v{hpo.version}')"
   ]
  },
  {
   "cell_type": "markdown",
   "id": "93578228-0cc2-4fb3-bfa4-c83af5cd613f",
   "metadata": {},
   "source": [
    "## Load phenopackets"
   ]
  },
  {
   "cell_type": "markdown",
   "id": "d6f96f14-448d-418a-bcf1-fa3ad7df6155",
   "metadata": {},
   "source": [
    "### Configure the phenopacket patient creator"
   ]
  },
  {
   "cell_type": "code",
   "execution_count": 10,
   "id": "d5645eb6-8a94-4d69-bb6f-60ad59836e82",
   "metadata": {},
   "outputs": [],
   "source": [
    "from genophenocorr.preprocessing import configure_caching_patient_creator\n",
    "\n",
    "patient_creator = configure_caching_patient_creator(hpo)"
   ]
  },
  {
   "cell_type": "markdown",
   "id": "ee9165f5-49f0-4ae7-b69e-cbe11f84d45e",
   "metadata": {},
   "source": [
    "## Parse the phenopackets\n",
    "\n",
    "Load the phenopackets locaded in the `phenopackets` folder."
   ]
  },
  {
   "cell_type": "code",
   "execution_count": 11,
   "id": "41b1bf3d-4c4b-4d63-b3b7-2ad081f1349e",
   "metadata": {},
   "outputs": [
    {
     "name": "stdout",
     "output_type": "stream",
     "text": [
      "Loaded 22 patients\n"
     ]
    }
   ],
   "source": [
    "import os\n",
    "\n",
    "from google.protobuf.json_format import Parse\n",
    "from phenopackets import Phenopacket\n",
    "\n",
    "fpath_pp_dir = 'phenopackets'\n",
    "\n",
    "patients = []\n",
    "\n",
    "for dirpath, dirnames, filenames in os.walk(fpath_pp_dir):\n",
    "    for filename in filenames:\n",
    "        if filename.endswith('.json'):\n",
    "            fpath_pp = os.path.join(dirpath, filename)\n",
    "            pp = Phenopacket()\n",
    "            with open(fpath_pp) as fh:\n",
    "                Parse(fh.read(), pp)\n",
    "            patient = patient_creator.create_patient(pp)\n",
    "            patients.append(patient)\n",
    "\n",
    "print(f'Loaded {len(patients)} patients')"
   ]
  },
  {
   "cell_type": "markdown",
   "id": "7da6a6c5-0bac-4fd8-85dc-af1b05ebbcc1",
   "metadata": {},
   "source": [
    "## Create a cohort from the patients\n"
   ]
  },
  {
   "cell_type": "code",
   "execution_count": 16,
   "id": "2c7b645f-87bb-45ce-98c9-7a43972b977b",
   "metadata": {},
   "outputs": [
    {
     "data": {
      "text/plain": [
       "frozenset({Patient(patient_id:1, variants:['16_1706403_G/-'], phenotypes:[DefaultTermId(idx=2, value=HP_0001251), DefaultTermId(idx=2, value=HP_0001263), DefaultTermId(idx=2, value=HP_0002376), DefaultTermId(idx=2, value=HP_0000717), DefaultTermId(idx=2, value=HP_0001252), DefaultTermId(idx=2, value=HP_0100022), DefaultTermId(idx=2, value=HP_0100704), DefaultTermId(idx=2, value=HP_0001250)], proteins:['NP_001305781.1', 'NP_653171.1', 'NP_001035529.1', 'NP_055948.2']),\n",
       "           Patient(patient_id:1, variants:['9_70598463_C/T'], phenotypes:[DefaultTermId(idx=2, value=HP_0010864), DefaultTermId(idx=2, value=HP_0031936), DefaultTermId(idx=2, value=HP_0000750), DefaultTermId(idx=2, value=HP_0000729), DefaultTermId(idx=2, value=HP_0011147), DefaultTermId(idx=2, value=HP_0001252)], proteins:['NP_001007472.2']),\n",
       "           Patient(patient_id:10, variants:['16_1766768_C/G'], phenotypes:[DefaultTermId(idx=2, value=HP_0001263), DefaultTermId(idx=2, value=HP_0002342), DefaultTermId(idx=2, value=HP_0002376), DefaultTermId(idx=2, value=HP_0000717), DefaultTermId(idx=2, value=HP_0001252), DefaultTermId(idx=2, value=HP_0001250)], proteins:['NP_001305781.1', 'NP_055948.2', 'NP_001035529.1', 'NP_002504.2']),\n",
       "           Patient(patient_id:11, variants:['16_1767834_C/T'], phenotypes:[DefaultTermId(idx=2, value=HP_0001257), DefaultTermId(idx=2, value=HP_0001263), DefaultTermId(idx=2, value=HP_0002342), DefaultTermId(idx=2, value=HP_0001252), DefaultTermId(idx=2, value=HP_0100022), DefaultTermId(idx=2, value=HP_0100704), DefaultTermId(idx=2, value=HP_0001250)], proteins:['NP_001035529.1', 'NP_001244299.1', 'NP_001287829.1', 'NP_076425.1', 'NP_055948.2', 'NP_001305781.1', 'NP_002504.2']),\n",
       "           Patient(patient_id:12, variants:['16_1767834_C/T'], phenotypes:[DefaultTermId(idx=2, value=HP_0001257), DefaultTermId(idx=2, value=HP_0100021), DefaultTermId(idx=2, value=HP_0001263), DefaultTermId(idx=2, value=HP_0010864), DefaultTermId(idx=2, value=HP_0002376), DefaultTermId(idx=2, value=HP_0000717), DefaultTermId(idx=2, value=HP_0001252), DefaultTermId(idx=2, value=HP_0100704), DefaultTermId(idx=2, value=HP_0001250)], proteins:['NP_001035529.1', 'NP_001244299.1', 'NP_001287829.1', 'NP_076425.1', 'NP_055948.2', 'NP_001305781.1', 'NP_002504.2']),\n",
       "           Patient(patient_id:13, variants:['16_1767834_C/T'], phenotypes:[DefaultTermId(idx=2, value=HP_0002317), DefaultTermId(idx=2, value=HP_0007301), DefaultTermId(idx=2, value=HP_0002370), DefaultTermId(idx=2, value=HP_0001263), DefaultTermId(idx=2, value=HP_0002376), DefaultTermId(idx=2, value=HP_0000717), DefaultTermId(idx=2, value=HP_0001252), DefaultTermId(idx=2, value=HP_0100022), DefaultTermId(idx=2, value=HP_0100704), DefaultTermId(idx=2, value=HP_0001250)], proteins:['NP_001035529.1', 'NP_001244299.1', 'NP_001287829.1', 'NP_076425.1', 'NP_055948.2', 'NP_001305781.1', 'NP_002504.2']),\n",
       "           Patient(patient_id:2, variants:['16_1706418_G/T'], phenotypes:[DefaultTermId(idx=2, value=HP_0001251), DefaultTermId(idx=2, value=HP_0001263), DefaultTermId(idx=2, value=HP_0010864), DefaultTermId(idx=2, value=HP_0002376), DefaultTermId(idx=2, value=HP_0000717), DefaultTermId(idx=2, value=HP_0001252), DefaultTermId(idx=2, value=HP_0100022), DefaultTermId(idx=2, value=HP_0100704), DefaultTermId(idx=2, value=HP_0001250)], proteins:['NP_001305781.1', 'NP_653171.1', 'NP_001035529.1', 'NP_055948.2']),\n",
       "           Patient(patient_id:2, variants:['9_70598463_C/T'], phenotypes:[DefaultTermId(idx=2, value=HP_0002342), DefaultTermId(idx=2, value=HP_0031936), DefaultTermId(idx=2, value=HP_0000750), DefaultTermId(idx=2, value=HP_0012469), DefaultTermId(idx=2, value=HP_0001252)], proteins:['NP_001007472.2']),\n",
       "           Patient(patient_id:3, variants:['16_1706450_C/G'], phenotypes:[DefaultTermId(idx=2, value=HP_0001263), DefaultTermId(idx=2, value=HP_0002342), DefaultTermId(idx=2, value=HP_0002376), DefaultTermId(idx=2, value=HP_0000717), DefaultTermId(idx=2, value=HP_0001252), DefaultTermId(idx=2, value=HP_0100022), DefaultTermId(idx=2, value=HP_0100704), DefaultTermId(idx=2, value=HP_0001250)], proteins:['NP_001305781.1', 'NP_653171.1', 'NP_001035529.1', 'NP_055948.2']),\n",
       "           Patient(patient_id:3, variants:['9_70598463_C/T'], phenotypes:[DefaultTermId(idx=2, value=HP_0002342), DefaultTermId(idx=2, value=HP_0031936), DefaultTermId(idx=2, value=HP_0000750), DefaultTermId(idx=2, value=HP_0000729), DefaultTermId(idx=2, value=HP_0002069), DefaultTermId(idx=2, value=HP_0001252)], proteins:['NP_001007472.2']),\n",
       "           Patient(patient_id:4, variants:['16_1748705_G/A'], phenotypes:[DefaultTermId(idx=2, value=HP_0001263), DefaultTermId(idx=2, value=HP_0001256), DefaultTermId(idx=2, value=HP_0002376), DefaultTermId(idx=2, value=HP_0000717), DefaultTermId(idx=2, value=HP_0001252), DefaultTermId(idx=2, value=HP_0100022), DefaultTermId(idx=2, value=HP_0100704), DefaultTermId(idx=2, value=HP_0001250)], proteins:['NP_001305781.1', 'NP_001035529.1', 'NP_055948.2']),\n",
       "           Patient(patient_id:4, variants:['9_70598463_C/T'], phenotypes:[DefaultTermId(idx=2, value=HP_0010864), DefaultTermId(idx=2, value=HP_0031936), DefaultTermId(idx=2, value=HP_0000750), DefaultTermId(idx=2, value=HP_0000729), DefaultTermId(idx=2, value=HP_0002133), DefaultTermId(idx=2, value=HP_0001252)], proteins:['NP_001007472.2']),\n",
       "           Patient(patient_id:5, variants:['16_1760409_T/C'], phenotypes:[DefaultTermId(idx=2, value=HP_0001263), DefaultTermId(idx=2, value=HP_0002376), DefaultTermId(idx=2, value=HP_0000717), DefaultTermId(idx=2, value=HP_0001252), DefaultTermId(idx=2, value=HP_0100022), DefaultTermId(idx=2, value=HP_0001250)], proteins:['NP_001305781.1', 'NP_001035529.1', 'NP_055948.2']),\n",
       "           Patient(patient_id:5, variants:['9_70598463_C/T'], phenotypes:[DefaultTermId(idx=2, value=HP_0010864), DefaultTermId(idx=2, value=HP_0031936), DefaultTermId(idx=2, value=HP_0000750), DefaultTermId(idx=2, value=HP_0000729), DefaultTermId(idx=2, value=HP_0001252)], proteins:['NP_001007472.2']),\n",
       "           Patient(patient_id:6, variants:['16_1760409_T/C'], phenotypes:[DefaultTermId(idx=2, value=HP_0001263), DefaultTermId(idx=2, value=HP_0001256), DefaultTermId(idx=2, value=HP_0002376), DefaultTermId(idx=2, value=HP_0000717), DefaultTermId(idx=2, value=HP_0001252), DefaultTermId(idx=2, value=HP_0001250)], proteins:['NP_001305781.1', 'NP_001035529.1', 'NP_055948.2']),\n",
       "           Patient(patient_id:6, variants:['9_70598463_C/T'], phenotypes:[DefaultTermId(idx=2, value=HP_0010864), DefaultTermId(idx=2, value=HP_0031936), DefaultTermId(idx=2, value=HP_0000750), DefaultTermId(idx=2, value=HP_0000729), DefaultTermId(idx=2, value=HP_0011147), DefaultTermId(idx=2, value=HP_0002069), DefaultTermId(idx=2, value=HP_0001252)], proteins:['NP_001007472.2']),\n",
       "           Patient(patient_id:7, variants:['16_1762388_G/A'], phenotypes:[DefaultTermId(idx=2, value=HP_0001263), DefaultTermId(idx=2, value=HP_0001256), DefaultTermId(idx=2, value=HP_0002376), DefaultTermId(idx=2, value=HP_0000717), DefaultTermId(idx=2, value=HP_0001252), DefaultTermId(idx=2, value=HP_0001250)], proteins:['NP_001305781.1', 'NP_001035529.1', 'NP_055948.2']),\n",
       "           Patient(patient_id:7, variants:['9_70598463_C/T'], phenotypes:[DefaultTermId(idx=2, value=HP_0002342), DefaultTermId(idx=2, value=HP_0031936), DefaultTermId(idx=2, value=HP_0000750), DefaultTermId(idx=2, value=HP_0011147), DefaultTermId(idx=2, value=HP_0001252)], proteins:['NP_001007472.2']),\n",
       "           Patient(patient_id:8, variants:['16_1762843_C/T'], phenotypes:[DefaultTermId(idx=2, value=HP_0001258), DefaultTermId(idx=2, value=HP_0001263), DefaultTermId(idx=2, value=HP_0010864), DefaultTermId(idx=2, value=HP_0002376), DefaultTermId(idx=2, value=HP_0000717), DefaultTermId(idx=2, value=HP_0001252), DefaultTermId(idx=2, value=HP_0001250)], proteins:['NP_001305781.1', 'NP_001035529.1', 'NP_055948.2']),\n",
       "           Patient(patient_id:8, variants:['9_70553229_G/T'], phenotypes:[DefaultTermId(idx=2, value=HP_0002342), DefaultTermId(idx=2, value=HP_0031936), DefaultTermId(idx=2, value=HP_0000750), DefaultTermId(idx=2, value=HP_0000729), DefaultTermId(idx=2, value=HP_0011147), DefaultTermId(idx=2, value=HP_0001252)], proteins:['NP_001007472.2']),\n",
       "           Patient(patient_id:9, variants:['16_1762843_C/T'], phenotypes:[DefaultTermId(idx=2, value=HP_0007340), DefaultTermId(idx=2, value=HP_0002493), DefaultTermId(idx=2, value=HP_0001257), DefaultTermId(idx=2, value=HP_0001263), DefaultTermId(idx=2, value=HP_0002342), DefaultTermId(idx=2, value=HP_0002376), DefaultTermId(idx=2, value=HP_0000717), DefaultTermId(idx=2, value=HP_0001252), DefaultTermId(idx=2, value=HP_0001250)], proteins:['NP_001305781.1', 'NP_001035529.1', 'NP_055948.2']),\n",
       "           Patient(patient_id:PMID_111_probandA, variants:['16_1762846_C/T'], phenotypes:[DefaultTermId(idx=2, value=HP_0001662), DefaultTermId(idx=2, value=HP_0002104), DefaultTermId(idx=2, value=HP_0033725), DefaultTermId(idx=2, value=HP_0001264), DefaultTermId(idx=2, value=HP_0001276), DefaultTermId(idx=2, value=HP_0100021), DefaultTermId(idx=2, value=HP_0000252), DefaultTermId(idx=2, value=HP_0001263), DefaultTermId(idx=2, value=HP_0001264), DefaultTermId(idx=2, value=HP_0002020), DefaultTermId(idx=2, value=HP_0002104), DefaultTermId(idx=2, value=HP_0100021), DefaultTermId(idx=2, value=HP_0001332), DefaultTermId(idx=2, value=HP_0002650), DefaultTermId(idx=2, value=HP_0100559)], proteins:['NP_001305781.1', 'NP_001035529.1', 'NP_055948.2'])})"
      ]
     },
     "execution_count": 16,
     "metadata": {},
     "output_type": "execute_result"
    }
   ],
   "source": [
    "from genophenocorr.model import Cohort\n",
    "\n",
    "cohort = Cohort.from_patients(patients)\n",
    "\n",
    "cohort.all_patients"
   ]
  },
  {
   "cell_type": "markdown",
   "id": "899b2bbc-7711-451a-8d61-81d82df30091",
   "metadata": {},
   "source": [
    "## Run the analysis"
   ]
  }
 ],
 "metadata": {
  "kernelspec": {
   "display_name": "gpcvenv",
   "language": "python",
   "name": "gpcvenv"
  },
  "language_info": {
   "codemirror_mode": {
    "name": "ipython",
    "version": 3
   },
   "file_extension": ".py",
   "mimetype": "text/x-python",
   "name": "python",
   "nbconvert_exporter": "python",
   "pygments_lexer": "ipython3",
   "version": "3.11.3"
  }
 },
 "nbformat": 4,
 "nbformat_minor": 5
}
