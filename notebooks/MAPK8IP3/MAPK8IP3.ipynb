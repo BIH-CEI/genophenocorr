{
 "cells": [
  {
   "cell_type": "markdown",
   "id": "2ac29362",
   "metadata": {},
   "source": [
    "<H1>MAPK8IP3 genotype phenotype correlations</H1>"
   ]
  },
  {
   "cell_type": "code",
   "execution_count": 4,
   "id": "cf4f2c2f",
   "metadata": {},
   "outputs": [],
   "source": [
    "import os\n",
    "import sys\n",
    "sys.path.insert(0, os.path.abspath('../../src'))\n",
    "\n",
    "from genophenocorr import *"
   ]
  },
  {
   "cell_type": "code",
   "execution_count": 6,
   "id": "422d11c5",
   "metadata": {},
   "outputs": [
    {
     "ename": "ValueError",
     "evalue": "Invalid contig name 'chr' for reference 'GRCh38'",
     "output_type": "error",
     "traceback": [
      "\u001b[0;31m---------------------------------------------------------------------------\u001b[0m",
      "\u001b[0;31mValueError\u001b[0m                                Traceback (most recent call last)",
      "Cell \u001b[0;32mIn[6], line 1\u001b[0m\n\u001b[0;32m----> 1\u001b[0m allPatients \u001b[38;5;241m=\u001b[39m \u001b[43mCohort\u001b[49m\u001b[43m(\u001b[49m\u001b[38;5;124;43m'\u001b[39;49m\u001b[38;5;124;43mphenopackets/*.json\u001b[39;49m\u001b[38;5;124;43m'\u001b[39;49m\u001b[43m,\u001b[49m\u001b[43m \u001b[49m\u001b[43mref\u001b[49m\u001b[43m \u001b[49m\u001b[38;5;241;43m=\u001b[39;49m\u001b[43m \u001b[49m\u001b[38;5;124;43m'\u001b[39;49m\u001b[38;5;124;43mhg38\u001b[39;49m\u001b[38;5;124;43m'\u001b[39;49m\u001b[43m)\u001b[49m\n",
      "File \u001b[0;32m~/GIT/genophenocorr/gpcvenv/lib/python3.10/site-packages/genophenocorr/cohort.py:26\u001b[0m, in \u001b[0;36mCohort.__init__\u001b[0;34m(self, fileList, ref)\u001b[0m\n\u001b[1;32m     24\u001b[0m \u001b[38;5;28;01mif\u001b[39;00m fileList \u001b[38;5;129;01mis\u001b[39;00m \u001b[38;5;129;01mnot\u001b[39;00m \u001b[38;5;28;01mNone\u001b[39;00m:\n\u001b[1;32m     25\u001b[0m     \u001b[38;5;28;01mfor\u001b[39;00m file \u001b[38;5;129;01min\u001b[39;00m glob\u001b[38;5;241m.\u001b[39mglob(fileList):\n\u001b[0;32m---> 26\u001b[0m         current \u001b[38;5;241m=\u001b[39m \u001b[43mPatient\u001b[49m\u001b[43m(\u001b[49m\u001b[43mfile\u001b[49m\u001b[43m,\u001b[49m\u001b[43m \u001b[49m\u001b[43mref\u001b[49m\u001b[43m)\u001b[49m\n\u001b[1;32m     27\u001b[0m         \u001b[38;5;28mself\u001b[39m\u001b[38;5;241m.\u001b[39madd(current)\n",
      "File \u001b[0;32m~/GIT/genophenocorr/gpcvenv/lib/python3.10/site-packages/genophenocorr/patient.py:30\u001b[0m, in \u001b[0;36mPatient.__init__\u001b[0;34m(self, phenopackJson, ref)\u001b[0m\n\u001b[1;32m     28\u001b[0m     \u001b[38;5;28mself\u001b[39m\u001b[38;5;241m.\u001b[39m_diseases \u001b[38;5;241m=\u001b[39m \u001b[38;5;28;01mNone\u001b[39;00m\n\u001b[1;32m     29\u001b[0m \u001b[38;5;28mself\u001b[39m\u001b[38;5;241m.\u001b[39m_variant \u001b[38;5;241m=\u001b[39m Variant(ref \u001b[38;5;241m=\u001b[39m ref, phenopack \u001b[38;5;241m=\u001b[39m phenopack)\n\u001b[0;32m---> 30\u001b[0m \u001b[38;5;28mself\u001b[39m\u001b[38;5;241m.\u001b[39m_protein \u001b[38;5;241m=\u001b[39m Protein(\u001b[38;5;28;43mself\u001b[39;49m\u001b[38;5;241;43m.\u001b[39;49m\u001b[43m_variant\u001b[49m\u001b[38;5;241;43m.\u001b[39;49m\u001b[43mtop_effected_protein\u001b[49m)\n",
      "File \u001b[0;32m~/GIT/genophenocorr/gpcvenv/lib/python3.10/site-packages/genophenocorr/variant_class.py:116\u001b[0m, in \u001b[0;36mVariant.top_effected_protein\u001b[0;34m(self)\u001b[0m\n\u001b[1;32m    114\u001b[0m \u001b[38;5;129m@property\u001b[39m\n\u001b[1;32m    115\u001b[0m \u001b[38;5;28;01mdef\u001b[39;00m \u001b[38;5;21mtop_effected_protein\u001b[39m(\u001b[38;5;28mself\u001b[39m):\n\u001b[0;32m--> 116\u001b[0m     \u001b[38;5;28;01mif\u001b[39;00m \u001b[38;5;28;43mself\u001b[39;49m\u001b[38;5;241;43m.\u001b[39;49m\u001b[43mtop_effect_transcript\u001b[49m \u001b[38;5;129;01mis\u001b[39;00m \u001b[38;5;129;01mnot\u001b[39;00m \u001b[38;5;28;01mNone\u001b[39;00m:\n\u001b[1;32m    117\u001b[0m         \u001b[38;5;28;01mreturn\u001b[39;00m \u001b[38;5;28mself\u001b[39m\u001b[38;5;241m.\u001b[39mtop_effect_transcript\u001b[38;5;241m.\u001b[39mprotein_id\n\u001b[1;32m    118\u001b[0m     \u001b[38;5;28;01melse\u001b[39;00m:\n",
      "File \u001b[0;32m~/GIT/genophenocorr/gpcvenv/lib/python3.10/site-packages/genophenocorr/variant_class.py:109\u001b[0m, in \u001b[0;36mVariant.top_effect_transcript\u001b[0;34m(self)\u001b[0m\n\u001b[1;32m    107\u001b[0m \u001b[38;5;129m@property\u001b[39m\n\u001b[1;32m    108\u001b[0m \u001b[38;5;28;01mdef\u001b[39;00m \u001b[38;5;21mtop_effect_transcript\u001b[39m(\u001b[38;5;28mself\u001b[39m):\n\u001b[0;32m--> 109\u001b[0m     \u001b[38;5;28;01mif\u001b[39;00m \u001b[38;5;28;43mself\u001b[39;49m\u001b[38;5;241;43m.\u001b[39;49m\u001b[43mtop_effect\u001b[49m \u001b[38;5;129;01mis\u001b[39;00m \u001b[38;5;129;01mnot\u001b[39;00m \u001b[38;5;28;01mNone\u001b[39;00m:\n\u001b[1;32m    110\u001b[0m         \u001b[38;5;28;01mreturn\u001b[39;00m \u001b[38;5;28mself\u001b[39m\u001b[38;5;241m.\u001b[39mtop_effect\u001b[38;5;241m.\u001b[39mtranscript\n\u001b[1;32m    111\u001b[0m     \u001b[38;5;28;01melse\u001b[39;00m:\n",
      "File \u001b[0;32m~/GIT/genophenocorr/gpcvenv/lib/python3.10/site-packages/genophenocorr/variant_class.py:88\u001b[0m, in \u001b[0;36mVariant.top_effect\u001b[0;34m(self)\u001b[0m\n\u001b[1;32m     86\u001b[0m \u001b[38;5;129m@property\u001b[39m\n\u001b[1;32m     87\u001b[0m \u001b[38;5;28;01mdef\u001b[39;00m \u001b[38;5;21mtop_effect\u001b[39m(\u001b[38;5;28mself\u001b[39m):\n\u001b[0;32m---> 88\u001b[0m     \u001b[38;5;28;01mif\u001b[39;00m \u001b[38;5;28;43mself\u001b[39;49m\u001b[38;5;241;43m.\u001b[39;49m\u001b[43meffects\u001b[49m \u001b[38;5;129;01mis\u001b[39;00m \u001b[38;5;129;01mnot\u001b[39;00m \u001b[38;5;28;01mNone\u001b[39;00m:\n\u001b[1;32m     89\u001b[0m         \u001b[38;5;28;01mreturn\u001b[39;00m \u001b[38;5;28mself\u001b[39m\u001b[38;5;241m.\u001b[39meffects\u001b[38;5;241m.\u001b[39mtop_priority_effect()\n\u001b[1;32m     90\u001b[0m     \u001b[38;5;28;01melse\u001b[39;00m:\n",
      "File \u001b[0;32m~/GIT/genophenocorr/gpcvenv/lib/python3.10/site-packages/genophenocorr/variant_class.py:82\u001b[0m, in \u001b[0;36mVariant.effects\u001b[0;34m(self)\u001b[0m\n\u001b[1;32m     79\u001b[0m \u001b[38;5;129m@property\u001b[39m\n\u001b[1;32m     80\u001b[0m \u001b[38;5;28;01mdef\u001b[39;00m \u001b[38;5;21meffects\u001b[39m(\u001b[38;5;28mself\u001b[39m):\n\u001b[1;32m     81\u001b[0m     \u001b[38;5;28;01mif\u001b[39;00m \u001b[38;5;28mself\u001b[39m\u001b[38;5;241m.\u001b[39m_variant \u001b[38;5;129;01mis\u001b[39;00m \u001b[38;5;129;01mnot\u001b[39;00m \u001b[38;5;28;01mNone\u001b[39;00m:\n\u001b[0;32m---> 82\u001b[0m         \u001b[38;5;28;01mreturn\u001b[39;00m \u001b[38;5;28;43mself\u001b[39;49m\u001b[38;5;241;43m.\u001b[39;49m\u001b[43mvariant\u001b[49m\u001b[38;5;241;43m.\u001b[39;49m\u001b[43meffects\u001b[49m\u001b[43m(\u001b[49m\u001b[43m)\u001b[49m\n\u001b[1;32m     83\u001b[0m     \u001b[38;5;28;01melse\u001b[39;00m:\n\u001b[1;32m     84\u001b[0m         \u001b[38;5;28;01mreturn\u001b[39;00m \u001b[38;5;28;01mNone\u001b[39;00m\n",
      "File \u001b[0;32m~/GIT/genophenocorr/gpcvenv/lib/python3.10/site-packages/varcode/variant.py:451\u001b[0m, in \u001b[0;36mVariant.effects\u001b[0;34m(self, raise_on_error)\u001b[0m\n\u001b[1;32m    450\u001b[0m \u001b[38;5;28;01mdef\u001b[39;00m \u001b[38;5;21meffects\u001b[39m(\u001b[38;5;28mself\u001b[39m, raise_on_error\u001b[38;5;241m=\u001b[39m\u001b[38;5;28;01mTrue\u001b[39;00m):\n\u001b[0;32m--> 451\u001b[0m     \u001b[38;5;28;01mreturn\u001b[39;00m \u001b[43mpredict_variant_effects\u001b[49m\u001b[43m(\u001b[49m\n\u001b[1;32m    452\u001b[0m \u001b[43m        \u001b[49m\u001b[43mvariant\u001b[49m\u001b[38;5;241;43m=\u001b[39;49m\u001b[38;5;28;43mself\u001b[39;49m\u001b[43m,\u001b[49m\u001b[43m \u001b[49m\u001b[43mraise_on_error\u001b[49m\u001b[38;5;241;43m=\u001b[39;49m\u001b[43mraise_on_error\u001b[49m\u001b[43m)\u001b[49m\n",
      "File \u001b[0;32m~/GIT/genophenocorr/gpcvenv/lib/python3.10/site-packages/varcode/effects/effect_prediction.py:66\u001b[0m, in \u001b[0;36mpredict_variant_effects\u001b[0;34m(variant, raise_on_error)\u001b[0m\n\u001b[1;32m     61\u001b[0m \u001b[38;5;66;03m# if this variant isn't overlapping any genes, return a\u001b[39;00m\n\u001b[1;32m     62\u001b[0m \u001b[38;5;66;03m# Intergenic effect\u001b[39;00m\n\u001b[1;32m     63\u001b[0m \u001b[38;5;66;03m# TODO: look for nearby genes and mark those as Upstream and Downstream\u001b[39;00m\n\u001b[1;32m     64\u001b[0m \u001b[38;5;66;03m# effects\u001b[39;00m\n\u001b[1;32m     65\u001b[0m \u001b[38;5;28;01mtry\u001b[39;00m:\n\u001b[0;32m---> 66\u001b[0m     gene_ids \u001b[38;5;241m=\u001b[39m \u001b[43mvariant\u001b[49m\u001b[38;5;241;43m.\u001b[39;49m\u001b[43mgene_ids\u001b[49m\n\u001b[1;32m     67\u001b[0m     transcripts \u001b[38;5;241m=\u001b[39m variant\u001b[38;5;241m.\u001b[39mtranscripts\n\u001b[1;32m     68\u001b[0m \u001b[38;5;28;01mexcept\u001b[39;00m:\n",
      "File \u001b[0;32m~/GIT/genophenocorr/gpcvenv/lib/python3.10/site-packages/varcode/variant.py:422\u001b[0m, in \u001b[0;36mVariant.gene_ids\u001b[0;34m(self)\u001b[0m\n\u001b[1;32m    416\u001b[0m \u001b[38;5;250m\u001b[39m\u001b[38;5;124;03m\"\"\"\u001b[39;00m\n\u001b[1;32m    417\u001b[0m \u001b[38;5;124;03mReturn IDs of all genes which overlap this variant. Calling\u001b[39;00m\n\u001b[1;32m    418\u001b[0m \u001b[38;5;124;03mthis method is significantly cheaper than calling `Variant.genes()`,\u001b[39;00m\n\u001b[1;32m    419\u001b[0m \u001b[38;5;124;03mwhich has to issue many more queries to construct each Gene object.\u001b[39;00m\n\u001b[1;32m    420\u001b[0m \u001b[38;5;124;03m\"\"\"\u001b[39;00m\n\u001b[1;32m    421\u001b[0m \u001b[38;5;28;01mif\u001b[39;00m \u001b[38;5;28mself\u001b[39m\u001b[38;5;241m.\u001b[39m_gene_ids \u001b[38;5;129;01mis\u001b[39;00m \u001b[38;5;28;01mNone\u001b[39;00m:\n\u001b[0;32m--> 422\u001b[0m     \u001b[38;5;28;43mself\u001b[39;49m\u001b[38;5;241;43m.\u001b[39;49m\u001b[43m_check_that_genome_has_contig\u001b[49m\u001b[43m(\u001b[49m\u001b[43m)\u001b[49m\n\u001b[1;32m    423\u001b[0m     \u001b[38;5;28mself\u001b[39m\u001b[38;5;241m.\u001b[39m_gene_ids \u001b[38;5;241m=\u001b[39m \u001b[38;5;28mself\u001b[39m\u001b[38;5;241m.\u001b[39mgenome\u001b[38;5;241m.\u001b[39mgene_ids_at_locus(\n\u001b[1;32m    424\u001b[0m         \u001b[38;5;28mself\u001b[39m\u001b[38;5;241m.\u001b[39mcontig, \u001b[38;5;28mself\u001b[39m\u001b[38;5;241m.\u001b[39mstart, \u001b[38;5;28mself\u001b[39m\u001b[38;5;241m.\u001b[39mend)\n\u001b[1;32m    425\u001b[0m \u001b[38;5;28;01mreturn\u001b[39;00m \u001b[38;5;28mself\u001b[39m\u001b[38;5;241m.\u001b[39m_gene_ids\n",
      "File \u001b[0;32m~/GIT/genophenocorr/gpcvenv/lib/python3.10/site-packages/varcode/variant.py:370\u001b[0m, in \u001b[0;36mVariant._check_that_genome_has_contig\u001b[0;34m(self)\u001b[0m\n\u001b[1;32m    366\u001b[0m valid_contigs \u001b[38;5;241m=\u001b[39m  \\\n\u001b[1;32m    367\u001b[0m     \u001b[38;5;28mself\u001b[39m\u001b[38;5;241m.\u001b[39m_reference_name_to_valid_contig_names[reference_name]\n\u001b[1;32m    369\u001b[0m \u001b[38;5;28;01mif\u001b[39;00m \u001b[38;5;28mself\u001b[39m\u001b[38;5;241m.\u001b[39mcontig \u001b[38;5;129;01mnot\u001b[39;00m \u001b[38;5;129;01min\u001b[39;00m valid_contigs:\n\u001b[0;32m--> 370\u001b[0m     \u001b[38;5;28;01mraise\u001b[39;00m \u001b[38;5;167;01mValueError\u001b[39;00m(\u001b[38;5;124m\"\u001b[39m\u001b[38;5;124mInvalid contig name \u001b[39m\u001b[38;5;124m'\u001b[39m\u001b[38;5;132;01m%s\u001b[39;00m\u001b[38;5;124m'\u001b[39m\u001b[38;5;124m for reference \u001b[39m\u001b[38;5;124m'\u001b[39m\u001b[38;5;132;01m%s\u001b[39;00m\u001b[38;5;124m'\u001b[39m\u001b[38;5;124m\"\u001b[39m \u001b[38;5;241m%\u001b[39m (\n\u001b[1;32m    371\u001b[0m         \u001b[38;5;28mself\u001b[39m\u001b[38;5;241m.\u001b[39mcontig,\n\u001b[1;32m    372\u001b[0m         \u001b[38;5;28mself\u001b[39m\u001b[38;5;241m.\u001b[39mreference_name))\n",
      "\u001b[0;31mValueError\u001b[0m: Invalid contig name 'chr' for reference 'GRCh38'"
     ]
    }
   ],
   "source": [
    "allPatients = Cohort('phenopackets/*.json', ref = 'hg38')"
   ]
  },
  {
   "cell_type": "code",
   "execution_count": null,
   "id": "d4d923df",
   "metadata": {},
   "outputs": [],
   "source": []
  }
 ],
 "metadata": {
  "kernelspec": {
   "display_name": "gpcvenv",
   "language": "python",
   "name": "gpcvenv"
  },
  "language_info": {
   "codemirror_mode": {
    "name": "ipython",
    "version": 3
   },
   "file_extension": ".py",
   "mimetype": "text/x-python",
   "name": "python",
   "nbconvert_exporter": "python",
   "pygments_lexer": "ipython3",
   "version": "3.10.10"
  }
 },
 "nbformat": 4,
 "nbformat_minor": 5
}
