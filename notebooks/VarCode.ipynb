{
 "cells": [
  {
   "cell_type": "code",
   "execution_count": null,
   "id": "5c56688f",
   "metadata": {},
   "outputs": [],
   "source": [
    "import varcode as vc\n",
    "import numpy as np\n",
    "import pyensembl as pe"
   ]
  },
  {
   "cell_type": "markdown",
   "id": "e9a55d01",
   "metadata": {},
   "source": [
    "### Load VCF File"
   ]
  },
  {
   "cell_type": "code",
   "execution_count": null,
   "id": "2f1276e9",
   "metadata": {},
   "outputs": [],
   "source": [
    "variants = vc.load_vcf('testFiles/clinvar_chr15.vcf.gz', allow_extended_nucleotides=True)"
   ]
  },
  {
   "cell_type": "code",
   "execution_count": null,
   "id": "65bce434",
   "metadata": {},
   "outputs": [],
   "source": [
    "variants.gene_counts()"
   ]
  },
  {
   "cell_type": "code",
   "execution_count": null,
   "id": "0c531aec",
   "metadata": {},
   "outputs": [],
   "source": [
    "variants.short_string()"
   ]
  },
  {
   "cell_type": "markdown",
   "id": "52dcffeb",
   "metadata": {},
   "source": [
    "### Group all variants by gene. \n",
    "For this example, we will be looking at effects on gene FBN1"
   ]
  },
  {
   "cell_type": "code",
   "execution_count": null,
   "id": "7743d822",
   "metadata": {},
   "outputs": [],
   "source": [
    "groups = variants.groupby_gene_name()\n",
    "FBN1 = groups[\"FBN1\"]\n",
    "FBN1.short_string()"
   ]
  },
  {
   "cell_type": "code",
   "execution_count": null,
   "id": "7e6f6832",
   "metadata": {},
   "outputs": [],
   "source": [
    "FBN1.gene_counts()"
   ]
  },
  {
   "cell_type": "code",
   "execution_count": null,
   "id": "03046ed4",
   "metadata": {},
   "outputs": [],
   "source": [
    "FBN1_effects = FBN1.effects()"
   ]
  },
  {
   "cell_type": "code",
   "execution_count": null,
   "id": "c12f43cc",
   "metadata": {},
   "outputs": [],
   "source": [
    "FBN1_effects.short_string()"
   ]
  },
  {
   "cell_type": "code",
   "execution_count": null,
   "id": "21446302",
   "metadata": {},
   "outputs": [],
   "source": [
    "for n in FBN1_effects.effects:\n",
    "    if n.variant.short_description == 'chr15 g.48408316A>T':\n",
    "        print(n.variant)\n",
    "        print(n.transcript)\n",
    "        print(n.gene)"
   ]
  },
  {
   "cell_type": "markdown",
   "id": "57c3bbf5",
   "metadata": {},
   "source": [
    "### Found a different way to read variants and genes:\n",
    "This one seems easier but I think will depend on how they're being used. "
   ]
  },
  {
   "cell_type": "code",
   "execution_count": null,
   "id": "2ad79944",
   "metadata": {},
   "outputs": [],
   "source": [
    "import mygene as mg\n",
    "mgi = mg.MyGeneInfo()\n",
    "mgi.metadata()"
   ]
  },
  {
   "cell_type": "code",
   "execution_count": null,
   "id": "a6494c9d",
   "metadata": {},
   "outputs": [],
   "source": [
    "mgi.getgene('ENSG00000166147')"
   ]
  },
  {
   "cell_type": "code",
   "execution_count": null,
   "id": "e86e4040",
   "metadata": {},
   "outputs": [],
   "source": [
    "import myvariant as mv\n",
    "mvi = mv.MyVariantInfo()\n",
    "mvi.metadata()"
   ]
  },
  {
   "cell_type": "code",
   "execution_count": null,
   "id": "7f5a359b",
   "metadata": {},
   "outputs": [],
   "source": [
    "mvi.getvariant(\"chr15:g.48704935C>A\")"
   ]
  }
 ],
 "metadata": {
  "celltoolbar": "Raw Cell Format",
  "kernelspec": {
   "display_name": "enviro",
   "language": "python",
   "name": "enviro"
  },
  "language_info": {
   "codemirror_mode": {
    "name": "ipython",
    "version": 3
   },
   "file_extension": ".py",
   "mimetype": "text/x-python",
   "name": "python",
   "nbconvert_exporter": "python",
   "pygments_lexer": "ipython3",
   "version": "3.9.14"
  }
 },
 "nbformat": 4,
 "nbformat_minor": 5
}
