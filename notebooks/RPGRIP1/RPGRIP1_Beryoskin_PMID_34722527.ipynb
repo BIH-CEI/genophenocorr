{
 "cells": [
  {
   "cell_type": "markdown",
   "id": "9f96c208",
   "metadata": {},
   "source": [
    "<h1>Retinal Degeneration Associated With RPGRIP1</h1>\n",
    "<p>Data from <a href=\"https://pubmed.ncbi.nlm.nih.gov/34722527/\" target=\"__blank\">Beryozkin A, et al. Retinal Degeneration Associated With RPGRIP1: A Review of Natural History, Mutation Spectrum, and Genotype-Phenotype Correlation in 228 Patients. Front Cell Dev Biol. 2021 Oct 14;9:746781. doi: 10.3389/fcell.2021.746781. PMID: 34722527; PMCID: PMC8551679.</a>.</p>"
   ]
  },
  {
   "cell_type": "code",
   "execution_count": 1,
   "id": "ecd86504",
   "metadata": {},
   "outputs": [],
   "source": [
    "import phenopackets as php\n",
    "from google.protobuf.json_format import MessageToDict, MessageToJson\n",
    "from google.protobuf.json_format import Parse, ParseDict\n",
    "import pandas as pd\n",
    "pd.set_option('display.max_colwidth', None) # show entire column contents, important!\n",
    "from collections import defaultdict\n",
    "import numpy as np\n",
    "import os\n",
    "import sys\n",
    "import re\n",
    "\n",
    "from pyphetools.creation import *\n",
    "import pyphetools"
   ]
  },
  {
   "cell_type": "code",
   "execution_count": 2,
   "id": "1ee51501",
   "metadata": {},
   "outputs": [],
   "source": [
    "parser = HpoParser()\n",
    "hpo_cr = parser.get_hpo_concept_recognizer()\n",
    "hpo_version = parser.get_version()\n",
    "metadata = MetaData(created_by=\"ORCID:0000-0003-2598-6622\")\n",
    "metadata.default_versions_with_hpo(version=hpo_version)"
   ]
  },
  {
   "cell_type": "code",
   "execution_count": 8,
   "id": "c078f053",
   "metadata": {},
   "outputs": [],
   "source": [
    "df = pd.read_excel('input/Beryozkin-RPGRIP1-SupplTable-229.XLSX', dtype=np.str_)"
   ]
  },
  {
   "cell_type": "code",
   "execution_count": 9,
   "id": "ca745bce",
   "metadata": {},
   "outputs": [
    {
     "data": {
      "text/plain": [
       "Index(['# of family or patient', 'Article title', 'First author',\n",
       "       'First mutation (C.)', 'First mutation (P.)', 'Second mutation (C.)',\n",
       "       'Second mutation (P.)', 'Diagnosis',\n",
       "       'Intelectual disability/ Neurodevelopmental delay',\n",
       "       'First sighns and symptoms', 'Nystagmus/wandering/no fixation',\n",
       "       'Photophobia', 'Nyctalopia (night blidness)',\n",
       "       'ODR (oculodigital reflex)',\n",
       "       'Refraction/RNS (cycloplaegic retinoscopy spherical equivalent)', 'VA',\n",
       "       'age of VA', 'VF', 'age of VF', 'rod', 'cone', 'age of ERG'],\n",
       "      dtype='object')"
      ]
     },
     "execution_count": 9,
     "metadata": {},
     "output_type": "execute_result"
    }
   ],
   "source": [
    "df = df.drop(columns=['Unnamed: 22', 'Unnamed: 23', 'Unnamed: 24', 'Unnamed: 25', 'Unnamed: 26', \n",
    "                 'Unnamed: 27', 'Unnamed: 28', 'Unnamed: 29','Unnamed: 30'])\n",
    "df.columns"
   ]
  },
  {
   "cell_type": "code",
   "execution_count": 10,
   "id": "840a7e03",
   "metadata": {},
   "outputs": [],
   "source": [
    "items = {\n",
    "    'Intelectual disability/ Neurodevelopmental delay':['Neurodevelopmental delay','HP:0012758'],\n",
    "    'Nystagmus/wandering/no fixation':['Abnormality of eye movement','HP:0000496'],\n",
    "    'Photophobia': ['Photophobia','HP:0000613'], \n",
    "    'Nyctalopia (night blidness)': ['Nyctalopia','HP:0000662'],\n",
    "    'ODR (oculodigital reflex)':['Eye poking', 'HP:0001483'],\n",
    "    'Refraction/RNS (cycloplaegic retinoscopy spherical equivalent)':['Abnormality of refraction','HP:0000539'], \n",
    "    'VA': ['Reduced visual acuity', 'HP:0007663'],\n",
    "    'VF': ['Visual field defect', 'HP:0001123']\n",
    "}"
   ]
  },
  {
   "cell_type": "code",
   "execution_count": 11,
   "id": "a6849241",
   "metadata": {},
   "outputs": [
    {
     "data": {
      "text/html": [
       "<div>\n",
       "<style scoped>\n",
       "    .dataframe tbody tr th:only-of-type {\n",
       "        vertical-align: middle;\n",
       "    }\n",
       "\n",
       "    .dataframe tbody tr th {\n",
       "        vertical-align: top;\n",
       "    }\n",
       "\n",
       "    .dataframe thead th {\n",
       "        text-align: right;\n",
       "    }\n",
       "</style>\n",
       "<table border=\"1\" class=\"dataframe\">\n",
       "  <thead>\n",
       "    <tr style=\"text-align: right;\">\n",
       "      <th></th>\n",
       "      <th>term</th>\n",
       "      <th>status</th>\n",
       "    </tr>\n",
       "  </thead>\n",
       "  <tbody>\n",
       "    <tr>\n",
       "      <th>0</th>\n",
       "      <td>Neurodevelopmental delay (HP:0012758)</td>\n",
       "      <td>excluded</td>\n",
       "    </tr>\n",
       "    <tr>\n",
       "      <th>1</th>\n",
       "      <td>Neurodevelopmental delay (HP:0012758)</td>\n",
       "      <td>excluded</td>\n",
       "    </tr>\n",
       "    <tr>\n",
       "      <th>2</th>\n",
       "      <td>Neurodevelopmental delay (HP:0012758)</td>\n",
       "      <td>excluded</td>\n",
       "    </tr>\n",
       "    <tr>\n",
       "      <th>3</th>\n",
       "      <td>Neurodevelopmental delay (HP:0012758)</td>\n",
       "      <td>excluded</td>\n",
       "    </tr>\n",
       "    <tr>\n",
       "      <th>4</th>\n",
       "      <td>Neurodevelopmental delay (HP:0012758)</td>\n",
       "      <td>excluded</td>\n",
       "    </tr>\n",
       "    <tr>\n",
       "      <th>...</th>\n",
       "      <td>...</td>\n",
       "      <td>...</td>\n",
       "    </tr>\n",
       "    <tr>\n",
       "      <th>224</th>\n",
       "      <td>Neurodevelopmental delay (HP:0012758)</td>\n",
       "      <td>excluded</td>\n",
       "    </tr>\n",
       "    <tr>\n",
       "      <th>225</th>\n",
       "      <td>Neurodevelopmental delay (HP:0012758)</td>\n",
       "      <td>excluded</td>\n",
       "    </tr>\n",
       "    <tr>\n",
       "      <th>226</th>\n",
       "      <td>Neurodevelopmental delay (HP:0012758)</td>\n",
       "      <td>excluded</td>\n",
       "    </tr>\n",
       "    <tr>\n",
       "      <th>227</th>\n",
       "      <td>Neurodevelopmental delay (HP:0012758)</td>\n",
       "      <td>excluded</td>\n",
       "    </tr>\n",
       "    <tr>\n",
       "      <th>228</th>\n",
       "      <td>Neurodevelopmental delay (HP:0012758)</td>\n",
       "      <td>excluded</td>\n",
       "    </tr>\n",
       "  </tbody>\n",
       "</table>\n",
       "<p>229 rows × 2 columns</p>\n",
       "</div>"
      ],
      "text/plain": [
       "                                      term    status\n",
       "0    Neurodevelopmental delay (HP:0012758)  excluded\n",
       "1    Neurodevelopmental delay (HP:0012758)  excluded\n",
       "2    Neurodevelopmental delay (HP:0012758)  excluded\n",
       "3    Neurodevelopmental delay (HP:0012758)  excluded\n",
       "4    Neurodevelopmental delay (HP:0012758)  excluded\n",
       "..                                     ...       ...\n",
       "224  Neurodevelopmental delay (HP:0012758)  excluded\n",
       "225  Neurodevelopmental delay (HP:0012758)  excluded\n",
       "226  Neurodevelopmental delay (HP:0012758)  excluded\n",
       "227  Neurodevelopmental delay (HP:0012758)  excluded\n",
       "228  Neurodevelopmental delay (HP:0012758)  excluded\n",
       "\n",
       "[229 rows x 2 columns]"
      ]
     },
     "execution_count": 11,
     "metadata": {},
     "output_type": "execute_result"
    }
   ],
   "source": [
    "IDMapper = SimpleColumnMapper(hpo_id='HP:0012758', hpo_label='Neurodevelopmental delay', observed='yes', excluded='no')\n",
    "IDMapper.preview_column(df['Intelectual disability/ Neurodevelopmental delay'])"
   ]
  },
  {
   "cell_type": "code",
   "execution_count": 12,
   "id": "a3826db6",
   "metadata": {},
   "outputs": [
    {
     "data": {
      "text/html": [
       "<div>\n",
       "<style scoped>\n",
       "    .dataframe tbody tr th:only-of-type {\n",
       "        vertical-align: middle;\n",
       "    }\n",
       "\n",
       "    .dataframe tbody tr th {\n",
       "        vertical-align: top;\n",
       "    }\n",
       "\n",
       "    .dataframe thead th {\n",
       "        text-align: right;\n",
       "    }\n",
       "</style>\n",
       "<table border=\"1\" class=\"dataframe\">\n",
       "  <thead>\n",
       "    <tr style=\"text-align: right;\">\n",
       "      <th></th>\n",
       "      <th>term</th>\n",
       "      <th>status</th>\n",
       "    </tr>\n",
       "  </thead>\n",
       "  <tbody>\n",
       "    <tr>\n",
       "      <th>0</th>\n",
       "      <td>Abnormality of eye movement (HP:0000496)</td>\n",
       "      <td>observed</td>\n",
       "    </tr>\n",
       "    <tr>\n",
       "      <th>1</th>\n",
       "      <td>Abnormality of eye movement (HP:0000496)</td>\n",
       "      <td>observed</td>\n",
       "    </tr>\n",
       "    <tr>\n",
       "      <th>2</th>\n",
       "      <td>Abnormality of eye movement (HP:0000496)</td>\n",
       "      <td>not measured</td>\n",
       "    </tr>\n",
       "    <tr>\n",
       "      <th>3</th>\n",
       "      <td>Abnormality of eye movement (HP:0000496)</td>\n",
       "      <td>not measured</td>\n",
       "    </tr>\n",
       "    <tr>\n",
       "      <th>4</th>\n",
       "      <td>Abnormality of eye movement (HP:0000496)</td>\n",
       "      <td>observed</td>\n",
       "    </tr>\n",
       "    <tr>\n",
       "      <th>...</th>\n",
       "      <td>...</td>\n",
       "      <td>...</td>\n",
       "    </tr>\n",
       "    <tr>\n",
       "      <th>224</th>\n",
       "      <td>Abnormality of eye movement (HP:0000496)</td>\n",
       "      <td>not measured</td>\n",
       "    </tr>\n",
       "    <tr>\n",
       "      <th>225</th>\n",
       "      <td>Abnormality of eye movement (HP:0000496)</td>\n",
       "      <td>not measured</td>\n",
       "    </tr>\n",
       "    <tr>\n",
       "      <th>226</th>\n",
       "      <td>Abnormality of eye movement (HP:0000496)</td>\n",
       "      <td>observed</td>\n",
       "    </tr>\n",
       "    <tr>\n",
       "      <th>227</th>\n",
       "      <td>Abnormality of eye movement (HP:0000496)</td>\n",
       "      <td>observed</td>\n",
       "    </tr>\n",
       "    <tr>\n",
       "      <th>228</th>\n",
       "      <td>Abnormality of eye movement (HP:0000496)</td>\n",
       "      <td>not measured</td>\n",
       "    </tr>\n",
       "  </tbody>\n",
       "</table>\n",
       "<p>229 rows × 2 columns</p>\n",
       "</div>"
      ],
      "text/plain": [
       "                                         term        status\n",
       "0    Abnormality of eye movement (HP:0000496)      observed\n",
       "1    Abnormality of eye movement (HP:0000496)      observed\n",
       "2    Abnormality of eye movement (HP:0000496)  not measured\n",
       "3    Abnormality of eye movement (HP:0000496)  not measured\n",
       "4    Abnormality of eye movement (HP:0000496)      observed\n",
       "..                                        ...           ...\n",
       "224  Abnormality of eye movement (HP:0000496)  not measured\n",
       "225  Abnormality of eye movement (HP:0000496)  not measured\n",
       "226  Abnormality of eye movement (HP:0000496)      observed\n",
       "227  Abnormality of eye movement (HP:0000496)      observed\n",
       "228  Abnormality of eye movement (HP:0000496)  not measured\n",
       "\n",
       "[229 rows x 2 columns]"
      ]
     },
     "execution_count": 12,
     "metadata": {},
     "output_type": "execute_result"
    }
   ],
   "source": [
    "NysMapper = SimpleColumnMapper(hpo_id='HP:0000496', hpo_label='Abnormality of eye movement', observed='1', excluded='')\n",
    "NysMapper.preview_column(df['Nystagmus/wandering/no fixation'])"
   ]
  },
  {
   "cell_type": "code",
   "execution_count": null,
   "id": "bbb1a814",
   "metadata": {},
   "outputs": [],
   "source": [
    "VAMapper = SimpleColumnMapper(hpo_id='HP:0030534', hpo_label='Abnormal best corrected visual acuity test')"
   ]
  }
 ],
 "metadata": {
  "kernelspec": {
   "display_name": "enviro",
   "language": "python",
   "name": "enviro"
  },
  "language_info": {
   "codemirror_mode": {
    "name": "ipython",
    "version": 3
   },
   "file_extension": ".py",
   "mimetype": "text/x-python",
   "name": "python",
   "nbconvert_exporter": "python",
   "pygments_lexer": "ipython3",
   "version": "3.10.7"
  }
 },
 "nbformat": 4,
 "nbformat_minor": 5
}
