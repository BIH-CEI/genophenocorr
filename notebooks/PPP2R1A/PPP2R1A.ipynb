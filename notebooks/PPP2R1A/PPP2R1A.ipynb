{
 "cells": [
  {
   "cell_type": "markdown",
   "id": "d3ce7196-d04f-4a76-8bad-9aedf93d614f",
   "metadata": {},
   "source": [
    "<h1>PPP2R1A</h1>"
   ]
  },
  {
   "cell_type": "code",
   "execution_count": 1,
   "id": "85e75b05",
   "metadata": {},
   "outputs": [
    {
     "name": "stderr",
     "output_type": "stream",
     "text": [
      "/Users/robin/PycharmProjects/genophenocorr/gpc_venv/lib/python3.9/site-packages/urllib3/__init__.py:35: NotOpenSSLWarning: urllib3 v2 only supports OpenSSL 1.1.1+, currently the 'ssl' module is compiled with 'LibreSSL 2.8.3'. See: https://github.com/urllib3/urllib3/issues/3020\n",
      "  warnings.warn(\n"
     ]
    },
    {
     "name": "stdout",
     "output_type": "stream",
     "text": [
      "Loaded HPO v2024-04-26\n",
      "Using genophenocorr version 0.1.1dev\n"
     ]
    }
   ],
   "source": [
    "import genophenocorr\n",
    "from genophenocorr.preprocessing import configure_caching_cohort_creator, load_phenopacket_folder\n",
    "from genophenocorr.preprocessing import UniprotProteinMetadataService, VVTranscriptCoordinateService\n",
    "from genophenocorr.analysis import configure_cohort_analysis, CohortAnalysisConfiguration\n",
    "from genophenocorr.model import VariantEffect\n",
    "from genophenocorr.model.genome import GRCh38\n",
    "from genophenocorr.analysis.predicate import PatientCategories\n",
    "from genophenocorr.view import CohortViewable, ProteinVisualizable, ProteinVisualizer\n",
    "from IPython.display import HTML, display\n",
    "import hpotk\n",
    "store = hpotk.configure_ontology_store()\n",
    "hpo = store.load_minimal_hpo()\n",
    "print(f'Loaded HPO v{hpo.version}')\n",
    "print(f\"Using genophenocorr version {genophenocorr.__version__}\")"
   ]
  },
  {
   "cell_type": "markdown",
   "id": "87e27685-fecf-423a-a634-02f654c4d65d",
   "metadata": {},
   "source": [
    "## Setup"
   ]
  },
  {
   "cell_type": "code",
   "execution_count": 2,
   "id": "f527459f-f448-45dc-b962-61b9f53f64c7",
   "metadata": {},
   "outputs": [],
   "source": [
    "fpath_phenopackets = 'phenopackets'\n",
    "PPP2R1A_transcript_id = 'NM_014225.6'\n",
    "PPP2R1A_protein_id = \"NP_055040.2\""
   ]
  },
  {
   "cell_type": "markdown",
   "id": "a79fe634",
   "metadata": {},
   "source": [
    "### Load phenopackets\n",
    "\n",
    "We'll load the phenopacket JSON files stored in the `phenopackets` folder next to the notebook."
   ]
  },
  {
   "cell_type": "code",
   "execution_count": 4,
   "id": "0ca0f241-e4ad-4ffc-b3c4-d2f2df74d4fa",
   "metadata": {},
   "outputs": [
    {
     "name": "stderr",
     "output_type": "stream",
     "text": [
      "Patients Created: 100%|██████████| 60/60 [00:00<00:00, 1637.15it/s]\n",
      "Validated under none policy\n",
      "No errors or warnings were found\n"
     ]
    },
    {
     "data": {
      "text/html": [
       "<!DOCTYPE html>\n",
       "<html lang=\"en\">\n",
       "<head>\n",
       "  <meta charset=\"utf-8\">\n",
       "  <title>Cohort</title>\n",
       "  <style>table {\n",
       "    border-collapse: collapse;\n",
       "    margin: 25px 0;\n",
       "      font-size: 0.9em;\n",
       "      font-family: sans-serif;\n",
       "      min-width: 400px;\n",
       "      box-shadow: 0 0 20px rgba(0, 0, 0, 0.15);\n",
       "  }\n",
       "\n",
       "  .table .column-1 {\n",
       "      text-align: left;\n",
       "  }\n",
       "  th {\n",
       "    background-color: LightSkyBlue;\n",
       "    border: 1px solid #dddddd;\n",
       "    text-align: left;\n",
       "    padding: 2px;\n",
       "  font-weight: bold;  \n",
       "  font-size: 120%;\n",
       "}\n",
       "\n",
       "\n",
       "  tr {\n",
       "    border: 1px solid #dddddd;\n",
       "  }\n",
       "\n",
       "  td {\n",
       "    padding: 2px;\n",
       "    font-weight: bold;\n",
       "  }\n",
       "\n",
       "  tr:nth-child(even) {\n",
       "    background-color: #f2f2f2;\n",
       "  }\n",
       "\n",
       "  .table td,tr {\n",
       "    text-align: right;\n",
       "}\n",
       "\n",
       ".lft {\n",
       "    text-align: left;\n",
       "}​\n",
       "\n",
       "\n",
       "\n",
       "\n",
       "\n",
       "caption {\n",
       "  caption-side: bottom;\n",
       "  text-align: left;\n",
       "  padding-bottom: 10px;\n",
       "  font-weight: bold;\n",
       "}\n",
       "\n",
       "  </style>\n",
       "</head>\n",
       "\n",
       "<body>\n",
       "  <h1>genophenocorr cohort analysis</h1>\n",
       "  <p>Successfully ingested 60 phenopackets.</p>\n",
       "  \n",
       "  <p>No errors encountered.</p>\n",
       "  \n",
       " \n",
       "    <h3>Top 10 HPO Terms</h3>\n",
       "    <table>\n",
       "      <caption>A total of 52 HPO terms were used to annotated the cohort. </caption>\n",
       "        <tbody>\n",
       "            <tr class=\"strng\">\n",
       "                <th class=\"lft\">HPO Term</th>\n",
       "                <th>ID</th>\n",
       "                <th>Annotation Count</th>\n",
       "              </tr>\n",
       "              \n",
       "              <tr>\n",
       "                <td class=\"lft\">Hypotonia</td>\n",
       "                <td>HP:0001252</td>\n",
       "                <td>42</td>\n",
       "                </tr>\n",
       "            \n",
       "              <tr>\n",
       "                <td class=\"lft\">Delayed speech and language development</td>\n",
       "                <td>HP:0000750</td>\n",
       "                <td>31</td>\n",
       "                </tr>\n",
       "            \n",
       "              <tr>\n",
       "                <td class=\"lft\">Feeding difficulties</td>\n",
       "                <td>HP:0011968</td>\n",
       "                <td>31</td>\n",
       "                </tr>\n",
       "            \n",
       "              <tr>\n",
       "                <td class=\"lft\">Motor delay</td>\n",
       "                <td>HP:0001270</td>\n",
       "                <td>29</td>\n",
       "                </tr>\n",
       "            \n",
       "              <tr>\n",
       "                <td class=\"lft\">Seizure</td>\n",
       "                <td>HP:0001250</td>\n",
       "                <td>24</td>\n",
       "                </tr>\n",
       "            \n",
       "              <tr>\n",
       "                <td class=\"lft\">Agenesis of corpus callosum</td>\n",
       "                <td>HP:0001274</td>\n",
       "                <td>21</td>\n",
       "                </tr>\n",
       "            \n",
       "              <tr>\n",
       "                <td class=\"lft\">Microcephaly</td>\n",
       "                <td>HP:0000252</td>\n",
       "                <td>20</td>\n",
       "                </tr>\n",
       "            \n",
       "              <tr>\n",
       "                <td class=\"lft\">Global developmental delay</td>\n",
       "                <td>HP:0001263</td>\n",
       "                <td>17</td>\n",
       "                </tr>\n",
       "            \n",
       "              <tr>\n",
       "                <td class=\"lft\">Intellectual disability, severe</td>\n",
       "                <td>HP:0010864</td>\n",
       "                <td>17</td>\n",
       "                </tr>\n",
       "            \n",
       "              <tr>\n",
       "                <td class=\"lft\">Intellectual disability, moderate</td>\n",
       "                <td>HP:0002342</td>\n",
       "                <td>16</td>\n",
       "                </tr>\n",
       "            \n",
       "                </tbody>\n",
       "    </table>\n",
       "\n",
       " <h3>Top 10 Variants</h3>\n",
       " <table>\n",
       "  <caption>\n",
       "    Variants are shown according to NM_014225.6. A total of 60 unique variants were identified in the cohort.\n",
       "  </caption>\n",
       "        <tbody>\n",
       "            <tr class=\"strng\">\n",
       "                <th class=\"lft\">Variant</th>\n",
       "                <th>Variant name</th>\n",
       "                <th>Variant Count</th>\n",
       "              </tr>\n",
       "              \n",
       "              <tr>\n",
       "                <td class=\"lft\">19_52212726_52212726_C_T</td>\n",
       "                <td>c.544C>T</td>\n",
       "                <td>11</td>\n",
       "                </tr>\n",
       "            \n",
       "              <tr>\n",
       "                <td class=\"lft\">19_52213076_52213076_G_A</td>\n",
       "                <td>c.773G>A</td>\n",
       "                <td>7</td>\n",
       "                </tr>\n",
       "            \n",
       "              <tr>\n",
       "                <td class=\"lft\">19_52212961_52212961_G_A</td>\n",
       "                <td>c.658G>A</td>\n",
       "                <td>6</td>\n",
       "                </tr>\n",
       "            \n",
       "              <tr>\n",
       "                <td class=\"lft\">19_52212959_52212959_C_T</td>\n",
       "                <td>c.656C>T</td>\n",
       "                <td>5</td>\n",
       "                </tr>\n",
       "            \n",
       "              <tr>\n",
       "                <td class=\"lft\">19_52212721_52212721_T_C</td>\n",
       "                <td>c.539T>C</td>\n",
       "                <td>5</td>\n",
       "                </tr>\n",
       "            \n",
       "              <tr>\n",
       "                <td class=\"lft\">19_52212718_52212718_C_T</td>\n",
       "                <td>c.536C>T</td>\n",
       "                <td>3</td>\n",
       "                </tr>\n",
       "            \n",
       "              <tr>\n",
       "                <td class=\"lft\">19_52212720_52212720_A_G</td>\n",
       "                <td>c.538A>G</td>\n",
       "                <td>3</td>\n",
       "                </tr>\n",
       "            \n",
       "              <tr>\n",
       "                <td class=\"lft\">19_52212730_52212730_G_A</td>\n",
       "                <td>c.548G>A</td>\n",
       "                <td>3</td>\n",
       "                </tr>\n",
       "            \n",
       "              <tr>\n",
       "                <td class=\"lft\">19_52212718_52212718_C_A</td>\n",
       "                <td>c.536C>A</td>\n",
       "                <td>2</td>\n",
       "                </tr>\n",
       "            \n",
       "              <tr>\n",
       "                <td class=\"lft\">19_52213075_52213075_C_A</td>\n",
       "                <td>c.772C>A</td>\n",
       "                <td>2</td>\n",
       "                </tr>\n",
       "            \n",
       "         </tbody>\n",
       "    </table>\n",
       "    <h3>Diseases</h3>\n",
       "    <table>\n",
       "        <tbody>\n",
       "            <tr class=\"strng\">\n",
       "                <th class=\"lft\">Disease ID</th>\n",
       "                <th>Disease Name</th>\n",
       "                <th>Annotation Count</th>\n",
       "              </tr>\n",
       "              \n",
       "              <tr>\n",
       "                <td class=\"lft\">OMIM:616362</td>\n",
       "                <td>Houge-Janssen syndrome 2</td>\n",
       "                <td>60</td>\n",
       "                </tr>\n",
       "            \n",
       "           </tbody>\n",
       "    </table>\n",
       "    \n",
       "    <h3>Variant categories</h3>\n",
       "    <table>\n",
       "        <tbody>\n",
       "            <tr class=\"strng\">\n",
       "                <th class=\"lft\">Variant effect</th>\n",
       "                <th>Annotation Count</th>\n",
       "              </tr>\n",
       "              \n",
       "              <tr>\n",
       "                <td class=\"lft\">NM_014225.6</td>\n",
       "                <td>Counter({'MISSENSE_VARIANT': 58, 'START_LOST': 2})</td>\n",
       "                </tr>\n",
       "            \n",
       "           </tbody>\n",
       "    </table>\n",
       "  \n",
       "\n",
       "\n",
       "</body>\n",
       "</html>"
      ],
      "text/plain": [
       "<IPython.core.display.HTML object>"
      ]
     },
     "metadata": {},
     "output_type": "display_data"
    }
   ],
   "source": [
    "cohort_creator = configure_caching_cohort_creator(hpo)\n",
    "cohort = load_phenopacket_folder(fpath_phenopackets, cohort_creator)\n",
    "viewer = CohortViewable(hpo)\n",
    "display(HTML(viewer.process(cohort=cohort, transcript_id=PPP2R1A_transcript_id)))"
   ]
  },
  {
   "cell_type": "code",
   "execution_count": 5,
   "id": "b8619776",
   "metadata": {},
   "outputs": [],
   "source": [
    "txc_service = VVTranscriptCoordinateService(genome_build=GRCh38)\n",
    "tx_coordinates = txc_service.fetch(PPP2R1A_transcript_id)\n",
    "protein_id = 'NP_037407.4' \n",
    "from genophenocorr.preprocessing import UniprotProteinMetadataService\n",
    "pms = UniprotProteinMetadataService()\n",
    "protein_metas = pms.annotate(PPP2R1A_protein_id)"
   ]
  },
  {
   "cell_type": "code",
   "execution_count": 6,
   "id": "acd57620",
   "metadata": {},
   "outputs": [
    {
     "data": {
      "image/png": "[encoded data removed]",
      "text/plain": [
       "<Figure size 2000x2000 with 1 Axes>"
      ]
     },
     "metadata": {},
     "output_type": "display_data"
    }
   ],
   "source": [
    "protein_meta = protein_metas[0]\n",
    "pvis = ProteinVisualizable(tx_coordinates=tx_coordinates, protein_meta=protein_meta, cohort=cohort)\n",
    "drawer = ProteinVisualizer()\n",
    "drawer.draw_fig(pvis=pvis)"
   ]
  },
  {
   "cell_type": "code",
   "execution_count": 7,
   "id": "5821c60b-e9b3-42ad-a5b1-2a33c8037d6d",
   "metadata": {},
   "outputs": [],
   "source": [
    "analysis_config = CohortAnalysisConfiguration()\n",
    "analysis_config.missing_implies_excluded = True\n",
    "analysis_config.pval_correction = 'fdr_bh'\n",
    "analysis_config.min_perc_patients_w_hpo = 0.1\n",
    "analysis_config.heuristic_strategy()\n",
    "analysis = configure_cohort_analysis(cohort, hpo, config=analysis_config)"
   ]
  },
  {
   "cell_type": "markdown",
   "id": "34af0ac4",
   "metadata": {},
   "source": [
    "## Run analysis"
   ]
  },
  {
   "cell_type": "markdown",
   "id": "6450714d",
   "metadata": {},
   "source": [
    "Test for genotype-phenotype correlation between variants located in some protein region vs. the variants outside of the region."
   ]
  },
  {
   "cell_type": "code",
   "execution_count": 11,
   "id": "fedd725c",
   "metadata": {},
   "outputs": [],
   "source": [
    "from genophenocorr.model import FeatureType\n",
    "from genophenocorr.analysis.predicate import PatientCategories\n",
    "\n",
    "#by_var = analysis.compare_by_variant_key(\"19_52212726_52212726_C_T\")\n",
    "#by_var.summarize(hpo, PatientCategories.YES)\n",
    "\n",
    "#by_region = analysis.compare_by_protein_feature_type(FeatureType.REGION, tx_id=PPP2R1A_transcript_id)\n",
    "#by_region.summarize(hpo, PatientCategories.YES)"
   ]
  },
  {
   "cell_type": "markdown",
   "id": "7ea5f5e5",
   "metadata": {},
   "source": [
    "TODO - finalize!"
   ]
  }
 ],
 "metadata": {
  "kernelspec": {
   "display_name": "exploratory",
   "language": "python",
   "name": "python3"
  },
  "language_info": {
   "codemirror_mode": {
    "name": "ipython",
    "version": 3
   },
   "file_extension": ".py",
   "mimetype": "text/x-python",
   "name": "python",
   "nbconvert_exporter": "python",
   "pygments_lexer": "ipython3",
   "version": "3.9.6"
  }
 },
 "nbformat": 4,
 "nbformat_minor": 5
}
