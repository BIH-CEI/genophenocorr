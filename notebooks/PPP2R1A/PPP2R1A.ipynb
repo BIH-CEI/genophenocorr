{
 "cells": [
  {
   "cell_type": "markdown",
   "id": "d3ce7196-d04f-4a76-8bad-9aedf93d614f",
   "metadata": {},
   "source": [
    "<h1>PPP2R1A</h1>"
   ]
  },
  {
   "cell_type": "code",
   "execution_count": 1,
   "id": "85e75b05",
   "metadata": {},
   "outputs": [
    {
     "name": "stdout",
     "output_type": "stream",
     "text": [
      "Using genophenocorr version 0.1.1dev\n"
     ]
    }
   ],
   "source": [
    "import genophenocorr\n",
    "\n",
    "print(f\"Using genophenocorr version {genophenocorr.__version__}\")"
   ]
  },
  {
   "cell_type": "markdown",
   "id": "87e27685-fecf-423a-a634-02f654c4d65d",
   "metadata": {},
   "source": [
    "## Setup"
   ]
  },
  {
   "cell_type": "markdown",
   "id": "e1e497b8",
   "metadata": {},
   "source": [
    "### Load HPO\n",
    "\n",
    "We use HPO `v2023-10-09` release for this analysis."
   ]
  },
  {
   "cell_type": "code",
   "execution_count": 2,
   "id": "f527459f-f448-45dc-b962-61b9f53f64c7",
   "metadata": {},
   "outputs": [],
   "source": [
    "import hpotk\n",
    "\n",
    "fpath_hpo = 'https://github.com/obophenotype/human-phenotype-ontology/releases/download/v2023-10-09/hp.json'\n",
    "hpo = hpotk.load_minimal_ontology(fpath_hpo)"
   ]
  },
  {
   "cell_type": "markdown",
   "id": "a79fe634",
   "metadata": {},
   "source": [
    "### Load phenopackets\n",
    "\n",
    "We'll load the phenopacket JSON files stored in the `phenopackets` folder next to the notebook."
   ]
  },
  {
   "cell_type": "code",
   "execution_count": 3,
   "id": "0ca0f241-e4ad-4ffc-b3c4-d2f2df74d4fa",
   "metadata": {},
   "outputs": [
    {
     "name": "stderr",
     "output_type": "stream",
     "text": [
      "Patients Created: 100%|██████████| 60/60 [00:00<00:00, 339.77it/s]\n"
     ]
    }
   ],
   "source": [
    "from genophenocorr.preprocessing import configure_caching_patient_creator, load_phenopacket_folder\n",
    "\n",
    "fpath_phenopackets = 'phenopackets'\n",
    "pc = configure_caching_patient_creator(hpo)\n",
    "cohort = load_phenopacket_folder(fpath_phenopackets, pc)"
   ]
  },
  {
   "cell_type": "markdown",
   "id": "3c3629b9",
   "metadata": {},
   "source": [
    "### Pick a transcript\n",
    "\n",
    "We will use [MANE Select](https://www.ncbi.nlm.nih.gov/nuccore/NM_014225.6) transcript for *PPP2R1A*."
   ]
  },
  {
   "cell_type": "code",
   "execution_count": 4,
   "id": "7d868e81",
   "metadata": {},
   "outputs": [],
   "source": [
    "tx_id = 'NM_014225.6'"
   ]
  },
  {
   "cell_type": "markdown",
   "id": "861c7df0",
   "metadata": {},
   "source": [
    "## Configure the analysis\n"
   ]
  },
  {
   "cell_type": "code",
   "execution_count": 5,
   "id": "5821c60b-e9b3-42ad-a5b1-2a33c8037d6d",
   "metadata": {},
   "outputs": [],
   "source": [
    "from genophenocorr.analysis import configure_cohort_analysis\n",
    "from genophenocorr.analysis.predicate import BooleanPredicate\n",
    "\n",
    "analysis = configure_cohort_analysis(cohort, hpo)"
   ]
  },
  {
   "cell_type": "markdown",
   "id": "34af0ac4",
   "metadata": {},
   "source": [
    "## Run analysis"
   ]
  },
  {
   "cell_type": "markdown",
   "id": "6450714d",
   "metadata": {},
   "source": [
    "Test for genotype-phenotype correlation between variants located in some protein region vs. the variants outside of the region."
   ]
  },
  {
   "cell_type": "code",
   "execution_count": 6,
   "id": "fedd725c",
   "metadata": {},
   "outputs": [
    {
     "data": {
      "text/html": [
       "<div>\n",
       "<style scoped>\n",
       "    .dataframe tbody tr th:only-of-type {\n",
       "        vertical-align: middle;\n",
       "    }\n",
       "\n",
       "    .dataframe tbody tr th {\n",
       "        vertical-align: top;\n",
       "    }\n",
       "\n",
       "    .dataframe thead tr th {\n",
       "        text-align: left;\n",
       "    }\n",
       "</style>\n",
       "<table border=\"1\" class=\"dataframe\">\n",
       "  <thead>\n",
       "    <tr>\n",
       "      <th>Variant that affects REGION protein feature type on NM_014225.6</th>\n",
       "      <th colspan=\"2\" halign=\"left\">No</th>\n",
       "      <th colspan=\"2\" halign=\"left\">Yes</th>\n",
       "      <th colspan=\"2\" halign=\"left\"></th>\n",
       "    </tr>\n",
       "    <tr>\n",
       "      <th></th>\n",
       "      <th>Count</th>\n",
       "      <th>Percent</th>\n",
       "      <th>Count</th>\n",
       "      <th>Percent</th>\n",
       "      <th>p value</th>\n",
       "      <th>Corrected p value</th>\n",
       "    </tr>\n",
       "  </thead>\n",
       "  <tbody>\n",
       "    <tr>\n",
       "      <th>Hearing impairment [HP:0000365]</th>\n",
       "      <td>1</td>\n",
       "      <td>3.571429</td>\n",
       "      <td>6</td>\n",
       "      <td>21.428571</td>\n",
       "      <td>0.25</td>\n",
       "      <td>1.0</td>\n",
       "    </tr>\n",
       "    <tr>\n",
       "      <th>Intrauterine growth retardation [HP:0001511]</th>\n",
       "      <td>0</td>\n",
       "      <td>0.000000</td>\n",
       "      <td>7</td>\n",
       "      <td>17.073171</td>\n",
       "      <td>1.00</td>\n",
       "      <td>1.0</td>\n",
       "    </tr>\n",
       "    <tr>\n",
       "      <th>Growth delay [HP:0001510]</th>\n",
       "      <td>0</td>\n",
       "      <td>0.000000</td>\n",
       "      <td>12</td>\n",
       "      <td>100.000000</td>\n",
       "      <td>1.00</td>\n",
       "      <td>1.0</td>\n",
       "    </tr>\n",
       "    <tr>\n",
       "      <th>Growth abnormality [HP:0001507]</th>\n",
       "      <td>0</td>\n",
       "      <td>0.000000</td>\n",
       "      <td>12</td>\n",
       "      <td>100.000000</td>\n",
       "      <td>1.00</td>\n",
       "      <td>1.0</td>\n",
       "    </tr>\n",
       "    <tr>\n",
       "      <th>Phenotypic abnormality [HP:0000118]</th>\n",
       "      <td>2</td>\n",
       "      <td>3.333333</td>\n",
       "      <td>58</td>\n",
       "      <td>96.666667</td>\n",
       "      <td>1.00</td>\n",
       "      <td>1.0</td>\n",
       "    </tr>\n",
       "    <tr>\n",
       "      <th>...</th>\n",
       "      <td>...</td>\n",
       "      <td>...</td>\n",
       "      <td>...</td>\n",
       "      <td>...</td>\n",
       "      <td>...</td>\n",
       "      <td>...</td>\n",
       "    </tr>\n",
       "    <tr>\n",
       "      <th>Abnormal ventricular septum morphology [HP:0010438]</th>\n",
       "      <td>0</td>\n",
       "      <td>0.000000</td>\n",
       "      <td>1</td>\n",
       "      <td>100.000000</td>\n",
       "      <td>1.00</td>\n",
       "      <td>1.0</td>\n",
       "    </tr>\n",
       "    <tr>\n",
       "      <th>Cubitus valgus [HP:0002967]</th>\n",
       "      <td>0</td>\n",
       "      <td>0.000000</td>\n",
       "      <td>1</td>\n",
       "      <td>100.000000</td>\n",
       "      <td>1.00</td>\n",
       "      <td>1.0</td>\n",
       "    </tr>\n",
       "    <tr>\n",
       "      <th>Abnormality of the elbow [HP:0009811]</th>\n",
       "      <td>0</td>\n",
       "      <td>0.000000</td>\n",
       "      <td>1</td>\n",
       "      <td>100.000000</td>\n",
       "      <td>1.00</td>\n",
       "      <td>1.0</td>\n",
       "    </tr>\n",
       "    <tr>\n",
       "      <th>Abnormality of upper limb joint [HP:0009810]</th>\n",
       "      <td>0</td>\n",
       "      <td>0.000000</td>\n",
       "      <td>1</td>\n",
       "      <td>100.000000</td>\n",
       "      <td>1.00</td>\n",
       "      <td>1.0</td>\n",
       "    </tr>\n",
       "    <tr>\n",
       "      <th>Abnormality of the upper limb [HP:0002817]</th>\n",
       "      <td>0</td>\n",
       "      <td>0.000000</td>\n",
       "      <td>1</td>\n",
       "      <td>100.000000</td>\n",
       "      <td>1.00</td>\n",
       "      <td>1.0</td>\n",
       "    </tr>\n",
       "  </tbody>\n",
       "</table>\n",
       "<p>167 rows × 6 columns</p>\n",
       "</div>"
      ],
      "text/plain": [
       "Variant that affects REGION protein feature type on NM_014225.6    No  \\\n",
       "                                                                Count   \n",
       "Hearing impairment [HP:0000365]                                     1   \n",
       "Intrauterine growth retardation [HP:0001511]                        0   \n",
       "Growth delay [HP:0001510]                                           0   \n",
       "Growth abnormality [HP:0001507]                                     0   \n",
       "Phenotypic abnormality [HP:0000118]                                 2   \n",
       "...                                                               ...   \n",
       "Abnormal ventricular septum morphology [HP:0010...                  0   \n",
       "Cubitus valgus [HP:0002967]                                         0   \n",
       "Abnormality of the elbow [HP:0009811]                               0   \n",
       "Abnormality of upper limb joint [HP:0009810]                        0   \n",
       "Abnormality of the upper limb [HP:0002817]                          0   \n",
       "\n",
       "Variant that affects REGION protein feature type on NM_014225.6            \\\n",
       "                                                                  Percent   \n",
       "Hearing impairment [HP:0000365]                                  3.571429   \n",
       "Intrauterine growth retardation [HP:0001511]                     0.000000   \n",
       "Growth delay [HP:0001510]                                        0.000000   \n",
       "Growth abnormality [HP:0001507]                                  0.000000   \n",
       "Phenotypic abnormality [HP:0000118]                              3.333333   \n",
       "...                                                                   ...   \n",
       "Abnormal ventricular septum morphology [HP:0010...               0.000000   \n",
       "Cubitus valgus [HP:0002967]                                      0.000000   \n",
       "Abnormality of the elbow [HP:0009811]                            0.000000   \n",
       "Abnormality of upper limb joint [HP:0009810]                     0.000000   \n",
       "Abnormality of the upper limb [HP:0002817]                       0.000000   \n",
       "\n",
       "Variant that affects REGION protein feature type on NM_014225.6   Yes  \\\n",
       "                                                                Count   \n",
       "Hearing impairment [HP:0000365]                                     6   \n",
       "Intrauterine growth retardation [HP:0001511]                        7   \n",
       "Growth delay [HP:0001510]                                          12   \n",
       "Growth abnormality [HP:0001507]                                    12   \n",
       "Phenotypic abnormality [HP:0000118]                                58   \n",
       "...                                                               ...   \n",
       "Abnormal ventricular septum morphology [HP:0010...                  1   \n",
       "Cubitus valgus [HP:0002967]                                         1   \n",
       "Abnormality of the elbow [HP:0009811]                               1   \n",
       "Abnormality of upper limb joint [HP:0009810]                        1   \n",
       "Abnormality of the upper limb [HP:0002817]                          1   \n",
       "\n",
       "Variant that affects REGION protein feature type on NM_014225.6              \\\n",
       "                                                                    Percent   \n",
       "Hearing impairment [HP:0000365]                                   21.428571   \n",
       "Intrauterine growth retardation [HP:0001511]                      17.073171   \n",
       "Growth delay [HP:0001510]                                        100.000000   \n",
       "Growth abnormality [HP:0001507]                                  100.000000   \n",
       "Phenotypic abnormality [HP:0000118]                               96.666667   \n",
       "...                                                                     ...   \n",
       "Abnormal ventricular septum morphology [HP:0010...               100.000000   \n",
       "Cubitus valgus [HP:0002967]                                      100.000000   \n",
       "Abnormality of the elbow [HP:0009811]                            100.000000   \n",
       "Abnormality of upper limb joint [HP:0009810]                     100.000000   \n",
       "Abnormality of the upper limb [HP:0002817]                       100.000000   \n",
       "\n",
       "Variant that affects REGION protein feature type on NM_014225.6          \\\n",
       "                                                                p value   \n",
       "Hearing impairment [HP:0000365]                                    0.25   \n",
       "Intrauterine growth retardation [HP:0001511]                       1.00   \n",
       "Growth delay [HP:0001510]                                          1.00   \n",
       "Growth abnormality [HP:0001507]                                    1.00   \n",
       "Phenotypic abnormality [HP:0000118]                                1.00   \n",
       "...                                                                 ...   \n",
       "Abnormal ventricular septum morphology [HP:0010...                 1.00   \n",
       "Cubitus valgus [HP:0002967]                                        1.00   \n",
       "Abnormality of the elbow [HP:0009811]                              1.00   \n",
       "Abnormality of upper limb joint [HP:0009810]                       1.00   \n",
       "Abnormality of the upper limb [HP:0002817]                         1.00   \n",
       "\n",
       "Variant that affects REGION protein feature type on NM_014225.6                    \n",
       "                                                                Corrected p value  \n",
       "Hearing impairment [HP:0000365]                                               1.0  \n",
       "Intrauterine growth retardation [HP:0001511]                                  1.0  \n",
       "Growth delay [HP:0001510]                                                     1.0  \n",
       "Growth abnormality [HP:0001507]                                               1.0  \n",
       "Phenotypic abnormality [HP:0000118]                                           1.0  \n",
       "...                                                                           ...  \n",
       "Abnormal ventricular septum morphology [HP:0010...                            1.0  \n",
       "Cubitus valgus [HP:0002967]                                                   1.0  \n",
       "Abnormality of the elbow [HP:0009811]                                         1.0  \n",
       "Abnormality of upper limb joint [HP:0009810]                                  1.0  \n",
       "Abnormality of the upper limb [HP:0002817]                                    1.0  \n",
       "\n",
       "[167 rows x 6 columns]"
      ]
     },
     "execution_count": 6,
     "metadata": {},
     "output_type": "execute_result"
    }
   ],
   "source": [
    "from genophenocorr.model import FeatureType\n",
    "\n",
    "by_region = analysis.compare_by_protein_feature_type(FeatureType.REGION, tx_id=tx_id)\n",
    "by_region.summarize(hpo, BooleanPredicate.YES)"
   ]
  },
  {
   "cell_type": "markdown",
   "id": "7ea5f5e5",
   "metadata": {},
   "source": [
    "TODO - finalize!"
   ]
  }
 ],
 "metadata": {
  "kernelspec": {
   "display_name": "exploratory",
   "language": "python",
   "name": "python3"
  },
  "language_info": {
   "codemirror_mode": {
    "name": "ipython",
    "version": 3
   },
   "file_extension": ".py",
   "mimetype": "text/x-python",
   "name": "python",
   "nbconvert_exporter": "python",
   "pygments_lexer": "ipython3",
   "version": "3.10.12"
  }
 },
 "nbformat": 4,
 "nbformat_minor": 5
}
