{
 "cells": [
  {
   "cell_type": "markdown",
   "id": "d3ce7196-d04f-4a76-8bad-9aedf93d614f",
   "metadata": {},
   "source": [
    "<h1>PPP2R1A</h1>"
   ]
  },
  {
   "cell_type": "code",
   "execution_count": null,
   "id": "95a1300d-c001-44e6-b0e3-e561b587c498",
   "metadata": {},
   "outputs": [],
   "source": [
    "import os\n",
    "import hpotk\n",
    "from genophenocorr.preprocessing import configure_caching_patient_creator\n",
    "from genophenocorr.preprocessing import load_phenopacket_folder\n",
    "from genophenocorr.analysis import CohortAnalysis\n",
    "from genophenocorr.view import *"
   ]
  },
  {
   "cell_type": "code",
   "execution_count": null,
   "id": "87e27685-fecf-423a-a634-02f654c4d65d",
   "metadata": {},
   "outputs": [],
   "source": [
    "fpath_hpo = '../hpo_data/hp.json'\n",
    "cache_dir = 'annotations'\n",
    "fpath_phenopackets = 'input'\n",
    "PPP2R1A_transcript = \"NM_014225.6\""
   ]
  },
  {
   "cell_type": "code",
   "execution_count": null,
   "id": "f527459f-f448-45dc-b962-61b9f53f64c7",
   "metadata": {},
   "outputs": [],
   "source": [
    "hpo: hpotk.ontology.Ontology = hpotk.ontology.load.obographs.load_ontology(fpath_hpo)"
   ]
  },
  {
   "cell_type": "code",
   "execution_count": null,
   "id": "0ca0f241-e4ad-4ffc-b3c4-d2f2df74d4fa",
   "metadata": {},
   "outputs": [],
   "source": [
    "pc = configure_caching_patient_creator(hpo, cache_dir = cache_dir)\n",
    "patientCohort = load_phenopacket_folder(fpath_phenopackets, pc)"
   ]
  },
  {
   "cell_type": "code",
   "execution_count": null,
   "id": "ca0a1d55-db39-41d5-a3ae-321770f70b43",
   "metadata": {},
   "outputs": [],
   "source": [
    "viewer = CohortViewer(hpo)"
   ]
  },
  {
   "cell_type": "code",
   "execution_count": null,
   "id": "1b2028c7-1ac5-454d-ad1a-603c574b0b8c",
   "metadata": {},
   "outputs": [],
   "source": [
    "#viewer.summarhy"
   ]
  },
  {
   "cell_type": "code",
   "execution_count": null,
   "id": "8105b703-128d-46ca-b064-c33c4f0c96c1",
   "metadata": {},
   "outputs": [],
   "source": [
    "patientCohort.list_all_proteins()"
   ]
  },
  {
   "cell_type": "code",
   "execution_count": null,
   "id": "5821c60b-e9b3-42ad-a5b1-2a33c8037d6d",
   "metadata": {},
   "outputs": [],
   "source": [
    "analysis = CohortAnalysis(patientCohort, PPP2R1A_transcript, hpo, include_unmeasured=False)"
   ]
  },
  {
   "cell_type": "code",
   "execution_count": null,
   "id": "27a9fefc-a7f2-4fdf-9439-733a8df62774",
   "metadata": {},
   "outputs": [],
   "source": [
    "from genophenocorr.model import FeatureType"
   ]
  },
  {
   "cell_type": "code",
   "execution_count": null,
   "id": "49862740-34c7-4900-a3ad-a897f619fbfd",
   "metadata": {},
   "outputs": [],
   "source": [
    "analysis.compare_by_protein_feature_type(FeatureType.REGION)"
   ]
  },
  {
   "cell_type": "code",
   "execution_count": null,
   "id": "65fe1556-c589-4d02-8cb4-f84e2a3debdc",
   "metadata": {},
   "outputs": [],
   "source": []
  }
 ],
 "metadata": {
  "kernelspec": {
   "display_name": "gpc2venv",
   "language": "python",
   "name": "gpc2venv"
  },
  "language_info": {
   "codemirror_mode": {
    "name": "ipython",
    "version": 3
   },
   "file_extension": ".py",
   "mimetype": "text/x-python",
   "name": "python",
   "nbconvert_exporter": "python",
   "pygments_lexer": "ipython3",
   "version": "3.8.10"
  }
 },
 "nbformat": 4,
 "nbformat_minor": 5
}
