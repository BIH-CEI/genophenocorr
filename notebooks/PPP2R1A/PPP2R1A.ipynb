{
 "cells": [
  {
   "cell_type": "markdown",
   "id": "d3ce7196-d04f-4a76-8bad-9aedf93d614f",
   "metadata": {},
   "source": [
    "<h1>PPP2R1A</h1>"
   ]
  },
  {
   "cell_type": "code",
   "execution_count": 1,
   "id": "85e75b05",
   "metadata": {},
   "outputs": [
    {
     "name": "stdout",
     "output_type": "stream",
     "text": [
      "Using genophenocorr version 0.1.1dev\n"
     ]
    }
   ],
   "source": [
    "import genophenocorr\n",
    "\n",
    "print(f\"Using genophenocorr version {genophenocorr.__version__}\")"
   ]
  },
  {
   "cell_type": "markdown",
   "id": "87e27685-fecf-423a-a634-02f654c4d65d",
   "metadata": {},
   "source": [
    "## Setup"
   ]
  },
  {
   "cell_type": "markdown",
   "id": "e1e497b8",
   "metadata": {},
   "source": [
    "### Load HPO\n",
    "\n",
    "We use HPO `v2023-10-09` release for this analysis."
   ]
  },
  {
   "cell_type": "code",
   "execution_count": 2,
   "id": "f527459f-f448-45dc-b962-61b9f53f64c7",
   "metadata": {},
   "outputs": [],
   "source": [
    "import hpotk\n",
    "\n",
    "fpath_hpo = 'https://github.com/obophenotype/human-phenotype-ontology/releases/download/v2023-10-09/hp.json'\n",
    "hpo = hpotk.load_minimal_ontology(fpath_hpo)"
   ]
  },
  {
   "cell_type": "markdown",
   "id": "a79fe634",
   "metadata": {},
   "source": [
    "### Load phenopackets\n",
    "\n",
    "We'll load the phenopacket JSON files stored in the `phenopackets` folder next to the notebook."
   ]
  },
  {
   "cell_type": "code",
   "execution_count": 3,
   "id": "0ca0f241-e4ad-4ffc-b3c4-d2f2df74d4fa",
   "metadata": {},
   "outputs": [
    {
     "name": "stderr",
     "output_type": "stream",
     "text": [
      "Patients Created: 100%|██████████| 60/60 [00:00<00:00, 341.78it/s]\n"
     ]
    }
   ],
   "source": [
    "from genophenocorr.preprocessing import configure_caching_cohort_creator, load_phenopacket_folder\n",
    "\n",
    "fpath_phenopackets = 'phenopackets'\n",
    "cohort_creator = configure_caching_cohort_creator(hpo)\n",
    "cohort = load_phenopacket_folder(fpath_phenopackets, cohort_creator)"
   ]
  },
  {
   "cell_type": "markdown",
   "id": "3c3629b9",
   "metadata": {},
   "source": [
    "### Pick a transcript\n",
    "\n",
    "We will use [MANE Select](https://www.ncbi.nlm.nih.gov/nuccore/NM_014225.6) transcript for *PPP2R1A*."
   ]
  },
  {
   "cell_type": "code",
   "execution_count": 4,
   "id": "7d868e81",
   "metadata": {},
   "outputs": [],
   "source": [
    "tx_id = 'NM_014225.6'"
   ]
  },
  {
   "cell_type": "markdown",
   "id": "861c7df0",
   "metadata": {},
   "source": [
    "## Configure the analysis\n"
   ]
  },
  {
   "cell_type": "code",
   "execution_count": 5,
   "id": "5821c60b-e9b3-42ad-a5b1-2a33c8037d6d",
   "metadata": {},
   "outputs": [],
   "source": [
    "from genophenocorr.analysis import configure_cohort_analysis\n",
    "from genophenocorr.analysis.predicate import BooleanPredicate\n",
    "\n",
    "analysis = configure_cohort_analysis(cohort, hpo)"
   ]
  },
  {
   "cell_type": "markdown",
   "id": "34af0ac4",
   "metadata": {},
   "source": [
    "## Run analysis"
   ]
  },
  {
   "cell_type": "markdown",
   "id": "6450714d",
   "metadata": {},
   "source": [
    "Test for genotype-phenotype correlation between variants located in some protein region vs. the variants outside of the region."
   ]
  },
  {
   "cell_type": "code",
   "execution_count": 6,
   "id": "fedd725c",
   "metadata": {},
   "outputs": [
    {
     "data": {
      "text/html": [
       "<div>\n",
       "<style scoped>\n",
       "    .dataframe tbody tr th:only-of-type {\n",
       "        vertical-align: middle;\n",
       "    }\n",
       "\n",
       "    .dataframe tbody tr th {\n",
       "        vertical-align: top;\n",
       "    }\n",
       "\n",
       "    .dataframe thead tr th {\n",
       "        text-align: left;\n",
       "    }\n",
       "</style>\n",
       "<table border=\"1\" class=\"dataframe\">\n",
       "  <thead>\n",
       "    <tr>\n",
       "      <th>Variant that affects REGION protein feature type on NM_014225.6</th>\n",
       "      <th colspan=\"2\" halign=\"left\">No</th>\n",
       "      <th colspan=\"2\" halign=\"left\">Yes</th>\n",
       "      <th colspan=\"2\" halign=\"left\"></th>\n",
       "    </tr>\n",
       "    <tr>\n",
       "      <th></th>\n",
       "      <th>Count</th>\n",
       "      <th>Percent</th>\n",
       "      <th>Count</th>\n",
       "      <th>Percent</th>\n",
       "      <th>p value</th>\n",
       "      <th>Corrected p value</th>\n",
       "    </tr>\n",
       "  </thead>\n",
       "  <tbody>\n",
       "    <tr>\n",
       "      <th>Hearing impairment [HP:0000365]</th>\n",
       "      <td>1</td>\n",
       "      <td>3.571429</td>\n",
       "      <td>6</td>\n",
       "      <td>21.428571</td>\n",
       "      <td>0.25</td>\n",
       "      <td>1.0</td>\n",
       "    </tr>\n",
       "    <tr>\n",
       "      <th>Microcephaly [HP:0000252]</th>\n",
       "      <td>0</td>\n",
       "      <td>0.000000</td>\n",
       "      <td>20</td>\n",
       "      <td>62.500000</td>\n",
       "      <td>1.00</td>\n",
       "      <td>1.0</td>\n",
       "    </tr>\n",
       "    <tr>\n",
       "      <th>Aplasia/Hypoplasia of the cerebrum [HP:0007364]</th>\n",
       "      <td>0</td>\n",
       "      <td>0.000000</td>\n",
       "      <td>40</td>\n",
       "      <td>100.000000</td>\n",
       "      <td>1.00</td>\n",
       "      <td>1.0</td>\n",
       "    </tr>\n",
       "    <tr>\n",
       "      <th>Decreased head circumference [HP:0040195]</th>\n",
       "      <td>0</td>\n",
       "      <td>0.000000</td>\n",
       "      <td>20</td>\n",
       "      <td>62.500000</td>\n",
       "      <td>1.00</td>\n",
       "      <td>1.0</td>\n",
       "    </tr>\n",
       "    <tr>\n",
       "      <th>Abnormal cerebral morphology [HP:0002060]</th>\n",
       "      <td>0</td>\n",
       "      <td>0.000000</td>\n",
       "      <td>42</td>\n",
       "      <td>100.000000</td>\n",
       "      <td>1.00</td>\n",
       "      <td>1.0</td>\n",
       "    </tr>\n",
       "    <tr>\n",
       "      <th>...</th>\n",
       "      <td>...</td>\n",
       "      <td>...</td>\n",
       "      <td>...</td>\n",
       "      <td>...</td>\n",
       "      <td>...</td>\n",
       "      <td>...</td>\n",
       "    </tr>\n",
       "    <tr>\n",
       "      <th>Abnormal pulmonary valve physiology [HP:0031654]</th>\n",
       "      <td>0</td>\n",
       "      <td>0.000000</td>\n",
       "      <td>1</td>\n",
       "      <td>100.000000</td>\n",
       "      <td>1.00</td>\n",
       "      <td>1.0</td>\n",
       "    </tr>\n",
       "    <tr>\n",
       "      <th>Abnormal heart valve physiology [HP:0031653]</th>\n",
       "      <td>0</td>\n",
       "      <td>0.000000</td>\n",
       "      <td>1</td>\n",
       "      <td>100.000000</td>\n",
       "      <td>1.00</td>\n",
       "      <td>1.0</td>\n",
       "    </tr>\n",
       "    <tr>\n",
       "      <th>Abnormal cardiovascular system physiology [HP:0011025]</th>\n",
       "      <td>0</td>\n",
       "      <td>0.000000</td>\n",
       "      <td>1</td>\n",
       "      <td>100.000000</td>\n",
       "      <td>1.00</td>\n",
       "      <td>1.0</td>\n",
       "    </tr>\n",
       "    <tr>\n",
       "      <th>Aggressive behavior [HP:0000718]</th>\n",
       "      <td>0</td>\n",
       "      <td>0.000000</td>\n",
       "      <td>1</td>\n",
       "      <td>100.000000</td>\n",
       "      <td>1.00</td>\n",
       "      <td>1.0</td>\n",
       "    </tr>\n",
       "    <tr>\n",
       "      <th>Thoracolumbar scoliosis [HP:0002944]</th>\n",
       "      <td>0</td>\n",
       "      <td>0.000000</td>\n",
       "      <td>1</td>\n",
       "      <td>100.000000</td>\n",
       "      <td>1.00</td>\n",
       "      <td>1.0</td>\n",
       "    </tr>\n",
       "  </tbody>\n",
       "</table>\n",
       "<p>167 rows × 6 columns</p>\n",
       "</div>"
      ],
      "text/plain": [
       "Variant that affects REGION protein feature type on NM_014225.6    No  \\\n",
       "                                                                Count   \n",
       "Hearing impairment [HP:0000365]                                     1   \n",
       "Microcephaly [HP:0000252]                                           0   \n",
       "Aplasia/Hypoplasia of the cerebrum [HP:0007364]                     0   \n",
       "Decreased head circumference [HP:0040195]                           0   \n",
       "Abnormal cerebral morphology [HP:0002060]                           0   \n",
       "...                                                               ...   \n",
       "Abnormal pulmonary valve physiology [HP:0031654]                    0   \n",
       "Abnormal heart valve physiology [HP:0031653]                        0   \n",
       "Abnormal cardiovascular system physiology [HP:0...                  0   \n",
       "Aggressive behavior [HP:0000718]                                    0   \n",
       "Thoracolumbar scoliosis [HP:0002944]                                0   \n",
       "\n",
       "Variant that affects REGION protein feature type on NM_014225.6            \\\n",
       "                                                                  Percent   \n",
       "Hearing impairment [HP:0000365]                                  3.571429   \n",
       "Microcephaly [HP:0000252]                                        0.000000   \n",
       "Aplasia/Hypoplasia of the cerebrum [HP:0007364]                  0.000000   \n",
       "Decreased head circumference [HP:0040195]                        0.000000   \n",
       "Abnormal cerebral morphology [HP:0002060]                        0.000000   \n",
       "...                                                                   ...   \n",
       "Abnormal pulmonary valve physiology [HP:0031654]                 0.000000   \n",
       "Abnormal heart valve physiology [HP:0031653]                     0.000000   \n",
       "Abnormal cardiovascular system physiology [HP:0...               0.000000   \n",
       "Aggressive behavior [HP:0000718]                                 0.000000   \n",
       "Thoracolumbar scoliosis [HP:0002944]                             0.000000   \n",
       "\n",
       "Variant that affects REGION protein feature type on NM_014225.6   Yes  \\\n",
       "                                                                Count   \n",
       "Hearing impairment [HP:0000365]                                     6   \n",
       "Microcephaly [HP:0000252]                                          20   \n",
       "Aplasia/Hypoplasia of the cerebrum [HP:0007364]                    40   \n",
       "Decreased head circumference [HP:0040195]                          20   \n",
       "Abnormal cerebral morphology [HP:0002060]                          42   \n",
       "...                                                               ...   \n",
       "Abnormal pulmonary valve physiology [HP:0031654]                    1   \n",
       "Abnormal heart valve physiology [HP:0031653]                        1   \n",
       "Abnormal cardiovascular system physiology [HP:0...                  1   \n",
       "Aggressive behavior [HP:0000718]                                    1   \n",
       "Thoracolumbar scoliosis [HP:0002944]                                1   \n",
       "\n",
       "Variant that affects REGION protein feature type on NM_014225.6              \\\n",
       "                                                                    Percent   \n",
       "Hearing impairment [HP:0000365]                                   21.428571   \n",
       "Microcephaly [HP:0000252]                                         62.500000   \n",
       "Aplasia/Hypoplasia of the cerebrum [HP:0007364]                  100.000000   \n",
       "Decreased head circumference [HP:0040195]                         62.500000   \n",
       "Abnormal cerebral morphology [HP:0002060]                        100.000000   \n",
       "...                                                                     ...   \n",
       "Abnormal pulmonary valve physiology [HP:0031654]                 100.000000   \n",
       "Abnormal heart valve physiology [HP:0031653]                     100.000000   \n",
       "Abnormal cardiovascular system physiology [HP:0...               100.000000   \n",
       "Aggressive behavior [HP:0000718]                                 100.000000   \n",
       "Thoracolumbar scoliosis [HP:0002944]                             100.000000   \n",
       "\n",
       "Variant that affects REGION protein feature type on NM_014225.6          \\\n",
       "                                                                p value   \n",
       "Hearing impairment [HP:0000365]                                    0.25   \n",
       "Microcephaly [HP:0000252]                                          1.00   \n",
       "Aplasia/Hypoplasia of the cerebrum [HP:0007364]                    1.00   \n",
       "Decreased head circumference [HP:0040195]                          1.00   \n",
       "Abnormal cerebral morphology [HP:0002060]                          1.00   \n",
       "...                                                                 ...   \n",
       "Abnormal pulmonary valve physiology [HP:0031654]                   1.00   \n",
       "Abnormal heart valve physiology [HP:0031653]                       1.00   \n",
       "Abnormal cardiovascular system physiology [HP:0...                 1.00   \n",
       "Aggressive behavior [HP:0000718]                                   1.00   \n",
       "Thoracolumbar scoliosis [HP:0002944]                               1.00   \n",
       "\n",
       "Variant that affects REGION protein feature type on NM_014225.6                    \n",
       "                                                                Corrected p value  \n",
       "Hearing impairment [HP:0000365]                                               1.0  \n",
       "Microcephaly [HP:0000252]                                                     1.0  \n",
       "Aplasia/Hypoplasia of the cerebrum [HP:0007364]                               1.0  \n",
       "Decreased head circumference [HP:0040195]                                     1.0  \n",
       "Abnormal cerebral morphology [HP:0002060]                                     1.0  \n",
       "...                                                                           ...  \n",
       "Abnormal pulmonary valve physiology [HP:0031654]                              1.0  \n",
       "Abnormal heart valve physiology [HP:0031653]                                  1.0  \n",
       "Abnormal cardiovascular system physiology [HP:0...                            1.0  \n",
       "Aggressive behavior [HP:0000718]                                              1.0  \n",
       "Thoracolumbar scoliosis [HP:0002944]                                          1.0  \n",
       "\n",
       "[167 rows x 6 columns]"
      ]
     },
     "execution_count": 6,
     "metadata": {},
     "output_type": "execute_result"
    }
   ],
   "source": [
    "from genophenocorr.model import FeatureType\n",
    "\n",
    "by_region = analysis.compare_by_protein_feature_type(FeatureType.REGION, tx_id=tx_id)\n",
    "by_region.summarize(hpo, BooleanPredicate.YES)"
   ]
  },
  {
   "cell_type": "markdown",
   "id": "7ea5f5e5",
   "metadata": {},
   "source": [
    "TODO - finalize!"
   ]
  }
 ],
 "metadata": {
  "kernelspec": {
   "display_name": "exploratory",
   "language": "python",
   "name": "python3"
  },
  "language_info": {
   "codemirror_mode": {
    "name": "ipython",
    "version": 3
   },
   "file_extension": ".py",
   "mimetype": "text/x-python",
   "name": "python",
   "nbconvert_exporter": "python",
   "pygments_lexer": "ipython3",
   "version": "3.10.12"
  }
 },
 "nbformat": 4,
 "nbformat_minor": 5
}
