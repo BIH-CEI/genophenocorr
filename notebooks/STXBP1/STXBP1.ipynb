{
 "cells": [
  {
   "cell_type": "markdown",
   "id": "9dc963e1",
   "metadata": {},
   "source": [
    "<h1>STXBP1 genotype-phenotype correlation  analysis</h1>\n",
    "<p>todo</p>"
   ]
  },
  {
   "cell_type": "code",
   "execution_count": 9,
   "id": "492f5c98",
   "metadata": {
    "ExecuteTime": {
     "end_time": "2023-10-04T14:36:03.457312Z",
     "start_time": "2023-10-04T14:36:03.383816Z"
    }
   },
   "outputs": [
    {
     "name": "stdout",
     "output_type": "stream",
     "text": [
      "Using genophenocorr version 0.1.0\n"
     ]
    }
   ],
   "source": [
    "import genophenocorr\n",
    "print(f\"Using genophenocorr version {genophenocorr.__version__}\")"
   ]
  },
  {
   "cell_type": "code",
   "execution_count": 10,
   "id": "c0692465",
   "metadata": {
    "ExecuteTime": {
     "end_time": "2023-10-04T14:36:07.339558Z",
     "start_time": "2023-10-04T14:36:03.406521Z"
    }
   },
   "outputs": [
    {
     "name": "stdout",
     "output_type": "stream",
     "text": [
      "Loaded HPO v2023-01-27\n"
     ]
    }
   ],
   "source": [
    "import hpotk\n",
    "hpo_purl = \"../hpo_data/hp.json\"\n",
    "hpo = hpotk.load_minimal_ontology(hpo_purl)\n",
    "print(f'Loaded HPO v{hpo.version}')"
   ]
  },
  {
   "cell_type": "code",
   "execution_count": 11,
   "id": "77660956-d30f-4c49-a4a0-7fdae1e75b9f",
   "metadata": {
    "ExecuteTime": {
     "end_time": "2023-10-04T14:36:07.396679Z",
     "start_time": "2023-10-04T14:36:07.341509Z"
    }
   },
   "outputs": [],
   "source": [
    "from genophenocorr.preprocessing import configure_caching_patient_creator\n",
    "patient_creator = configure_caching_patient_creator(hpo)"
   ]
  },
  {
   "cell_type": "code",
   "execution_count": 12,
   "id": "76967087-8fde-4388-95d2-dba1776bfa08",
   "metadata": {
    "ExecuteTime": {
     "end_time": "2023-10-04T14:36:07.407678Z",
     "start_time": "2023-10-04T14:36:07.356862Z"
    }
   },
   "outputs": [],
   "source": [
    "from genophenocorr.preprocessing import load_phenopacket_folder"
   ]
  },
  {
   "cell_type": "code",
   "execution_count": 13,
   "id": "3c07a0a5-560a-4970-9f6e-deed8f06fe35",
   "metadata": {},
   "outputs": [
    {
     "name": "stderr",
     "output_type": "stream",
     "text": [
      "Protein ID NP_001027392.1 got 1 results\n",
      "No proteins found for ID NP_001361235.1. Please verify refseq ID.\n",
      "No proteins found for ID NP_001361236.1. Please verify refseq ID.\n",
      "No proteins found for ID NP_001361237.1. Please verify refseq ID.\n",
      "No proteins found for ID NP_001361238.1. Please verify refseq ID.\n",
      "No proteins found for ID NP_001361239.1. Please verify refseq ID.\n",
      "No proteins found for ID NP_001361240.1. Please verify refseq ID.\n",
      "No proteins found for ID NP_001361241.1. Please verify refseq ID.\n",
      "No proteins found for ID NP_001361242.1. Please verify refseq ID.\n",
      "No proteins found for ID NP_001361243.1. Please verify refseq ID.\n",
      "No proteins found for ID NP_001361244.1. Please verify refseq ID.\n",
      "ID NP_003156.1 did not match\n",
      "Protein ID NP_003156.1 got 1 results\n",
      "Expected a result but got an Error for variant: 9_127684372_127684373_A_A_heterozygous\n"
     ]
    },
    {
     "ename": "HTTPError",
     "evalue": "400 Client Error: Bad Request for url: https://rest.ensembl.org/vep/human/region/9:127684373-127684373/A?LoF=1&canonical=1&domains=1&hgvs=1&mutfunc=1&numbers=1&protein=1&refseq=1&transcript_version=1&variant_class=1",
     "output_type": "error",
     "traceback": [
      "\u001b[1;31m---------------------------------------------------------------------------\u001b[0m",
      "\u001b[1;31mHTTPError\u001b[0m                                 Traceback (most recent call last)",
      "Cell \u001b[1;32mIn[13], line 2\u001b[0m\n\u001b[0;32m      1\u001b[0m phenopacket_input_folder \u001b[38;5;241m=\u001b[39m \u001b[38;5;124m\"\u001b[39m\u001b[38;5;124minput\u001b[39m\u001b[38;5;124m\"\u001b[39m\n\u001b[1;32m----> 2\u001b[0m patient_list \u001b[38;5;241m=\u001b[39m \u001b[43mload_phenopacket_folder\u001b[49m\u001b[43m(\u001b[49m\u001b[43mpp_directory\u001b[49m\u001b[38;5;241;43m=\u001b[39;49m\u001b[43mphenopacket_input_folder\u001b[49m\u001b[43m,\u001b[49m\u001b[43m \u001b[49m\u001b[43mpatient_creator\u001b[49m\u001b[38;5;241;43m=\u001b[39;49m\u001b[43mpatient_creator\u001b[49m\u001b[43m)\u001b[49m\n",
      "File \u001b[1;32m~\\anaconda3\\envs\\ERKER2Phenopackets\\lib\\site-packages\\genophenocorr\\preprocessing\\_phenopacket.py:185\u001b[0m, in \u001b[0;36mload_phenopacket_folder\u001b[1;34m(pp_directory, patient_creator)\u001b[0m\n\u001b[0;32m    182\u001b[0m     \u001b[38;5;28;01mraise\u001b[39;00m \u001b[38;5;167;01mValueError\u001b[39;00m(\u001b[38;5;124mf\u001b[39m\u001b[38;5;124m\"\u001b[39m\u001b[38;5;124mNo JSON Phenopackets were found in \u001b[39m\u001b[38;5;132;01m{\u001b[39;00mpp_directory\u001b[38;5;132;01m}\u001b[39;00m\u001b[38;5;124m\"\u001b[39m)\n\u001b[0;32m    184\u001b[0m \u001b[38;5;66;03m# turn phenopackets into patients using patient creator\u001b[39;00m\n\u001b[1;32m--> 185\u001b[0m patients \u001b[38;5;241m=\u001b[39m [patient_creator\u001b[38;5;241m.\u001b[39mcreate_patient(pp) \u001b[38;5;28;01mfor\u001b[39;00m pp \u001b[38;5;129;01min\u001b[39;00m pps]\n\u001b[0;32m    187\u001b[0m \u001b[38;5;66;03m# create cohort from patients\u001b[39;00m\n\u001b[0;32m    188\u001b[0m \u001b[38;5;28;01mreturn\u001b[39;00m Cohort\u001b[38;5;241m.\u001b[39mfrom_patients(patients)\n",
      "File \u001b[1;32m~\\anaconda3\\envs\\ERKER2Phenopackets\\lib\\site-packages\\genophenocorr\\preprocessing\\_phenopacket.py:185\u001b[0m, in \u001b[0;36m<listcomp>\u001b[1;34m(.0)\u001b[0m\n\u001b[0;32m    182\u001b[0m     \u001b[38;5;28;01mraise\u001b[39;00m \u001b[38;5;167;01mValueError\u001b[39;00m(\u001b[38;5;124mf\u001b[39m\u001b[38;5;124m\"\u001b[39m\u001b[38;5;124mNo JSON Phenopackets were found in \u001b[39m\u001b[38;5;132;01m{\u001b[39;00mpp_directory\u001b[38;5;132;01m}\u001b[39;00m\u001b[38;5;124m\"\u001b[39m)\n\u001b[0;32m    184\u001b[0m \u001b[38;5;66;03m# turn phenopackets into patients using patient creator\u001b[39;00m\n\u001b[1;32m--> 185\u001b[0m patients \u001b[38;5;241m=\u001b[39m [\u001b[43mpatient_creator\u001b[49m\u001b[38;5;241;43m.\u001b[39;49m\u001b[43mcreate_patient\u001b[49m\u001b[43m(\u001b[49m\u001b[43mpp\u001b[49m\u001b[43m)\u001b[49m \u001b[38;5;28;01mfor\u001b[39;00m pp \u001b[38;5;129;01min\u001b[39;00m pps]\n\u001b[0;32m    187\u001b[0m \u001b[38;5;66;03m# create cohort from patients\u001b[39;00m\n\u001b[0;32m    188\u001b[0m \u001b[38;5;28;01mreturn\u001b[39;00m Cohort\u001b[38;5;241m.\u001b[39mfrom_patients(patients)\n",
      "File \u001b[1;32m~\\anaconda3\\envs\\ERKER2Phenopackets\\lib\\site-packages\\genophenocorr\\preprocessing\\_phenopacket.py:108\u001b[0m, in \u001b[0;36mPhenopacketPatientCreator.create_patient\u001b[1;34m(self, item)\u001b[0m\n\u001b[0;32m    100\u001b[0m \u001b[38;5;250m\u001b[39m\u001b[38;5;124;03m\"\"\"Creates a Patient from the data in a given Phenopacket\u001b[39;00m\n\u001b[0;32m    101\u001b[0m \n\u001b[0;32m    102\u001b[0m \u001b[38;5;124;03mArgs:\u001b[39;00m\n\u001b[1;32m   (...)\u001b[0m\n\u001b[0;32m    105\u001b[0m \u001b[38;5;124;03m    Patient: A Patient object\u001b[39;00m\n\u001b[0;32m    106\u001b[0m \u001b[38;5;124;03m\"\"\"\u001b[39;00m\n\u001b[0;32m    107\u001b[0m phenotypes \u001b[38;5;241m=\u001b[39m \u001b[38;5;28mself\u001b[39m\u001b[38;5;241m.\u001b[39m_add_phenotypes(item)\n\u001b[1;32m--> 108\u001b[0m variants \u001b[38;5;241m=\u001b[39m \u001b[38;5;28;43mself\u001b[39;49m\u001b[38;5;241;43m.\u001b[39;49m\u001b[43m_add_variants\u001b[49m\u001b[43m(\u001b[49m\u001b[43mitem\u001b[49m\u001b[43m)\u001b[49m\n\u001b[0;32m    109\u001b[0m protein_data \u001b[38;5;241m=\u001b[39m \u001b[38;5;28mself\u001b[39m\u001b[38;5;241m.\u001b[39m_add_protein_data(variants)\n\u001b[0;32m    110\u001b[0m \u001b[38;5;28;01mreturn\u001b[39;00m Patient(item\u001b[38;5;241m.\u001b[39mid, phenotypes, variants, protein_data)\n",
      "File \u001b[1;32m~\\anaconda3\\envs\\ERKER2Phenopackets\\lib\\site-packages\\genophenocorr\\preprocessing\\_phenopacket.py:125\u001b[0m, in \u001b[0;36mPhenopacketPatientCreator._add_variants\u001b[1;34m(self, pp)\u001b[0m\n\u001b[0;32m    123\u001b[0m     \u001b[38;5;28;01mfor\u001b[39;00m genomic_interp \u001b[38;5;129;01min\u001b[39;00m interp\u001b[38;5;241m.\u001b[39mdiagnosis\u001b[38;5;241m.\u001b[39mgenomic_interpretations:\n\u001b[0;32m    124\u001b[0m         vc \u001b[38;5;241m=\u001b[39m \u001b[38;5;28mself\u001b[39m\u001b[38;5;241m.\u001b[39m_coord_finder\u001b[38;5;241m.\u001b[39mfind_coordinates(genomic_interp)\n\u001b[1;32m--> 125\u001b[0m         variant \u001b[38;5;241m=\u001b[39m \u001b[38;5;28;43mself\u001b[39;49m\u001b[38;5;241;43m.\u001b[39;49m\u001b[43m_func_ann\u001b[49m\u001b[38;5;241;43m.\u001b[39;49m\u001b[43mannotate\u001b[49m\u001b[43m(\u001b[49m\u001b[43mvc\u001b[49m\u001b[43m)\u001b[49m\n\u001b[0;32m    126\u001b[0m         variants_list\u001b[38;5;241m.\u001b[39mappend(variant)\n\u001b[0;32m    127\u001b[0m \u001b[38;5;28;01melse\u001b[39;00m:\n",
      "File \u001b[1;32m~\\anaconda3\\envs\\ERKER2Phenopackets\\lib\\site-packages\\genophenocorr\\preprocessing\\_variant.py:220\u001b[0m, in \u001b[0;36mVarCachingFunctionalAnnotator.annotate\u001b[1;34m(self, variant_coordinates)\u001b[0m\n\u001b[0;32m    218\u001b[0m     \u001b[38;5;28;01mreturn\u001b[39;00m annotations\n\u001b[0;32m    219\u001b[0m \u001b[38;5;28;01melse\u001b[39;00m:\n\u001b[1;32m--> 220\u001b[0m     ann \u001b[38;5;241m=\u001b[39m \u001b[38;5;28;43mself\u001b[39;49m\u001b[38;5;241;43m.\u001b[39;49m\u001b[43m_fallback\u001b[49m\u001b[38;5;241;43m.\u001b[39;49m\u001b[43mannotate\u001b[49m\u001b[43m(\u001b[49m\u001b[43mvariant_coordinates\u001b[49m\u001b[43m)\u001b[49m\n\u001b[0;32m    221\u001b[0m     \u001b[38;5;28mself\u001b[39m\u001b[38;5;241m.\u001b[39m_cache\u001b[38;5;241m.\u001b[39mstore_annotations(variant_coordinates, ann)\n\u001b[0;32m    222\u001b[0m     \u001b[38;5;28;01mreturn\u001b[39;00m ann\n",
      "File \u001b[1;32m~\\anaconda3\\envs\\ERKER2Phenopackets\\lib\\site-packages\\genophenocorr\\preprocessing\\_variant.py:78\u001b[0m, in \u001b[0;36mVepFunctionalAnnotator.annotate\u001b[1;34m(self, variant_coordinates)\u001b[0m\n\u001b[0;32m     70\u001b[0m \u001b[38;5;28;01mdef\u001b[39;00m \u001b[38;5;21mannotate\u001b[39m(\u001b[38;5;28mself\u001b[39m, variant_coordinates: VariantCoordinates) \u001b[38;5;241m-\u001b[39m\u001b[38;5;241m>\u001b[39m Variant:\n\u001b[0;32m     71\u001b[0m \u001b[38;5;250m    \u001b[39m\u001b[38;5;124;03m\"\"\"Creates a Variant object by searching variant coordinates with Variant Effect Predictor (VEP) REST API. \u001b[39;00m\n\u001b[0;32m     72\u001b[0m \n\u001b[0;32m     73\u001b[0m \u001b[38;5;124;03m    Args:\u001b[39;00m\n\u001b[1;32m   (...)\u001b[0m\n\u001b[0;32m     76\u001b[0m \u001b[38;5;124;03m        Variant: A Variant object\u001b[39;00m\n\u001b[0;32m     77\u001b[0m \u001b[38;5;124;03m    \"\"\"\u001b[39;00m\n\u001b[1;32m---> 78\u001b[0m     variant \u001b[38;5;241m=\u001b[39m \u001b[38;5;28;43mself\u001b[39;49m\u001b[38;5;241;43m.\u001b[39;49m\u001b[43m_query_vep\u001b[49m\u001b[43m(\u001b[49m\u001b[43mvariant_coordinates\u001b[49m\u001b[43m)\u001b[49m\n\u001b[0;32m     79\u001b[0m     variant_id \u001b[38;5;241m=\u001b[39m variant\u001b[38;5;241m.\u001b[39mget(\u001b[38;5;124m'\u001b[39m\u001b[38;5;124mid\u001b[39m\u001b[38;5;124m'\u001b[39m)\n\u001b[0;32m     80\u001b[0m     variant_class \u001b[38;5;241m=\u001b[39m variant\u001b[38;5;241m.\u001b[39mget(\u001b[38;5;124m'\u001b[39m\u001b[38;5;124mvariant_class\u001b[39m\u001b[38;5;124m'\u001b[39m)\n",
      "File \u001b[1;32m~\\anaconda3\\envs\\ERKER2Phenopackets\\lib\\site-packages\\genophenocorr\\preprocessing\\_variant.py:126\u001b[0m, in \u001b[0;36mVepFunctionalAnnotator._query_vep\u001b[1;34m(self, variant_coordinates)\u001b[0m\n\u001b[0;32m    124\u001b[0m \u001b[38;5;28;01mif\u001b[39;00m \u001b[38;5;129;01mnot\u001b[39;00m r\u001b[38;5;241m.\u001b[39mok:\n\u001b[0;32m    125\u001b[0m     \u001b[38;5;28mself\u001b[39m\u001b[38;5;241m.\u001b[39m_logging\u001b[38;5;241m.\u001b[39merror(\u001b[38;5;124mf\u001b[39m\u001b[38;5;124m\"\u001b[39m\u001b[38;5;124mExpected a result but got an Error for variant: \u001b[39m\u001b[38;5;132;01m{\u001b[39;00mvariant_coordinates\u001b[38;5;241m.\u001b[39mas_string()\u001b[38;5;132;01m}\u001b[39;00m\u001b[38;5;124m\"\u001b[39m)\n\u001b[1;32m--> 126\u001b[0m     \u001b[43mr\u001b[49m\u001b[38;5;241;43m.\u001b[39;49m\u001b[43mraise_for_status\u001b[49m\u001b[43m(\u001b[49m\u001b[43m)\u001b[49m\n\u001b[0;32m    127\u001b[0m results \u001b[38;5;241m=\u001b[39m r\u001b[38;5;241m.\u001b[39mjson()\n\u001b[0;32m    128\u001b[0m \u001b[38;5;28;01mif\u001b[39;00m \u001b[38;5;129;01mnot\u001b[39;00m \u001b[38;5;28misinstance\u001b[39m(results, \u001b[38;5;28mlist\u001b[39m):\n",
      "File \u001b[1;32m~\\anaconda3\\envs\\ERKER2Phenopackets\\lib\\site-packages\\requests\\models.py:1021\u001b[0m, in \u001b[0;36mResponse.raise_for_status\u001b[1;34m(self)\u001b[0m\n\u001b[0;32m   1016\u001b[0m     http_error_msg \u001b[38;5;241m=\u001b[39m (\n\u001b[0;32m   1017\u001b[0m         \u001b[38;5;124mf\u001b[39m\u001b[38;5;124m\"\u001b[39m\u001b[38;5;132;01m{\u001b[39;00m\u001b[38;5;28mself\u001b[39m\u001b[38;5;241m.\u001b[39mstatus_code\u001b[38;5;132;01m}\u001b[39;00m\u001b[38;5;124m Server Error: \u001b[39m\u001b[38;5;132;01m{\u001b[39;00mreason\u001b[38;5;132;01m}\u001b[39;00m\u001b[38;5;124m for url: \u001b[39m\u001b[38;5;132;01m{\u001b[39;00m\u001b[38;5;28mself\u001b[39m\u001b[38;5;241m.\u001b[39murl\u001b[38;5;132;01m}\u001b[39;00m\u001b[38;5;124m\"\u001b[39m\n\u001b[0;32m   1018\u001b[0m     )\n\u001b[0;32m   1020\u001b[0m \u001b[38;5;28;01mif\u001b[39;00m http_error_msg:\n\u001b[1;32m-> 1021\u001b[0m     \u001b[38;5;28;01mraise\u001b[39;00m HTTPError(http_error_msg, response\u001b[38;5;241m=\u001b[39m\u001b[38;5;28mself\u001b[39m)\n",
      "\u001b[1;31mHTTPError\u001b[0m: 400 Client Error: Bad Request for url: https://rest.ensembl.org/vep/human/region/9:127684373-127684373/A?LoF=1&canonical=1&domains=1&hgvs=1&mutfunc=1&numbers=1&protein=1&refseq=1&transcript_version=1&variant_class=1"
     ]
    }
   ],
   "source": [
    "phenopacket_input_folder = \"input\"\n",
    "patient_list = load_phenopacket_folder(pp_directory=phenopacket_input_folder, patient_creator=patient_creator)"
   ]
  },
  {
   "cell_type": "code",
   "execution_count": null,
   "id": "a41be80d-0678-4dc3-97b6-2876d69648e0",
   "metadata": {},
   "outputs": [],
   "source": [
    "from genophenocorr.model import Cohort\n",
    "from genophenocorr.view import CohortViewer\n",
    "from IPython.display import display, HTML\n",
    "cohort = Cohort.from_patients(patient_list)"
   ]
  },
  {
   "cell_type": "markdown",
   "id": "175d2b14-b75a-499a-9251-5154aa31c683",
   "metadata": {},
   "source": [
    "<h2>CohortViewer</h2>\n",
    "<p>The CohortViewer class offers various methods to create tables and graphics to view the data in the cohort.\n",
    "It is still very much in progress</p>"
   ]
  },
  {
   "cell_type": "code",
   "execution_count": null,
   "id": "1c7c5c1e-8e5e-488a-98ec-85689adff61c",
   "metadata": {},
   "outputs": [],
   "source": [
    "viewer = CohortViewer(hpo=hpo)"
   ]
  },
  {
   "cell_type": "code",
   "execution_count": null,
   "metadata": {
    "collapsed": false
   },
   "outputs": [],
   "source": [
    "display(HTML(viewer.hpo_term_counts_table(cohort=cohort, min_count=2)))"
   ]
  },
  {
   "cell_type": "code",
   "execution_count": null,
   "metadata": {
    "collapsed": false
   },
   "outputs": [],
   "source": [
    "cohort.list_all_variants(10)"
   ]
  },
  {
   "cell_type": "code",
   "execution_count": null,
   "metadata": {
    "collapsed": false
   },
   "outputs": [],
   "source": [
    "cohort.list_all_phenotypes()"
   ]
  },
  {
   "cell_type": "markdown",
   "metadata": {
    "collapsed": false
   },
   "source": [
    "<h2>Correlation Analysis</h2>"
   ]
  },
  {
   "cell_type": "code",
   "execution_count": null,
   "metadata": {
    "collapsed": false
   },
   "outputs": [],
   "source": [
    "from genophenocorr.analysis import CohortAnalysis\n",
    "from genophenocorr.model import FeatureType\n",
    "from genophenocorr.constants import VariantEffect\n",
    "mane_select_STXBP1 = \"\"\n",
    "analysis = CohortAnalysis(cohort, mane_select_STXBP1, hpo, include_unmeasured=False)"
   ]
  },
  {
   "cell_type": "code",
   "execution_count": null,
   "metadata": {
    "collapsed": false
   },
   "outputs": [],
   "source": [
    "VariantEffect.FRAMESHIFT_VARIANT.value"
   ]
  },
  {
   "cell_type": "code",
   "execution_count": null,
   "metadata": {
    "collapsed": false
   },
   "outputs": [],
   "source": [
    "analysis.compare_by_variant_type(VariantEffect.MISSENSE_VARIANT)\n",
    "analysis.compare_by_variant('')\n",
    "analysis.compare_by_exon(-1)\n",
    "analysis.compare_by_protein_feature_type(FeatureType.REGION)"
   ]
  }
 ],
 "metadata": {
  "kernelspec": {
   "display_name": "Python 3 (ipykernel)",
   "language": "python",
   "name": "python3"
  },
  "language_info": {
   "codemirror_mode": {
    "name": "ipython",
    "version": 3
   },
   "file_extension": ".py",
   "mimetype": "text/x-python",
   "name": "python",
   "nbconvert_exporter": "python",
   "pygments_lexer": "ipython3",
   "version": "3.8.10"
  }
 },
 "nbformat": 4,
 "nbformat_minor": 5
}
