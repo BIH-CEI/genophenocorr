{
 "cells": [
  {
   "cell_type": "markdown",
   "id": "9dc963e1",
   "metadata": {},
   "source": [
    "<h1>STXBP1 genotype-phenotype correlation  analysis</h1>\n",
    "<p>todo</p>"
   ]
  },
  {
   "cell_type": "markdown",
   "id": "498518cb",
   "metadata": {},
   "source": [
    "The Syntaxin-binding protein 1 (STXBP1) is a protein encoded in humans in the STXBP1 \n",
    "gene. A broad range of neurological features in variants of STXBP1 were indentified, as \n",
    "it appears to play a role in release of neurotransmitters via regulation of syntaxin, a\n",
    "transmembrane attachment protein receptor. Mutations of STXBP1 cause early infantile\n",
    "epileptic encephalopathy type 4 (EIEE4) (autosomal dominant), West syndrome and a wider \n",
    "range of neurological problems, including intellectual disability or movement disorders\n",
    "without epilepsy still to be identified. Out of the 534 individuals included in the study\n",
    "the disease-causing variants were analysed and resulted in 255 missense, 119 protein-\n",
    "truncatin-variants and 79 splice site variants (in detail: \n",
    "https://www.ncbi.nlm.nih.gov/pmc/articles/PMC9166568/figure/awab327-F1/). The general \n",
    "cohort information on demographics, age distribution and number of phenotypic \n",
    "information can be found here: \n",
    "https://www.ncbi.nlm.nih.gov/pmc/articles/PMC9166568/table/awab327-T1/?report=objectonly.\n",
    "\n",
    "- Link to paper: https://pubmed.ncbi.nlm.nih.gov/35190816/ \n",
    "- bisher bestehende genophenocorrs, assoziierte krankheiten, Mutationstypen, MUtationsart\n",
    "- bei STX wahrscheinlich \n",
    "- wahrscheinlich nur eine Kategorie von Bedetugn pro Mutation\n",
    "- 2 Absätze\n",
    "\n"
   ]
  },
  {
   "cell_type": "code",
   "execution_count": 1,
   "id": "492f5c98",
   "metadata": {
    "ExecuteTime": {
     "end_time": "2023-10-04T14:36:03.457312Z",
     "start_time": "2023-10-04T14:36:03.383816Z"
    }
   },
   "outputs": [
    {
     "name": "stdout",
     "output_type": "stream",
     "text": [
      "Using genophenocorr version 0.1.1dev\n"
     ]
    }
   ],
   "source": [
    "import genophenocorr\n",
    "print(f\"Using genophenocorr version {genophenocorr.__version__}\")"
   ]
  },
  {
   "cell_type": "code",
   "execution_count": 2,
   "id": "c0692465",
   "metadata": {
    "ExecuteTime": {
     "end_time": "2023-10-04T14:36:07.339558Z",
     "start_time": "2023-10-04T14:36:03.406521Z"
    }
   },
   "outputs": [
    {
     "name": "stdout",
     "output_type": "stream",
     "text": [
      "Loaded HPO v2023-01-27\n"
     ]
    }
   ],
   "source": [
    "import hpotk\n",
    "hpo_purl = \"../hpo_data/hp.json\"\n",
    "hpo = hpotk.load_minimal_ontology(hpo_purl)\n",
    "print(f'Loaded HPO v{hpo.version}')"
   ]
  },
  {
   "cell_type": "code",
   "execution_count": 3,
   "id": "77660956-d30f-4c49-a4a0-7fdae1e75b9f",
   "metadata": {
    "ExecuteTime": {
     "end_time": "2023-10-04T14:36:07.396679Z",
     "start_time": "2023-10-04T14:36:07.341509Z"
    }
   },
   "outputs": [],
   "source": [
    "from genophenocorr.preprocessing import configure_caching_patient_creator\n",
    "patient_creator = configure_caching_patient_creator(hpo)"
   ]
  },
  {
   "cell_type": "code",
   "execution_count": 4,
   "id": "76967087-8fde-4388-95d2-dba1776bfa08",
   "metadata": {
    "ExecuteTime": {
     "end_time": "2023-10-04T14:36:07.407678Z",
     "start_time": "2023-10-04T14:36:07.356862Z"
    }
   },
   "outputs": [],
   "source": [
    "from genophenocorr.preprocessing import load_phenopacket_folder"
   ]
  },
  {
   "cell_type": "code",
   "execution_count": 5,
   "id": "3c07a0a5-560a-4970-9f6e-deed8f06fe35",
   "metadata": {},
   "outputs": [
    {
     "name": "stderr",
     "output_type": "stream",
     "text": [
      "Protein ID NP_001027392.1 got 1 results\n",
      "No proteins found for ID NP_001361235.1. Please verify refseq ID.\n",
      "No proteins found for ID NP_001361236.1. Please verify refseq ID.\n",
      "No proteins found for ID NP_001361237.1. Please verify refseq ID.\n",
      "No proteins found for ID NP_001361238.1. Please verify refseq ID.\n",
      "No proteins found for ID NP_001361239.1. Please verify refseq ID.\n",
      "No proteins found for ID NP_001361240.1. Please verify refseq ID.\n",
      "No proteins found for ID NP_001361241.1. Please verify refseq ID.\n",
      "No proteins found for ID NP_001361242.1. Please verify refseq ID.\n",
      "No proteins found for ID NP_001361243.1. Please verify refseq ID.\n",
      "No proteins found for ID NP_001361244.1. Please verify refseq ID.\n",
      "ID NP_003156.1 did not match\n",
      "Protein ID NP_003156.1 got 1 results\n"
     ]
    },
    {
     "ename": "AttributeError",
     "evalue": "'VariantCoordinates' object has no attribute 'as_string'",
     "output_type": "error",
     "traceback": [
      "\u001b[0;31m---------------------------------------------------------------------------\u001b[0m",
      "\u001b[0;31mAttributeError\u001b[0m                            Traceback (most recent call last)",
      "\u001b[1;32m/Users/adam/Documents/BIH/genophenocorr/notebooks/STXBP1/STXBP1.ipynb Cell 6\u001b[0m line \u001b[0;36m<cell line: 2>\u001b[0;34m()\u001b[0m\n\u001b[1;32m      <a href='vscode-notebook-cell:/Users/adam/Documents/BIH/genophenocorr/notebooks/STXBP1/STXBP1.ipynb#W5sZmlsZQ%3D%3D?line=0'>1</a>\u001b[0m phenopacket_input_folder \u001b[39m=\u001b[39m \u001b[39m\"\u001b[39m\u001b[39minput\u001b[39m\u001b[39m\"\u001b[39m\n\u001b[0;32m----> <a href='vscode-notebook-cell:/Users/adam/Documents/BIH/genophenocorr/notebooks/STXBP1/STXBP1.ipynb#W5sZmlsZQ%3D%3D?line=1'>2</a>\u001b[0m patient_list \u001b[39m=\u001b[39m load_phenopacket_folder(pp_directory\u001b[39m=\u001b[39;49mphenopacket_input_folder, patient_creator\u001b[39m=\u001b[39;49mpatient_creator)\n",
      "File \u001b[0;32m~/opt/anaconda3/envs/phenopacket_venv/lib/python3.10/site-packages/genophenocorr/preprocessing/_phenopacket.py:222\u001b[0m, in \u001b[0;36mload_phenopacket_folder\u001b[0;34m(pp_directory, patient_creator)\u001b[0m\n\u001b[1;32m    219\u001b[0m     \u001b[39mraise\u001b[39;00m \u001b[39mValueError\u001b[39;00m(\u001b[39mf\u001b[39m\u001b[39m\"\u001b[39m\u001b[39mNo JSON Phenopackets were found in \u001b[39m\u001b[39m{\u001b[39;00mpp_directory\u001b[39m}\u001b[39;00m\u001b[39m\"\u001b[39m)\n\u001b[1;32m    221\u001b[0m \u001b[39m# turn phenopackets into patients using patient creator\u001b[39;00m\n\u001b[0;32m--> 222\u001b[0m patients \u001b[39m=\u001b[39m [patient_creator\u001b[39m.\u001b[39mcreate_patient(pp) \u001b[39mfor\u001b[39;00m pp \u001b[39min\u001b[39;00m pps]\n\u001b[1;32m    224\u001b[0m \u001b[39m# create cohort from patients\u001b[39;00m\n\u001b[1;32m    225\u001b[0m \u001b[39mreturn\u001b[39;00m Cohort\u001b[39m.\u001b[39mfrom_patients(patients)\n",
      "File \u001b[0;32m~/opt/anaconda3/envs/phenopacket_venv/lib/python3.10/site-packages/genophenocorr/preprocessing/_phenopacket.py:222\u001b[0m, in \u001b[0;36m<listcomp>\u001b[0;34m(.0)\u001b[0m\n\u001b[1;32m    219\u001b[0m     \u001b[39mraise\u001b[39;00m \u001b[39mValueError\u001b[39;00m(\u001b[39mf\u001b[39m\u001b[39m\"\u001b[39m\u001b[39mNo JSON Phenopackets were found in \u001b[39m\u001b[39m{\u001b[39;00mpp_directory\u001b[39m}\u001b[39;00m\u001b[39m\"\u001b[39m)\n\u001b[1;32m    221\u001b[0m \u001b[39m# turn phenopackets into patients using patient creator\u001b[39;00m\n\u001b[0;32m--> 222\u001b[0m patients \u001b[39m=\u001b[39m [patient_creator\u001b[39m.\u001b[39;49mcreate_patient(pp) \u001b[39mfor\u001b[39;00m pp \u001b[39min\u001b[39;00m pps]\n\u001b[1;32m    224\u001b[0m \u001b[39m# create cohort from patients\u001b[39;00m\n\u001b[1;32m    225\u001b[0m \u001b[39mreturn\u001b[39;00m Cohort\u001b[39m.\u001b[39mfrom_patients(patients)\n",
      "File \u001b[0;32m~/opt/anaconda3/envs/phenopacket_venv/lib/python3.10/site-packages/genophenocorr/preprocessing/_phenopacket.py:133\u001b[0m, in \u001b[0;36mPhenopacketPatientCreator.create_patient\u001b[0;34m(self, item)\u001b[0m\n\u001b[1;32m    131\u001b[0m sample_id \u001b[39m=\u001b[39m \u001b[39mself\u001b[39m\u001b[39m.\u001b[39m_extract_id(item)\n\u001b[1;32m    132\u001b[0m phenotypes \u001b[39m=\u001b[39m \u001b[39mself\u001b[39m\u001b[39m.\u001b[39m_add_phenotypes(item)\n\u001b[0;32m--> 133\u001b[0m variants \u001b[39m=\u001b[39m \u001b[39mself\u001b[39;49m\u001b[39m.\u001b[39;49m_add_variants(sample_id, item)\n\u001b[1;32m    134\u001b[0m protein_data \u001b[39m=\u001b[39m \u001b[39mself\u001b[39m\u001b[39m.\u001b[39m_add_protein_data(variants)\n\u001b[1;32m    135\u001b[0m \u001b[39mreturn\u001b[39;00m Patient(item\u001b[39m.\u001b[39mid, phenotypes, variants, protein_data)\n",
      "File \u001b[0;32m~/opt/anaconda3/envs/phenopacket_venv/lib/python3.10/site-packages/genophenocorr/preprocessing/_phenopacket.py:161\u001b[0m, in \u001b[0;36mPhenopacketPatientCreator._add_variants\u001b[0;34m(self, sample_id, pp)\u001b[0m\n\u001b[1;32m    159\u001b[0m     \u001b[39mself\u001b[39m\u001b[39m.\u001b[39m_logger\u001b[39m.\u001b[39mwarning(\u001b[39mf\u001b[39m\u001b[39m'\u001b[39m\u001b[39mPatient \u001b[39m\u001b[39m{\u001b[39;00mpp\u001b[39m.\u001b[39mid\u001b[39m}\u001b[39;00m\u001b[39m has unknown alternative variant \u001b[39m\u001b[39m{\u001b[39;00mvc\u001b[39m.\u001b[39malt\u001b[39m}\u001b[39;00m\u001b[39m and will not be included.\u001b[39m\u001b[39m'\u001b[39m)\n\u001b[1;32m    160\u001b[0m     \u001b[39mcontinue\u001b[39;00m\n\u001b[0;32m--> 161\u001b[0m tx_annotations \u001b[39m=\u001b[39m \u001b[39mself\u001b[39;49m\u001b[39m.\u001b[39;49m_func_ann\u001b[39m.\u001b[39;49mannotate(vc)\n\u001b[1;32m    162\u001b[0m genotype \u001b[39m=\u001b[39m Genotypes\u001b[39m.\u001b[39msingle(sample_id, gt)\n\u001b[1;32m    163\u001b[0m variant \u001b[39m=\u001b[39m Variant(vc, tx_annotations, genotype)\n",
      "File \u001b[0;32m~/opt/anaconda3/envs/phenopacket_venv/lib/python3.10/site-packages/genophenocorr/preprocessing/_variant.py:100\u001b[0m, in \u001b[0;36mVarCachingFunctionalAnnotator.annotate\u001b[0;34m(self, variant_coordinates)\u001b[0m\n\u001b[1;32m     98\u001b[0m     \u001b[39mreturn\u001b[39;00m annotations\n\u001b[1;32m     99\u001b[0m \u001b[39melse\u001b[39;00m:\n\u001b[0;32m--> 100\u001b[0m     ann \u001b[39m=\u001b[39m \u001b[39mself\u001b[39;49m\u001b[39m.\u001b[39;49m_fallback\u001b[39m.\u001b[39;49mannotate(variant_coordinates)\n\u001b[1;32m    101\u001b[0m     \u001b[39mself\u001b[39m\u001b[39m.\u001b[39m_cache\u001b[39m.\u001b[39mstore_annotations(variant_coordinates, ann)\n\u001b[1;32m    102\u001b[0m     \u001b[39mreturn\u001b[39;00m ann\n",
      "File \u001b[0;32m~/opt/anaconda3/envs/phenopacket_venv/lib/python3.10/site-packages/genophenocorr/preprocessing/_vep.py:71\u001b[0m, in \u001b[0;36mVepFunctionalAnnotator.annotate\u001b[0;34m(self, variant_coordinates)\u001b[0m\n\u001b[1;32m     63\u001b[0m \u001b[39mdef\u001b[39;00m \u001b[39mannotate\u001b[39m(\u001b[39mself\u001b[39m, variant_coordinates: VariantCoordinates) \u001b[39m-\u001b[39m\u001b[39m>\u001b[39m typing\u001b[39m.\u001b[39mSequence[TranscriptAnnotation]:\n\u001b[1;32m     64\u001b[0m     \u001b[39m\"\"\"Perform functional annotation using Variant Effect Predictor (VEP) REST API.\u001b[39;00m\n\u001b[1;32m     65\u001b[0m \n\u001b[1;32m     66\u001b[0m \u001b[39m    Args:\u001b[39;00m\n\u001b[0;32m   (...)\u001b[0m\n\u001b[1;32m     69\u001b[0m \u001b[39m        typing.Sequence[TranscriptAnnotation]: A sequence of transcript annotations for the variant coordinates\u001b[39;00m\n\u001b[1;32m     70\u001b[0m \u001b[39m    \"\"\"\u001b[39;00m\n\u001b[0;32m---> 71\u001b[0m     response \u001b[39m=\u001b[39m \u001b[39mself\u001b[39;49m\u001b[39m.\u001b[39;49m_query_vep(variant_coordinates)\n\u001b[1;32m     72\u001b[0m     annotations \u001b[39m=\u001b[39m []\n\u001b[1;32m     73\u001b[0m     \u001b[39mif\u001b[39;00m \u001b[39m'\u001b[39m\u001b[39mtranscript_consequences\u001b[39m\u001b[39m'\u001b[39m \u001b[39mnot\u001b[39;00m \u001b[39min\u001b[39;00m response:\n",
      "File \u001b[0;32m~/opt/anaconda3/envs/phenopacket_venv/lib/python3.10/site-packages/genophenocorr/preprocessing/_vep.py:125\u001b[0m, in \u001b[0;36mVepFunctionalAnnotator._query_vep\u001b[0;34m(self, variant_coordinates)\u001b[0m\n\u001b[1;32m    123\u001b[0m r \u001b[39m=\u001b[39m requests\u001b[39m.\u001b[39mget(api_url, headers\u001b[39m=\u001b[39m{\u001b[39m'\u001b[39m\u001b[39mContent-Type\u001b[39m\u001b[39m'\u001b[39m: \u001b[39m'\u001b[39m\u001b[39mapplication/json\u001b[39m\u001b[39m'\u001b[39m})\n\u001b[1;32m    124\u001b[0m \u001b[39mif\u001b[39;00m \u001b[39mnot\u001b[39;00m r\u001b[39m.\u001b[39mok:\n\u001b[0;32m--> 125\u001b[0m     \u001b[39mself\u001b[39m\u001b[39m.\u001b[39m_logging\u001b[39m.\u001b[39merror(\u001b[39mf\u001b[39m\u001b[39m\"\u001b[39m\u001b[39mExpected a result but got an Error for variant: \u001b[39m\u001b[39m{\u001b[39;00mvariant_coordinates\u001b[39m.\u001b[39mas_string()\u001b[39m}\u001b[39;00m\u001b[39m\"\u001b[39m)\n\u001b[1;32m    126\u001b[0m     r\u001b[39m.\u001b[39mraise_for_status()\n\u001b[1;32m    127\u001b[0m results \u001b[39m=\u001b[39m r\u001b[39m.\u001b[39mjson()\n",
      "\u001b[0;31mAttributeError\u001b[0m: 'VariantCoordinates' object has no attribute 'as_string'"
     ]
    }
   ],
   "source": [
    "phenopacket_input_folder = \"input\"\n",
    "patient_list = load_phenopacket_folder(pp_directory=phenopacket_input_folder, patient_creator=patient_creator)"
   ]
  },
  {
   "cell_type": "code",
   "execution_count": null,
   "id": "a41be80d-0678-4dc3-97b6-2876d69648e0",
   "metadata": {},
   "outputs": [],
   "source": [
    "from genophenocorr.model import Cohort\n",
    "from genophenocorr.view import CohortViewer\n",
    "from IPython.display import display, HTML\n",
    "cohort = Cohort.from_patients(patient_list)"
   ]
  },
  {
   "cell_type": "markdown",
   "id": "175d2b14-b75a-499a-9251-5154aa31c683",
   "metadata": {},
   "source": [
    "<h2>CohortViewer</h2>\n",
    "<p>The CohortViewer class offers various methods to create tables and graphics to view the data in the cohort.\n",
    "It is still very much in progress</p>"
   ]
  },
  {
   "cell_type": "code",
   "execution_count": null,
   "id": "1c7c5c1e-8e5e-488a-98ec-85689adff61c",
   "metadata": {},
   "outputs": [],
   "source": [
    "viewer = CohortViewer(hpo=hpo)"
   ]
  },
  {
   "cell_type": "code",
   "execution_count": null,
   "metadata": {
    "collapsed": false
   },
   "outputs": [],
   "source": [
    "display(HTML(viewer.hpo_term_counts_table(cohort=cohort, min_count=2)))"
   ]
  },
  {
   "cell_type": "code",
   "execution_count": null,
   "metadata": {
    "collapsed": false
   },
   "outputs": [],
   "source": [
    "cohort.list_all_variants(10)"
   ]
  },
  {
   "cell_type": "code",
   "execution_count": null,
   "metadata": {
    "collapsed": false
   },
   "outputs": [],
   "source": [
    "cohort.list_all_phenotypes()"
   ]
  },
  {
   "cell_type": "markdown",
   "metadata": {
    "collapsed": false
   },
   "source": [
    "<h2>Correlation Analysis</h2>"
   ]
  },
  {
   "cell_type": "code",
   "execution_count": null,
   "metadata": {
    "collapsed": false
   },
   "outputs": [],
   "source": [
    "from genophenocorr.analysis import CohortAnalysis\n",
    "from genophenocorr.model import FeatureType\n",
    "from genophenocorr.constants import VariantEffect\n",
    "mane_select_STXBP1 = \"\"\n",
    "analysis = CohortAnalysis(cohort, mane_select_STXBP1, hpo, include_unmeasured=False)"
   ]
  },
  {
   "cell_type": "code",
   "execution_count": null,
   "metadata": {
    "collapsed": false
   },
   "outputs": [],
   "source": [
    "VariantEffect.FRAMESHIFT_VARIANT.value"
   ]
  },
  {
   "cell_type": "code",
   "execution_count": null,
   "metadata": {
    "collapsed": false
   },
   "outputs": [],
   "source": [
    "analysis.compare_by_variant_type(VariantEffect.MISSENSE_VARIANT)\n",
    "analysis.compare_by_variant('')\n",
    "analysis.compare_by_exon(-1)\n",
    "analysis.compare_by_protein_feature_type(FeatureType.REGION)"
   ]
  }
 ],
 "metadata": {
  "kernelspec": {
   "display_name": "Python 3 (ipykernel)",
   "language": "python",
   "name": "python3"
  },
  "language_info": {
   "codemirror_mode": {
    "name": "ipython",
    "version": 3
   },
   "file_extension": ".py",
   "mimetype": "text/x-python",
   "name": "python",
   "nbconvert_exporter": "python",
   "pygments_lexer": "ipython3",
   "version": "3.10.6"
  }
 },
 "nbformat": 4,
 "nbformat_minor": 5
}
