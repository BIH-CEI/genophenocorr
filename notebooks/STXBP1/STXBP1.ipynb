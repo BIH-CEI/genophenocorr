{
 "cells": [
  {
   "cell_type": "markdown",
   "id": "9dc963e1",
   "metadata": {},
   "source": [
    "<h1>STXBP1 genotype-phenotype correlation  analysis</h1>\n",
    "<p>todo</p>"
   ]
  },
  {
   "cell_type": "code",
   "execution_count": 1,
   "id": "492f5c98",
   "metadata": {
    "ExecuteTime": {
     "start_time": "2023-10-04T14:32:08.238888Z",
     "end_time": "2023-10-04T14:32:14.472568Z"
    }
   },
   "outputs": [
    {
     "name": "stdout",
     "output_type": "stream",
     "text": [
      "Using genophenocorr version 0.1.0\n"
     ]
    }
   ],
   "source": [
    "import genophenocorr\n",
    "print(f\"Using genophenocorr version {genophenocorr.__version__}\")"
   ]
  },
  {
   "cell_type": "code",
   "execution_count": 8,
   "id": "c0692465",
   "metadata": {
    "ExecuteTime": {
     "start_time": "2023-10-04T14:34:22.862341Z",
     "end_time": "2023-10-04T14:34:26.746739Z"
    }
   },
   "outputs": [
    {
     "name": "stdout",
     "output_type": "stream",
     "text": [
      "Loaded HPO v2023-01-27\n"
     ]
    }
   ],
   "source": [
    "import hpotk\n",
    "hpo_purl = \"../hpo_data/hp.json\"\n",
    "hpo = hpotk.load_minimal_ontology(hpo_purl)\n",
    "print(f'Loaded HPO v{hpo.version}')"
   ]
  },
  {
   "cell_type": "code",
   "execution_count": null,
   "id": "77660956-d30f-4c49-a4a0-7fdae1e75b9f",
   "metadata": {},
   "outputs": [],
   "source": [
    "from genophenocorr.preprocessing import configure_caching_patient_creator\n",
    "patient_creator = configure_caching_patient_creator(hpo)"
   ]
  },
  {
   "cell_type": "code",
   "execution_count": null,
   "id": "76967087-8fde-4388-95d2-dba1776bfa08",
   "metadata": {},
   "outputs": [],
   "source": [
    "from genophenocorr.preprocessing import load_phenopacket_folder"
   ]
  },
  {
   "cell_type": "code",
   "execution_count": null,
   "id": "3c07a0a5-560a-4970-9f6e-deed8f06fe35",
   "metadata": {},
   "outputs": [],
   "source": [
    "phenopacket_input_folder = \"input\"\n",
    "patient_list = load_phenopacket_folder(pp_directory=phenopacket_input_folder, patient_creator=patient_creator)"
   ]
  },
  {
   "cell_type": "code",
   "execution_count": null,
   "id": "a41be80d-0678-4dc3-97b6-2876d69648e0",
   "metadata": {},
   "outputs": [],
   "source": [
    "from genophenocorr.model import Cohort\n",
    "from genophenocorr.view import CohortViewer\n",
    "from IPython.display import display, HTML\n",
    "cohort = Cohort.from_patients(patient_list)"
   ]
  },
  {
   "cell_type": "markdown",
   "id": "175d2b14-b75a-499a-9251-5154aa31c683",
   "metadata": {},
   "source": [
    "<h2>CohortViewer</h2>\n",
    "<p>The CohortViewer class offers various methods to create tables and graphics to view the data in the cohort.\n",
    "It is still very much in progress</p>"
   ]
  },
  {
   "cell_type": "code",
   "execution_count": null,
   "id": "1c7c5c1e-8e5e-488a-98ec-85689adff61c",
   "metadata": {},
   "outputs": [],
   "source": [
    "viewer = CohortViewer(hpo=hpo)"
   ]
  }
 ],
 "metadata": {
  "kernelspec": {
   "name": "python3",
   "language": "python",
   "display_name": "Python 3 (ipykernel)"
  },
  "language_info": {
   "codemirror_mode": {
    "name": "ipython",
    "version": 3
   },
   "file_extension": ".py",
   "mimetype": "text/x-python",
   "name": "python",
   "nbconvert_exporter": "python",
   "pygments_lexer": "ipython3",
   "version": "3.8.10"
  }
 },
 "nbformat": 4,
 "nbformat_minor": 5
}
