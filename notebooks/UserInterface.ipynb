{
 "cells": [
  {
   "cell_type": "code",
   "execution_count": null,
   "id": "c5fb03b7",
   "metadata": {},
   "outputs": [],
   "source": [
    "import sys\n",
    "import glob\n",
    " \n",
    "sys.path.insert(0, '/Users/rekerl/Documents/Programs/gpc/')\n",
    " \n",
    "from gpc import *\n",
    "from gpc import compare\n",
    "from gpc import compare_func as CF"
   ]
  },
  {
   "cell_type": "markdown",
   "id": "cda7ae14",
   "metadata": {},
   "source": [
    "# Full Test of Genotype/Phenotype Correlation Tool\n",
    "\n",
    "### Upload test patients"
   ]
  },
  {
   "cell_type": "code",
   "execution_count": null,
   "id": "e53b3d4e",
   "metadata": {},
   "outputs": [],
   "source": [
    "allPatients = AllPatients('../phenopackets/cohort/*.json', ref = 'hg37')"
   ]
  },
  {
   "cell_type": "markdown",
   "id": "7e5a12dd",
   "metadata": {},
   "source": [
    "### Pull out all diseases with too few patients for testing purposes"
   ]
  },
  {
   "cell_type": "code",
   "execution_count": null,
   "id": "931dad57",
   "metadata": {},
   "outputs": [],
   "source": [
    "byDisease = allPatients.split_by_disease()"
   ]
  },
  {
   "cell_type": "code",
   "execution_count": null,
   "id": "0f605cba",
   "metadata": {},
   "outputs": [],
   "source": [
    "too_small = []\n",
    "for d, dis in byDisease.items():\n",
    "    if dis.count_patients < 10:\n",
    "        too_small.append(d)\n",
    "        \n",
    "for i in too_small:\n",
    "    byDisease.pop(i)\n",
    "print(byDisease.keys())"
   ]
  },
  {
   "cell_type": "markdown",
   "id": "c4bafa57",
   "metadata": {},
   "source": [
    "### Run basic Missense mutation vs Nonsense mutation"
   ]
  },
  {
   "cell_type": "code",
   "execution_count": null,
   "id": "2cd7c324",
   "metadata": {},
   "outputs": [],
   "source": [
    "for d, dis in byDisease.items():\n",
    "    result = compare.RunStats(dis, CF.is_missense, CF.is_nonsense)\n"
   ]
  },
  {
   "cell_type": "markdown",
   "id": "9b0d976b",
   "metadata": {},
   "source": [
    "### Pull out all patients with disease OMIM:616907, print Patient ID and the top effect on the protein"
   ]
  },
  {
   "cell_type": "code",
   "execution_count": null,
   "id": "3d379b2a",
   "metadata": {},
   "outputs": [],
   "source": [
    "patswith = byDisease['OMIM:616975']\n",
    "for p, pat in patswith.all_patients.items():\n",
    "    print(p)\n",
    "    #print(pat.variant.top_effect.short_description)\n",
    "    #print(pat.protein)"
   ]
  },
  {
   "cell_type": "markdown",
   "id": "99d3ec49",
   "metadata": {},
   "source": [
    "### Grabbed an example patient to look at protein features"
   ]
  },
  {
   "cell_type": "code",
   "execution_count": null,
   "id": "ccdf558c",
   "metadata": {},
   "outputs": [],
   "source": [
    "test = patswith.all_patients.get('PMID:29330883-Jordan-2018-RERE-Subject_6')\n",
    "\n",
    "patswith.all_proteins\n",
    "\n",
    "#patswith.all_proteins['ENSP00000338629']\n",
    "test.variant.variant"
   ]
  },
  {
   "cell_type": "code",
   "execution_count": null,
   "id": "51d66f25",
   "metadata": {},
   "outputs": [],
   "source": [
    "byProteins = allPatients.split_by_protein()"
   ]
  },
  {
   "cell_type": "markdown",
   "id": "b55c2e4b",
   "metadata": {},
   "source": [
    "### Run a test that compares HPO terms vs the variant being in one or the other protein domain"
   ]
  },
  {
   "cell_type": "code",
   "execution_count": null,
   "id": "81f0afb9",
   "metadata": {},
   "outputs": [],
   "source": [
    "result = compare.RunStats(patswith, CF.in_domain, CF.in_domain, [1, 273], [466, 651], 50)\n",
    "\n",
    "#Print out all significant or lowest 5 "
   ]
  },
  {
   "cell_type": "code",
   "execution_count": null,
   "id": "94edf022",
   "metadata": {},
   "outputs": [],
   "source": [
    "for person in byProteins.values():\n",
    "    print(person)"
   ]
  },
  {
   "cell_type": "code",
   "execution_count": null,
   "id": "c79e0562",
   "metadata": {},
   "outputs": [],
   "source": [
    "allPatients.count_vars_per_feature()\n",
    "#patswith.all_v\n",
    "#import pandas as pd\n",
    "#prot = patswith.all_proteins.get('ENSP00000338629')\n"
   ]
  },
  {
   "cell_type": "code",
   "execution_count": null,
   "id": "043cf583",
   "metadata": {},
   "outputs": [],
   "source": [
    "#patswith.all_proteins.get('ENSP00000338629').features\n",
    "for i in allPatients.all_proteins.values():\n",
    "    try:\n",
    "        print(i._protein_json.get('comments'))\n",
    "    except:\n",
    "        print(i.label)"
   ]
  },
  {
   "cell_type": "code",
   "execution_count": null,
   "id": "f9dbb088",
   "metadata": {},
   "outputs": [],
   "source": [
    "missing = allPatients.all_proteins.get('ENSP00000262097')"
   ]
  },
  {
   "cell_type": "code",
   "execution_count": null,
   "id": "2cf878f2",
   "metadata": {},
   "outputs": [],
   "source": [
    "missing._protein_json"
   ]
  },
  {
   "cell_type": "code",
   "execution_count": null,
   "id": "f3823ff8",
   "metadata": {},
   "outputs": [],
   "source": [
    "for i in allPatients.all_proteins.values():\n",
    "    print(i.id)\n",
    "    print(i.features)\n",
    "\n",
    "#allPatients.all_proteins.get('ENSP00000325527').features"
   ]
  },
  {
   "cell_type": "code",
   "execution_count": null,
   "id": "e3abe71e",
   "metadata": {},
   "outputs": [],
   "source": []
  }
 ],
 "metadata": {
  "kernelspec": {
   "display_name": "enviro",
   "language": "python",
   "name": "enviro"
  },
  "language_info": {
   "codemirror_mode": {
    "name": "ipython",
    "version": 3
   },
   "file_extension": ".py",
   "mimetype": "text/x-python",
   "name": "python",
   "nbconvert_exporter": "python",
   "pygments_lexer": "ipython3",
   "version": "3.9.14"
  }
 },
 "nbformat": 4,
 "nbformat_minor": 5
}
