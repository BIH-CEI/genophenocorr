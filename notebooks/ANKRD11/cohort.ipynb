{
 "cells": [
  {
   "cell_type": "code",
   "execution_count": 1,
   "metadata": {
    "ExecuteTime": {
     "end_time": "2024-05-17T12:53:28.219783Z",
     "start_time": "2024-05-17T12:53:25.934967700Z"
    }
   },
   "outputs": [
    {
     "ename": "AttributeError",
     "evalue": "module 'hpotk' has no attribute 'configure_ontology_store'",
     "output_type": "error",
     "traceback": [
      "\u001B[1;31m---------------------------------------------------------------------------\u001B[0m",
      "\u001B[1;31mAttributeError\u001B[0m                            Traceback (most recent call last)",
      "Cell \u001B[1;32mIn[1], line 4\u001B[0m\n\u001B[0;32m      2\u001B[0m \u001B[38;5;28;01mimport\u001B[39;00m \u001B[38;5;21;01mhpotk\u001B[39;00m\n\u001B[0;32m      3\u001B[0m \u001B[38;5;28;01mfrom\u001B[39;00m \u001B[38;5;21;01mIPython\u001B[39;00m\u001B[38;5;21;01m.\u001B[39;00m\u001B[38;5;21;01mdisplay\u001B[39;00m \u001B[38;5;28;01mimport\u001B[39;00m display, HTML\n\u001B[1;32m----> 4\u001B[0m store \u001B[38;5;241m=\u001B[39m \u001B[43mhpotk\u001B[49m\u001B[38;5;241;43m.\u001B[39;49m\u001B[43mconfigure_ontology_store\u001B[49m()\n\u001B[0;32m      5\u001B[0m hpo \u001B[38;5;241m=\u001B[39m store\u001B[38;5;241m.\u001B[39mload_minimal_hpo(release\u001B[38;5;241m=\u001B[39m\u001B[38;5;124m'\u001B[39m\u001B[38;5;124mv2023-10-09\u001B[39m\u001B[38;5;124m'\u001B[39m)\n\u001B[0;32m      6\u001B[0m \u001B[38;5;28mprint\u001B[39m(\u001B[38;5;124mf\u001B[39m\u001B[38;5;124m'\u001B[39m\u001B[38;5;124mLoaded HPO v\u001B[39m\u001B[38;5;132;01m{\u001B[39;00mhpo\u001B[38;5;241m.\u001B[39mversion\u001B[38;5;132;01m}\u001B[39;00m\u001B[38;5;124m'\u001B[39m)\n",
      "\u001B[1;31mAttributeError\u001B[0m: module 'hpotk' has no attribute 'configure_ontology_store'"
     ]
    }
   ],
   "source": [
    "import genophenocorr\n",
    "import hpotk\n",
    "from IPython.display import display, HTML\n",
    "store = hpotk.configure_ontology_store()\n",
    "hpo = store.load_minimal_hpo(release='v2023-10-09')\n",
    "print(f'Loaded HPO v{hpo.version}')\n",
    "print(f\"Using genophenocorr version {genophenocorr.__version__}\")"
   ]
  },
  {
   "cell_type": "code",
   "execution_count": null,
   "metadata": {
    "ExecuteTime": {
     "end_time": "2024-05-17T12:53:28.223783900Z",
     "start_time": "2024-05-17T12:53:28.220783900Z"
    }
   },
   "outputs": [],
   "source": [
    "ANKRD11_id = 'NM_013275.6' # MANE select\n",
    "from genophenocorr.preprocessing import configure_caching_cohort_creator, load_phenopacket_folder\n",
    "\n",
    "fpath_phenopackets = '/Users/robin/GIT/phenopacket-store/notebooks/ANKRD11/phenopackets'\n",
    "cohort_creator = configure_caching_cohort_creator(hpo, timeout=20)\n",
    "cohort = load_phenopacket_folder(fpath_phenopackets, cohort_creator)\n"
   ]
  },
  {
   "cell_type": "code",
   "execution_count": null,
   "metadata": {
    "ExecuteTime": {
     "end_time": "2024-05-17T12:53:28.252797600Z",
     "start_time": "2024-05-17T12:53:28.227783Z"
    }
   },
   "outputs": [],
   "source": [
    "from genophenocorr.analysis import configure_cohort_analysis, CohortAnalysisConfiguration\n",
    "from genophenocorr.analysis.predicate import PatientCategories\n",
    "\n",
    "analysis_config = CohortAnalysisConfiguration()\n",
    "analysis_config.missing_implies_excluded = True\n",
    "analysis_config.pval_correction = 'fdr_bh'\n",
    "analysis_config.min_perc_patients_w_hpo = 0.1\n",
    "#analysis_config.heuristic_strategy()\n",
    "analysis = configure_cohort_analysis(cohort, hpo, config=analysis_config)"
   ]
  },
  {
   "cell_type": "code",
   "execution_count": null,
   "metadata": {
    "ExecuteTime": {
     "start_time": "2024-05-17T12:53:28.233782500Z"
    }
   },
   "outputs": [],
   "source": [
    "from genophenocorr.model import VariantEffect\n",
    "\n",
    "frameshift = analysis.compare_by_variant_effect(VariantEffect.FRAMESHIFT_VARIANT, tx_id=ANKRD11_id)\n",
    "frameshift.summarize(hpo, PatientCategories.YES)"
   ]
  },
  {
   "cell_type": "code",
   "execution_count": 2,
   "metadata": {
    "ExecuteTime": {
     "end_time": "2024-05-17T12:53:33.468148900Z",
     "start_time": "2024-05-17T12:53:32.586571300Z"
    }
   },
   "outputs": [
    {
     "ename": "NameError",
     "evalue": "name 'tx_coordinates' is not defined",
     "output_type": "error",
     "traceback": [
      "\u001B[1;31m---------------------------------------------------------------------------\u001B[0m",
      "\u001B[1;31mNameError\u001B[0m                                 Traceback (most recent call last)",
      "Cell \u001B[1;32mIn[2], line 10\u001B[0m\n\u001B[0;32m      8\u001B[0m \u001B[38;5;28;01mfrom\u001B[39;00m \u001B[38;5;21;01mgenophenocorr\u001B[39;00m\u001B[38;5;21;01m.\u001B[39;00m\u001B[38;5;21;01mview\u001B[39;00m\u001B[38;5;21;01m.\u001B[39;00m\u001B[38;5;21;01m_draw_variants\u001B[39;00m \u001B[38;5;28;01mimport\u001B[39;00m ProteinVariantVisualizer\n\u001B[0;32m      9\u001B[0m viz \u001B[38;5;241m=\u001B[39m ProteinVariantVisualizer()\n\u001B[1;32m---> 10\u001B[0m viz\u001B[38;5;241m.\u001B[39mdraw_fig(\u001B[43mtx_coordinates\u001B[49m, protein_meta, cohort)\n",
      "\u001B[1;31mNameError\u001B[0m: name 'tx_coordinates' is not defined"
     ]
    }
   ],
   "source": [
    "protein_id = 'NP_001027558.1'\n",
    "from genophenocorr.preprocessing import UniprotProteinMetadataService\n",
    "pms = UniprotProteinMetadataService()\n",
    "protein_metas = pms.annotate(protein_id)\n",
    "\n",
    "\n",
    "from genophenocorr.model.genome import GRCh38\n",
    "from genophenocorr.preprocessing import VVTranscriptCoordinateService\n",
    "\n",
    "txc_service = VVTranscriptCoordinateService(genome_build=GRCh38)\n",
    "tx_coordinates = txc_service.fetch(ANKRD11_id)\n",
    "\n",
    "\n",
    "assert len(protein_metas) == 1\n",
    "protein_meta = protein_metas[0]\n",
    "from genophenocorr.view._draw_variants import ProteinVariantVisualizer\n",
    "viz = ProteinVariantVisualizer()\n",
    "viz.draw_fig(tx_coordinates, protein_meta, cohort)"
   ]
  },
  {
   "cell_type": "code",
   "execution_count": null,
   "metadata": {
    "ExecuteTime": {
     "start_time": "2024-05-17T12:53:28.240782900Z"
    }
   },
   "outputs": [],
   "source": [
    "import pandas as pd"
   ]
  },
  {
   "cell_type": "code",
   "execution_count": null,
   "metadata": {
    "ExecuteTime": {
     "start_time": "2024-05-17T12:53:28.243783200Z"
    }
   },
   "outputs": [],
   "source": [
    "from genophenocorr.model import VariantEffect\n",
    "effect = VariantEffect.MISSENSE_VARIANT\n",
    "yes = PatientCategories.YES\n",
    "no = PatientCategories.NO\n",
    "#GenotypeBooleanPredicate.YES, GenotypeBooleanPredicate.NO\n",
    "\n",
    "df = pd.DataFrame({PatientCategories.YES: [0, 2], PatientCategories.NO: [11, 6]})\n"
   ]
  },
  {
   "cell_type": "code",
   "execution_count": null,
   "metadata": {
    "ExecuteTime": {
     "start_time": "2024-05-17T12:53:28.246783100Z"
    }
   },
   "outputs": [],
   "source": [
    "df"
   ]
  },
  {
   "cell_type": "code",
   "execution_count": null,
   "metadata": {
    "ExecuteTime": {
     "start_time": "2024-05-17T12:53:28.248783100Z"
    }
   },
   "outputs": [],
   "source": []
  }
 ],
 "metadata": {
  "kernelspec": {
   "display_name": "gpc_venv",
   "language": "python",
   "name": "python3"
  },
  "language_info": {
   "codemirror_mode": {
    "name": "ipython",
    "version": 3
   },
   "file_extension": ".py",
   "mimetype": "text/x-python",
   "name": "python",
   "nbconvert_exporter": "python",
   "pygments_lexer": "ipython3",
   "version": "3.9.6"
  }
 },
 "nbformat": 4,
 "nbformat_minor": 2
}
