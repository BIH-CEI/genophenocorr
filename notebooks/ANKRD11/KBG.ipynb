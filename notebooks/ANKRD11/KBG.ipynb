{
 "cells": [
  {
   "cell_type": "markdown",
   "id": "9443554a",
   "metadata": {},
   "source": [
    "# KBG Syndrome\n",
    "\n",
    "[KBG syndrome (KBGS)](https://omim.org/entry/148050) is caused by heterozygous mutation in the ANKRD11 gene. In this notebook, we have used\n",
    "[pyphetools](https://github.com/monarch-initiative/pyphetools) to parse the clinical data included in the supplemental files of\n",
    "[Martinez-Cayuelas E, et al. Clinical description, molecular delineation and genotype-phenotype correlation in 340 patients with KBG syndrome: addition of 67 new patients](https://pubmed.ncbi.nlm.nih.gov/36446582).\n",
    "\n",
    "The authors identified a significantly higher frequency of patients with a triangular face in carriers of sequence variants compared to CNVs. Other associations found were short stature and variants in exon 9, a lower incidence of ID/ADHD/ASD in carriers of the c.1903_1907del variant and the size of the deletion, in CNV carriers, with the presence of macrodontia and hand anomalies."
   ]
  },
  {
   "cell_type": "code",
   "execution_count": null,
   "id": "cd2a5b1b",
   "metadata": {
    "ExecuteTime": {
     "end_time": "2024-06-28T09:25:36.327096Z",
     "start_time": "2024-06-28T09:25:34.076706Z"
    }
   },
   "outputs": [],
   "source": [
    "import genophenocorr\n",
    "import hpotk\n",
    "\n",
    "store = hpotk.configure_ontology_store()\n",
    "hpo = store.load_minimal_hpo(release='v2023-10-09')\n",
    "print(f'Loaded HPO v{hpo.version}')\n",
    "print(f\"Using genophenocorr version {genophenocorr.__version__}\")"
   ]
  },
  {
   "cell_type": "markdown",
   "id": "566b13c6",
   "metadata": {},
   "source": [
    "## Settings\n",
    "Specify the transcript to be used to encode the variants (the phenopackets contain VCF representations of small variants)."
   ]
  },
  {
   "cell_type": "markdown",
   "id": "97cd3439",
   "metadata": {},
   "source": [
    "### Pick transcript\n",
    "\n",
    "We choose the [MANE Select](https://www.ncbi.nlm.nih.gov/nuccore/NM_013275.6) transcript for *ANKRD11*."
   ]
  },
  {
   "cell_type": "code",
   "execution_count": null,
   "id": "86b84c66",
   "metadata": {
    "ExecuteTime": {
     "end_time": "2024-06-28T09:25:48.742305Z",
     "start_time": "2024-06-28T09:25:48.740114Z"
    }
   },
   "outputs": [],
   "source": [
    "tx_id = 'NM_013275.6'"
   ]
  },
  {
   "cell_type": "markdown",
   "id": "e2bf0ff1",
   "metadata": {},
   "source": [
    "## Load Phenopackets\n",
    "\n",
    "We will load phenopacket JSON files located in `phenopackets` folder that is next to the notebook."
   ]
  },
  {
   "cell_type": "code",
   "execution_count": null,
   "id": "d7623bcb",
   "metadata": {
    "ExecuteTime": {
     "end_time": "2024-06-28T09:25:52.858905Z",
     "start_time": "2024-06-28T09:25:51.830064Z"
    }
   },
   "outputs": [],
   "source": [
    "from genophenocorr.preprocessing import configure_caching_cohort_creator, load_phenopacket_folder\n",
    "\n",
    "fpath_phenopackets = 'phenopackets'\n",
    "cohort_creator = configure_caching_cohort_creator(hpo, timeout=20)\n",
    "cohort = load_phenopacket_folder(fpath_phenopackets, cohort_creator)\n",
    "\n"
   ]
  },
  {
   "cell_type": "markdown",
   "id": "6f442ac4",
   "metadata": {},
   "source": [
    "## Summarize the cohort"
   ]
  },
  {
   "cell_type": "code",
   "execution_count": null,
   "id": "070a06ef",
   "metadata": {
    "ExecuteTime": {
     "end_time": "2024-06-28T09:25:56.579046Z",
     "start_time": "2024-06-28T09:25:56.553727Z"
    }
   },
   "outputs": [],
   "source": [
    "from IPython.display import display, HTML\n",
    "from genophenocorr.view import CohortViewable\n",
    "\n",
    "cv = CohortViewable(hpo=hpo)\n",
    "html = cv.process(cohort=cohort, transcript_id=tx_id)\n",
    "\n",
    "display(HTML(html))"
   ]
  },
  {
   "cell_type": "code",
   "execution_count": null,
   "id": "7fd85ef9",
   "metadata": {
    "ExecuteTime": {
     "end_time": "2024-06-28T09:26:02.306658Z",
     "start_time": "2024-06-28T09:26:00.079954Z"
    }
   },
   "outputs": [],
   "source": [
    "from genophenocorr.preprocessing import UniprotProteinMetadataService\n",
    "from genophenocorr.model.genome import GRCh38\n",
    "from genophenocorr.preprocessing import VVTranscriptCoordinateService\n",
    "pms = UniprotProteinMetadataService()\n",
    "protein_meta = pms.annotate('NP_037407.4')\n",
    "txc_service = VVTranscriptCoordinateService(genome_build=GRCh38)\n",
    "tx_coordinates = txc_service.fetch(tx_id)"
   ]
  },
  {
   "cell_type": "code",
   "execution_count": null,
   "id": "b136cbdc",
   "metadata": {
    "ExecuteTime": {
     "end_time": "2024-06-28T09:26:05.140105Z",
     "start_time": "2024-06-28T09:26:05.134148Z"
    }
   },
   "outputs": [],
   "source": [
    "from genophenocorr.view import ProteinVisualizable, ProteinVisualizer, ProteinViewable\n",
    "\n",
    "pvis = ProteinVisualizable(tx_coordinates=tx_coordinates, protein_meta=protein_meta, cohort=cohort)"
   ]
  },
  {
   "cell_type": "code",
   "execution_count": null,
   "id": "e71bd887",
   "metadata": {},
   "outputs": [],
   "source": [
    "viewer = ProteinViewable()\n",
    "html_prot = viewer.process(cohort, pvis)\n",
    "display(HTML(html_prot))"
   ]
  },
  {
   "cell_type": "code",
   "execution_count": null,
   "id": "d4ae3460",
   "metadata": {
    "ExecuteTime": {
     "end_time": "2024-06-28T09:26:08.157545Z",
     "start_time": "2024-06-28T09:26:07.774284Z"
    }
   },
   "outputs": [],
   "source": [
    "drawer = ProteinVisualizer()\n",
    "drawer.draw_fig(pvis=pvis)"
   ]
  },
  {
   "cell_type": "markdown",
   "id": "dbbc2cc1",
   "metadata": {},
   "source": [
    "## Configure the analysis"
   ]
  },
  {
   "cell_type": "code",
   "execution_count": null,
   "id": "ec6c204f",
   "metadata": {
    "ExecuteTime": {
     "end_time": "2024-06-28T09:26:11.766778Z",
     "start_time": "2024-06-28T09:26:11.620557Z"
    }
   },
   "outputs": [],
   "source": [
    "from genophenocorr.analysis import configure_cohort_analysis, CohortAnalysisConfiguration\n",
    "from genophenocorr.analysis.predicate import PatientCategories\n",
    "from genophenocorr.model.genome import Region\n",
    "\n",
    "analysis_config = CohortAnalysisConfiguration()\n",
    "analysis_config.missing_implies_excluded = False\n",
    "analysis_config.min_perc_patients_w_hpo = 0.1\n",
    "\n",
    "analysis = configure_cohort_analysis(cohort, hpo, config=analysis_config)"
   ]
  },
  {
   "cell_type": "markdown",
   "id": "5ff62a78",
   "metadata": {},
   "source": [
    "Test for presence of genotype-phenotype correlations between frameshift variants vs. others."
   ]
  },
  {
   "cell_type": "code",
   "execution_count": null,
   "id": "91809a38",
   "metadata": {
    "ExecuteTime": {
     "end_time": "2024-06-28T09:26:43.200038Z",
     "start_time": "2024-06-28T09:26:16.083332Z"
    }
   },
   "outputs": [],
   "source": [
    "from genophenocorr.model import VariantEffect\n",
    "\n",
    "frameshift = analysis.compare_by_variant_effect(VariantEffect.FRAMESHIFT_VARIANT, tx_id=tx_id)\n",
    "frameshift.summarize(hpo, PatientCategories.YES)"
   ]
  },
  {
   "cell_type": "markdown",
   "id": "44ea763c",
   "metadata": {},
   "source": [
    "Run the analysis with the HPO filter to reduce the number of tested phenotypes."
   ]
  },
  {
   "cell_type": "code",
   "execution_count": null,
   "id": "67266357",
   "metadata": {
    "ExecuteTime": {
     "end_time": "2024-06-28T09:26:43.342959Z",
     "start_time": "2024-06-28T09:26:43.201013Z"
    }
   },
   "outputs": [],
   "source": [
    "from genophenocorr.analysis import configure_cohort_analysis, CohortAnalysisConfiguration\n",
    "from genophenocorr.analysis.predicate import PatientCategories\n",
    "\n",
    "analysis_config = CohortAnalysisConfiguration()\n",
    "analysis_config.missing_implies_excluded = False\n",
    "analysis_config.min_perc_patients_w_hpo = 0.1\n",
    "analysis_config.heuristic_strategy()\n",
    "analysis = configure_cohort_analysis(cohort, hpo, config=analysis_config)"
   ]
  },
  {
   "cell_type": "code",
   "execution_count": null,
   "id": "3d3bdfea",
   "metadata": {
    "ExecuteTime": {
     "end_time": "2024-06-28T09:27:09.881386Z",
     "start_time": "2024-06-28T09:26:43.343744Z"
    }
   },
   "outputs": [],
   "source": [
    "frameshift = analysis.compare_by_variant_effect(VariantEffect.FRAMESHIFT_VARIANT, tx_id=tx_id)\n",
    "frameshift.summarize(hpo, PatientCategories.YES)"
   ]
  },
  {
   "cell_type": "code",
   "execution_count": null,
   "id": "ab230116d2781d74",
   "metadata": {
    "ExecuteTime": {
     "end_time": "2024-06-28T09:35:02.225369Z",
     "start_time": "2024-06-28T09:35:02.082899Z"
    }
   },
   "outputs": [],
   "source": [
    "analysis_config = CohortAnalysisConfiguration()\n",
    "analysis_config.missing_implies_excluded = False\n",
    "analysis_config.min_perc_patients_w_hpo = 0.1\n",
    "terms_to_test = {\"HP:0001249\", \"HP:0001263\"} # Intellectual disability HP:0001249 and Global developmental delay HP:0001263 \n",
    "analysis_config.specify_terms_strategy(specified_term_set=terms_to_test)\n",
    "analysis = configure_cohort_analysis(cohort, hpo, config=analysis_config)\n"
   ]
  },
  {
   "cell_type": "code",
   "execution_count": null,
   "id": "3c68e2aa7d3aa7e8",
   "metadata": {
    "ExecuteTime": {
     "end_time": "2024-06-28T09:35:48.023186Z",
     "start_time": "2024-06-28T09:35:21.786862Z"
    }
   },
   "outputs": [],
   "source": [
    "frameshift = analysis.compare_by_variant_effects(VariantEffect.FRAMESHIFT_VARIANT, tx_id=tx_id)\n",
    "frameshift.summarize(hpo, PatientCategories.YES)"
   ]
  },
  {
   "cell_type": "code",
   "execution_count": null,
   "id": "eb0dc510",
   "metadata": {},
   "outputs": [],
   "source": [
    "from genophenocorr.view import StatsViewer\n",
    "\n",
    "sv = StatsViewer()\n",
    "\n",
    "stats_report = sv.process(frameshift.mtc_filter_report)\n",
    "\n",
    "display(HTML(stats_report))"
   ]
  },
  {
   "cell_type": "markdown",
   "id": "7a83a5ca",
   "metadata": {},
   "source": [
    "Test for presence of genotype-phenotype correlations between subjects with >=1 allele of a variant vs. the other subjects:\n"
   ]
  },
  {
   "cell_type": "code",
   "execution_count": null,
   "id": "57dd0e23",
   "metadata": {},
   "outputs": [],
   "source": [
    "var_single = analysis.compare_by_variant_key('16_89284634_89284639_GTGTTT_G')\n",
    "var_single.summarize(hpo, PatientCategories.YES)"
   ]
  },
  {
   "cell_type": "markdown",
   "id": "74eaa536",
   "metadata": {},
   "source": [
    "Or between subjects with one variant vs. the other variant."
   ]
  },
  {
   "cell_type": "code",
   "execution_count": null,
   "id": "0dfa0a50",
   "metadata": {},
   "outputs": [],
   "source": [
    "var_double = analysis.compare_by_exon(9, tx_id)\n",
    "var_double.summarize(hpo, PatientCategories.YES)"
   ]
  },
  {
   "cell_type": "code",
   "execution_count": null,
   "id": "1079dcdd",
   "metadata": {},
   "outputs": [],
   "source": [
    "prot_test = analysis.compare_by_protein_feature('Important for protein degradation', tx_id)\n",
    "prot_test.summarize(hpo,PatientCategories.YES)"
   ]
  },
  {
   "cell_type": "code",
   "execution_count": null,
   "id": "650371ba",
   "metadata": {},
   "outputs": [],
   "source": [
    "prot_test = analysis.compare_by_protein_region(Region(400, 800), tx_id)\n",
    "prot_test.summarize(hpo,PatientCategories.YES)"
   ]
  },
  {
   "cell_type": "markdown",
   "id": "a12b8117",
   "metadata": {},
   "source": [
    "TODO - finalize!"
   ]
  }
 ],
 "metadata": {
  "kernelspec": {
   "display_name": "enviro",
   "language": "python",
   "name": "enviro"
  },
  "language_info": {
   "codemirror_mode": {
    "name": "ipython",
    "version": 3
   },
   "file_extension": ".py",
   "mimetype": "text/x-python",
   "name": "python",
   "nbconvert_exporter": "python",
   "pygments_lexer": "ipython3",
   "version": "3.10.10"
  }
 },
 "nbformat": 4,
 "nbformat_minor": 5
}
