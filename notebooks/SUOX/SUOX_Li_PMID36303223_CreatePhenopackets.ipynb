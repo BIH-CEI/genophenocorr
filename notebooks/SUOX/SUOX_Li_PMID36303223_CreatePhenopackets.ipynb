{
 "cells": [
  {
   "cell_type": "markdown",
   "id": "1dcfcb0b",
   "metadata": {},
   "source": [
    "<h1>Sulfite Oxidase Deficiency SUOX</h1>\n",
    "<p>Data from <a href=\"https://pubmed.ncbi.nlm.nih.gov/36303223/\" target=\"__blank\">Li JT, Chen ZX, Chen XJ, Jiang YX. Mutation analysis of SUOX in isolated sulfite oxidase deficiency with ectopia lentis as the presenting feature: insights into genotype-phenotype correlation. Orphanet J Rare Dis. 2022 Oct 27;17(1):392. doi: 10.1186/s13023-022-02544-x. PMID: 36303223; PMCID: PMC9615255.</a></p>"
   ]
  },
  {
   "cell_type": "code",
   "execution_count": 1,
   "id": "433116bf",
   "metadata": {},
   "outputs": [],
   "source": [
    "import phenopackets as php\n",
    "from google.protobuf.json_format import MessageToDict, MessageToJson\n",
    "from google.protobuf.json_format import Parse, ParseDict\n",
    "import pandas as pd\n",
    "pd.set_option('display.max_colwidth', None) # show entire column contents, important!\n",
    "from collections import defaultdict\n",
    "import numpy as np\n",
    "import os\n",
    "import sys\n",
    "import re\n",
    "\n",
    "from pyphetools.creation import *\n"
   ]
  },
  {
   "cell_type": "code",
   "execution_count": 2,
   "id": "170fcc41",
   "metadata": {},
   "outputs": [],
   "source": [
    "parser = HpoParser()\n",
    "hpo_cr = parser.get_hpo_concept_recognizer()\n",
    "hpo_version = parser.get_version()\n",
    "metadata = MetaData(created_by=\"ORCID:0000-0003-2598-6622\")\n",
    "metadata.default_versions_with_hpo(version=hpo_version)"
   ]
  },
  {
   "cell_type": "code",
   "execution_count": 3,
   "id": "ab094a0d",
   "metadata": {},
   "outputs": [],
   "source": [
    "df = pd.read_excel('input/Li-SUOX-SupplTable-35.xlsx', skiprows=[2], header=[0,1], na_values=['n.a.'])\n",
    "\n",
    "newCols = []\n",
    "for col in df.columns.values:\n",
    "    if 'Unnamed' in col[1]:\n",
    "        newCol = col[0]\n",
    "    else:\n",
    "        newCol = '_'.join(col)\n",
    "        \n",
    "    if newCol in newCols:\n",
    "        newCol = newCol + '_1'\n",
    "    newCols.append(newCol)\n",
    "    \n",
    "df.columns = newCols\n"
   ]
  },
  {
   "cell_type": "code",
   "execution_count": 4,
   "id": "1c51daba",
   "metadata": {},
   "outputs": [],
   "source": [
    "df['Gender'] = df['Gender'].fillna('')"
   ]
  },
  {
   "cell_type": "code",
   "execution_count": 5,
   "id": "6ee85806",
   "metadata": {},
   "outputs": [],
   "source": [
    "new_age = []\n",
    "for val in df['Age at onset (months)']:\n",
    "    if 'n' in str(val):\n",
    "        new_age.append(None)\n",
    "    elif val == '':\n",
    "        new_age.append(str(0))\n",
    "    else:\n",
    "        new_age.append(str(val/12))\n",
    "    \n",
    "df['NewAgeCol'] = new_age"
   ]
  },
  {
   "cell_type": "code",
   "execution_count": 6,
   "id": "74010615",
   "metadata": {},
   "outputs": [],
   "source": [
    "genome = 'hg19'\n",
    "default_genotype = 'heterozygous'\n",
    "transcript = 'NM_001032386.2'\n",
    "varMapper = VariantColumnMapper(assembly=genome,column_name='Variant_Nucleotide',\n",
    "                                transcript=transcript, genotype=default_genotype)"
   ]
  },
  {
   "cell_type": "code",
   "execution_count": 7,
   "id": "fc3d71ec",
   "metadata": {},
   "outputs": [
    {
     "name": "stdout",
     "output_type": "stream",
     "text": [
      "We created 8 simple column mappers\n"
     ]
    }
   ],
   "source": [
    "column_mapper_d = defaultdict(ColumnMapper)\n",
    "\n",
    "items = {\n",
    "    'Neurological manifestations_Developmental delay': ['Neurodevelopmental delay', 'HP:0012758'],\n",
    "    'Neurological manifestations_Regression': ['Cognitive regression', 'HP:0034332'],\n",
    "    'Neurological manifestations_Seizure': ['Seizure', 'HP:0001250'],\n",
    "    'Neurological manifestations_Extrapyramidal symptoms': ['Abnormality of extrapyramidal motor function', 'HP:0002071'],\n",
    "    'Neurological manifestations_Hypertonia':['Hypertonia','HP:0001276'],\n",
    "    'Neurological manifestations_Hypotonia': ['Hypotonia','HP:0001252'],\n",
    "    'Neurological manifestations_Microcephaly':['Microcephaly', 'HP:0000252'],\n",
    "    'Opthalmic manifestations_Ectopia lentis':['Ectopia lentis', 'HP:0001083'],\n",
    "}\n",
    "\n",
    "item_column_mapper_d = hpo_cr.initialize_simple_column_maps(column_name_to_hpo_label_map=items, observed='+',\n",
    "    excluded='-')\n",
    "print(f\"We created {len(item_column_mapper_d)} simple column mappers\")\n",
    "# Transfor to column_mapper_d\n",
    "for k, v in item_column_mapper_d.items():\n",
    "    column_mapper_d[k] = v"
   ]
  },
  {
   "cell_type": "code",
   "execution_count": 8,
   "id": "e30e9f16",
   "metadata": {},
   "outputs": [],
   "source": [
    "ageMapper = AgeColumnMapper('AgeEncodingType.YEAR_AND_MONTH', 'NewAgeCol')\n",
    "ageMapper.preview_column(df['NewAgeCol'])\n",
    "\n",
    "sexMapper = SexColumnMapper(male_symbol='M', female_symbol='F', column_name='Gender', unknown_symbol='')\n",
    "sexMapper.preview_column(df['Gender'])\n",
    "\n",
    "individual_column_name = 'Proband ID'\n",
    "\n",
    "pmid = \"PMID:36303223\"\n",
    "encoder = CohortEncoder(df=df, hpo_cr=hpo_cr, column_mapper_d=column_mapper_d, \n",
    "                        individual_column_name=individual_column_name,\n",
    "                        agemapper=ageMapper, sexmapper=sexMapper,\n",
    "                        variant_mapper=varMapper,\n",
    "                        metadata=metadata,pmid=pmid)\n",
    "\n",
    "encoder.set_disease(disease_id='ORPHA:833', label='Encephalopathy due to sulfite oxidase deficiency')"
   ]
  },
  {
   "cell_type": "code",
   "execution_count": null,
   "id": "b09cef90",
   "metadata": {},
   "outputs": [],
   "source": []
  },
  {
   "cell_type": "code",
   "execution_count": 9,
   "id": "890b90a8",
   "metadata": {},
   "outputs": [
    {
     "name": "stdout",
     "output_type": "stream",
     "text": [
      "https://rest.variantvalidator.org/VariantValidator/variantvalidator/hg19/NM_001032386.2%3Ac.433delC/NM_001032386.2?content-type=application%2Fjson\n",
      "https://rest.variantvalidator.org/VariantValidator/variantvalidator/hg19/NM_001032386.2%3Ac.650G>A/NM_001032386.2?content-type=application%2Fjson\n",
      "https://rest.variantvalidator.org/VariantValidator/variantvalidator/hg19/NM_001032386.2%3Ac.794C>A/NM_001032386.2?content-type=application%2Fjson\n",
      "https://rest.variantvalidator.org/VariantValidator/variantvalidator/hg19/NM_001032386.2%3Ac.1280C>A/NM_001032386.2?content-type=application%2Fjson\n",
      "https://rest.variantvalidator.org/VariantValidator/variantvalidator/hg19/NM_001032386.2%3Ac.733_736delCTTT/NM_001032386.2?content-type=application%2Fjson\n",
      "https://rest.variantvalidator.org/VariantValidator/variantvalidator/hg19/NM_001032386.2%3Ac.1126C>T/NM_001032386.2?content-type=application%2Fjson\n",
      "https://rest.variantvalidator.org/VariantValidator/variantvalidator/hg19/NM_001032386.2%3Ac.284_285insC/NM_001032386.2?content-type=application%2Fjson\n",
      "https://rest.variantvalidator.org/VariantValidator/variantvalidator/hg19/NM_001032386.2%3Ac.772A>C/NM_001032386.2?content-type=application%2Fjson\n",
      "https://rest.variantvalidator.org/VariantValidator/variantvalidator/hg19/NM_001032386.2%3Ac.803G>A/NM_001032386.2?content-type=application%2Fjson\n",
      "https://rest.variantvalidator.org/VariantValidator/variantvalidator/hg19/NM_001032386.2%3Ac.1200C>G/NM_001032386.2?content-type=application%2Fjson\n",
      "https://rest.variantvalidator.org/VariantValidator/variantvalidator/hg19/NM_001032386.2%3Ac.1261C>T/NM_001032386.2?content-type=application%2Fjson\n",
      "https://rest.variantvalidator.org/VariantValidator/variantvalidator/hg19/NM_001032386.2%3Ac.1084G>A/NM_001032386.2?content-type=application%2Fjson\n",
      "https://rest.variantvalidator.org/VariantValidator/variantvalidator/hg19/NM_001032386.2%3Ac.1097G>A/NM_001032386.2?content-type=application%2Fjson\n",
      "https://rest.variantvalidator.org/VariantValidator/variantvalidator/hg19/NM_001032386.2%3Ac.1187A>G/NM_001032386.2?content-type=application%2Fjson\n",
      "https://rest.variantvalidator.org/VariantValidator/variantvalidator/hg19/NM_001032386.2%3Ac.1136A>G/NM_001032386.2?content-type=application%2Fjson\n",
      "https://rest.variantvalidator.org/VariantValidator/variantvalidator/hg19/NM_001032386.2%3Ac.1348T>C/NM_001032386.2?content-type=application%2Fjson\n",
      "https://rest.variantvalidator.org/VariantValidator/variantvalidator/hg19/NM_001032386.2%3Ac.650G>A/NM_001032386.2?content-type=application%2Fjson\n",
      "https://rest.variantvalidator.org/VariantValidator/variantvalidator/hg19/NM_001032386.2%3Ac.400_403delGAGC/NM_001032386.2?content-type=application%2Fjson\n",
      "https://rest.variantvalidator.org/VariantValidator/variantvalidator/hg19/NM_001032386.2%3Ac.1200C>G/NM_001032386.2?content-type=application%2Fjson\n",
      "https://rest.variantvalidator.org/VariantValidator/variantvalidator/hg19/NM_001032386.2%3Ac.650G>A/NM_001032386.2?content-type=application%2Fjson\n",
      "https://rest.variantvalidator.org/VariantValidator/variantvalidator/hg19/NM_001032386.2%3Ac.520delG/NM_001032386.2?content-type=application%2Fjson\n",
      "https://rest.variantvalidator.org/VariantValidator/variantvalidator/hg19/NM_001032386.2%3Ac.427C>A/NM_001032386.2?content-type=application%2Fjson\n",
      "https://rest.variantvalidator.org/VariantValidator/variantvalidator/hg19/NM_001032386.2%3Ac.182T>C/NM_001032386.2?content-type=application%2Fjson\n",
      "https://rest.variantvalidator.org/VariantValidator/variantvalidator/hg19/NM_001032386.2%3Ac.1200C>G/NM_001032386.2?content-type=application%2Fjson\n",
      "https://rest.variantvalidator.org/VariantValidator/variantvalidator/hg19/NM_001032386.2%3Ac.1355C>A/NM_001032386.2?content-type=application%2Fjson\n",
      "Not able to get variant for c.1355C>A: Expecting to get a gene_variant from Variant Validator but got warning\n",
      "https://rest.variantvalidator.org/VariantValidator/variantvalidator/hg19/NM_001032386.2%3Ac.884G>A/NM_001032386.2?content-type=application%2Fjson\n",
      "https://rest.variantvalidator.org/VariantValidator/variantvalidator/hg19/NM_001032386.2%3Ac.884G>A/NM_001032386.2?content-type=application%2Fjson\n",
      "https://rest.variantvalidator.org/VariantValidator/variantvalidator/hg19/NM_001032386.2%3Ac.352C>T/NM_001032386.2?content-type=application%2Fjson\n",
      "https://rest.variantvalidator.org/VariantValidator/variantvalidator/hg19/NM_001032386.2%3Ac.649C>G/NM_001032386.2?content-type=application%2Fjson\n",
      "https://rest.variantvalidator.org/VariantValidator/variantvalidator/hg19/NM_001032386.2%3Ac.1200C>G/NM_001032386.2?content-type=application%2Fjson\n",
      "https://rest.variantvalidator.org/VariantValidator/variantvalidator/hg19/NM_001032386.2%3Ac.1096C>T/NM_001032386.2?content-type=application%2Fjson\n",
      "https://rest.variantvalidator.org/VariantValidator/variantvalidator/hg19/NM_001032386.2%3Ac.1376G>A/NM_001032386.2?content-type=application%2Fjson\n",
      "https://rest.variantvalidator.org/VariantValidator/variantvalidator/hg19/NM_001032386.2%3Ac.1096C>T/NM_001032386.2?content-type=application%2Fjson\n",
      "https://rest.variantvalidator.org/VariantValidator/variantvalidator/hg19/NM_001032386.2%3Ac.1376G>A/NM_001032386.2?content-type=application%2Fjson\n",
      "https://rest.variantvalidator.org/VariantValidator/variantvalidator/hg19/NM_001032386.2%3Ac.1096C>T/NM_001032386.2?content-type=application%2Fjson\n",
      "https://rest.variantvalidator.org/VariantValidator/variantvalidator/hg19/NM_001032386.2%3Ac.1376G>A/NM_001032386.2?content-type=application%2Fjson\n",
      "https://rest.variantvalidator.org/VariantValidator/variantvalidator/hg19/NM_001032386.2%3Ac.1521_1524delTTGT/NM_001032386.2?content-type=application%2Fjson\n",
      "https://rest.variantvalidator.org/VariantValidator/variantvalidator/hg19/NM_001032386.2%3Ac.1521_1524delTTGT/NM_001032386.2?content-type=application%2Fjson\n",
      "https://rest.variantvalidator.org/VariantValidator/variantvalidator/hg19/NM_001032386.2%3Ac.1382A>T/NM_001032386.2?content-type=application%2Fjson\n",
      "https://rest.variantvalidator.org/VariantValidator/variantvalidator/hg19/NM_001032386.2%3Ac.1382A>T/NM_001032386.2?content-type=application%2Fjson\n",
      "https://rest.variantvalidator.org/VariantValidator/variantvalidator/hg19/NM_001032386.2%3Ac.475G>T/NM_001032386.2?content-type=application%2Fjson\n",
      "https://rest.variantvalidator.org/VariantValidator/variantvalidator/hg19/NM_001032386.2%3Ac.1201A>G/NM_001032386.2?content-type=application%2Fjson\n",
      "https://rest.variantvalidator.org/VariantValidator/variantvalidator/hg19/NM_001032386.2%3Ac.1200C>G/NM_001032386.2?content-type=application%2Fjson\n",
      "https://rest.variantvalidator.org/VariantValidator/variantvalidator/hg19/NM_001032386.2%3Ac.1549_1574dup/NM_001032386.2?content-type=application%2Fjson\n",
      "https://rest.variantvalidator.org/VariantValidator/variantvalidator/hg19/NM_001032386.2%3Ac.1200C>G/NM_001032386.2?content-type=application%2Fjson\n",
      "https://rest.variantvalidator.org/VariantValidator/variantvalidator/hg19/NM_001032386.2%3Ac.1549_1574dup/NM_001032386.2?content-type=application%2Fjson\n",
      "https://rest.variantvalidator.org/VariantValidator/variantvalidator/hg19/NM_001032386.2%3Ac.205G>C/NM_001032386.2?content-type=application%2Fjson\n",
      "https://rest.variantvalidator.org/VariantValidator/variantvalidator/hg19/NM_001032386.2%3Ac.1200C>G/NM_001032386.2?content-type=application%2Fjson\n",
      "Wrote 35 phenopackets to phenopackets\n"
     ]
    }
   ],
   "source": [
    "encoder.output_phenopackets(outdir='phenopackets')"
   ]
  },
  {
   "cell_type": "code",
   "execution_count": null,
   "id": "aa540947",
   "metadata": {},
   "outputs": [],
   "source": []
  }
 ],
 "metadata": {
  "kernelspec": {
   "display_name": "enviro",
   "language": "python",
   "name": "enviro"
  },
  "language_info": {
   "codemirror_mode": {
    "name": "ipython",
    "version": 3
   },
   "file_extension": ".py",
   "mimetype": "text/x-python",
   "name": "python",
   "nbconvert_exporter": "python",
   "pygments_lexer": "ipython3",
   "version": "3.10.7"
  }
 },
 "nbformat": 4,
 "nbformat_minor": 5
}
