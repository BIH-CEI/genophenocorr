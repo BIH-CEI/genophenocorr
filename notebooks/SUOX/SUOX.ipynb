{
 "cells": [
  {
   "cell_type": "markdown",
   "id": "e2506e0b",
   "metadata": {},
   "source": [
    "# SUOX\n",
    "\n",
    "\n",
    "Sulfite Oxidase Deficiency\n",
    "\n",
    "Data from [Li JT, et al. Mutation analysis of SUOX in isolated sulfite oxidase deficiency with ectopia lentis as the presenting feature: insights into genotype-phenotype correlation](https://pubmed.ncbi.nlm.nih.gov/36303223/)"
   ]
  },
  {
   "cell_type": "code",
   "execution_count": 1,
   "id": "0f100a23",
   "metadata": {},
   "outputs": [
    {
     "name": "stdout",
     "output_type": "stream",
     "text": [
      "Using genophenocorr version 0.1.1dev\n"
     ]
    }
   ],
   "source": [
    "import genophenocorr\n",
    "\n",
    "print(f\"Using genophenocorr version {genophenocorr.__version__}\")"
   ]
  },
  {
   "cell_type": "markdown",
   "id": "0f5638c0",
   "metadata": {},
   "source": [
    "## Setup"
   ]
  },
  {
   "cell_type": "markdown",
   "id": "dccbe1e5",
   "metadata": {},
   "source": [
    "## Logging\n",
    "\n",
    "Setup logging to get notified about progress, issues, etc.."
   ]
  },
  {
   "cell_type": "code",
   "execution_count": 2,
   "id": "bb359b90",
   "metadata": {},
   "outputs": [],
   "source": [
    "import hpotk\n",
    "\n",
    "hpotk.util.setup_logging()"
   ]
  },
  {
   "cell_type": "markdown",
   "id": "3a94bf4f",
   "metadata": {},
   "source": [
    "### Load HPO\n",
    "\n",
    "We use HPO `v2023-10-09` release for this analysis."
   ]
  },
  {
   "cell_type": "code",
   "execution_count": 3,
   "id": "021369dc",
   "metadata": {},
   "outputs": [],
   "source": [
    "fpath_hpo = 'https://github.com/obophenotype/human-phenotype-ontology/releases/download/v2023-10-09/hp.json'\n",
    "hpo = hpotk.load_minimal_ontology(fpath_hpo)"
   ]
  },
  {
   "cell_type": "markdown",
   "id": "5478af31",
   "metadata": {},
   "source": [
    "### Load Phenopackets\n",
    "\n",
    "We will load phenopacket JSON files located in `phenopackets` folder that is next to the notebook."
   ]
  },
  {
   "cell_type": "code",
   "execution_count": 4,
   "id": "0ff60f76",
   "metadata": {},
   "outputs": [
    {
     "name": "stderr",
     "output_type": "stream",
     "text": [
      "Patients Created: 100%|██████████| 35/35 [00:00<00:00, 365.76it/s]\n",
      "2024-01-16 09:36:24,078 genophenocorr.preprocessing INFO : Validated under lenient policy\n",
      "No errors or warnings were found\n"
     ]
    }
   ],
   "source": [
    "from genophenocorr.preprocessing import configure_caching_cohort_creator, load_phenopacket_folder\n",
    "\n",
    "fpath_phenopackets = 'phenopackets'\n",
    "cohort_creator = configure_caching_cohort_creator(hpo)\n",
    "cohort = load_phenopacket_folder(fpath_phenopackets, cohort_creator)"
   ]
  },
  {
   "cell_type": "markdown",
   "id": "dfa41c91",
   "metadata": {},
   "source": [
    "### Pick transcript\n",
    "\n",
    "We choose the [MANE Select](https://www.ncbi.nlm.nih.gov/nuccore/NM_001032386.2) transcript for *SUOX*."
   ]
  },
  {
   "cell_type": "code",
   "execution_count": 5,
   "id": "72a813aa",
   "metadata": {},
   "outputs": [],
   "source": [
    "tx_id = 'NM_001032386.2'"
   ]
  },
  {
   "cell_type": "markdown",
   "id": "02bbfa0a",
   "metadata": {},
   "source": [
    "## Explore cohort\n",
    "\n",
    "Explore the cohort to guide selection of the genotype-phenotype analysis."
   ]
  },
  {
   "cell_type": "code",
   "execution_count": 6,
   "id": "bc2ef27b",
   "metadata": {},
   "outputs": [],
   "source": [
    "from IPython.display import HTML, display\n",
    "from genophenocorr.view import CohortViewer\n",
    "\n",
    "viewer = CohortViewer(hpo)"
   ]
  },
  {
   "cell_type": "code",
   "execution_count": 7,
   "id": "b412e537",
   "metadata": {},
   "outputs": [
    {
     "data": {
      "text/plain": [
       "[('12_56004589_56004589_C_G', 7),\n",
       " ('12_56004039_56004039_G_A', 3),\n",
       " ('12_56004485_56004485_C_T', 3),\n",
       " ('12_56004765_56004765_G_A', 3),\n",
       " ('12_56004771_56004771_A_T', 2),\n",
       " ('12_56004273_56004273_G_A', 2),\n",
       " ('12_56004905_56004909_ATTGT_A', 2),\n",
       " ('12_56004933_56004933_A_ACAATGTGCAGCCAGACACCGTGGCCC', 2),\n",
       " ('12_56004192_56004192_G_A', 1),\n",
       " ('12_56004473_56004473_G_A', 1)]"
      ]
     },
     "execution_count": 7,
     "metadata": {},
     "output_type": "execute_result"
    }
   ],
   "source": [
    "cohort.list_all_variants(10)"
   ]
  },
  {
   "cell_type": "code",
   "execution_count": 8,
   "id": "72f35a21",
   "metadata": {},
   "outputs": [
    {
     "data": {
      "text/plain": [
       "[('HP:0001250', 28),\n",
       " ('HP:0001252', 15),\n",
       " ('HP:0032350', 13),\n",
       " ('HP:0001276', 11),\n",
       " ('HP:0002071', 11),\n",
       " ('HP:0000252', 10),\n",
       " ('HP:0012758', 8),\n",
       " ('HP:0001083', 7),\n",
       " ('HP:0500152', 7),\n",
       " ('HP:0003537', 7),\n",
       " ('HP:0034332', 6),\n",
       " ('HP:0003166', 5),\n",
       " ('HP:0010934', 2),\n",
       " ('HP:0011935', 2),\n",
       " ('HP:0034745', 2),\n",
       " ('HP:0011814', 1),\n",
       " ('HP:0500181', 1)]"
      ]
     },
     "execution_count": 8,
     "metadata": {},
     "output_type": "execute_result"
    }
   ],
   "source": [
    "cohort.list_all_phenotypes()"
   ]
  },
  {
   "cell_type": "code",
   "execution_count": 9,
   "id": "5a03af26",
   "metadata": {},
   "outputs": [
    {
     "data": {
      "text/plain": [
       "{'NM_001032387.2': Counter({'FRAMESHIFT_VARIANT': 9,\n",
       "          'MISSENSE_VARIANT': 29,\n",
       "          'STOP_GAINED': 10}),\n",
       " 'NM_001032386.2': Counter({'FRAMESHIFT_VARIANT': 9,\n",
       "          'MISSENSE_VARIANT': 29,\n",
       "          'STOP_GAINED': 10}),\n",
       " 'NM_000456.3': Counter({'FRAMESHIFT_VARIANT': 9,\n",
       "          'MISSENSE_VARIANT': 29,\n",
       "          'STOP_GAINED': 10})}"
      ]
     },
     "execution_count": 9,
     "metadata": {},
     "output_type": "execute_result"
    }
   ],
   "source": [
    "cohort.list_data_by_tx()"
   ]
  },
  {
   "cell_type": "code",
   "execution_count": 10,
   "id": "ba7d8f40",
   "metadata": {},
   "outputs": [
    {
     "data": {
      "text/plain": [
       "35"
      ]
     },
     "execution_count": 10,
     "metadata": {},
     "output_type": "execute_result"
    }
   ],
   "source": [
    "len(cohort.list_all_patients())"
   ]
  },
  {
   "cell_type": "markdown",
   "id": "8357f23c",
   "metadata": {},
   "source": [
    "## Configure the analysis"
   ]
  },
  {
   "cell_type": "code",
   "execution_count": 11,
   "id": "531e077d",
   "metadata": {},
   "outputs": [],
   "source": [
    "from genophenocorr.analysis import configure_cohort_analysis\n",
    "from genophenocorr.analysis.predicate import BooleanPredicate\n",
    "\n",
    "analysis = configure_cohort_analysis(cohort, hpo)"
   ]
  },
  {
   "cell_type": "markdown",
   "id": "6f26642f",
   "metadata": {},
   "source": [
    "## Run the analyses"
   ]
  },
  {
   "cell_type": "markdown",
   "id": "4bb80a2c",
   "metadata": {},
   "source": [
    "Test for presence of genotype-phenotype correlations between subjects with missense variants vs. the other subjects."
   ]
  },
  {
   "cell_type": "code",
   "execution_count": 12,
   "id": "f4fb138e",
   "metadata": {},
   "outputs": [
    {
     "data": {
      "text/html": [
       "<div>\n",
       "<style scoped>\n",
       "    .dataframe tbody tr th:only-of-type {\n",
       "        vertical-align: middle;\n",
       "    }\n",
       "\n",
       "    .dataframe tbody tr th {\n",
       "        vertical-align: top;\n",
       "    }\n",
       "\n",
       "    .dataframe thead tr th {\n",
       "        text-align: left;\n",
       "    }\n",
       "</style>\n",
       "<table border=\"1\" class=\"dataframe\">\n",
       "  <thead>\n",
       "    <tr>\n",
       "      <th>MISSENSE_VARIANT on NM_001032386.2</th>\n",
       "      <th colspan=\"2\" halign=\"left\">No</th>\n",
       "      <th colspan=\"2\" halign=\"left\">Yes</th>\n",
       "      <th colspan=\"2\" halign=\"left\"></th>\n",
       "    </tr>\n",
       "    <tr>\n",
       "      <th></th>\n",
       "      <th>Count</th>\n",
       "      <th>Percent</th>\n",
       "      <th>Count</th>\n",
       "      <th>Percent</th>\n",
       "      <th>p value</th>\n",
       "      <th>Corrected p value</th>\n",
       "    </tr>\n",
       "  </thead>\n",
       "  <tbody>\n",
       "    <tr>\n",
       "      <th>Seizure [HP:0001250]</th>\n",
       "      <td>11</td>\n",
       "      <td>31.428571</td>\n",
       "      <td>17</td>\n",
       "      <td>48.571429</td>\n",
       "      <td>0.072129</td>\n",
       "      <td>1.0</td>\n",
       "    </tr>\n",
       "    <tr>\n",
       "      <th>Hypouricemia [HP:0003537]</th>\n",
       "      <td>4</td>\n",
       "      <td>26.666667</td>\n",
       "      <td>3</td>\n",
       "      <td>20.000000</td>\n",
       "      <td>0.118881</td>\n",
       "      <td>1.0</td>\n",
       "    </tr>\n",
       "    <tr>\n",
       "      <th>Cognitive regression [HP:0034332]</th>\n",
       "      <td>0</td>\n",
       "      <td>0.000000</td>\n",
       "      <td>6</td>\n",
       "      <td>24.000000</td>\n",
       "      <td>0.129170</td>\n",
       "      <td>1.0</td>\n",
       "    </tr>\n",
       "    <tr>\n",
       "      <th>Increased urinary taurine [HP:0003166]</th>\n",
       "      <td>0</td>\n",
       "      <td>0.000000</td>\n",
       "      <td>5</td>\n",
       "      <td>83.333333</td>\n",
       "      <td>0.166667</td>\n",
       "      <td>1.0</td>\n",
       "    </tr>\n",
       "    <tr>\n",
       "      <th>Hypotonia [HP:0001252]</th>\n",
       "      <td>3</td>\n",
       "      <td>13.043478</td>\n",
       "      <td>12</td>\n",
       "      <td>52.173913</td>\n",
       "      <td>0.181896</td>\n",
       "      <td>1.0</td>\n",
       "    </tr>\n",
       "    <tr>\n",
       "      <th>...</th>\n",
       "      <td>...</td>\n",
       "      <td>...</td>\n",
       "      <td>...</td>\n",
       "      <td>...</td>\n",
       "      <td>...</td>\n",
       "      <td>...</td>\n",
       "    </tr>\n",
       "    <tr>\n",
       "      <th>Abnormal circulating nitrogen compound concentration [HP:0004364]</th>\n",
       "      <td>4</td>\n",
       "      <td>57.142857</td>\n",
       "      <td>3</td>\n",
       "      <td>42.857143</td>\n",
       "      <td>1.000000</td>\n",
       "      <td>1.0</td>\n",
       "    </tr>\n",
       "    <tr>\n",
       "      <th>Elevated circulating S-sulfocysteine concentration [HP:0034745]</th>\n",
       "      <td>0</td>\n",
       "      <td>0.000000</td>\n",
       "      <td>2</td>\n",
       "      <td>100.000000</td>\n",
       "      <td>1.000000</td>\n",
       "      <td>1.0</td>\n",
       "    </tr>\n",
       "    <tr>\n",
       "      <th>Abnormal circulating non-proteinogenic amino acid concentration [HP:0033109]</th>\n",
       "      <td>0</td>\n",
       "      <td>0.000000</td>\n",
       "      <td>2</td>\n",
       "      <td>100.000000</td>\n",
       "      <td>1.000000</td>\n",
       "      <td>1.0</td>\n",
       "    </tr>\n",
       "    <tr>\n",
       "      <th>Hypertaurinemia [HP:0500181]</th>\n",
       "      <td>1</td>\n",
       "      <td>50.000000</td>\n",
       "      <td>0</td>\n",
       "      <td>0.000000</td>\n",
       "      <td>1.000000</td>\n",
       "      <td>1.0</td>\n",
       "    </tr>\n",
       "    <tr>\n",
       "      <th>Abnormal circulating amino sulfonic acid concentration [HP:0500180]</th>\n",
       "      <td>1</td>\n",
       "      <td>100.000000</td>\n",
       "      <td>0</td>\n",
       "      <td>0.000000</td>\n",
       "      <td>1.000000</td>\n",
       "      <td>1.0</td>\n",
       "    </tr>\n",
       "  </tbody>\n",
       "</table>\n",
       "<p>68 rows × 6 columns</p>\n",
       "</div>"
      ],
      "text/plain": [
       "MISSENSE_VARIANT on NM_001032386.2                    No               Yes  \\\n",
       "                                                   Count     Percent Count   \n",
       "Seizure [HP:0001250]                                  11   31.428571    17   \n",
       "Hypouricemia [HP:0003537]                              4   26.666667     3   \n",
       "Cognitive regression [HP:0034332]                      0    0.000000     6   \n",
       "Increased urinary taurine [HP:0003166]                 0    0.000000     5   \n",
       "Hypotonia [HP:0001252]                                 3   13.043478    12   \n",
       "...                                                  ...         ...   ...   \n",
       "Abnormal circulating nitrogen compound concentr...     4   57.142857     3   \n",
       "Elevated circulating S-sulfocysteine concentrat...     0    0.000000     2   \n",
       "Abnormal circulating non-proteinogenic amino ac...     0    0.000000     2   \n",
       "Hypertaurinemia [HP:0500181]                           1   50.000000     0   \n",
       "Abnormal circulating amino sulfonic acid concen...     1  100.000000     0   \n",
       "\n",
       "MISSENSE_VARIANT on NM_001032386.2                                        \\\n",
       "                                                       Percent   p value   \n",
       "Seizure [HP:0001250]                                 48.571429  0.072129   \n",
       "Hypouricemia [HP:0003537]                            20.000000  0.118881   \n",
       "Cognitive regression [HP:0034332]                    24.000000  0.129170   \n",
       "Increased urinary taurine [HP:0003166]               83.333333  0.166667   \n",
       "Hypotonia [HP:0001252]                               52.173913  0.181896   \n",
       "...                                                        ...       ...   \n",
       "Abnormal circulating nitrogen compound concentr...   42.857143  1.000000   \n",
       "Elevated circulating S-sulfocysteine concentrat...  100.000000  1.000000   \n",
       "Abnormal circulating non-proteinogenic amino ac...  100.000000  1.000000   \n",
       "Hypertaurinemia [HP:0500181]                          0.000000  1.000000   \n",
       "Abnormal circulating amino sulfonic acid concen...    0.000000  1.000000   \n",
       "\n",
       "MISSENSE_VARIANT on NM_001032386.2                                    \n",
       "                                                   Corrected p value  \n",
       "Seizure [HP:0001250]                                             1.0  \n",
       "Hypouricemia [HP:0003537]                                        1.0  \n",
       "Cognitive regression [HP:0034332]                                1.0  \n",
       "Increased urinary taurine [HP:0003166]                           1.0  \n",
       "Hypotonia [HP:0001252]                                           1.0  \n",
       "...                                                              ...  \n",
       "Abnormal circulating nitrogen compound concentr...               1.0  \n",
       "Elevated circulating S-sulfocysteine concentrat...               1.0  \n",
       "Abnormal circulating non-proteinogenic amino ac...               1.0  \n",
       "Hypertaurinemia [HP:0500181]                                     1.0  \n",
       "Abnormal circulating amino sulfonic acid concen...               1.0  \n",
       "\n",
       "[68 rows x 6 columns]"
      ]
     },
     "execution_count": 12,
     "metadata": {},
     "output_type": "execute_result"
    }
   ],
   "source": [
    "from genophenocorr.model import VariantEffect\n",
    "\n",
    "missense = analysis.compare_by_variant_effect(VariantEffect.MISSENSE_VARIANT, tx_id)\n",
    "missense.summarize(hpo, BooleanPredicate.YES)"
   ]
  },
  {
   "cell_type": "markdown",
   "id": "31eea804",
   "metadata": {},
   "source": [
    "Test for presence of genotype-phenotype correlations between subjects with >=1 allele of a variant vs. the others."
   ]
  },
  {
   "cell_type": "code",
   "execution_count": 13,
   "id": "743954bd",
   "metadata": {},
   "outputs": [
    {
     "data": {
      "text/html": [
       "<div>\n",
       "<style scoped>\n",
       "    .dataframe tbody tr th:only-of-type {\n",
       "        vertical-align: middle;\n",
       "    }\n",
       "\n",
       "    .dataframe tbody tr th {\n",
       "        vertical-align: top;\n",
       "    }\n",
       "\n",
       "    .dataframe thead tr th {\n",
       "        text-align: left;\n",
       "    }\n",
       "</style>\n",
       "<table border=\"1\" class=\"dataframe\">\n",
       "  <thead>\n",
       "    <tr>\n",
       "      <th>&gt;=1 allele of the variant 12_56004589_56004589_C_G</th>\n",
       "      <th colspan=\"2\" halign=\"left\">No</th>\n",
       "      <th colspan=\"2\" halign=\"left\">Yes</th>\n",
       "      <th colspan=\"2\" halign=\"left\"></th>\n",
       "    </tr>\n",
       "    <tr>\n",
       "      <th></th>\n",
       "      <th>Count</th>\n",
       "      <th>Percent</th>\n",
       "      <th>Count</th>\n",
       "      <th>Percent</th>\n",
       "      <th>p value</th>\n",
       "      <th>Corrected p value</th>\n",
       "    </tr>\n",
       "  </thead>\n",
       "  <tbody>\n",
       "    <tr>\n",
       "      <th>Hypotonia [HP:0001252]</th>\n",
       "      <td>14</td>\n",
       "      <td>60.869565</td>\n",
       "      <td>1</td>\n",
       "      <td>4.347826</td>\n",
       "      <td>0.032869</td>\n",
       "      <td>1.0</td>\n",
       "    </tr>\n",
       "    <tr>\n",
       "      <th>Neurodevelopmental delay [HP:0012758]</th>\n",
       "      <td>8</td>\n",
       "      <td>32.000000</td>\n",
       "      <td>0</td>\n",
       "      <td>0.000000</td>\n",
       "      <td>0.129170</td>\n",
       "      <td>1.0</td>\n",
       "    </tr>\n",
       "    <tr>\n",
       "      <th>Abnormality of extrapyramidal motor function [HP:0002071]</th>\n",
       "      <td>10</td>\n",
       "      <td>40.000000</td>\n",
       "      <td>1</td>\n",
       "      <td>4.000000</td>\n",
       "      <td>0.180435</td>\n",
       "      <td>1.0</td>\n",
       "    </tr>\n",
       "    <tr>\n",
       "      <th>Cognitive regression [HP:0034332]</th>\n",
       "      <td>6</td>\n",
       "      <td>24.000000</td>\n",
       "      <td>0</td>\n",
       "      <td>0.000000</td>\n",
       "      <td>0.277764</td>\n",
       "      <td>1.0</td>\n",
       "    </tr>\n",
       "    <tr>\n",
       "      <th>Ectopia lentis [HP:0001083]</th>\n",
       "      <td>5</td>\n",
       "      <td>27.777778</td>\n",
       "      <td>2</td>\n",
       "      <td>11.111111</td>\n",
       "      <td>0.528186</td>\n",
       "      <td>1.0</td>\n",
       "    </tr>\n",
       "    <tr>\n",
       "      <th>...</th>\n",
       "      <td>...</td>\n",
       "      <td>...</td>\n",
       "      <td>...</td>\n",
       "      <td>...</td>\n",
       "      <td>...</td>\n",
       "      <td>...</td>\n",
       "    </tr>\n",
       "    <tr>\n",
       "      <th>Abnormality of urinary uric acid level [HP:0012610]</th>\n",
       "      <td>2</td>\n",
       "      <td>28.571429</td>\n",
       "      <td>0</td>\n",
       "      <td>0.000000</td>\n",
       "      <td>1.000000</td>\n",
       "      <td>1.0</td>\n",
       "    </tr>\n",
       "    <tr>\n",
       "      <th>Elevated circulating S-sulfocysteine concentration [HP:0034745]</th>\n",
       "      <td>2</td>\n",
       "      <td>100.000000</td>\n",
       "      <td>0</td>\n",
       "      <td>0.000000</td>\n",
       "      <td>1.000000</td>\n",
       "      <td>1.0</td>\n",
       "    </tr>\n",
       "    <tr>\n",
       "      <th>Abnormal circulating non-proteinogenic amino acid concentration [HP:0033109]</th>\n",
       "      <td>2</td>\n",
       "      <td>100.000000</td>\n",
       "      <td>0</td>\n",
       "      <td>0.000000</td>\n",
       "      <td>1.000000</td>\n",
       "      <td>1.0</td>\n",
       "    </tr>\n",
       "    <tr>\n",
       "      <th>Hypertaurinemia [HP:0500181]</th>\n",
       "      <td>1</td>\n",
       "      <td>50.000000</td>\n",
       "      <td>0</td>\n",
       "      <td>0.000000</td>\n",
       "      <td>1.000000</td>\n",
       "      <td>1.0</td>\n",
       "    </tr>\n",
       "    <tr>\n",
       "      <th>Abnormal circulating amino sulfonic acid concentration [HP:0500180]</th>\n",
       "      <td>1</td>\n",
       "      <td>100.000000</td>\n",
       "      <td>0</td>\n",
       "      <td>0.000000</td>\n",
       "      <td>1.000000</td>\n",
       "      <td>1.0</td>\n",
       "    </tr>\n",
       "  </tbody>\n",
       "</table>\n",
       "<p>68 rows × 6 columns</p>\n",
       "</div>"
      ],
      "text/plain": [
       ">=1 allele of the variant 12_56004589_56004589_C_G    No               Yes  \\\n",
       "                                                   Count     Percent Count   \n",
       "Hypotonia [HP:0001252]                                14   60.869565     1   \n",
       "Neurodevelopmental delay [HP:0012758]                  8   32.000000     0   \n",
       "Abnormality of extrapyramidal motor function [H...    10   40.000000     1   \n",
       "Cognitive regression [HP:0034332]                      6   24.000000     0   \n",
       "Ectopia lentis [HP:0001083]                            5   27.777778     2   \n",
       "...                                                  ...         ...   ...   \n",
       "Abnormality of urinary uric acid level [HP:0012...     2   28.571429     0   \n",
       "Elevated circulating S-sulfocysteine concentrat...     2  100.000000     0   \n",
       "Abnormal circulating non-proteinogenic amino ac...     2  100.000000     0   \n",
       "Hypertaurinemia [HP:0500181]                           1   50.000000     0   \n",
       "Abnormal circulating amino sulfonic acid concen...     1  100.000000     0   \n",
       "\n",
       ">=1 allele of the variant 12_56004589_56004589_C_G                       \\\n",
       "                                                      Percent   p value   \n",
       "Hypotonia [HP:0001252]                               4.347826  0.032869   \n",
       "Neurodevelopmental delay [HP:0012758]                0.000000  0.129170   \n",
       "Abnormality of extrapyramidal motor function [H...   4.000000  0.180435   \n",
       "Cognitive regression [HP:0034332]                    0.000000  0.277764   \n",
       "Ectopia lentis [HP:0001083]                         11.111111  0.528186   \n",
       "...                                                       ...       ...   \n",
       "Abnormality of urinary uric acid level [HP:0012...   0.000000  1.000000   \n",
       "Elevated circulating S-sulfocysteine concentrat...   0.000000  1.000000   \n",
       "Abnormal circulating non-proteinogenic amino ac...   0.000000  1.000000   \n",
       "Hypertaurinemia [HP:0500181]                         0.000000  1.000000   \n",
       "Abnormal circulating amino sulfonic acid concen...   0.000000  1.000000   \n",
       "\n",
       ">=1 allele of the variant 12_56004589_56004589_C_G                    \n",
       "                                                   Corrected p value  \n",
       "Hypotonia [HP:0001252]                                           1.0  \n",
       "Neurodevelopmental delay [HP:0012758]                            1.0  \n",
       "Abnormality of extrapyramidal motor function [H...               1.0  \n",
       "Cognitive regression [HP:0034332]                                1.0  \n",
       "Ectopia lentis [HP:0001083]                                      1.0  \n",
       "...                                                              ...  \n",
       "Abnormality of urinary uric acid level [HP:0012...               1.0  \n",
       "Elevated circulating S-sulfocysteine concentrat...               1.0  \n",
       "Abnormal circulating non-proteinogenic amino ac...               1.0  \n",
       "Hypertaurinemia [HP:0500181]                                     1.0  \n",
       "Abnormal circulating amino sulfonic acid concen...               1.0  \n",
       "\n",
       "[68 rows x 6 columns]"
      ]
     },
     "execution_count": 13,
     "metadata": {},
     "output_type": "execute_result"
    }
   ],
   "source": [
    "by_variant = analysis.compare_by_variant_key('12_56004589_56004589_C_G')\n",
    "by_variant.summarize(hpo, BooleanPredicate.YES)"
   ]
  },
  {
   "cell_type": "markdown",
   "id": "f0388e17",
   "metadata": {},
   "source": [
    "TODO - finalize!"
   ]
  }
 ],
 "metadata": {
  "kernelspec": {
   "display_name": "exploratory",
   "language": "python",
   "name": "python3"
  },
  "language_info": {
   "codemirror_mode": {
    "name": "ipython",
    "version": 3
   },
   "file_extension": ".py",
   "mimetype": "text/x-python",
   "name": "python",
   "nbconvert_exporter": "python",
   "pygments_lexer": "ipython3",
   "version": "3.10.12"
  }
 },
 "nbformat": 4,
 "nbformat_minor": 5
}
