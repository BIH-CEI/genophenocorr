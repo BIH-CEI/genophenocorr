{
 "cells": [
  {
   "cell_type": "markdown",
   "id": "e2506e0b",
   "metadata": {},
   "source": [
    "<h1>Sulfite Oxidase Deficiency SUOX</h1>\n",
    "<p>Data from <a href=\"https://pubmed.ncbi.nlm.nih.gov/36303223/\" target=\"__blank\">Li JT, Chen ZX, Chen XJ, Jiang YX. Mutation analysis of SUOX in isolated sulfite oxidase deficiency with ectopia lentis as the presenting feature: insights into genotype-phenotype correlation. Orphanet J Rare Dis. 2022 Oct 27;17(1):392. doi: 10.1186/s13023-022-02544-x. PMID: 36303223; PMCID: PMC9615255.</a></p>"
   ]
  },
  {
   "cell_type": "code",
   "execution_count": 1,
   "id": "2a218aaa",
   "metadata": {},
   "outputs": [
    {
     "name": "stderr",
     "output_type": "stream",
     "text": [
      "INFO:rpy2.situation:cffi mode is CFFI_MODE.ANY\n",
      "INFO:rpy2.situation:R home found: /opt/homebrew/Cellar/r/4.2.3/lib/R\n",
      "INFO:rpy2.situation:R library path: \n",
      "INFO:rpy2.situation:LD_LIBRARY_PATH: \n",
      "INFO:rpy2.rinterface_lib.embedded:Default options to initialize R: rpy2, --quiet, --no-save\n",
      "INFO:rpy2.rinterface_lib.embedded:R is already initialized. No need to initialize.\n"
     ]
    }
   ],
   "source": [
    "import os\n",
    "import sys\n",
    "import rpy2\n",
    "import numpy as np\n",
    "\n",
    "from genophenocorr import *"
   ]
  },
  {
   "cell_type": "code",
   "execution_count": null,
   "id": "021369dc",
   "metadata": {},
   "outputs": [],
   "source": [
    "allSUOXPatients = Cohort('phenopackets/*.json')"
   ]
  },
  {
   "cell_type": "code",
   "execution_count": null,
   "id": "72a813aa",
   "metadata": {},
   "outputs": [],
   "source": [
    "pat = allSUOXPatients.all_patients_d.get('15')\n",
    "var = pat.variants[0]\n",
    "var.genotype"
   ]
  },
  {
   "cell_type": "code",
   "execution_count": null,
   "id": "5a03af26",
   "metadata": {},
   "outputs": [],
   "source": [
    "for pat in allSUOXPatients.all_patients_d.values():\n",
    "    print(pat.variants[0].variant_types)"
   ]
  },
  {
   "cell_type": "code",
   "execution_count": null,
   "id": "d46300eb",
   "metadata": {},
   "outputs": [],
   "source": [
    "allSUOXPatients.get_cohort_description_df()"
   ]
  },
  {
   "cell_type": "code",
   "execution_count": null,
   "id": "4b64148d",
   "metadata": {},
   "outputs": [],
   "source": [
    "allSUOXPatients.run_stats(is_var_type, is_not_var_type, 'missense_variant', 'missense_variant', remove_not_measured=True, \n",
    "                          recessive = True)"
   ]
  },
  {
   "cell_type": "code",
   "execution_count": null,
   "id": "729eb420",
   "metadata": {},
   "outputs": [],
   "source": []
  }
 ],
 "metadata": {
  "kernelspec": {
   "display_name": "enviro",
   "language": "python",
   "name": "enviro"
  },
  "language_info": {
   "codemirror_mode": {
    "name": "ipython",
    "version": 3
   },
   "file_extension": ".py",
   "mimetype": "text/x-python",
   "name": "python",
   "nbconvert_exporter": "python",
   "pygments_lexer": "ipython3",
   "version": "3.10.10"
  }
 },
 "nbformat": 4,
 "nbformat_minor": 5
}
