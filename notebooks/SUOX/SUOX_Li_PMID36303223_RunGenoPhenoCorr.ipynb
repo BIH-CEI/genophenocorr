{
 "cells": [
  {
   "cell_type": "markdown",
   "id": "e2506e0b",
   "metadata": {},
   "source": [
    "<h1>Sulfite Oxidase Deficiency SUOX</h1>\n",
    "<p>Data from <a href=\"https://pubmed.ncbi.nlm.nih.gov/36303223/\" target=\"__blank\">Li JT, Chen ZX, Chen XJ, Jiang YX. Mutation analysis of SUOX in isolated sulfite oxidase deficiency with ectopia lentis as the presenting feature: insights into genotype-phenotype correlation. Orphanet J Rare Dis. 2022 Oct 27;17(1):392. doi: 10.1186/s13023-022-02544-x. PMID: 36303223; PMCID: PMC9615255.</a></p>"
   ]
  },
  {
   "cell_type": "code",
   "execution_count": 1,
   "id": "2a218aaa",
   "metadata": {},
   "outputs": [],
   "source": [
    "import typing\n",
    "import os\n",
    "\n",
    "import hpotk\n",
    "from phenopackets import Phenopacket\n",
    "\n",
    "from genophenocorr.patient import PhenopacketPatientCreator\n",
    "from genophenocorr.phenotype import PhenotypeCreator\n",
    "from genophenocorr.protein import UniprotProteinMetadataService, ProteinAnnotationCache, ProtCachingFunctionalAnnotator\n",
    "from genophenocorr.variant import VarCachingFunctionalAnnotator, VariantAnnotationCache, VepFunctionalAnnotator\n",
    "from genophenocorr.cohort import PhenopacketCohortCreator, CohortAnalysis"
   ]
  },
  {
   "cell_type": "code",
   "execution_count": 2,
   "id": "58256d56",
   "metadata": {},
   "outputs": [],
   "source": [
    "fpath_hpo = 'hpo_data/hp.json'\n",
    "cache_dir = 'annotations'\n",
    "fpath_phenopackets = 'phenopackets'\n",
    "\n",
    "if not os.path.isdir(cache_dir):\n",
    "    os.mkdir(cache_dir)"
   ]
  },
  {
   "cell_type": "code",
   "execution_count": 3,
   "id": "021369dc",
   "metadata": {},
   "outputs": [],
   "source": [
    "hpo: hpotk.ontology.Ontology = hpotk.ontology.load.obographs.load_ontology(fpath_hpo)\n",
    "validators = [\n",
    "    hpotk.validate.AnnotationPropagationValidator(hpo),\n",
    "    hpotk.validate.ObsoleteTermIdsValidator(hpo),\n",
    "    hpotk.validate.PhenotypicAbnormalityValidator(hpo)\n",
    "]\n",
    "phenotype_creator = PhenotypeCreator(hpo, hpotk.validate.ValidationRunner(validators))"
   ]
  },
  {
   "cell_type": "code",
   "execution_count": 4,
   "id": "14259001",
   "metadata": {},
   "outputs": [],
   "source": [
    "# Protein metadata\n",
    "pm = UniprotProteinMetadataService()\n",
    "pac = ProteinAnnotationCache(cache_dir)\n",
    "pfa = ProtCachingFunctionalAnnotator(pac, pm)\n",
    "\n",
    "# Functional annotator\n",
    "vac = VariantAnnotationCache(cache_dir)\n",
    "vep = VepFunctionalAnnotator(pfa)\n",
    "vfa = VarCachingFunctionalAnnotator(vac, vep)\n",
    "\n",
    "\n",
    "# Assemble the patient creator\n",
    "pc = PhenopacketPatientCreator(phenotype_creator, vfa)"
   ]
  },
  {
   "cell_type": "code",
   "execution_count": 5,
   "id": "72a813aa",
   "metadata": {},
   "outputs": [],
   "source": [
    "cc = PhenopacketCohortCreator(pc)"
   ]
  },
  {
   "cell_type": "code",
   "execution_count": 6,
   "id": "c378eea3",
   "metadata": {
    "scrolled": true
   },
   "outputs": [],
   "source": [
    "patientCohort = cc.create_cohort(fpath_phenopackets)"
   ]
  },
  {
   "cell_type": "code",
   "execution_count": 7,
   "id": "5a03af26",
   "metadata": {},
   "outputs": [
    {
     "data": {
      "text/plain": [
       "{'NM_000456.3': Counter({'missense_variant': 22,\n",
       "          'frameshift_variant': 7,\n",
       "          'stop_gained': 5}),\n",
       " 'NM_001032387.2': Counter({'missense_variant': 22,\n",
       "          'frameshift_variant': 7,\n",
       "          'stop_gained': 5}),\n",
       " 'NM_001032386.2': Counter({'missense_variant': 22,\n",
       "          'frameshift_variant': 7,\n",
       "          'stop_gained': 5})}"
      ]
     },
     "execution_count": 7,
     "metadata": {},
     "output_type": "execute_result"
    }
   ],
   "source": [
    "patientCohort.list_data_by_tx()"
   ]
  },
  {
   "cell_type": "code",
   "execution_count": 8,
   "id": "4b64148d",
   "metadata": {},
   "outputs": [],
   "source": [
    "analysis = CohortAnalysis(patientCohort, 'NM_000456.3', include_unmeasured=False, recessive=True)"
   ]
  },
  {
   "cell_type": "code",
   "execution_count": 9,
   "id": "f4fb138e",
   "metadata": {},
   "outputs": [
    {
     "ename": "AttributeError",
     "evalue": "module 'genophenocorr.constants.variant_effects' has no attribute 'MISSENSE_VARIANT'",
     "output_type": "error",
     "traceback": [
      "\u001b[0;31m---------------------------------------------------------------------------\u001b[0m",
      "\u001b[0;31mAttributeError\u001b[0m                            Traceback (most recent call last)",
      "Cell \u001b[0;32mIn[9], line 2\u001b[0m\n\u001b[1;32m      1\u001b[0m \u001b[38;5;28;01mfrom\u001b[39;00m \u001b[38;5;21;01mgenophenocorr\u001b[39;00m\u001b[38;5;21;01m.\u001b[39;00m\u001b[38;5;21;01mconstants\u001b[39;00m \u001b[38;5;28;01mimport\u001b[39;00m variant_effects\n\u001b[0;32m----> 2\u001b[0m analysis\u001b[38;5;241m.\u001b[39mcompare_by_variant_type(\u001b[43mvariant_effects\u001b[49m\u001b[38;5;241;43m.\u001b[39;49m\u001b[43mMISSENSE_VARIANT\u001b[49m)\n",
      "\u001b[0;31mAttributeError\u001b[0m: module 'genophenocorr.constants.variant_effects' has no attribute 'MISSENSE_VARIANT'"
     ]
    }
   ],
   "source": [
    "from genophenocorr.constants import VariantEffect\n",
    "analysis.compare_by_variant_type(VariantEffect.)"
   ]
  },
  {
   "cell_type": "code",
   "execution_count": null,
   "id": "7512d26c",
   "metadata": {},
   "outputs": [],
   "source": []
  }
 ],
 "metadata": {
  "kernelspec": {
   "display_name": "enviro",
   "language": "python",
   "name": "enviro"
  },
  "language_info": {
   "codemirror_mode": {
    "name": "ipython",
    "version": 3
   },
   "file_extension": ".py",
   "mimetype": "text/x-python",
   "name": "python",
   "nbconvert_exporter": "python",
   "pygments_lexer": "ipython3",
   "version": "3.10.10"
  }
 },
 "nbformat": 4,
 "nbformat_minor": 5
}
