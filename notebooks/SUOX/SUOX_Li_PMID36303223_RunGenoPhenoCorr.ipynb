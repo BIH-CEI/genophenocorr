{
 "cells": [
  {
   "cell_type": "markdown",
   "id": "e2506e0b",
   "metadata": {},
   "source": [
    "<h1>Sulfite Oxidase Deficiency SUOX</h1>\n",
    "<p>Data from <a href=\"https://pubmed.ncbi.nlm.nih.gov/36303223/\" target=\"__blank\">Li JT, Chen ZX, Chen XJ, Jiang YX. Mutation analysis of SUOX in isolated sulfite oxidase deficiency with ectopia lentis as the presenting feature: insights into genotype-phenotype correlation. Orphanet J Rare Dis. 2022 Oct 27;17(1):392. doi: 10.1186/s13023-022-02544-x. PMID: 36303223; PMCID: PMC9615255.</a></p>"
   ]
  },
  {
   "cell_type": "code",
   "execution_count": 1,
   "id": "2a218aaa",
   "metadata": {},
   "outputs": [],
   "source": [
    "import typing\n",
    "import os\n",
    "\n",
    "import hpotk\n",
    "from phenopackets import Phenopacket\n",
    "\n",
    "from genophenocorr.patient import PhenopacketPatientCreator\n",
    "from genophenocorr.phenotype import PhenotypeCreator\n",
    "from genophenocorr.protein import UniprotProteinMetadataService, ProteinAnnotationCache, ProtCachingFunctionalAnnotator\n",
    "from genophenocorr.variant import VarCachingFunctionalAnnotator, VariantAnnotationCache, VepFunctionalAnnotator\n",
    "from genophenocorr.cohort import PhenopacketCohortCreator, CohortAnalysis"
   ]
  },
  {
   "cell_type": "code",
   "execution_count": 2,
   "id": "a0a17c64",
   "metadata": {},
   "outputs": [],
   "source": [
    "fpath_hpo = 'hpo_data/hp.json'\n",
    "cache_dir = 'annotations'\n",
    "fpath_phenopackets = 'phenopackets'\n",
    "\n",
    "if not os.path.isdir(cache_dir):\n",
    "    os.mkdir(cache_dir)"
   ]
  },
  {
   "cell_type": "code",
   "execution_count": 3,
   "id": "021369dc",
   "metadata": {},
   "outputs": [],
   "source": [
    "hpo: hpotk.ontology.Ontology = hpotk.ontology.load.obographs.load_ontology(fpath_hpo)\n",
    "validators = [\n",
    "    hpotk.validate.AnnotationPropagationValidator(hpo),\n",
    "    hpotk.validate.ObsoleteTermIdsValidator(hpo),\n",
    "    hpotk.validate.PhenotypicAbnormalityValidator(hpo)\n",
    "]\n",
    "phenotype_creator = PhenotypeCreator(hpo, hpotk.validate.ValidationRunner(validators))"
   ]
  },
  {
   "cell_type": "code",
   "execution_count": 4,
   "id": "e79ff0e7",
   "metadata": {},
   "outputs": [],
   "source": [
    "# Protein metadata\n",
    "pm = UniprotProteinMetadataService()\n",
    "pac = ProteinAnnotationCache(cache_dir)\n",
    "pfa = ProtCachingFunctionalAnnotator(pac, pm)\n",
    "\n",
    "# Functional annotator\n",
    "vac = VariantAnnotationCache(cache_dir)\n",
    "vep = VepFunctionalAnnotator(pfa)\n",
    "vfa = VarCachingFunctionalAnnotator(vac, vep)\n",
    "\n",
    "\n",
    "# Assemble the patient creator\n",
    "pc = PhenopacketPatientCreator(phenotype_creator, vfa)"
   ]
  },
  {
   "cell_type": "code",
   "execution_count": 5,
   "id": "72a813aa",
   "metadata": {},
   "outputs": [],
   "source": [
    "cc = PhenopacketCohortCreator(pc)"
   ]
  },
  {
   "cell_type": "code",
   "execution_count": 6,
   "id": "c378eea3",
   "metadata": {
    "scrolled": true
   },
   "outputs": [],
   "source": [
    "patientCohort = cc.create_cohort(fpath_phenopackets)"
   ]
  },
  {
   "cell_type": "code",
   "execution_count": 7,
   "id": "5a03af26",
   "metadata": {},
   "outputs": [
    {
     "data": {
      "text/plain": [
       "{'NM_000456.3': Counter({'missense_variant': 22,\n",
       "          'frameshift_variant': 7,\n",
       "          'stop_gained': 5}),\n",
       " 'NM_001032386.2': Counter({'missense_variant': 22,\n",
       "          'frameshift_variant': 7,\n",
       "          'stop_gained': 5}),\n",
       " 'NM_001032387.2': Counter({'missense_variant': 22,\n",
       "          'frameshift_variant': 7,\n",
       "          'stop_gained': 5})}"
      ]
     },
     "execution_count": 7,
     "metadata": {},
     "output_type": "execute_result"
    }
   ],
   "source": [
    "patientCohort.list_data_by_tx()"
   ]
  },
  {
   "cell_type": "code",
   "execution_count": 8,
   "id": "4b64148d",
   "metadata": {},
   "outputs": [],
   "source": [
    "analysis = CohortAnalysis(patientCohort, 'NM_000456.3', include_unmeasured=False, recessive=True)"
   ]
  },
  {
   "cell_type": "code",
   "execution_count": 9,
   "id": "f4fb138e",
   "metadata": {},
   "outputs": [
    {
     "name": "stdout",
     "output_type": "stream",
     "text": [
      "0.13937721541705927\n",
      "0.33427601809954754\n",
      "0.02334274421230943\n",
      "0.08263980179997976\n",
      "0.8499642772088591\n",
      "1.0000000000000002\n",
      "0.03952977071835599\n",
      "0.15187388761759468\n"
     ]
    },
    {
     "data": {
      "text/html": [
       "<div>\n",
       "<style scoped>\n",
       "    .dataframe tbody tr th:only-of-type {\n",
       "        vertical-align: middle;\n",
       "    }\n",
       "\n",
       "    .dataframe tbody tr th {\n",
       "        vertical-align: top;\n",
       "    }\n",
       "\n",
       "    .dataframe thead tr th {\n",
       "        text-align: left;\n",
       "    }\n",
       "</style>\n",
       "<table border=\"1\" class=\"dataframe\">\n",
       "  <thead>\n",
       "    <tr>\n",
       "      <th></th>\n",
       "      <th colspan=\"2\" halign=\"left\">Homozygous missense variant</th>\n",
       "      <th colspan=\"2\" halign=\"left\">Heterozygous missense variant</th>\n",
       "      <th colspan=\"2\" halign=\"left\">No missense variant</th>\n",
       "      <th></th>\n",
       "    </tr>\n",
       "    <tr>\n",
       "      <th></th>\n",
       "      <th>Count</th>\n",
       "      <th>Percent</th>\n",
       "      <th>Count</th>\n",
       "      <th>Percent</th>\n",
       "      <th>Count</th>\n",
       "      <th>Percent</th>\n",
       "      <th>p-value</th>\n",
       "    </tr>\n",
       "  </thead>\n",
       "  <tbody>\n",
       "    <tr>\n",
       "      <th>HP:0034332 (Cognitive regression)</th>\n",
       "      <td>6</td>\n",
       "      <td>50.00%</td>\n",
       "      <td>0</td>\n",
       "      <td>0.00%</td>\n",
       "      <td>0</td>\n",
       "      <td>0.00%</td>\n",
       "      <td>0.023343</td>\n",
       "    </tr>\n",
       "    <tr>\n",
       "      <th>HP:0001252 (Hypotonia)</th>\n",
       "      <td>10</td>\n",
       "      <td>90.91%</td>\n",
       "      <td>2</td>\n",
       "      <td>40.00%</td>\n",
       "      <td>3</td>\n",
       "      <td>42.86%</td>\n",
       "      <td>0.039530</td>\n",
       "    </tr>\n",
       "    <tr>\n",
       "      <th>HP:0001250 (Seizure)</th>\n",
       "      <td>12</td>\n",
       "      <td>66.67%</td>\n",
       "      <td>5</td>\n",
       "      <td>83.33%</td>\n",
       "      <td>11</td>\n",
       "      <td>100.00%</td>\n",
       "      <td>0.082640</td>\n",
       "    </tr>\n",
       "    <tr>\n",
       "      <th>HP:0002071 (Abnormality of extrapyramidal motor function)</th>\n",
       "      <td>8</td>\n",
       "      <td>66.67%</td>\n",
       "      <td>1</td>\n",
       "      <td>20.00%</td>\n",
       "      <td>2</td>\n",
       "      <td>25.00%</td>\n",
       "      <td>0.139377</td>\n",
       "    </tr>\n",
       "    <tr>\n",
       "      <th>HP:0012758 (Neurodevelopmental delay)</th>\n",
       "      <td>4</td>\n",
       "      <td>33.33%</td>\n",
       "      <td>0</td>\n",
       "      <td>0.00%</td>\n",
       "      <td>4</td>\n",
       "      <td>50.00%</td>\n",
       "      <td>0.151874</td>\n",
       "    </tr>\n",
       "    <tr>\n",
       "      <th>HP:0001083 (Ectopia lentis)</th>\n",
       "      <td>3</td>\n",
       "      <td>27.27%</td>\n",
       "      <td>3</td>\n",
       "      <td>75.00%</td>\n",
       "      <td>1</td>\n",
       "      <td>33.33%</td>\n",
       "      <td>0.334276</td>\n",
       "    </tr>\n",
       "    <tr>\n",
       "      <th>HP:0000252 (Microcephaly)</th>\n",
       "      <td>4</td>\n",
       "      <td>40.00%</td>\n",
       "      <td>2</td>\n",
       "      <td>50.00%</td>\n",
       "      <td>4</td>\n",
       "      <td>57.14%</td>\n",
       "      <td>0.849964</td>\n",
       "    </tr>\n",
       "    <tr>\n",
       "      <th>HP:0001276 (Hypertonia)</th>\n",
       "      <td>5</td>\n",
       "      <td>45.45%</td>\n",
       "      <td>2</td>\n",
       "      <td>40.00%</td>\n",
       "      <td>4</td>\n",
       "      <td>57.14%</td>\n",
       "      <td>1.000000</td>\n",
       "    </tr>\n",
       "  </tbody>\n",
       "</table>\n",
       "</div>"
      ],
      "text/plain": [
       "                                                   Homozygous missense variant  \\\n",
       "                                                                         Count   \n",
       "HP:0034332 (Cognitive regression)                                            6   \n",
       "HP:0001252 (Hypotonia)                                                      10   \n",
       "HP:0001250 (Seizure)                                                        12   \n",
       "HP:0002071 (Abnormality of extrapyramidal motor...                           8   \n",
       "HP:0012758 (Neurodevelopmental delay)                                        4   \n",
       "HP:0001083 (Ectopia lentis)                                                  3   \n",
       "HP:0000252 (Microcephaly)                                                    4   \n",
       "HP:0001276 (Hypertonia)                                                      5   \n",
       "\n",
       "                                                            \\\n",
       "                                                   Percent   \n",
       "HP:0034332 (Cognitive regression)                   50.00%   \n",
       "HP:0001252 (Hypotonia)                              90.91%   \n",
       "HP:0001250 (Seizure)                                66.67%   \n",
       "HP:0002071 (Abnormality of extrapyramidal motor...  66.67%   \n",
       "HP:0012758 (Neurodevelopmental delay)               33.33%   \n",
       "HP:0001083 (Ectopia lentis)                         27.27%   \n",
       "HP:0000252 (Microcephaly)                           40.00%   \n",
       "HP:0001276 (Hypertonia)                             45.45%   \n",
       "\n",
       "                                                   Heterozygous missense variant  \\\n",
       "                                                                           Count   \n",
       "HP:0034332 (Cognitive regression)                                              0   \n",
       "HP:0001252 (Hypotonia)                                                         2   \n",
       "HP:0001250 (Seizure)                                                           5   \n",
       "HP:0002071 (Abnormality of extrapyramidal motor...                             1   \n",
       "HP:0012758 (Neurodevelopmental delay)                                          0   \n",
       "HP:0001083 (Ectopia lentis)                                                    3   \n",
       "HP:0000252 (Microcephaly)                                                      2   \n",
       "HP:0001276 (Hypertonia)                                                        2   \n",
       "\n",
       "                                                            \\\n",
       "                                                   Percent   \n",
       "HP:0034332 (Cognitive regression)                    0.00%   \n",
       "HP:0001252 (Hypotonia)                              40.00%   \n",
       "HP:0001250 (Seizure)                                83.33%   \n",
       "HP:0002071 (Abnormality of extrapyramidal motor...  20.00%   \n",
       "HP:0012758 (Neurodevelopmental delay)                0.00%   \n",
       "HP:0001083 (Ectopia lentis)                         75.00%   \n",
       "HP:0000252 (Microcephaly)                           50.00%   \n",
       "HP:0001276 (Hypertonia)                             40.00%   \n",
       "\n",
       "                                                   No missense variant  \\\n",
       "                                                                 Count   \n",
       "HP:0034332 (Cognitive regression)                                    0   \n",
       "HP:0001252 (Hypotonia)                                               3   \n",
       "HP:0001250 (Seizure)                                                11   \n",
       "HP:0002071 (Abnormality of extrapyramidal motor...                   2   \n",
       "HP:0012758 (Neurodevelopmental delay)                                4   \n",
       "HP:0001083 (Ectopia lentis)                                          1   \n",
       "HP:0000252 (Microcephaly)                                            4   \n",
       "HP:0001276 (Hypertonia)                                              4   \n",
       "\n",
       "                                                                       \n",
       "                                                    Percent   p-value  \n",
       "HP:0034332 (Cognitive regression)                     0.00%  0.023343  \n",
       "HP:0001252 (Hypotonia)                               42.86%  0.039530  \n",
       "HP:0001250 (Seizure)                                100.00%  0.082640  \n",
       "HP:0002071 (Abnormality of extrapyramidal motor...   25.00%  0.139377  \n",
       "HP:0012758 (Neurodevelopmental delay)                50.00%  0.151874  \n",
       "HP:0001083 (Ectopia lentis)                          33.33%  0.334276  \n",
       "HP:0000252 (Microcephaly)                            57.14%  0.849964  \n",
       "HP:0001276 (Hypertonia)                              57.14%  1.000000  "
      ]
     },
     "execution_count": 9,
     "metadata": {},
     "output_type": "execute_result"
    }
   ],
   "source": [
    "from genophenocorr.constants import variant_effects\n",
    "analysis.compare_by_variant_type(variant_effects.MISSENSE_VARIANT)"
   ]
  },
  {
   "cell_type": "code",
   "execution_count": null,
   "id": "61f58e53",
   "metadata": {},
   "outputs": [],
   "source": []
  }
 ],
 "metadata": {
  "kernelspec": {
   "display_name": "enviro",
   "language": "python",
   "name": "enviro"
  },
  "language_info": {
   "codemirror_mode": {
    "name": "ipython",
    "version": 3
   },
   "file_extension": ".py",
   "mimetype": "text/x-python",
   "name": "python",
   "nbconvert_exporter": "python",
   "pygments_lexer": "ipython3",
   "version": "3.10.10"
  }
 },
 "nbformat": 4,
 "nbformat_minor": 5
}
