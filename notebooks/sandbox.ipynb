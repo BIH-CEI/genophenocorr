{
 "cells": [
  {
   "cell_type": "code",
   "execution_count": 1,
   "id": "6135c55a",
   "metadata": {},
   "outputs": [],
   "source": [
    "import os\n",
    "import sys\n",
    "import hpotk\n",
    "sys.path.insert(0, os.path.abspath('../src/'))\n",
    "\n",
    "from genophenocorr.patient import PhenopacketPatientCreator\n",
    "from genophenocorr.phenotype import PhenotypeCreator\n",
    "from genophenocorr.protein import UniprotProteinMetadataService, ProteinAnnotationCache, ProtCachingFunctionalAnnotator\n",
    "from genophenocorr.variant import VarCachingFunctionalAnnotator, VariantAnnotationCache, VepFunctionalAnnotator\n",
    "from genophenocorr.cohort import PhenopacketCohortCreator, CohortAnalysis, CohortViewer"
   ]
  },
  {
   "cell_type": "code",
   "execution_count": 2,
   "id": "69b76797",
   "metadata": {},
   "outputs": [],
   "source": [
    "fpath_phenopackets = '/home/peter/GIT/phenopacket-store/phenopackets/OFD1/'\n",
    "fpath_hpo = '/home/peter/GIT/human-phenotype-ontology/src/ontology/hp.json'"
   ]
  },
  {
   "cell_type": "code",
   "execution_count": 3,
   "id": "93b42ca8",
   "metadata": {},
   "outputs": [],
   "source": [
    "cache_dir = 'CACHE'\n",
    "if not os.path.isdir(cache_dir):\n",
    "    os.mkdir(cache_dir)"
   ]
  },
  {
   "cell_type": "code",
   "execution_count": 4,
   "id": "05374dfc",
   "metadata": {},
   "outputs": [],
   "source": [
    "hpo: hpotk.ontology.Ontology = hpotk.ontology.load.obographs.load_ontology(fpath_hpo)\n",
    "validators = [\n",
    "    hpotk.validate.AnnotationPropagationValidator(hpo),\n",
    "    hpotk.validate.ObsoleteTermIdsValidator(hpo),\n",
    "    hpotk.validate.PhenotypicAbnormalityValidator(hpo)\n",
    "]\n",
    "phenotype_creator = PhenotypeCreator(hpo, hpotk.validate.ValidationRunner(validators))\n"
   ]
  },
  {
   "cell_type": "code",
   "execution_count": 5,
   "id": "f35380f5",
   "metadata": {},
   "outputs": [],
   "source": [
    "# Protein metadata\n",
    "pm = UniprotProteinMetadataService()\n",
    "pac = ProteinAnnotationCache(cache_dir)\n",
    "pfa = ProtCachingFunctionalAnnotator(pac, pm)\n",
    "\n",
    "# Functional annotator\n",
    "vac = VariantAnnotationCache(cache_dir)\n",
    "vep = VepFunctionalAnnotator(pfa)\n",
    "vfa = VarCachingFunctionalAnnotator(vac, vep)\n",
    "\n",
    "\n",
    "# Assemble the patient creator\n",
    "pc = PhenopacketPatientCreator(phenotype_creator, vfa)\n",
    "    "
   ]
  },
  {
   "cell_type": "code",
   "execution_count": 6,
   "id": "6fbde796",
   "metadata": {},
   "outputs": [],
   "source": [
    "cc = PhenopacketCohortCreator(pc)\n",
    "patientCohort = cc.create_cohort(fpath_phenopackets)"
   ]
  },
  {
   "cell_type": "code",
   "execution_count": 7,
   "id": "b5bd3faf",
   "metadata": {},
   "outputs": [
    {
     "data": {
      "text/plain": [
       "[('HP:0001263', 13),\n",
       " ('HP:0001249', 11),\n",
       " ('HP:0000256', 10),\n",
       " ('HP:0002795', 9),\n",
       " ('HP:0002205', 9),\n",
       " ('HP:0000202', 7),\n",
       " ('HP:0001161', 6),\n",
       " ('HP:0001829', 6),\n",
       " ('HP:0001156', 4),\n",
       " ('HP:0011355', 4),\n",
       " ('HP:0000369', 3),\n",
       " ('HP:0002419', 3),\n",
       " ('HP:0000510', 3),\n",
       " ('HP:0410263', 3),\n",
       " ('HP:0001596', 3),\n",
       " ('HP:0001159', 3),\n",
       " ('HP:0000113', 3),\n",
       " ('HP:0000164', 3),\n",
       " ('HP:0001513', 2),\n",
       " ('HP:0033454', 2),\n",
       " ('HP:0001344', 2),\n",
       " ('HP:0010442', 2),\n",
       " ('HP:0012471', 2),\n",
       " ('HP:0001320', 2),\n",
       " ('HP:0030084', 2),\n",
       " ('HP:0000218', 1),\n",
       " ('HP:0011304', 1),\n",
       " ('HP:0001561', 1),\n",
       " ('HP:0002591', 1),\n",
       " ('HP:0001252', 1),\n",
       " ('HP:0001310', 1),\n",
       " ('HP:0001520', 1),\n",
       " ('HP:0000252', 1),\n",
       " ('HP:0004325', 1),\n",
       " ('HP:0004322', 1),\n",
       " ('HP:0001270', 1),\n",
       " ('HP:0001007', 1),\n",
       " ('HP:0000431', 1),\n",
       " ('HP:0001945', 1),\n",
       " ('HP:0025161', 1),\n",
       " ('HP:0000365', 1),\n",
       " ('HP:0000324', 1),\n",
       " ('HP:0001407', 1),\n",
       " ('HP:0011359', 1),\n",
       " ('HP:0000494', 1),\n",
       " ('HP:0000268', 1),\n",
       " ('HP:0002208', 1),\n",
       " ('HP:0001885', 1),\n",
       " ('HP:0000023', 1)]"
      ]
     },
     "execution_count": 7,
     "metadata": {},
     "output_type": "execute_result"
    }
   ],
   "source": [
    "patientCohort.list_all_phenotypes()"
   ]
  },
  {
   "cell_type": "code",
   "execution_count": 8,
   "id": "6cb7fa20",
   "metadata": {},
   "outputs": [],
   "source": [
    "cohortViewer = CohortViewer(cohort=patientCohort, hpo=hpo)"
   ]
  },
  {
   "cell_type": "code",
   "execution_count": 10,
   "id": "ce5c9eba",
   "metadata": {},
   "outputs": [
    {
     "data": {
      "text/html": [
       "<table>\n",
       "<tr><td>HPO Term</td><td>Count</td></tr>\n",
       "<tr><td><a href=\"https://hpo.jax.org/app/browse/term/HP:0001263\">Global developmental delay</a></td><td>13</td></tr>\n",
       "<tr><td><a href=\"https://hpo.jax.org/app/browse/term/HP:0001249\">Intellectual disability</a></td><td>11</td></tr>\n",
       "<tr><td><a href=\"https://hpo.jax.org/app/browse/term/HP:0000256\">Macrocephaly</a></td><td>10</td></tr>\n",
       "<tr><td><a href=\"https://hpo.jax.org/app/browse/term/HP:0002795\">Abnormal respiratory system physiology</a></td><td>9</td></tr>\n",
       "<tr><td><a href=\"https://hpo.jax.org/app/browse/term/HP:0002205\">Recurrent respiratory infections</a></td><td>9</td></tr>\n",
       "<tr><td><a href=\"https://hpo.jax.org/app/browse/term/HP:0000202\">Orofacial cleft</a></td><td>7</td></tr>\n",
       "<tr><td><a href=\"https://hpo.jax.org/app/browse/term/HP:0001161\">Hand polydactyly</a></td><td>6</td></tr>\n",
       "<tr><td><a href=\"https://hpo.jax.org/app/browse/term/HP:0001829\">Foot polydactyly</a></td><td>6</td></tr>\n",
       "<tr><td><a href=\"https://hpo.jax.org/app/browse/term/HP:0001156\">Brachydactyly</a></td><td>4</td></tr>\n",
       "<tr><td><a href=\"https://hpo.jax.org/app/browse/term/HP:0011355\">Localized skin lesion</a></td><td>4</td></tr>\n",
       "<tr><td><a href=\"https://hpo.jax.org/app/browse/term/HP:0000369\">Low-set ears</a></td><td>3</td></tr>\n",
       "<tr><td><a href=\"https://hpo.jax.org/app/browse/term/HP:0002419\">Molar tooth sign on MRI</a></td><td>3</td></tr>\n",
       "<tr><td><a href=\"https://hpo.jax.org/app/browse/term/HP:0000510\">Rod-cone dystrophy</a></td><td>3</td></tr>\n",
       "<tr><td><a href=\"https://hpo.jax.org/app/browse/term/HP:0410263\">Brain imaging abnormality</a></td><td>3</td></tr>\n",
       "<tr><td><a href=\"https://hpo.jax.org/app/browse/term/HP:0001596\">Alopecia</a></td><td>3</td></tr>\n",
       "<tr><td><a href=\"https://hpo.jax.org/app/browse/term/HP:0001159\">Syndactyly</a></td><td>3</td></tr>\n",
       "<tr><td><a href=\"https://hpo.jax.org/app/browse/term/HP:0000113\">Polycystic kidney dysplasia</a></td><td>3</td></tr>\n",
       "<tr><td><a href=\"https://hpo.jax.org/app/browse/term/HP:0000164\">Abnormality of the dentition</a></td><td>3</td></tr>\n",
       "<tr><td><a href=\"https://hpo.jax.org/app/browse/term/HP:0001513\">Obesity</a></td><td>2</td></tr>\n",
       "<tr><td><a href=\"https://hpo.jax.org/app/browse/term/HP:0033454\">Tube feeding</a></td><td>2</td></tr>\n",
       "<tr><td><a href=\"https://hpo.jax.org/app/browse/term/HP:0001344\">Absent speech</a></td><td>2</td></tr>\n",
       "<tr><td><a href=\"https://hpo.jax.org/app/browse/term/HP:0010442\">Polydactyly</a></td><td>2</td></tr>\n",
       "<tr><td><a href=\"https://hpo.jax.org/app/browse/term/HP:0012471\">Thick vermilion border</a></td><td>2</td></tr>\n",
       "<tr><td><a href=\"https://hpo.jax.org/app/browse/term/HP:0001320\">Cerebellar vermis hypoplasia</a></td><td>2</td></tr>\n",
       "<tr><td><a href=\"https://hpo.jax.org/app/browse/term/HP:0030084\">Clinodactyly</a></td><td>2</td></tr>\n",
       "</table>\n",
       "<p>Additionally, the following terms were observed not more than 2 times:</p>\n",
       "<p><a href=\"https://hpo.jax.org/app/browse/term/HP:0001310\">Dysmetria</a>; <a href=\"https://hpo.jax.org/app/browse/term/HP:0002591\">Polyphagia</a>; <a href=\"https://hpo.jax.org/app/browse/term/HP:0001252\">Hypotonia</a>; <a href=\"https://hpo.jax.org/app/browse/term/HP:0001885\">Short 2nd toe</a>; <a href=\"https://hpo.jax.org/app/browse/term/HP:0011359\">Dry hair</a>; <a href=\"https://hpo.jax.org/app/browse/term/HP:0001561\">Polyhydramnios</a>; <a href=\"https://hpo.jax.org/app/browse/term/HP:0025161\">Frequent temper tantrums</a>; <a href=\"https://hpo.jax.org/app/browse/term/HP:0000431\">Wide nasal bridge</a>; <a href=\"https://hpo.jax.org/app/browse/term/HP:0001270\">Motor delay</a>; <a href=\"https://hpo.jax.org/app/browse/term/HP:0002208\">Coarse hair</a>; <a href=\"https://hpo.jax.org/app/browse/term/HP:0000268\">Dolichocephaly</a>; <a href=\"https://hpo.jax.org/app/browse/term/HP:0000365\">Hearing impairment</a>; <a href=\"https://hpo.jax.org/app/browse/term/HP:0001007\">Hirsutism</a>; <a href=\"https://hpo.jax.org/app/browse/term/HP:0001520\">Large for gestational age</a>; <a href=\"https://hpo.jax.org/app/browse/term/HP:0000494\">Downslanted palpebral fissures</a>; <a href=\"https://hpo.jax.org/app/browse/term/HP:0000324\">Facial asymmetry</a>; <a href=\"https://hpo.jax.org/app/browse/term/HP:0004322\">Short stature</a>; <a href=\"https://hpo.jax.org/app/browse/term/HP:0000252\">Microcephaly</a>; <a href=\"https://hpo.jax.org/app/browse/term/HP:0004325\">Decreased body weight</a>; <a href=\"https://hpo.jax.org/app/browse/term/HP:0011304\">Broad thumb</a>; <a href=\"https://hpo.jax.org/app/browse/term/HP:0001407\">Hepatic cysts</a>; <a href=\"https://hpo.jax.org/app/browse/term/HP:0000218\">High palate</a>; <a href=\"https://hpo.jax.org/app/browse/term/HP:0000023\">Inguinal hernia</a>; <a href=\"https://hpo.jax.org/app/browse/term/HP:0001945\">Fever</a>.</p>"
      ],
      "text/plain": [
       "<IPython.core.display.HTML object>"
      ]
     },
     "metadata": {},
     "output_type": "display_data"
    }
   ],
   "source": [
    "from IPython.display import HTML, display\n",
    "display(HTML(cohortViewer.hpo_term_counts_table(min_count=2)))"
   ]
  },
  {
   "cell_type": "code",
   "execution_count": null,
   "id": "5f020ce3",
   "metadata": {},
   "outputs": [],
   "source": []
  }
 ],
 "metadata": {
  "kernelspec": {
   "display_name": "gpcenv",
   "language": "python",
   "name": "gpcenv"
  },
  "language_info": {
   "codemirror_mode": {
    "name": "ipython",
    "version": 3
   },
   "file_extension": ".py",
   "mimetype": "text/x-python",
   "name": "python",
   "nbconvert_exporter": "python",
   "pygments_lexer": "ipython3",
   "version": "3.10.9"
  }
 },
 "nbformat": 4,
 "nbformat_minor": 5
}
