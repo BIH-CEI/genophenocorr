{
 "cells": [
  {
   "cell_type": "code",
   "execution_count": null,
   "id": "initial_id",
   "metadata": {
    "collapsed": true
   },
   "outputs": [],
   "source": [
    ""
   ]
  },
  {
   "metadata": {
    "ExecuteTime": {
     "end_time": "2024-07-04T11:19:07.046833Z",
     "start_time": "2024-07-04T11:19:04.787395Z"
    }
   },
   "cell_type": "code",
   "source": [
    "import genophenocorr\n",
    "from genophenocorr.preprocessing import load_phenopacket_folder\n",
    "from genophenocorr.preprocessing import configure_caching_cohort_creator\n",
    "import hpotk\n",
    "\n",
    "store = hpotk.configure_ontology_store()\n",
    "hpo = store.load_minimal_hpo(release='v2023-10-09')\n",
    "print(f'Loaded HPO v{hpo.version}')\n",
    "print(f\"Using genophenocorr version {genophenocorr.__version__}\")"
   ],
   "id": "4190d317fc73f826",
   "outputs": [
    {
     "name": "stderr",
     "output_type": "stream",
     "text": [
      "/Users/robin/PycharmProjects/genophenocorr/gpc_venv/lib/python3.9/site-packages/urllib3/__init__.py:35: NotOpenSSLWarning: urllib3 v2 only supports OpenSSL 1.1.1+, currently the 'ssl' module is compiled with 'LibreSSL 2.8.3'. See: https://github.com/urllib3/urllib3/issues/3020\n",
      "  warnings.warn(\n"
     ]
    },
    {
     "name": "stdout",
     "output_type": "stream",
     "text": [
      "Loaded HPO v2023-10-09\n",
      "Using genophenocorr version 0.1.1dev\n"
     ]
    }
   ],
   "execution_count": 1
  },
  {
   "metadata": {
    "ExecuteTime": {
     "end_time": "2024-07-04T11:21:37.581464Z",
     "start_time": "2024-07-04T11:19:35.442170Z"
    }
   },
   "cell_type": "code",
   "source": [
    "\n",
    "FBN1_MANE_transcript = 'NM_000138.5'\n",
    "FBN1_protein_id = \"NP_000129.3\"\n",
    "cohort_creator = configure_caching_cohort_creator(hpo, timeout=20)\n",
    "phenopacket_input_folder = \"../../GIT/phenopacket-store/notebooks/FBN1/phenopackets\"\n",
    "cohort = load_phenopacket_folder(pp_directory=phenopacket_input_folder, cohort_creator=cohort_creator)"
   ],
   "id": "8b9d979fcb1adbe",
   "outputs": [
    {
     "name": "stderr",
     "output_type": "stream",
     "text": [
      "Patients Created: 100%|██████████| 151/151 [02:02<00:00,  1.24it/s]\n",
      "Validated under none policy\n",
      "No errors or warnings were found\n"
     ]
    }
   ],
   "execution_count": 4
  },
  {
   "metadata": {
    "ExecuteTime": {
     "end_time": "2024-07-04T11:56:13.166172Z",
     "start_time": "2024-07-04T11:56:13.150291Z"
    }
   },
   "cell_type": "code",
   "source": [
    "from IPython.display import display, HTML\n",
    "from genophenocorr.view import CohortViewable\n",
    "\n",
    "viewer = CohortViewable(hpo=hpo)\n",
    "html = viewer.process(cohort=cohort, transcript_id=FBN1_MANE_transcript)\n",
    "display(HTML(html))"
   ],
   "id": "26dd23de8bd80abe",
   "outputs": [
    {
     "data": {
      "text/plain": [
       "<IPython.core.display.HTML object>"
      ],
      "text/html": [
       "<!DOCTYPE html>\n",
       "<html lang=\"en\">\n",
       "<head>\n",
       "  <meta charset=\"utf-8\">\n",
       "  <title>Cohort</title>\n",
       "    <style>\n",
       "    table {\n",
       "      border-collapse: collapse;\n",
       "      margin: 25px 0;\n",
       "      font-size: 0.9em;\n",
       "      font-family: sans-serif;\n",
       "      min-width: 400px;\n",
       "      box-shadow: 0 0 20px rgba(0, 0, 0, 0.15);\n",
       "    }\n",
       "\n",
       "    .table .column-1 {\n",
       "      text-align: left;\n",
       "    }\n",
       "    th {\n",
       "      background-color: LightSkyBlue;\n",
       "      border: 1px solid #dddddd;\n",
       "      text-align: left;\n",
       "      padding: 2px;\n",
       "      font-weight: bold;\n",
       "      font-size: 120%;\n",
       "    }\n",
       "\n",
       "    tr {\n",
       "      border: 1px solid #dddddd;\n",
       "    }\n",
       "\n",
       "    td {\n",
       "      padding: 2px;\n",
       "      font-weight: bold;\n",
       "    }\n",
       "\n",
       "    tr:nth-child(even) {\n",
       "      background-color: #f2f2f2;\n",
       "    }\n",
       "\n",
       "    .table td, tr {\n",
       "      text-align: right;\n",
       "    }\n",
       "\n",
       "    .lft {\n",
       "      text-align: left;\n",
       "    }\n",
       "\n",
       "    div {\n",
       "      display: block;\n",
       "      width: 100%;\n",
       "      padding-right: 1%;\n",
       "      margin-bottom: 20px; /* Add margin to separate divs */\n",
       "    }\n",
       "\n",
       "    caption {\n",
       "      caption-side: bottom;\n",
       "      text-align: left;\n",
       "      padding-bottom: 10px;\n",
       "      font-weight: bold;\n",
       "    }\n",
       "  </style>\n",
       "</head>\n",
       "\n",
       "<body>\n",
       "  <h1>genophenocorr cohort analysis</h1>\n",
       "  <p>Successfully ingested 151 phenopackets.</p>\n",
       "  \n",
       "  <p>No errors encountered.</p>\n",
       "  \n",
       "\n",
       "    <table>\n",
       "    <caption style=\"color: black;\">\n",
       "        <h3>Top 10 HPO Terms</h3>\n",
       "        A total of 136 HPO terms were used to annotated the cohort.\n",
       "    </caption>\n",
       "        <tbody>\n",
       "            <tr class=\"strng\">\n",
       "                <th class=\"lft\">HPO Term</th>\n",
       "                <th>ID</th>\n",
       "                <th>Annotation Count</th>\n",
       "            </tr>\n",
       "            \n",
       "            <tr>\n",
       "                <td class=\"lft\">Ectopia lentis</td>\n",
       "                <td>HP:0001083</td>\n",
       "                <td>82</td>\n",
       "                </tr>\n",
       "            \n",
       "            <tr>\n",
       "                <td class=\"lft\">Myopia</td>\n",
       "                <td>HP:0000545</td>\n",
       "                <td>70</td>\n",
       "                </tr>\n",
       "            \n",
       "            <tr>\n",
       "                <td class=\"lft\">Arachnodactyly</td>\n",
       "                <td>HP:0001166</td>\n",
       "                <td>54</td>\n",
       "                </tr>\n",
       "            \n",
       "            <tr>\n",
       "                <td class=\"lft\">Aortic root aneurysm</td>\n",
       "                <td>HP:0002616</td>\n",
       "                <td>34</td>\n",
       "                </tr>\n",
       "            \n",
       "            <tr>\n",
       "                <td class=\"lft\">High palate</td>\n",
       "                <td>HP:0000218</td>\n",
       "                <td>33</td>\n",
       "                </tr>\n",
       "            \n",
       "            <tr>\n",
       "                <td class=\"lft\">Short stature</td>\n",
       "                <td>HP:0004322</td>\n",
       "                <td>32</td>\n",
       "                </tr>\n",
       "            \n",
       "            <tr>\n",
       "                <td class=\"lft\">Short palm</td>\n",
       "                <td>HP:0004279</td>\n",
       "                <td>32</td>\n",
       "                </tr>\n",
       "            \n",
       "            <tr>\n",
       "                <td class=\"lft\">Short foot</td>\n",
       "                <td>HP:0001773</td>\n",
       "                <td>32</td>\n",
       "                </tr>\n",
       "            \n",
       "            <tr>\n",
       "                <td class=\"lft\">Scoliosis</td>\n",
       "                <td>HP:0002650</td>\n",
       "                <td>30</td>\n",
       "                </tr>\n",
       "            \n",
       "            <tr>\n",
       "                <td class=\"lft\">Joint hypermobility</td>\n",
       "                <td>HP:0001382</td>\n",
       "                <td>29</td>\n",
       "                </tr>\n",
       "            \n",
       "                </tbody>\n",
       "    </table>\n",
       "\n",
       "    <table>\n",
       "    <caption style=\"color: black;\">\n",
       "        <h3>Top 10 Variants</h3>\n",
       "        Variants are shown according to NM_000138.5. A total of 151 unique variants were identified in the cohort.\n",
       "    </caption>\n",
       "            <tbody>\n",
       "                <tr class=\"strng\">\n",
       "                    <th class=\"lft\">Variant</th>\n",
       "                    <th>Variant name</th>\n",
       "                    <th>Variant Count</th>\n",
       "                </tr>\n",
       "                \n",
       "                <tr>\n",
       "                    <td class=\"lft\">15_48505069_48505069_C_T</td>\n",
       "                    <td>c.1916G>A</td>\n",
       "                    <td>7</td>\n",
       "                    </tr>\n",
       "                \n",
       "                <tr>\n",
       "                    <td class=\"lft\">15_48508660_48508660_A_G</td>\n",
       "                    <td>c.1759T>C</td>\n",
       "                    <td>7</td>\n",
       "                    </tr>\n",
       "                \n",
       "                <tr>\n",
       "                    <td class=\"lft\">15_48425483_48425483_C_T</td>\n",
       "                    <td>c.7339G>A</td>\n",
       "                    <td>6</td>\n",
       "                    </tr>\n",
       "                \n",
       "                <tr>\n",
       "                    <td class=\"lft\">15_48474584_48474584_C_T</td>\n",
       "                    <td>c.4031G>A</td>\n",
       "                    <td>6</td>\n",
       "                    </tr>\n",
       "                \n",
       "                <tr>\n",
       "                    <td class=\"lft\">15_48463210_48463210_T_C</td>\n",
       "                    <td>c.5096A>G</td>\n",
       "                    <td>6</td>\n",
       "                    </tr>\n",
       "                \n",
       "                <tr>\n",
       "                    <td class=\"lft\">15_48460258_48460258_C_T</td>\n",
       "                    <td>c.5284G>A</td>\n",
       "                    <td>6</td>\n",
       "                    </tr>\n",
       "                \n",
       "                <tr>\n",
       "                    <td class=\"lft\">15_48412568_48412568_C_A</td>\n",
       "                    <td>c.8226+1G>T</td>\n",
       "                    <td>4</td>\n",
       "                    </tr>\n",
       "                \n",
       "                <tr>\n",
       "                    <td class=\"lft\">15_48467994_48467994_C_G</td>\n",
       "                    <td>c.4691G>C</td>\n",
       "                    <td>3</td>\n",
       "                    </tr>\n",
       "                \n",
       "                <tr>\n",
       "                    <td class=\"lft\">15_48613073_48613073_G_A</td>\n",
       "                    <td>c.184C>T</td>\n",
       "                    <td>3</td>\n",
       "                    </tr>\n",
       "                \n",
       "                <tr>\n",
       "                    <td class=\"lft\">15_48460292_48460292_A_C</td>\n",
       "                    <td>c.5250T>G</td>\n",
       "                    <td>3</td>\n",
       "                    </tr>\n",
       "                \n",
       "            </tbody>\n",
       "        </table>\n",
       "    <table>\n",
       "    <caption style=\"color: black;\">\n",
       "        <h3>Diseases</h3>\n",
       "    </caption>\n",
       "        <tbody>\n",
       "            <tr class=\"strng\">\n",
       "                <th class=\"lft\">Disease Name</th>\n",
       "                <th >Disease ID</th>\n",
       "                <th>Annotation Count</th>\n",
       "              </tr>\n",
       "              \n",
       "              <tr>\n",
       "                <td class=\"lft\">Marfan syndrome</td>\n",
       "                <td>OMIM:154700</td>\n",
       "                <td>50</td>\n",
       "                </tr>\n",
       "            \n",
       "              <tr>\n",
       "                <td class=\"lft\">Ectopia lentis, familial</td>\n",
       "                <td>OMIM:129600</td>\n",
       "                <td>44</td>\n",
       "                </tr>\n",
       "            \n",
       "              <tr>\n",
       "                <td class=\"lft\">Geleophysic dysplasia 2</td>\n",
       "                <td>OMIM:614185</td>\n",
       "                <td>19</td>\n",
       "                </tr>\n",
       "            \n",
       "              <tr>\n",
       "                <td class=\"lft\">Marfan lipodystrophy syndrome</td>\n",
       "                <td>OMIM:616914</td>\n",
       "                <td>17</td>\n",
       "                </tr>\n",
       "            \n",
       "              <tr>\n",
       "                <td class=\"lft\">Acromicric dysplasia</td>\n",
       "                <td>OMIM:102370</td>\n",
       "                <td>13</td>\n",
       "                </tr>\n",
       "            \n",
       "              <tr>\n",
       "                <td class=\"lft\">Stiff skin syndrome</td>\n",
       "                <td>OMIM:184900</td>\n",
       "                <td>8</td>\n",
       "                </tr>\n",
       "            \n",
       "           </tbody>\n",
       "    </table>\n",
       "    \n",
       "  <p>Call this function with transcript to see table with variant effect counts.</p>\n",
       "  \n",
       "\n",
       "\n",
       "</body>\n",
       "</html>"
      ]
     },
     "metadata": {},
     "output_type": "display_data"
    }
   ],
   "execution_count": 15
  },
  {
   "metadata": {
    "ExecuteTime": {
     "end_time": "2024-07-04T11:37:05.137727Z",
     "start_time": "2024-07-04T11:37:05.134992Z"
    }
   },
   "cell_type": "code",
   "source": "html",
   "id": "e9c68d0fac6fa549",
   "outputs": [
    {
     "data": {
      "text/plain": [
       "'<!DOCTYPE html>\\n<html lang=\"en\">\\n<head>\\n  <meta charset=\"utf-8\">\\n  <title>Cohort</title>\\n  <style>table {\\n    border-collapse: collapse;\\n    margin: 25px 0;\\n      font-size: 0.9em;\\n      font-family: sans-serif;\\n      min-width: 400px;\\n      box-shadow: 0 0 20px rgba(0, 0, 0, 0.15);\\n  }\\n\\n  .table .column-1 {\\n      text-align: left;\\n  }\\n  th {\\n    background-color: LightSkyBlue;\\n    border: 1px solid #dddddd;\\n    text-align: left;\\n    padding: 2px;\\n  font-weight: bold;\\n  font-size: 120%;\\n}\\n\\n\\n  tr {\\n    border: 1px solid #dddddd;\\n  }\\n\\n  td {\\n    padding: 2px;\\n    font-weight: bold;\\n  }\\n\\n  tr:nth-child(even) {\\n    background-color: #f2f2f2;\\n  }\\n\\n  .table td,tr {\\n    text-align: right;\\n}\\n\\n.lft {\\n    text-align: left;\\n}\\u200b\\n\\n\\n\\n\\n\\ncaption {\\n  caption-side: bottom;\\n  text-align: left;\\n  padding-bottom: 10px;\\n  font-weight: bold;\\n}\\n\\n  </style>\\n</head>\\n\\n<body>\\n  <h1>genophenocorr cohort analysis</h1>\\n  <p>Successfully ingested 151 phenopackets.</p>\\n  \\n  <p>No errors encountered.</p>\\n  \\n\\n    <table align=\"left\">\\n    <caption style=\"color: black;\">\\n        <h3>Top 10 HPO Terms</h3>\\n        A total of 136 HPO terms were used to annotated the cohort. \\n    </caption>\\n        <tbody>\\n            <tr class=\"strng\">\\n                <th class=\"lft\">HPO Term</th>\\n                <th>ID</th>\\n                <th>Annotation Count</th>\\n            </tr>\\n            \\n            <tr>\\n                <td class=\"lft\">Ectopia lentis</td>\\n                <td>HP:0001083</td>\\n                <td>82</td>\\n                </tr>\\n            \\n            <tr>\\n                <td class=\"lft\">Myopia</td>\\n                <td>HP:0000545</td>\\n                <td>70</td>\\n                </tr>\\n            \\n            <tr>\\n                <td class=\"lft\">Arachnodactyly</td>\\n                <td>HP:0001166</td>\\n                <td>54</td>\\n                </tr>\\n            \\n            <tr>\\n                <td class=\"lft\">Aortic root aneurysm</td>\\n                <td>HP:0002616</td>\\n                <td>34</td>\\n                </tr>\\n            \\n            <tr>\\n                <td class=\"lft\">High palate</td>\\n                <td>HP:0000218</td>\\n                <td>33</td>\\n                </tr>\\n            \\n            <tr>\\n                <td class=\"lft\">Short stature</td>\\n                <td>HP:0004322</td>\\n                <td>32</td>\\n                </tr>\\n            \\n            <tr>\\n                <td class=\"lft\">Short palm</td>\\n                <td>HP:0004279</td>\\n                <td>32</td>\\n                </tr>\\n            \\n            <tr>\\n                <td class=\"lft\">Short foot</td>\\n                <td>HP:0001773</td>\\n                <td>32</td>\\n                </tr>\\n            \\n            <tr>\\n                <td class=\"lft\">Scoliosis</td>\\n                <td>HP:0002650</td>\\n                <td>30</td>\\n                </tr>\\n            \\n            <tr>\\n                <td class=\"lft\">Joint hypermobility</td>\\n                <td>HP:0001382</td>\\n                <td>29</td>\\n                </tr>\\n            \\n                </tbody>\\n    </table>\\n\\n    <table align=\"right\">\\n    <caption style=\"color: black;\">\\n        <h3>Top 10 Variants</h3>\\n        Variants are shown according to NM_000138.5. A total of 151 unique variants were identified in the cohort.\\n    </caption>\\n            <tbody>\\n                <tr class=\"strng\">\\n                    <th class=\"lft\">Variant</th>\\n                    <th>Variant name</th>\\n                    <th>Variant Count</th>\\n                </tr>\\n                \\n                <tr>\\n                    <td class=\"lft\">15_48505069_48505069_C_T</td>\\n                    <td>c.1916G>A</td>\\n                    <td>7</td>\\n                    </tr>\\n                \\n                <tr>\\n                    <td class=\"lft\">15_48508660_48508660_A_G</td>\\n                    <td>c.1759T>C</td>\\n                    <td>7</td>\\n                    </tr>\\n                \\n                <tr>\\n                    <td class=\"lft\">15_48425483_48425483_C_T</td>\\n                    <td>c.7339G>A</td>\\n                    <td>6</td>\\n                    </tr>\\n                \\n                <tr>\\n                    <td class=\"lft\">15_48474584_48474584_C_T</td>\\n                    <td>c.4031G>A</td>\\n                    <td>6</td>\\n                    </tr>\\n                \\n                <tr>\\n                    <td class=\"lft\">15_48463210_48463210_T_C</td>\\n                    <td>c.5096A>G</td>\\n                    <td>6</td>\\n                    </tr>\\n                \\n                <tr>\\n                    <td class=\"lft\">15_48460258_48460258_C_T</td>\\n                    <td>c.5284G>A</td>\\n                    <td>6</td>\\n                    </tr>\\n                \\n                <tr>\\n                    <td class=\"lft\">15_48412568_48412568_C_A</td>\\n                    <td>c.8226+1G>T</td>\\n                    <td>4</td>\\n                    </tr>\\n                \\n                <tr>\\n                    <td class=\"lft\">15_48467994_48467994_C_G</td>\\n                    <td>c.4691G>C</td>\\n                    <td>3</td>\\n                    </tr>\\n                \\n                <tr>\\n                    <td class=\"lft\">15_48613073_48613073_G_A</td>\\n                    <td>c.184C>T</td>\\n                    <td>3</td>\\n                    </tr>\\n                \\n                <tr>\\n                    <td class=\"lft\">15_48460292_48460292_A_C</td>\\n                    <td>c.5250T>G</td>\\n                    <td>3</td>\\n                    </tr>\\n                \\n            </tbody>\\n        </table>\\n    <table align=\"left\">\\n    <caption style=\"color: black;\">\\n        <h3>Diseases</h3>\\n    </caption>\\n        <tbody>\\n            <tr class=\"strng\">\\n                <th class=\"lft\">Disease ID</th>\\n                <th>Disease Name</th>\\n                <th>Annotation Count</th>\\n              </tr>\\n              \\n              <tr>\\n                <td class=\"lft\">OMIM:154700</td>\\n                <td>Marfan syndrome</td>\\n                <td>50</td>\\n                </tr>\\n            \\n              <tr>\\n                <td class=\"lft\">OMIM:129600</td>\\n                <td>Ectopia lentis, familial</td>\\n                <td>44</td>\\n                </tr>\\n            \\n              <tr>\\n                <td class=\"lft\">OMIM:614185</td>\\n                <td>Geleophysic dysplasia 2</td>\\n                <td>19</td>\\n                </tr>\\n            \\n              <tr>\\n                <td class=\"lft\">OMIM:616914</td>\\n                <td>Marfan lipodystrophy syndrome</td>\\n                <td>17</td>\\n                </tr>\\n            \\n              <tr>\\n                <td class=\"lft\">OMIM:102370</td>\\n                <td>Acromicric dysplasia</td>\\n                <td>13</td>\\n                </tr>\\n            \\n              <tr>\\n                <td class=\"lft\">OMIM:184900</td>\\n                <td>Stiff skin syndrome</td>\\n                <td>8</td>\\n                </tr>\\n            \\n           </tbody>\\n    </table>\\n    \\n  <p>Call this function with transcript to see table with variant effect counts.</p>\\n  \\n\\n\\n</body>\\n</html>'"
      ]
     },
     "execution_count": 6,
     "metadata": {},
     "output_type": "execute_result"
    }
   ],
   "execution_count": 6
  },
  {
   "metadata": {
    "ExecuteTime": {
     "end_time": "2024-07-04T11:37:46.344391Z",
     "start_time": "2024-07-04T11:37:46.342078Z"
    }
   },
   "cell_type": "code",
   "source": "fh = open(\"BLA.html\", \"wt\")",
   "id": "2c60e5e8363632f2",
   "outputs": [],
   "execution_count": 7
  },
  {
   "metadata": {
    "ExecuteTime": {
     "end_time": "2024-07-04T11:37:52.337851Z",
     "start_time": "2024-07-04T11:37:52.334758Z"
    }
   },
   "cell_type": "code",
   "source": "fh.write(html)",
   "id": "2ddaf8a72ba65b8c",
   "outputs": [
    {
     "data": {
      "text/plain": [
       "7085"
      ]
     },
     "execution_count": 8,
     "metadata": {},
     "output_type": "execute_result"
    }
   ],
   "execution_count": 8
  },
  {
   "metadata": {
    "ExecuteTime": {
     "end_time": "2024-07-04T11:37:55.361154Z",
     "start_time": "2024-07-04T11:37:55.359299Z"
    }
   },
   "cell_type": "code",
   "source": "fh.close()",
   "id": "dcf310c9a5fcabb4",
   "outputs": [],
   "execution_count": 9
  },
  {
   "metadata": {},
   "cell_type": "code",
   "outputs": [],
   "execution_count": null,
   "source": "",
   "id": "a52958ff3eaa330f"
  }
 ],
 "metadata": {
  "kernelspec": {
   "display_name": "Python 3",
   "language": "python",
   "name": "python3"
  },
  "language_info": {
   "codemirror_mode": {
    "name": "ipython",
    "version": 2
   },
   "file_extension": ".py",
   "mimetype": "text/x-python",
   "name": "python",
   "nbconvert_exporter": "python",
   "pygments_lexer": "ipython2",
   "version": "2.7.6"
  }
 },
 "nbformat": 4,
 "nbformat_minor": 5
}
