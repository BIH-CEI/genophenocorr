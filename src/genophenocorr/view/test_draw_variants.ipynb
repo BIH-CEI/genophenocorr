{
 "cells": [
  {
   "cell_type": "code",
   "execution_count": 44,
   "outputs": [],
   "source": [
    "import matplotlib.pyplot as plt\n",
    "\n",
    "def draw_rectangle(start_x, start_y, end_x, end_y, line_color='black', fill_color=None, line_width=1.0):\n",
    "    rect = plt.Rectangle((start_x, start_y), end_x - start_x, end_y - start_y, edgecolor=line_color, fill=fill_color is not None, linewidth=line_width, facecolor=fill_color)\n",
    "    plt.gca().add_patch(rect)\n",
    "\n",
    "def draw_line(start_x, start_y, end_x, end_y, line_color='black', line_width=1.0):\n",
    "    plt.plot([start_x, end_x], [start_y, end_y], color=line_color, linewidth=line_width)\n",
    "\n",
    "def draw_circle(center_x, center_y, radius, line_color='black', fill_color=None, line_width=1.0):\n",
    "    circle = plt.Circle((center_x, center_y), radius, edgecolor=line_color, fill=fill_color is not None, linewidth=line_width, facecolor=fill_color)\n",
    "    plt.gca().add_patch(circle)"
   ],
   "metadata": {
    "collapsed": false,
    "ExecuteTime": {
     "end_time": "2023-12-22T10:59:27.167188500Z",
     "start_time": "2023-12-22T10:59:27.155254200Z"
    }
   },
   "id": "e2b5e631b6a80abf"
  },
  {
   "cell_type": "code",
   "execution_count": 56,
   "outputs": [
    {
     "name": "stdout",
     "output_type": "stream",
     "text": [
      "[[  65  398]\n",
      " [ 530  555]\n",
      " [ 560  650]\n",
      " [ 653  730]\n",
      " [ 739  815]\n",
      " [1090 1345]]\n",
      "[   0   92  102  286  363  392  426  511  587  733  736  773  833  874\n",
      "  875 1026 1117 1171 1369 1374 1390]\n",
      "[ 349 1108  707 1252  836 1154  751  220  318  316  240 1147 1291 1143\n",
      "  861 1192  155  947   30   72 1307  260  203  983  659  389  501 1024\n",
      "  311 1317  198  297 1288 1165  852 1237   74   32   61 1136  185  679\n",
      " 1084  708 1009 1200  358 1250 1337 1213 1032 1061  313 1312 1160  471\n",
      "  441 1272 1119  510  718  492  765 1070  668  627 1065  411  996   23\n",
      "   61  620 1117  607  553 1283 1163  139  683   88   96 1215 1124  385\n",
      " 1334  694  864  512 1257  964  195  335  719  308  682  965 1229   46\n",
      "  794 1270    6   69  667 1317  364 1318  698  442  706  533  974  782\n",
      " 1322 1038  925  415  734  239 1267  821 1143 1289   15 1137  168 1315\n",
      "  576  781 1280  954 1063  455  404  495 1001   37  879  970 1375 1368\n",
      "   53 1230 1274 1141   92 1239  959 1275  926 1262 1023  228  649  220\n",
      "  591   70  423  972  416   97 1277  958  390  130  890 1003 1042  670\n",
      "  676  277  363  580 1034  129  311  212  825  670 1272  693  612 1298\n",
      "  476 1261  919 1326  959 1194  212  708  271 1250  973  923 1072   50\n",
      "  324   27 1031  639  974  104 1284 1173   58  376 1342  467  103 1094\n",
      "  640  426 1185 1158  237 1114  306 1074 1109  258  881  899  841 1108\n",
      " 1025  820 1370  454  242  928  170  267  221  415  113  783  162 1125\n",
      " 1131 1082 1257  470  404  918 1252  114 1112  928  159  977 1080  344\n",
      "   89  879 1084  231  262 1207 1190  160  788 1151  858 1149 1091 1367\n",
      " 1323  456  149  681  637  999 1091 1338   60  397 1109  271  875 1198\n",
      "  653 1074  805  968  911  845 1342 1223 1057   36 1308  313 1051  367\n",
      " 1157  810 1229  348  123  489]\n"
     ]
    }
   ],
   "source": [
    "import numpy as np\n",
    "def draw_fig(limits, protein_limits, markers):\n",
    "    gray_x_min, gray_x_max = 0.15, 0.85\n",
    "    gray_y_min, gray_y_max = 0.492, 0.508\n",
    "    plt.figure(figsize=(20,20))\n",
    "    a = 0.2\n",
    "    b = 0.8\n",
    "    limits = np.array([100, 356, 789, 1234])\n",
    "    limits = limits/np.max(limits)\n",
    "    limits = a + limits * (b - a)\n",
    "    print(limits)\n",
    "    \n",
    "    draw_rectangle(gray_x_min, gray_y_min, gray_x_max, gray_y_max, line_color='gray', fill_color='gray', line_width=2.0)\n",
    "    draw_rectangle(limits[0], 0.4, limits[1] - limits[0], 0.2, line_color='green', fill_color='green', line_width=2.0)\n",
    "    draw_rectangle(limits[1], 0.4, limits[2] - limits[1], 0.2, line_color='yellow', fill_color='yellow', line_width=2.0)\n",
    "    draw_rectangle(limits[2], 0.4, limits[3] - limits[2], 0.2, line_color='red', fill_color='red', line_width=2.0)\n",
    "    draw_line((limits[2]+limits[1])/2, 0.6, (limits[2]+limits[1])/2, 0.65, line_color='black', line_width=0.5)\n",
    "    draw_circle((limits[2]+limits[1])/2, 0.65, 0.015, line_color='black', fill_color='green', line_width=0.5)\n",
    "    \n",
    "    plt.xlim(0, 1)\n",
    "    plt.ylim(0, 1)\n",
    "    plt.gca().set_aspect('equal')\n",
    "    plt.axis('off')\n",
    "    plt.show()\n",
    "\n",
    "limits = [\n",
    "    (65, 398),\n",
    "    (530, 555),\n",
    "    (560, 650),\n",
    "    (653, 730),\n",
    "    (739, 815),\n",
    "    (1090, 1345)\n",
    "]\n",
    "\n",
    "limits = np.array(limits)\n",
    "protein_limits = np.sort(np.concatenate((np.array([0]),np.random.randint(0, 1390, 19),np.array([1390]))))\n",
    "markers = np.random.randint(0, 1390, 300)\n",
    "\n",
    "print(limits)\n",
    "print(protein_limits)\n",
    "print(markers)"
   ],
   "metadata": {
    "collapsed": false,
    "ExecuteTime": {
     "end_time": "2023-12-22T11:15:11.319244400Z",
     "start_time": "2023-12-22T11:15:11.287884600Z"
    }
   },
   "id": "e5e845c29dcf4b22"
  },
  {
   "cell_type": "code",
   "execution_count": 45,
   "outputs": [],
   "source": [],
   "metadata": {
    "collapsed": false,
    "ExecuteTime": {
     "end_time": "2023-12-22T10:59:27.355778400Z",
     "start_time": "2023-12-22T10:59:27.261581700Z"
    }
   },
   "id": "c5abc6b06465c6c1"
  }
 ],
 "metadata": {
  "kernelspec": {
   "display_name": "Python 3",
   "language": "python",
   "name": "python3"
  },
  "language_info": {
   "codemirror_mode": {
    "name": "ipython",
    "version": 2
   },
   "file_extension": ".py",
   "mimetype": "text/x-python",
   "name": "python",
   "nbconvert_exporter": "python",
   "pygments_lexer": "ipython2",
   "version": "2.7.6"
  }
 },
 "nbformat": 4,
 "nbformat_minor": 5
}
