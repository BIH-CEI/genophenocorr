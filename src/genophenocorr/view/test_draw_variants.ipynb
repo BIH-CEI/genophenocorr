{
 "cells": [
  {
   "cell_type": "code",
   "execution_count": 19,
   "outputs": [],
   "source": [
    "import matplotlib.pyplot as plt\n",
    "\n",
    "def draw_rectangle(start_x, start_y, width, height, line_color='black', fill_color=None, line_width=1.0):\n",
    "    rect = plt.Rectangle((start_x, start_y), width, height, edgecolor=line_color, fill=fill_color is not None, linewidth=line_width, facecolor=fill_color)\n",
    "    plt.gca().add_patch(rect)\n",
    "\n",
    "def draw_line(start_x, start_y, end_x, end_y, line_color='black', line_width=1.0):\n",
    "    plt.plot([start_x, end_x], [start_y, end_y], color=line_color, linewidth=line_width)\n",
    "\n",
    "def draw_circle(center_x, center_y, radius, line_color='black', fill_color=None, line_width=1.0):\n",
    "    circle = plt.Circle((center_x, center_y), radius, edgecolor=line_color, fill=fill_color is not None, linewidth=line_width, facecolor=fill_color)\n",
    "    plt.gca().add_patch(circle)"
   ],
   "metadata": {
    "collapsed": false,
    "ExecuteTime": {
     "end_time": "2023-12-21T16:36:18.563965500Z",
     "start_time": "2023-12-21T16:36:18.552870600Z"
    }
   },
   "id": "e2b5e631b6a80abf"
  },
  {
   "cell_type": "code",
   "execution_count": 34,
   "outputs": [
    {
     "name": "stdout",
     "output_type": "stream",
     "text": [
      "[0.24862237 0.37309562 0.58363047 0.8       ]\n"
     ]
    },
    {
     "data": {
      "text/plain": "<Figure size 640x480 with 1 Axes>",
      "image/png": "[encoded data removed]"
     },
     "metadata": {},
     "output_type": "display_data"
    }
   ],
   "source": [
    "import numpy as np\n",
    "plt.figure()\n",
    "a = 0.2\n",
    "b = 0.8\n",
    "limits = np.array([100, 356, 789, 1234])\n",
    "limits = limits/np.max(limits)\n",
    "limits = a + limits * (b - a)\n",
    "print(limits)\n",
    "\n",
    "draw_rectangle(0.15, 0.45, 0.7, 0.1, line_color='gray', fill_color='gray', line_width=2.0)\n",
    "draw_rectangle(limits[0], 0.4, limits[1] - limits[0], 0.2, line_color='green', fill_color='green', line_width=2.0)\n",
    "draw_rectangle(limits[1], 0.4, limits[2] - limits[1], 0.2, line_color='yellow', fill_color='yellow', line_width=2.0)\n",
    "draw_rectangle(limits[2], 0.4, limits[3] - limits[2], 0.2, line_color='red', fill_color='red', line_width=2.0)\n",
    "\n",
    "plt.xlim(0, 1)\n",
    "plt.ylim(0, 1)\n",
    "plt.gca().set_aspect('equal')\n",
    "plt.axis('off')\n",
    "plt.show()"
   ],
   "metadata": {
    "collapsed": false,
    "ExecuteTime": {
     "end_time": "2023-12-21T16:49:42.694468Z",
     "start_time": "2023-12-21T16:49:42.631919400Z"
    }
   },
   "id": "e5e845c29dcf4b22"
  },
  {
   "cell_type": "code",
   "execution_count": null,
   "outputs": [],
   "source": [],
   "metadata": {
    "collapsed": false
   },
   "id": "c5abc6b06465c6c1"
  }
 ],
 "metadata": {
  "kernelspec": {
   "display_name": "Python 3",
   "language": "python",
   "name": "python3"
  },
  "language_info": {
   "codemirror_mode": {
    "name": "ipython",
    "version": 2
   },
   "file_extension": ".py",
   "mimetype": "text/x-python",
   "name": "python",
   "nbconvert_exporter": "python",
   "pygments_lexer": "ipython2",
   "version": "2.7.6"
  }
 },
 "nbformat": 4,
 "nbformat_minor": 5
}
