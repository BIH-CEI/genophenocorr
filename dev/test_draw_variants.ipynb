{
 "cells": [
  {
   "cell_type": "code",
   "outputs": [],
   "source": [
    "tx_id = 'NM_001032386.2'\n",
    "protein_id = 'NP_001027558.1'"
   ],
   "metadata": {
    "collapsed": false,
    "ExecuteTime": {
     "end_time": "2024-02-21T11:49:55.682253100Z",
     "start_time": "2024-02-21T11:49:55.661803900Z"
    }
   },
   "id": "70a753d6a4225669",
   "execution_count": 4
  },
  {
   "cell_type": "code",
   "outputs": [],
   "source": [
    "from genophenocorr.model.genome import GRCh38\n",
    "from genophenocorr.preprocessing import VVTranscriptCoordinateService\n",
    "\n",
    "txc_service = VVTranscriptCoordinateService(genome_build=GRCh38)\n",
    "tx_coordinates = txc_service.fetch(tx_id)"
   ],
   "metadata": {
    "collapsed": false,
    "ExecuteTime": {
     "end_time": "2024-02-21T11:49:57.727419800Z",
     "start_time": "2024-02-21T11:49:55.673346100Z"
    }
   },
   "id": "7a49258b45c46876",
   "execution_count": 5
  },
  {
   "cell_type": "code",
   "outputs": [],
   "source": [
    "from genophenocorr.preprocessing import UniprotProteinMetadataService\n",
    "\n",
    "pms = UniprotProteinMetadataService()\n",
    "\n",
    "protein_metas = pms.annotate(protein_id)\n",
    "\n",
    "assert len(protein_metas) == 1\n",
    "protein_meta = protein_metas[0]"
   ],
   "metadata": {
    "collapsed": false,
    "ExecuteTime": {
     "end_time": "2024-02-21T11:49:58.173323800Z",
     "start_time": "2024-02-21T11:49:57.730474500Z"
    }
   },
   "id": "3b9f3c741a2352b5",
   "execution_count": 6
  },
  {
   "cell_type": "code",
   "outputs": [
    {
     "name": "stderr",
     "output_type": "stream",
     "text": [
      "Patients Created: 100%|██████████| 35/35 [00:00<00:00, 488.48it/s]\n"
     ]
    },
    {
     "data": {
      "text/plain": "'Loaded 35 samples'"
     },
     "execution_count": 7,
     "metadata": {},
     "output_type": "execute_result"
    }
   ],
   "source": [
    "import hpotk\n",
    "import os\n",
    "from genophenocorr.preprocessing import load_phenopacket_folder\n",
    "from genophenocorr.preprocessing import configure_caching_patient_creator\n",
    "from hpotk.validate import ValidationRunner\n",
    "from hpotk.validate import ObsoleteTermIdsValidator, PhenotypicAbnormalityValidator, AnnotationPropagationValidator\n",
    "\n",
    "fpath_hpo = 'https://github.com/obophenotype/human-phenotype-ontology/releases/download/v2023-10-09/hp.json'\n",
    "hpo = hpotk.load_minimal_ontology(fpath_hpo)\n",
    "\n",
    "validation_runner = ValidationRunner(\n",
    "    validators=(\n",
    "        ObsoleteTermIdsValidator(hpo),\n",
    "        PhenotypicAbnormalityValidator(hpo),\n",
    "        AnnotationPropagationValidator(hpo)\n",
    "    ))\n",
    "\n",
    "pc = configure_caching_patient_creator(hpo, validation_runner=validation_runner)\n",
    "\n",
    "fpath_suox_cohort = os.path.join(os.getcwd(), os.pardir, 'notebooks', 'SUOX', 'phenopackets')\n",
    "cohort = load_phenopacket_folder(fpath_suox_cohort, pc)\n",
    "f'Loaded {len(cohort)} samples'"
   ],
   "metadata": {
    "collapsed": false,
    "ExecuteTime": {
     "end_time": "2024-02-21T11:50:05.289648600Z",
     "start_time": "2024-02-21T11:49:58.179839900Z"
    }
   },
   "id": "cf458535b18dc26c",
   "execution_count": 7
  },
  {
   "cell_type": "code",
   "execution_count": 8,
   "outputs": [
    {
     "ename": "TypeError",
     "evalue": "'NoneType' object is not iterable",
     "output_type": "error",
     "traceback": [
      "\u001B[1;31m---------------------------------------------------------------------------\u001B[0m",
      "\u001B[1;31mTypeError\u001B[0m                                 Traceback (most recent call last)",
      "Cell \u001B[1;32mIn[8], line 3\u001B[0m\n\u001B[0;32m      1\u001B[0m \u001B[38;5;28;01mfrom\u001B[39;00m \u001B[38;5;21;01mgenophenocorr\u001B[39;00m\u001B[38;5;21;01m.\u001B[39;00m\u001B[38;5;21;01mview\u001B[39;00m\u001B[38;5;21;01m.\u001B[39;00m\u001B[38;5;21;01m_draw_variants\u001B[39;00m \u001B[38;5;28;01mimport\u001B[39;00m VariantsVisualizer\n\u001B[0;32m      2\u001B[0m viz \u001B[38;5;241m=\u001B[39m VariantsVisualizer()\n\u001B[1;32m----> 3\u001B[0m \u001B[43mviz\u001B[49m\u001B[38;5;241;43m.\u001B[39;49m\u001B[43mdraw_fig\u001B[49m\u001B[43m(\u001B[49m\u001B[43mtx_coordinates\u001B[49m\u001B[43m,\u001B[49m\u001B[43m \u001B[49m\u001B[43mprotein_meta\u001B[49m\u001B[43m,\u001B[49m\u001B[43m \u001B[49m\u001B[43mcohort\u001B[49m\u001B[43m)\u001B[49m\n",
      "File \u001B[1;32m~\\OneDrive\\Documents\\dataspell\\genophenocorr\\src\\genophenocorr\\view\\_draw_variants.py:111\u001B[0m, in \u001B[0;36mVariantsVisualizer.draw_fig\u001B[1;34m(self, tx_coordinates, protein_meta, cohort)\u001B[0m\n\u001B[0;32m    109\u001B[0m exon_limits \u001B[38;5;241m=\u001B[39m np\u001B[38;5;241m.\u001B[39marray([(cds\u001B[38;5;241m.\u001B[39mstart, cds\u001B[38;5;241m.\u001B[39mend) \u001B[38;5;28;01mfor\u001B[39;00m cds \u001B[38;5;129;01min\u001B[39;00m tx_coordinates\u001B[38;5;241m.\u001B[39mget_cds_regions()])\n\u001B[0;32m    110\u001B[0m feature_limits \u001B[38;5;241m=\u001B[39m np\u001B[38;5;241m.\u001B[39marray([(feature\u001B[38;5;241m.\u001B[39minfo\u001B[38;5;241m.\u001B[39mstart, feature\u001B[38;5;241m.\u001B[39minfo\u001B[38;5;241m.\u001B[39mend) \u001B[38;5;28;01mfor\u001B[39;00m feature \u001B[38;5;129;01min\u001B[39;00m protein_meta\u001B[38;5;241m.\u001B[39mprotein_features])\n\u001B[1;32m--> 111\u001B[0m variant_locations \u001B[38;5;241m=\u001B[39m np\u001B[38;5;241m.\u001B[39marray([(\n\u001B[0;32m    112\u001B[0m     ann\u001B[38;5;241m.\u001B[39mprotein_effect_location\u001B[38;5;241m.\u001B[39mstart(),\n\u001B[0;32m    113\u001B[0m     ann\u001B[38;5;241m.\u001B[39mprotein_effect_location\u001B[38;5;241m.\u001B[39mend())\n\u001B[0;32m    114\u001B[0m     \u001B[38;5;28;01mfor\u001B[39;00m ann \u001B[38;5;129;01min\u001B[39;00m tx_anns\n\u001B[0;32m    115\u001B[0m ])\n\u001B[0;32m    116\u001B[0m variant_effects \u001B[38;5;241m=\u001B[39m np\u001B[38;5;241m.\u001B[39marray([(ann\u001B[38;5;241m.\u001B[39mvariant_effects[\u001B[38;5;241m0\u001B[39m]) \u001B[38;5;28;01mfor\u001B[39;00m ann \u001B[38;5;129;01min\u001B[39;00m tx_anns])\n\u001B[0;32m    117\u001B[0m \u001B[38;5;66;03m# count marker occurrences and remove duplicates\u001B[39;00m\n",
      "\u001B[1;31mTypeError\u001B[0m: 'NoneType' object is not iterable"
     ]
    }
   ],
   "source": [
    "from genophenocorr.view._draw_variants import VariantsVisualizer\n",
    "viz = VariantsVisualizer()\n",
    "viz.draw_fig(tx_coordinates, protein_meta, cohort)"
   ],
   "metadata": {
    "collapsed": false,
    "ExecuteTime": {
     "end_time": "2024-02-21T11:50:05.344677300Z",
     "start_time": "2024-02-21T11:50:05.290695500Z"
    }
   },
   "id": "c5abc6b06465c6c1"
  },
  {
   "cell_type": "code",
   "outputs": [],
   "source": [
    "print('test')"
   ],
   "metadata": {
    "collapsed": false,
    "ExecuteTime": {
     "end_time": "2024-02-21T11:50:05.353259300Z",
     "start_time": "2024-02-21T11:50:05.348884500Z"
    }
   },
   "id": "9b59a2539f481b29",
   "execution_count": null
  },
  {
   "cell_type": "code",
   "outputs": [],
   "source": [],
   "metadata": {
    "collapsed": false,
    "ExecuteTime": {
     "start_time": "2024-02-21T11:50:05.349909300Z"
    }
   },
   "id": "3198767f5f88b38e"
  }
 ],
 "metadata": {
  "kernelspec": {
   "display_name": "Python 3",
   "language": "python",
   "name": "python3"
  },
  "language_info": {
   "codemirror_mode": {
    "name": "ipython",
    "version": 2
   },
   "file_extension": ".py",
   "mimetype": "text/x-python",
   "name": "python",
   "nbconvert_exporter": "python",
   "pygments_lexer": "ipython2",
   "version": "2.7.6"
  }
 },
 "nbformat": 4,
 "nbformat_minor": 5
}
