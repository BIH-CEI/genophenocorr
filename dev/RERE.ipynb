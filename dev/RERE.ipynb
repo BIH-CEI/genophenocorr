{
 "cells": [
  {
   "cell_type": "markdown",
   "metadata": {},
   "source": [
    "**RERE variants**\n",
    "\n",
    "[Jordan et al (2018)](https://pubmed.ncbi.nlm.nih.gov/29330883) found that \n",
    "the total number of structural defects of the brain, eye, heart, \n",
    "and kidney and sensorineural hearing loss seen in individuals with point mutations \n",
    "in the Atrophin-1 domain of the RERE gene is significantly higher \n",
    "than expected based on the number of similar defects seen in individuals with putative loss-of-function variants.\n",
    "\n",
    "Here we analyze the Phenopacket store *RERE* cohort to replicate the results. \n",
    "\n",
    "We use with counting phenotype predicate to count the number of phenotypic structural defects \n",
    "and we build genotype predicate to compare point mutations vs. LoF variants."
   ]
  },
  {
   "cell_type": "markdown",
   "metadata": {},
   "source": [
    "# Configure analysis"
   ]
  },
  {
   "cell_type": "markdown",
   "metadata": {},
   "source": [
    "We will use HPO released on July 1st, 2024."
   ]
  },
  {
   "cell_type": "code",
   "execution_count": 1,
   "metadata": {},
   "outputs": [
    {
     "data": {
      "text/plain": [
       "'2024-07-01'"
      ]
     },
     "execution_count": 1,
     "metadata": {},
     "output_type": "execute_result"
    }
   ],
   "source": [
    "import hpotk\n",
    "\n",
    "store = hpotk.configure_ontology_store()\n",
    "hpo = store.load_minimal_hpo(release='v2024-07-01')\n",
    "hpo.version"
   ]
  },
  {
   "cell_type": "markdown",
   "metadata": {},
   "source": [
    "This is how we will preprocess the cohort."
   ]
  },
  {
   "cell_type": "code",
   "execution_count": 2,
   "metadata": {},
   "outputs": [],
   "source": [
    "from genophenocorr.preprocessing import configure_caching_cohort_creator\n",
    "\n",
    "cohort_creator = configure_caching_cohort_creator(hpo)"
   ]
  },
  {
   "cell_type": "markdown",
   "metadata": {},
   "source": [
    "# Load phenopacket cohort\n",
    "\n",
    "Let's load the individuals of Phenopacket store's *RERE* cohort:"
   ]
  },
  {
   "cell_type": "code",
   "execution_count": 3,
   "metadata": {},
   "outputs": [
    {
     "name": "stdout",
     "output_type": "stream",
     "text": [
      "Patients Created: 100%|\u001b[32m██████████\u001b[0m| 19/19 [00:01<00:00, 16.68it/s]\n",
      "Validated under lenient policy\n",
      "No errors or warnings were found\n",
      "19 phenopacket(s) found at `/home/ielis/data/phenopacket-store/0.1.18/RERE`\n"
     ]
    }
   ],
   "source": [
    "from genophenocorr.preprocessing import load_phenopacket_folder\n",
    "\n",
    "fpath_rere_cohort_dir = '/home/ielis/data/phenopacket-store/0.1.18/RERE'\n",
    "\n",
    "cohort = load_phenopacket_folder(\n",
    "    pp_directory=fpath_rere_cohort_dir,\n",
    "    cohort_creator=cohort_creator,\n",
    "    validation_policy='lenient',\n",
    ")"
   ]
  },
  {
   "cell_type": "markdown",
   "metadata": {},
   "source": [
    "# Setup predicates\n",
    "\n",
    "## Phenotype predicate"
   ]
  },
  {
   "cell_type": "code",
   "execution_count": 4,
   "metadata": {},
   "outputs": [],
   "source": [
    "from genophenocorr.analysis.predicate.phenotype import CountingPhenotypePredicate\n",
    "\n",
    "structural_defects = (\n",
    "    'HP:0012443',  # Abnormal brain morphology (Brain anomalies)\n",
    "    'HP:0012372',  # Abnormal eye morphology (Eye anomalies)\n",
    "    'HP:0001627',  # Abnormal heart morphology (Congenital heart defects)\n",
    "    'HP:0012210',  # Abnormal renal morphology (Renal anomalies)\n",
    "    'HP:0000407',  # Sensorineural hearing impairment (Sensorineural hearing loss)\n",
    ")\n",
    "\n",
    "ph_predicate = CountingPhenotypePredicate.from_query_curies(\n",
    "    hpo=hpo,\n",
    "    query=structural_defects,\n",
    ")"
   ]
  },
  {
   "cell_type": "markdown",
   "metadata": {},
   "source": [
    "## Genotype predicate\n",
    "\n",
    "We will use the transcript accession selected by MANE consortium:"
   ]
  },
  {
   "cell_type": "code",
   "execution_count": 5,
   "metadata": {},
   "outputs": [],
   "source": [
    "# MANE transcript ID\n",
    "tx_id = 'NM_001042681.2'"
   ]
  },
  {
   "cell_type": "markdown",
   "metadata": {},
   "source": [
    "Build the \"Point mutation variant predicate\".\n",
    "\n",
    "We can either just take the missense variants or we can cast a broader net, by including other non-LoF variant effects, while ensuring that the net gain/loss is 0:"
   ]
  },
  {
   "cell_type": "code",
   "execution_count": 6,
   "metadata": {},
   "outputs": [
    {
     "data": {
      "text/plain": [
       "'((change length == 0 AND ref allele length == 1) AND MISSENSE_VARIANT on NM_001042681.2)'"
      ]
     },
     "execution_count": 6,
     "metadata": {},
     "output_type": "execute_result"
    }
   ],
   "source": [
    "from genophenocorr.model import VariantEffect\n",
    "from genophenocorr.analysis.predicate.genotype import VariantPredicates\n",
    "\n",
    "point_mutation_effects = (\n",
    "    VariantEffect.MISSENSE_VARIANT,\n",
    "    # TODO: Check if we should also include the effects below.\n",
    "    # The listed effects can technically be point mutations, \n",
    "    # but the authors probably did not want to include them.\n",
    "    # VariantEffect.SYNONYMOUS_VARIANT,\n",
    "    # VariantEffect.SPLICE_DONOR_VARIANT,\n",
    "    # VariantEffect.SPLICE_DONOR_5TH_BASE_VARIANT,\n",
    "    # VariantEffect.SPLICE_DONOR_REGION_VARIANT,\n",
    "    # VariantEffect.SPLICE_ACCEPTOR_VARIANT,\n",
    "    # VariantEffect.SPLICE_POLYPYRIMIDINE_TRACT_VARIANT,\n",
    "    # VariantEffect.SPLICE_REGION_VARIANT,\n",
    ")\n",
    "point_mutation = VariantPredicates.change_length('==', 0) \\\n",
    "    & VariantPredicates.ref_length('==', 1) \\\n",
    "    & VariantPredicates.any(VariantPredicates.variant_effect(effect=effect, tx_id=tx_id) for effect in point_mutation_effects)\n",
    "\n",
    "point_mutation.get_question()"
   ]
  },
  {
   "cell_type": "markdown",
   "metadata": {},
   "source": [
    "Loss of function variant predicate:"
   ]
  },
  {
   "cell_type": "code",
   "execution_count": 7,
   "metadata": {},
   "outputs": [
    {
     "data": {
      "text/plain": [
       "'(TRANSCRIPT_ABLATION on NM_001042681.2 OR FRAMESHIFT_VARIANT on NM_001042681.2 OR START_LOST on NM_001042681.2 OR STOP_GAINED on NM_001042681.2)'"
      ]
     },
     "execution_count": 7,
     "metadata": {},
     "output_type": "execute_result"
    }
   ],
   "source": [
    "lof_effects = (\n",
    "    VariantEffect.TRANSCRIPT_ABLATION,\n",
    "    VariantEffect.FRAMESHIFT_VARIANT,\n",
    "    VariantEffect.START_LOST,\n",
    "    VariantEffect.STOP_GAINED,\n",
    ")\n",
    "\n",
    "lof_mutation = VariantPredicates.any(VariantPredicates.variant_effect(eff, tx_id) for eff in lof_effects)\n",
    "lof_mutation.get_question()"
   ]
  },
  {
   "cell_type": "markdown",
   "metadata": {},
   "source": [
    "Genotype predicate\n",
    "\n"
   ]
  },
  {
   "cell_type": "code",
   "execution_count": 8,
   "metadata": {},
   "outputs": [
    {
     "data": {
      "text/plain": [
       "'first: ((change length == 0 AND ref allele length == 1) AND MISSENSE_VARIANT on NM_001042681.2), second: (TRANSCRIPT_ABLATION on NM_001042681.2 OR FRAMESHIFT_VARIANT on NM_001042681.2 OR START_LOST on NM_001042681.2 OR STOP_GAINED on NM_001042681.2)'"
      ]
     },
     "execution_count": 8,
     "metadata": {},
     "output_type": "execute_result"
    }
   ],
   "source": [
    "from genophenocorr.analysis.predicate.genotype import grouping_predicate\n",
    "\n",
    "gt_predicate = grouping_predicate(\n",
    "    first=point_mutation,\n",
    "    second=lof_mutation,\n",
    ")\n",
    "gt_predicate.get_question()"
   ]
  },
  {
   "cell_type": "markdown",
   "metadata": {},
   "source": [
    "# Run analysis\n",
    "\n",
    "Still somewhat manual.."
   ]
  },
  {
   "cell_type": "code",
   "execution_count": 9,
   "metadata": {},
   "outputs": [
    {
     "name": "stdout",
     "output_type": "stream",
     "text": [
      "Could not bin patient Subject 2[PMID_27087320_Subject_2] into any genotype category!\n",
      "Could not bin patient Subject 7[PMID_29330883_Subject_7] into any genotype category!\n",
      "Could not bin patient Subject 8[PMID_29330883_Subject_8] into any genotype category!\n"
     ]
    }
   ],
   "source": [
    "from collections import defaultdict\n",
    "\n",
    "counts = defaultdict(list)\n",
    "\n",
    "for patient in cohort.all_patients:\n",
    "    gt = gt_predicate.test(patient)\n",
    "    ph = ph_predicate.test(patient)\n",
    "    if gt is not None:\n",
    "        counts[gt.category].append(ph.phenotype)\n",
    "    else:\n",
    "        print(f'Could not bin patient {patient.patient_id} into any genotype category!')"
   ]
  },
  {
   "cell_type": "markdown",
   "metadata": {},
   "source": [
    "These are the groups"
   ]
  },
  {
   "cell_type": "code",
   "execution_count": 10,
   "metadata": {},
   "outputs": [
    {
     "data": {
      "text/plain": [
       "([2, 1, 4, 1, 2, 4, 1, 1, 2, 4], [1, 1, 0, 1, 1, 0])"
      ]
     },
     "execution_count": 10,
     "metadata": {},
     "output_type": "execute_result"
    }
   ],
   "source": [
    "first, second = gt_predicate.get_categories()\n",
    "point_mutation_group = counts[first]\n",
    "lof_mutation_group = counts[second]\n",
    "\n",
    "point_mutation_group, lof_mutation_group"
   ]
  },
  {
   "cell_type": "markdown",
   "metadata": {},
   "source": [
    "These are the test results:"
   ]
  },
  {
   "cell_type": "code",
   "execution_count": 11,
   "metadata": {},
   "outputs": [
    {
     "data": {
      "text/plain": [
       "MannwhitneyuResult(statistic=np.float64(52.0), pvalue=np.float64(0.012074957610483744))"
      ]
     },
     "execution_count": 11,
     "metadata": {},
     "output_type": "execute_result"
    }
   ],
   "source": [
    "import scipy.stats as stats\n",
    "\n",
    "mw_result = stats.mannwhitneyu(\n",
    "    x=point_mutation_group, \n",
    "    y=lof_mutation_group, \n",
    "    alternative = 'two-sided',\n",
    ")\n",
    "\n",
    "mw_result"
   ]
  },
  {
   "cell_type": "markdown",
   "metadata": {},
   "source": [
    "We got significant p value!\n",
    "\n",
    "Let's plot the count of structural defects:"
   ]
  },
  {
   "cell_type": "code",
   "execution_count": 12,
   "metadata": {},
   "outputs": [
    {
     "data": {
      "image/png": "[encoded data removed]",
      "text/plain": [
       "<Figure size 480x360 with 1 Axes>"
      ]
     },
     "metadata": {},
     "output_type": "display_data"
    }
   ],
   "source": [
    "import matplotlib.pyplot as plt\n",
    "import numpy as np\n",
    "\n",
    "\n",
    "fig, ax = plt.subplots(figsize=(4, 3), dpi=120)\n",
    "\n",
    "rng = np.random.RandomState(43)\n",
    "# Point mutations\n",
    "ax.plot(\n",
    "    rng.normal(loc=0., scale=.1, size=(len(point_mutation_group),)), \n",
    "    point_mutation_group, 'o', \n",
    "    alpha=.8,\n",
    ")\n",
    "# LoF mutations\n",
    "ax.plot(\n",
    "    rng.normal(loc=1., scale=.1, size=(len(lof_mutation_group),)), \n",
    "    lof_mutation_group, 'o', \n",
    "    alpha=.8,\n",
    ")\n",
    "ax.set(\n",
    "    xlim=(-.25, 1.25),\n",
    "    ylabel='Structural defect count', ylim=(-.25, ph_predicate.n_categorizations() + .25),\n",
    ")\n",
    "ax.xaxis.set(ticks=(0, 1), ticklabels=['Point mutations', 'LoF mutations'])\n",
    "\n",
    "fig.tight_layout()"
   ]
  },
  {
   "cell_type": "markdown",
   "metadata": {},
   "source": [
    "*-* EOF *-*"
   ]
  }
 ],
 "metadata": {
  "kernelspec": {
   "display_name": "venv",
   "language": "python",
   "name": "python3"
  },
  "language_info": {
   "codemirror_mode": {
    "name": "ipython",
    "version": 3
   },
   "file_extension": ".py",
   "mimetype": "text/x-python",
   "name": "python",
   "nbconvert_exporter": "python",
   "pygments_lexer": "ipython3",
   "version": "3.12.3"
  }
 },
 "nbformat": 4,
 "nbformat_minor": 2
}
